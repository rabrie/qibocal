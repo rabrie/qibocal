{
 "cells": [
  {
   "cell_type": "markdown",
   "id": "19498ba6-106b-4ef2-b798-ca7d0a6fce8a",
   "metadata": {
    "tags": []
   },
   "source": [
    "# 2 qubit GST for XYICZ gate: Testing random sequence constructions"
   ]
  },
  {
   "cell_type": "code",
   "execution_count": 1,
   "id": "2fad699e-1bfe-4b66-9a11-1a9f9697f627",
   "metadata": {},
   "outputs": [],
   "source": [
    "# Note: I removed the mGST folders from within the qibocal fork, such that it is installed and updated seperately\n",
    "from mGST import compatibility,algorithm, optimization, low_level_jit, additional_fns"
   ]
  },
  {
   "cell_type": "code",
   "execution_count": 2,
   "id": "6e58b942-2370-4d00-a8f0-88704b080a55",
   "metadata": {},
   "outputs": [],
   "source": [
    "import pickle as pickle\n",
    "from pygsti.report import reportables as rptbl #Needs cvxpy!\n",
    "import pygsti\n",
    "from argparse import Namespace\n",
    "import numpy as np\n",
    "import pandas as pd\n",
    "import numpy.linalg as la\n",
    "import json\n",
    "import matplotlib.pyplot as plt\n",
    "from random import sample\n",
    "#from pygsti.modelpacks import smq2Q_XYICNOT as std\n",
    "\n",
    "%run ../src/mGST/reporting.py"
   ]
  },
  {
   "cell_type": "markdown",
   "id": "8aa5d0c5-5f45-41ba-9309-b5055901f76d",
   "metadata": {},
   "source": [
    "### Setting the parameters"
   ]
  },
  {
   "cell_type": "code",
   "execution_count": 3,
   "id": "bc5a4c05-f8c4-46cd-ad54-4fc6a2544e66",
   "metadata": {},
   "outputs": [],
   "source": [
    "pdim = 4   # physical dimension\n",
    "r = pdim**2   # rank of the gate superoperators \n",
    "\n",
    "max_l = 10  # maximum number of gates in each measurement sequence\n",
    "n_povm = 4   # number of POVM-elements\n",
    "d = 6"
   ]
  },
  {
   "cell_type": "code",
   "execution_count": 4,
   "id": "6942f219-11ea-4153-a7fb-5d457fb69cd2",
   "metadata": {},
   "outputs": [],
   "source": [
    "from true_values import E_true, X_true, rho_true\n",
    "X_t = X_true[:d].copy()\n",
    "E_t = E_true.copy()\n",
    "rho_t = rho_true.copy()\n",
    "target_mdl = compatibility.arrays_to_pygsti_model(X_t,E_t,rho_t, basis = 'std')\n",
    "noisy_mdl = compatibility.arrays_to_pygsti_model(X_t,E_t,rho_t, basis = 'std').depolarize(0.001,spam_noise=0.05).randomize_with_unitary(0.01)\n",
    "X_noisy, E_noisy, rho_noisy = compatibility.pygsti_model_to_arrays(noisy_mdl, basis = 'std')"
   ]
  },
  {
   "cell_type": "markdown",
   "id": "a9d466a3-c184-4647-a735-3882ed478720",
   "metadata": {
    "jp-MarkdownHeadingCollapsed": true,
    "tags": []
   },
   "source": [
    "### Generating data"
   ]
  },
  {
   "cell_type": "code",
   "execution_count": 5,
   "id": "a09b4ff1-cdc4-4d2c-b260-d5b3f3ca76c1",
   "metadata": {
    "tags": []
   },
   "outputs": [],
   "source": [
    "def random_len_seq_2(d,min_l,max_l,N):\n",
    "    seq_lengths = np.sort(np.random.randint(min_l,max_l+1,N))\n",
    "    J = []\n",
    "    for l in seq_lengths:\n",
    "        j_curr = np.random.randint(0,d,l)\n",
    "        J.append(list(np.pad(j_curr,(0,max_l-l),'constant',constant_values=-1)))\n",
    "    return np.array(J)\n",
    "\n",
    "def random_len_seq_3(d,min_l,max_l,N): #Draws without replacement but inneficiently (not working for sequences length > 24)\n",
    "    seq_counts = []\n",
    "    J = [-np.ones(max_l)]\n",
    "    N_remaining = N - 1\n",
    "    for l in range(min_l,max_l+1):\n",
    "        seq_counts.append(int(np.min([np.floor(N_remaining/(max_l+1-l)), d**l])))\n",
    "        ind_curr = np.array(sample(range(d**l), seq_counts[-1]))\n",
    "        J_curr = np.array([np.pad(low_level_jit.local_basis(ind,d,l),(0,max_l-l),'constant', constant_values = -1) for ind in ind_curr])\n",
    "        J = np.concatenate((J,J_curr), axis = 0)\n",
    "        N_remaining = N - 1 - np.sum(seq_counts)\n",
    "    if N_remaining > 0:\n",
    "        print('Number of possible sequences without replacement for the given sequence\\\n",
    "        length range is lower than the desired total number of sequences')\n",
    "    return J.astype(int)"
   ]
  },
  {
   "cell_type": "code",
   "execution_count": 6,
   "id": "b7a325c6-12c6-4e8c-90e1-2ad7e0c1b578",
   "metadata": {
    "tags": []
   },
   "outputs": [],
   "source": [
    "J = random_len_seq_3(d,1,8,500)"
   ]
  },
  {
   "cell_type": "code",
   "execution_count": 7,
   "id": "5131894e-51e8-49e4-b0fc-dd8861626741",
   "metadata": {
    "tags": []
   },
   "outputs": [
    {
     "name": "stdout",
     "output_type": "stream",
     "text": [
      "(500, 8)\n"
     ]
    }
   ],
   "source": [
    "print(J.shape)"
   ]
  },
  {
   "cell_type": "code",
   "execution_count": 8,
   "id": "f70807b6-5e3a-45a6-9cb7-ccd70ee70c76",
   "metadata": {},
   "outputs": [],
   "source": [
    "l_min = 1\n",
    "l_cut = 8\n",
    "l_max = 24\n",
    "N = 500\n",
    "N_long = 300\n",
    "meas_samples = 1e5\n",
    "J = random_len_seq_3(d,l_min,l_cut,N)\n",
    "J2 = random_len_seq_3(d,l_cut,l_max,N_long)\n",
    "\n",
    "y = np.real(np.array([[E_noisy[i].conj()@low_level_jit.contract(X_noisy,j)@rho_noisy for j in J] for i in range(n_povm)]))\n",
    "y = additional_fns.sampled_measurements(y,meas_samples).copy()\n",
    "\n",
    "y2 = np.real(np.array([[E_noisy[i].conj()@low_level_jit.contract(X_noisy,j)@rho_noisy for j in J2] for i in range(n_povm)]))\n",
    "y2 = additional_fns.sampled_measurements(y2,meas_samples).copy()"
   ]
  },
  {
   "cell_type": "code",
   "execution_count": 9,
   "id": "a793412b-46ce-49bc-a8cf-e1fd3b95a772",
   "metadata": {},
   "outputs": [
    {
     "name": "stdout",
     "output_type": "stream",
     "text": [
      "24\n"
     ]
    }
   ],
   "source": [
    "max_l_drawn = np.max(np.sum(J2>=0,axis = 1))\n",
    "print(max_l_drawn)\n",
    "J_all = []\n",
    "for i in range(N):\n",
    "    J_all.append(list(np.pad(J[i],(0,max_l_drawn-len(J[i])),'constant',constant_values=-1)))\n",
    "for i in range(N_long):\n",
    "    J_all.append(list(np.pad(J2[i],(0,max_l_drawn-len(J2[i])),'constant',constant_values=-1)))\n",
    "J_all = np.array(J_all)\n",
    "\n",
    "J_reduced = []\n",
    "for i in range(N):\n",
    "    J_reduced.append(list(J[i,:][J[i,:]>=0]))\n",
    "for i in range(N_long):\n",
    "    J_reduced.append(list(J2[i,:][J2[i,:]>=0]))\n",
    "y_all = np.concatenate((y,y2), axis = 1)"
   ]
  },
  {
   "cell_type": "code",
   "execution_count": 10,
   "id": "b95c5d2e-5652-4c1d-9c05-78e110424f65",
   "metadata": {},
   "outputs": [
    {
     "name": "stdout",
     "output_type": "stream",
     "text": [
      "(4, 800)\n"
     ]
    }
   ],
   "source": [
    "print(y_all.shape)"
   ]
  },
  {
   "cell_type": "code",
   "execution_count": 11,
   "id": "f8d3c0bb-87ea-4163-bced-cde45e51f1c0",
   "metadata": {},
   "outputs": [],
   "source": [
    "import csv\n",
    "\n",
    "# with open('sequences.csv', 'w', newline='') as myfile:\n",
    "#    wr = csv.writer(myfile, quoting=csv.QUOTE_ALL)\n",
    "#    wr.writerows(J_reduced)"
   ]
  },
  {
   "cell_type": "markdown",
   "id": "3c0ba8d6",
   "metadata": {},
   "source": [
    "### Loading data"
   ]
  },
  {
   "cell_type": "code",
   "execution_count": 5,
   "id": "3dafbaae",
   "metadata": {},
   "outputs": [
    {
     "name": "stdout",
     "output_type": "stream",
     "text": [
      "Number of sequences  799\n",
      "Max length 24\n"
     ]
    }
   ],
   "source": [
    "# Hardware probabilities\n",
    "filename = 'data/20230525-1313_cgst_2q.json'\n",
    "\n",
    "with open(filename) as f:\n",
    "    data = json.load(f)\n",
    "    \n",
    "#N = data['nsequences']\n",
    "N = len(data['measurements']) \n",
    "print('Number of sequences ', N)\n",
    "\n",
    "\n",
    "def get_hardware_probability(probs, key):\n",
    "    # returns 0 for missing keys\n",
    "    if key in probs:\n",
    "        return probs[key]\n",
    "    else:\n",
    "        return 0\n",
    "\n",
    "\n",
    "max_l = 0\n",
    "for entry in data['measurements']:\n",
    "#    print(entry['circuit'])\n",
    "#    print(entry['hardware_probabilities'])\n",
    "    if len(entry['circuit']) > max_l:\n",
    "        max_l = len(entry['circuit'])\n",
    "print('Max length', max_l)\n",
    "\n",
    "# Zero pad and turn around circuits\n",
    "J_all = np.array([list(np.pad(np.int64(data['measurements'][i]['circuit']),(0,max_l-len(data['measurements'][i]['circuit'])),'constant',constant_values=-1)) for i in range(N)])[:,::-1]\n",
    "\n",
    "\n",
    "\n",
    "y_all = np.array([[\n",
    "    get_hardware_probability(data['measurements'][i]['hardware_probabilities'],basis_str) for i in range(N)] for basis_str in ['00','01','10','11']])\n",
    "\n",
    "y_all_ideal = np.array([[\n",
    "    get_hardware_probability(data['measurements'][i]['simulation_probabilities'],basis_str) for i in range(N)] for basis_str in ['00','01','10','11']])\n",
    "\n",
    "\n",
    "meas_samples = data['nshots']\n",
    "\n",
    "# adjust threshold_multiplier if convergence is not reached\n",
    "\n",
    "\n",
    "J = J_all[:500]\n",
    "y = y_all[:,:500]\n"
   ]
  },
  {
   "cell_type": "code",
   "execution_count": 28,
   "id": "9a6e080e",
   "metadata": {
    "collapsed": true,
    "jupyter": {
     "outputs_hidden": true,
     "source_hidden": true
    },
    "tags": []
   },
   "outputs": [
    {
     "name": "stdout",
     "output_type": "stream",
     "text": [
      "(4, 799)\n",
      "<class 'numpy.ndarray'>\n",
      "<class 'numpy.ndarray'>\n",
      "<class 'numpy.int64'>\n",
      "<class 'numpy.ndarray'>\n",
      "<class 'numpy.ndarray'>\n",
      "<class 'numpy.float64'>\n"
     ]
    }
   ],
   "source": [
    "# Check types\n",
    "print(y_all.shape)\n",
    "print(type(J_all))\n",
    "print(type(J_all[0]))\n",
    "print(type(J_all[0][0]))\n",
    "print(type(y_all))\n",
    "print(type(y_all[0]))\n",
    "print(type(y_all[0][0]))"
   ]
  },
  {
   "cell_type": "code",
   "execution_count": 41,
   "id": "a72ab788",
   "metadata": {
    "collapsed": true,
    "jupyter": {
     "outputs_hidden": true,
     "source_hidden": true
    },
    "tags": []
   },
   "outputs": [
    {
     "data": {
      "image/png": "[encoded data removed]",
      "text/plain": [
       "<Figure size 432x288 with 1 Axes>"
      ]
     },
     "metadata": {
      "needs_background": "light"
     },
     "output_type": "display_data"
    },
    {
     "name": "stdout",
     "output_type": "stream",
     "text": [
      "of which do not contain 0\n",
      "[0.   0.05 0.1  0.15 0.2  0.25 0.3  0.35 0.4  0.45 0.5  0.55 0.6  0.65\n",
      " 0.7  0.75 0.8  0.85 0.9  0.95]\n",
      "[0.28660826032540676, 0.24603174603174602, 0.2540983606557377, 0.18716577540106952, 0.16901408450704225, 0.1509433962264151, 0.16279069767441862, 0.14285714285714285, 0.15, 0.18, 0.20454545454545456, 0.2222222222222222, 0.17857142857142858, 0.13636363636363635, 0.16666666666666666, 0.2727272727272727, 0.2222222222222222, 0.2857142857142857, 0.6666666666666666, 1.0]\n"
     ]
    },
    {
     "data": {
      "image/png": "[encoded data removed]",
      "text/plain": [
       "<Figure size 432x288 with 1 Axes>"
      ]
     },
     "metadata": {
      "needs_background": "light"
     },
     "output_type": "display_data"
    },
    {
     "name": "stdout",
     "output_type": "stream",
     "text": [
      "[[-1 -1 -1 ...  5  5  3]\n",
      " [-1 -1 -1 ...  5  4  5]\n",
      " [-1 -1 -1 ...  5  1  4]\n",
      " ...\n",
      " [ 3  1  5 ...  3  2  3]\n",
      " [ 3  4  5 ...  4  4  0]\n",
      " [ 2  5  0 ...  2  3  4]]\n",
      "[[0.9505 0.3995 0.1972 0.9346 0.2601 0.279  0.0897 0.1666 0.0709 0.0316\n",
      "  0.1717 0.3676 0.1075 0.3824 0.1737 0.3249 0.2035 0.7586 0.2485 0.2833\n",
      "  0.2785 0.3222 0.506  0.1106 0.1846 0.3755 0.7346 0.2748 0.1181 0.3301\n",
      "  0.0917 0.4308 0.591  0.2818 0.304  0.6262 0.567  0.3544 0.764  0.2171\n",
      "  0.4578 0.2848 0.3913 0.147 ]\n",
      " [0.0438 0.1449 0.1356 0.0591 0.2942 0.2814 0.671  0.391  0.4713 0.1004\n",
      "  0.3865 0.0849 0.0798 0.1758 0.508  0.2121 0.4191 0.1033 0.3038 0.3122\n",
      "  0.1219 0.2335 0.4231 0.1038 0.406  0.1306 0.0708 0.1191 0.3587 0.2947\n",
      "  0.3792 0.1265 0.1139 0.601  0.159  0.2444 0.073  0.3556 0.0923 0.2756\n",
      "  0.0791 0.1677 0.1502 0.1732]\n",
      " [0.0047 0.3312 0.4505 0.0049 0.2211 0.2004 0.0412 0.2161 0.0828 0.1817\n",
      "  0.1303 0.4265 0.5017 0.0659 0.2339 0.1851 0.1473 0.0828 0.3209 0.1643\n",
      "  0.1709 0.2496 0.0373 0.6399 0.2601 0.1625 0.0448 0.1416 0.0947 0.1307\n",
      "  0.2749 0.184  0.1224 0.0536 0.4256 0.079  0.2966 0.1451 0.0827 0.2495\n",
      "  0.3924 0.1418 0.1616 0.1497]\n",
      " [0.001  0.1244 0.2167 0.0014 0.2246 0.2392 0.1981 0.2263 0.375  0.6863\n",
      "  0.3115 0.121  0.311  0.3759 0.0844 0.2779 0.2301 0.0553 0.1268 0.2402\n",
      "  0.4287 0.1947 0.0336 0.1457 0.1493 0.3314 0.1498 0.4645 0.4285 0.2445\n",
      "  0.2542 0.2587 0.1727 0.0636 0.1114 0.0504 0.0634 0.1449 0.061  0.2578\n",
      "  0.0707 0.4057 0.2969 0.5301]]\n",
      "[[0.     0.     0.     0.     0.5074 0.5042 0.     0.5019 0.     0.\n",
      "  0.4958 0.     0.498  0.     0.5006 0.     0.5015 0.2555 0.     0.\n",
      "  0.5045 0.     0.     0.     0.4924 0.     0.     0.5016 0.5025 0.\n",
      "  0.4959 0.     0.     1.     0.4927 0.     0.     0.     0.2449 0.4988\n",
      "  0.     0.5017 0.     0.4962]\n",
      " [1.     0.495  0.4985 1.     0.     0.     0.     0.     0.     0.\n",
      "  0.     0.4941 0.     0.506  0.     0.4981 0.     0.2574 0.     0.504\n",
      "  0.     0.505  1.     0.     0.     0.5001 1.     0.     0.4975 0.\n",
      "  0.     0.4959 0.     0.     0.     0.     0.4993 0.     0.2528 0.\n",
      "  0.5063 0.     0.5022 0.    ]\n",
      " [0.     0.     0.     0.     0.4926 0.4958 0.     0.4981 0.     1.\n",
      "  0.5042 0.     0.     0.494  0.     0.     0.4985 0.2364 0.4945 0.496\n",
      "  0.4955 0.     0.     0.     0.     0.4999 0.     0.4984 0.     0.508\n",
      "  0.5041 0.5041 0.501  0.     0.     0.4892 0.     0.4927 0.2484 0.\n",
      "  0.     0.4983 0.4978 0.5038]\n",
      " [0.     0.505  0.5015 0.     0.     0.     1.     0.     1.     0.\n",
      "  0.     0.5059 0.502  0.     0.4994 0.5019 0.     0.2507 0.5055 0.\n",
      "  0.     0.495  0.     1.     0.5076 0.     0.     0.     0.     0.492\n",
      "  0.     0.     0.499  0.     0.5073 0.5108 0.5007 0.5073 0.2539 0.5012\n",
      "  0.4937 0.     0.     0.    ]]\n"
     ]
    }
   ],
   "source": [
    "# Calculate TV distance to ideal probabilities\n",
    "deviations = np.sum(np.abs(y_all - y_all_ideal), axis=0)/2\n",
    "plt.plot(np.sort(deviations))\n",
    "plt.show()\n",
    "\n",
    "\n",
    "\n",
    "thress = np.arange(0,1,.05)\n",
    "\n",
    "#print(J_all[deviations > thress].shape)\n",
    "\n",
    "print('of which do not contain 0')\n",
    "ratios = [np.sum(np.logical_not(np.any(np.isin(J_all[deviations > thres], [0]), axis=1))) / J_all[deviations > thres].shape[0]\n",
    "for thres in thress]\n",
    "\n",
    "print(thress)\n",
    "print(ratios)\n",
    "\n",
    "plt.plot(thress, ratios)\n",
    "plt.show()\n",
    "\n",
    "print(J_all[deviations > .5])\n",
    "print(y_all[:,deviations > .5])\n",
    "print(y_all_ideal[:,deviations > .5])\n",
    "\n",
    "\n"
   ]
  },
  {
   "cell_type": "markdown",
   "id": "447e4b37-df2d-4fb0-b5cc-a3a9af131469",
   "metadata": {},
   "source": [
    "## Sequence Cleanup"
   ]
  },
  {
   "cell_type": "code",
   "execution_count": 6,
   "id": "60203651-93d9-4fe7-94f7-3663bf8606ad",
   "metadata": {},
   "outputs": [
    {
     "name": "stdout",
     "output_type": "stream",
     "text": [
      "(470, 24)\n",
      "(4, 470)\n"
     ]
    }
   ],
   "source": [
    "# Calculate TV distance to ideal probabilities\n",
    "deviations = np.sum(np.abs(y_all[:,:500] - y_all_ideal[:,:500]), axis=0)/2\n",
    "thress = 0.2\n",
    "\n",
    "print(J_all[:500][deviations < thress].shape)\n",
    "print(y_all[:,:500][:,deviations < thress].shape)\n",
    "\n",
    "J_clean = J_all[:500][deviations < thress]\n",
    "y_clean = y_all[:,:500][:,deviations < thress]"
   ]
  },
  {
   "cell_type": "code",
   "execution_count": 7,
   "id": "fec9d461-659b-44e9-bb20-197a07af384f",
   "metadata": {},
   "outputs": [
    {
     "name": "stdout",
     "output_type": "stream",
     "text": [
      "(657, 24)\n",
      "(4, 657)\n"
     ]
    }
   ],
   "source": [
    "# Calculate TV distance to ideal probabilities\n",
    "deviations = np.sum(np.abs(y_all - y_all_ideal), axis=0)/2\n",
    "thress = 0.2\n",
    "\n",
    "print(J_all[deviations < thress].shape)\n",
    "print(y_all[:,deviations < thress].shape)\n",
    "\n",
    "J_all_clean = J_all[deviations < thress]\n",
    "y_all_clean = y_all[:,deviations < thress]"
   ]
  },
  {
   "cell_type": "markdown",
   "id": "35724025-9e20-4876-aaf1-895a7c644f92",
   "metadata": {},
   "source": [
    "### GST"
   ]
  },
  {
   "cell_type": "code",
   "execution_count": null,
   "id": "117a49d5-ad10-4e3e-b788-dc0770f36081",
   "metadata": {
    "tags": []
   },
   "outputs": [
    {
     "name": "stdout",
     "output_type": "stream",
     "text": [
      "Starting optimization...\n",
      " 19%|███████▊                                  | 28/150 [00:07<00:32,  3.74it/s]"
     ]
    }
   ],
   "source": [
    "bsize = 120   # The batch size on which the optimization is started\n",
    "results = []\n",
    "rK = 16\n",
    "for _ in range(1): # repeat multiple time or by using max_inits\n",
    "    K_t = additional_fns.Kraus_rep(X_t,d,pdim,rK)\n",
    "    K,X,E,rho,res_list = algorithm.run_mGST(y_clean, J_clean, max_l,d,r,rK, n_povm, bsize, meas_samples, method = 'GD',\n",
    "                         max_inits = 10, max_iter = 150, final_iter = 20, threshold_multiplier = 15, \n",
    "                         target_rel_prec = 1e-4, init = [K_t, E_t, rho_t], fixed_elements = ['rho'], testing = True)   \n",
    "    K2,X2,E2,rho2,res_list2 = algorithm.run_mGST(y_all_clean,J_all_clean, max_l,d,r,rK, n_povm, bsize, meas_samples, method = 'GD',\n",
    "                         max_inits = 1, max_iter = 0, final_iter = 30, threshold_multiplier = 1, \n",
    "                         target_rel_prec = 1e-4, init = [K,E,rho], testing = True)   \n",
    "    results.append([K2,X2,E2,rho2])"
   ]
  },
  {
   "cell_type": "code",
   "execution_count": null,
   "id": "dcdbc58d-800d-4a83-9b3f-902731a91acb",
   "metadata": {},
   "outputs": [],
   "source": [
    "weights = {'G0': 1,'G1': 1, 'G2': 1, 'G3': 1, 'G4': 1, 'G5': 1, 'spam': 0, 'rho0': 1}\n",
    "gate_labels = {0: \"Id\", 1: \"Rx(pi/2)[q0]\", 2: \"Ry(pi/2)[q0]\", 3: \"Rx(pi/2)[q1]\", 4: \"Ry(pi/2)[q1]\", 5: \"CZ[q0-q1]\"}\n",
    "\n",
    "X_opt, E_opt, rho_opt = gauge_opt(X, E, rho, target_mdl, weights)\n",
    "\n",
    "df_g, df_o, s_g, s_o = report(X_opt, E_opt, rho_opt, J, y, target_mdl, gate_labels)\n",
    "display(s_g), display(s_o)"
   ]
  },
  {
   "cell_type": "code",
   "execution_count": null,
   "id": "4a633a16-f899-417a-b7d8-45d1566a9f64",
   "metadata": {},
   "outputs": [],
   "source": [
    "# Spectrum of the Choi matrix\n",
    "X_choi = X_opt.reshape(d,pdim,pdim,pdim,pdim)\n",
    "X_choi = np.einsum('ijklm->iljmk',X_choi).reshape(d,pdim**2,pdim**2)\n",
    "print(np.sort(np.abs(la.eig(X_choi[5])[0]))[::-1])"
   ]
  },
  {
   "cell_type": "code",
   "execution_count": 26,
   "id": "af7fd487-ead4-4a26-b27a-4c4fd2bb35bf",
   "metadata": {},
   "outputs": [],
   "source": [
    "# ###################################### \n",
    "# filename = 'rank_16_hardware_probs_1313'\n",
    "# parameters = {'sequence length':max_l,'gate count':d,'Kraus ranks':[16],'phys. dimension':int(np.sqrt(r)), 'Sequence count': N, \n",
    "#               'J':J_all_clean,'y':y_all_clean, 'target_rel_prec':1e-4}\n",
    "# data_to_safe = {'parameters':parameters, 'results':results}\n",
    "\n",
    "# with open(filename, 'wb') as handle:\n",
    "#     pickle.dump(data_to_safe, handle, protocol=pickle.HIGHEST_PROTOCOL)"
   ]
  },
  {
   "cell_type": "markdown",
   "id": "63e1df7c-49f8-4820-82bc-3ee6f6957244",
   "metadata": {},
   "source": [
    "## Rank 1 analysis"
   ]
  },
  {
   "cell_type": "code",
   "execution_count": 11,
   "id": "71b6e2e4-0845-4ec6-9af5-55264a09714e",
   "metadata": {},
   "outputs": [],
   "source": [
    "with open('rank_1_hardware_probs_1313', 'rb') as handle:\n",
    "    b = pickle.load(handle)\n",
    "results = b['results']\n",
    "K,X,E,rho = results[0][:]\n",
    "J = b['parameters']['J']\n",
    "y = b['parameters']['y']"
   ]
  },
  {
   "cell_type": "code",
   "execution_count": 12,
   "id": "0bed1ec9-e72b-4bd7-9088-e1696f0d6099",
   "metadata": {},
   "outputs": [
    {
     "data": {
      "text/html": [
       "<style type=\"text/css\">\n",
       "#T_fcc01 th.col_heading {\n",
       "  text-align: center;\n",
       "}\n",
       "#T_fcc01 th.col_heading.level0 {\n",
       "  font-size: 1em;\n",
       "}\n",
       "#T_fcc01 td {\n",
       "  text-align: center;\n",
       "}\n",
       "</style>\n",
       "<table id=\"T_fcc01\">\n",
       "  <thead>\n",
       "    <tr>\n",
       "      <th class=\"blank level0\" >&nbsp;</th>\n",
       "      <th id=\"T_fcc01_level0_col0\" class=\"col_heading level0 col0\" >F_avg</th>\n",
       "      <th id=\"T_fcc01_level0_col1\" class=\"col_heading level0 col1\" >Diamond distances</th>\n",
       "      <th id=\"T_fcc01_level0_col2\" class=\"col_heading level0 col2\" >Min. Spectral distances</th>\n",
       "    </tr>\n",
       "  </thead>\n",
       "  <tbody>\n",
       "    <tr>\n",
       "      <th id=\"T_fcc01_level0_row0\" class=\"row_heading level0 row0\" >Id</th>\n",
       "      <td id=\"T_fcc01_row0_col0\" class=\"data row0 col0\" >0,99972</td>\n",
       "      <td id=\"T_fcc01_row0_col1\" class=\"data row0 col1\" >0,02138</td>\n",
       "      <td id=\"T_fcc01_row0_col2\" class=\"data row0 col2\" >0,01988</td>\n",
       "    </tr>\n",
       "    <tr>\n",
       "      <th id=\"T_fcc01_level0_row1\" class=\"row_heading level0 row1\" >Rx(pi/2)[q0]</th>\n",
       "      <td id=\"T_fcc01_row1_col0\" class=\"data row1 col0\" >0,99976</td>\n",
       "      <td id=\"T_fcc01_row1_col1\" class=\"data row1 col1\" >0,02266</td>\n",
       "      <td id=\"T_fcc01_row1_col2\" class=\"data row1 col2\" >0,00967</td>\n",
       "    </tr>\n",
       "    <tr>\n",
       "      <th id=\"T_fcc01_level0_row2\" class=\"row_heading level0 row2\" >Ry(pi/2)[q0]</th>\n",
       "      <td id=\"T_fcc01_row2_col0\" class=\"data row2 col0\" >0,99976</td>\n",
       "      <td id=\"T_fcc01_row2_col1\" class=\"data row2 col1\" >0,02280</td>\n",
       "      <td id=\"T_fcc01_row2_col2\" class=\"data row2 col2\" >0,00922</td>\n",
       "    </tr>\n",
       "    <tr>\n",
       "      <th id=\"T_fcc01_level0_row3\" class=\"row_heading level0 row3\" >Rx(pi/2)[q1]</th>\n",
       "      <td id=\"T_fcc01_row3_col0\" class=\"data row3 col0\" >0,99985</td>\n",
       "      <td id=\"T_fcc01_row3_col1\" class=\"data row3 col1\" >0,01824</td>\n",
       "      <td id=\"T_fcc01_row3_col2\" class=\"data row3 col2\" >0,00889</td>\n",
       "    </tr>\n",
       "    <tr>\n",
       "      <th id=\"T_fcc01_level0_row4\" class=\"row_heading level0 row4\" >Ry(pi/2)[q1]</th>\n",
       "      <td id=\"T_fcc01_row4_col0\" class=\"data row4 col0\" >0,99984</td>\n",
       "      <td id=\"T_fcc01_row4_col1\" class=\"data row4 col1\" >0,01889</td>\n",
       "      <td id=\"T_fcc01_row4_col2\" class=\"data row4 col2\" >0,00636</td>\n",
       "    </tr>\n",
       "    <tr>\n",
       "      <th id=\"T_fcc01_level0_row5\" class=\"row_heading level0 row5\" >CZ[q0-q1]</th>\n",
       "      <td id=\"T_fcc01_row5_col0\" class=\"data row5 col0\" >0,99827</td>\n",
       "      <td id=\"T_fcc01_row5_col1\" class=\"data row5 col1\" >0,06494</td>\n",
       "      <td id=\"T_fcc01_row5_col2\" class=\"data row5 col2\" >0,04960</td>\n",
       "    </tr>\n",
       "  </tbody>\n",
       "</table>\n"
      ],
      "text/plain": [
       "<pandas.io.formats.style.Styler at 0x7f7e57657670>"
      ]
     },
     "metadata": {},
     "output_type": "display_data"
    },
    {
     "data": {
      "text/html": [
       "<style type=\"text/css\">\n",
       "#T_0f110 th.col_heading {\n",
       "  text-align: center;\n",
       "}\n",
       "#T_0f110 th.col_heading.level0 {\n",
       "  font-size: 1em;\n",
       "}\n",
       "#T_0f110 td {\n",
       "  text-align: center;\n",
       "}\n",
       "</style>\n",
       "<table id=\"T_0f110\">\n",
       "  <thead>\n",
       "    <tr>\n",
       "      <th class=\"blank level0\" >&nbsp;</th>\n",
       "      <th id=\"T_0f110_level0_col0\" class=\"col_heading level0 col0\" >Final cost function value</th>\n",
       "      <th id=\"T_0f110_level0_col1\" class=\"col_heading level0 col1\" >Mean total variation dist. to data</th>\n",
       "      <th id=\"T_0f110_level0_col2\" class=\"col_heading level0 col2\" >Mean total variation dist. target to data</th>\n",
       "      <th id=\"T_0f110_level0_col3\" class=\"col_heading level0 col3\" >POVM - Choi map trace distance</th>\n",
       "      <th id=\"T_0f110_level0_col4\" class=\"col_heading level0 col4\" >State - Trace distance</th>\n",
       "    </tr>\n",
       "  </thead>\n",
       "  <tbody>\n",
       "    <tr>\n",
       "      <th id=\"T_0f110_level0_row0\" class=\"row_heading level0 row0\" ></th>\n",
       "      <td id=\"T_0f110_row0_col0\" class=\"data row0 col0\" >0.000515</td>\n",
       "      <td id=\"T_0f110_row0_col1\" class=\"data row0 col1\" >0.027348</td>\n",
       "      <td id=\"T_0f110_row0_col2\" class=\"data row0 col2\" >0.081364</td>\n",
       "      <td id=\"T_0f110_row0_col3\" class=\"data row0 col3\" >0.095904</td>\n",
       "      <td id=\"T_0f110_row0_col4\" class=\"data row0 col4\" >0.000417</td>\n",
       "    </tr>\n",
       "  </tbody>\n",
       "</table>\n"
      ],
      "text/plain": [
       "<pandas.io.formats.style.Styler at 0x7f7e57471390>"
      ]
     },
     "metadata": {},
     "output_type": "display_data"
    },
    {
     "data": {
      "text/plain": [
       "(None, None)"
      ]
     },
     "execution_count": 12,
     "metadata": {},
     "output_type": "execute_result"
    }
   ],
   "source": [
    "weights = {'G0': 1,'G1': 1, 'G2': 1, 'G3': 1, 'G4': 1, 'G5': 1, 'spam': 0, 'rho0': 100}\n",
    "gate_labels = {0: \"Id\", 1: \"Rx(pi/2)[q0]\", 2: \"Ry(pi/2)[q0]\", 3: \"Rx(pi/2)[q1]\", 4: \"Ry(pi/2)[q1]\", 5: \"CZ[q0-q1]\"}\n",
    "\n",
    "X_opt, E_opt, rho_opt = gauge_opt(X, E, rho, target_mdl, weights)\n",
    "\n",
    "df_g, df_o, s_g, s_o = report(X_opt, E_opt, rho_opt, J, y, target_mdl, gate_labels)\n",
    "display(s_g), display(s_o)"
   ]
  },
  {
   "cell_type": "code",
   "execution_count": 14,
   "id": "3b1b4dd6-1b0a-41ab-8093-c8b053692658",
   "metadata": {},
   "outputs": [
    {
     "data": {
      "image/png": "[encoded data removed]",
      "text/plain": [
       "<Figure size 767.432x314.182 with 3 Axes>"
      ]
     },
     "metadata": {
      "needs_background": "light"
     },
     "output_type": "display_data"
    }
   ],
   "source": [
    "# Standard basis\n",
    "plot_mat(X_opt[5]@X_t[5].T.conj(), X_t[5]@X_t[5].T.conj())"
   ]
  },
  {
   "cell_type": "code",
   "execution_count": 13,
   "id": "3bd680bc-ccb9-490b-8e3d-d207d60bd304",
   "metadata": {},
   "outputs": [
    {
     "data": {
      "image/png": "[encoded data removed]",
      "text/plain": [
       "<Figure size 767.432x314.182 with 3 Axes>"
      ]
     },
     "metadata": {
      "needs_background": "light"
     },
     "output_type": "display_data"
    }
   ],
   "source": [
    "# Pauli basis:\n",
    "X_opt_pp, E_opt_pp, rho_opt_pp = compatibility.std2pp(X_opt, E_opt, rho_opt)\n",
    "X_t_pp, E_t_pp, rho_t_pp = compatibility.std2pp(X_t, E_t, rho_t)\n",
    "plot_mat(X_opt_pp[5], X_t_pp[5])"
   ]
  },
  {
   "cell_type": "code",
   "execution_count": 19,
   "id": "1dc37639-26b6-4ef5-937d-10bff1235e4b",
   "metadata": {},
   "outputs": [
    {
     "data": {
      "image/png": "[encoded data removed]",
      "text/plain": [
       "<Figure size 371.613x286.093 with 6 Axes>"
      ]
     },
     "metadata": {
      "needs_background": "light"
     },
     "output_type": "display_data"
    }
   ],
   "source": [
    "# SPAM in Pauli basis\n",
    "plot_spam(rho_opt_pp, E_opt_pp)"
   ]
  },
  {
   "cell_type": "code",
   "execution_count": 20,
   "id": "8e6edf08-9fcd-43ca-a60b-02f224ca8c12",
   "metadata": {},
   "outputs": [
    {
     "data": {
      "image/png": "[encoded data removed]",
      "text/plain": [
       "<Figure size 371.613x286.093 with 6 Axes>"
      ]
     },
     "metadata": {
      "needs_background": "light"
     },
     "output_type": "display_data"
    }
   ],
   "source": [
    "# Ideal SPAM in Pauli basis\n",
    "plot_spam(rho_t_pp, E_t_pp)"
   ]
  },
  {
   "cell_type": "code",
   "execution_count": 15,
   "id": "b7036694-3138-4781-800a-28e12b14b443",
   "metadata": {},
   "outputs": [
    {
     "name": "stdout",
     "output_type": "stream",
     "text": [
      "Assignment fidelity for ideal basis state 0: 0.9125360253384016\n"
     ]
    },
    {
     "data": {
      "image/png": "[encoded data removed]",
      "text/plain": [
       "<Figure size 432x288 with 1 Axes>"
      ]
     },
     "metadata": {
      "needs_background": "light"
     },
     "output_type": "display_data"
    },
    {
     "name": "stdout",
     "output_type": "stream",
     "text": [
      "Assignment fidelity for ideal basis state 1: 0.7465329376809569\n"
     ]
    },
    {
     "data": {
      "image/png": "[encoded data removed]",
      "text/plain": [
       "<Figure size 432x288 with 1 Axes>"
      ]
     },
     "metadata": {
      "needs_background": "light"
     },
     "output_type": "display_data"
    },
    {
     "name": "stdout",
     "output_type": "stream",
     "text": [
      "Assignment fidelity for ideal basis state 2: 0.738572079996279\n"
     ]
    },
    {
     "data": {
      "image/png": "[encoded data removed]",
      "text/plain": [
       "<Figure size 432x288 with 1 Axes>"
      ]
     },
     "metadata": {
      "needs_background": "light"
     },
     "output_type": "display_data"
    },
    {
     "name": "stdout",
     "output_type": "stream",
     "text": [
      "Assignment fidelity for ideal basis state 3: 0.6175686646054579\n"
     ]
    },
    {
     "data": {
      "image/png": "[encoded data removed]",
      "text/plain": [
       "<Figure size 432x288 with 1 Axes>"
      ]
     },
     "metadata": {
      "needs_background": "light"
     },
     "output_type": "display_data"
    }
   ],
   "source": [
    "# POVM in standard basis\n",
    "for i in range(4):\n",
    "    print(\"Assignment fidelity for ideal basis state %i:\"%i, np.abs(E_opt.reshape(4,4,4)[i,i,i])**2)\n",
    "    plt.imshow(np.abs(E_opt.reshape(4,4,4)[i,:,:]), vmin = -1, vmax = 1)\n",
    "    plt.show()"
   ]
  },
  {
   "cell_type": "code",
   "execution_count": 18,
   "id": "91b3e182-9cea-4b80-adb9-3d0c334cddbc",
   "metadata": {},
   "outputs": [
    {
     "name": "stdout",
     "output_type": "stream",
     "text": [
      "0.0\n",
      "0.07277897342891491\n",
      "0.07419979842374834\n",
      "-3.0154233818546756\n"
     ]
    },
    {
     "data": {
      "image/png": "[encoded data removed]",
      "text/plain": [
       "<Figure size 432x288 with 1 Axes>"
      ]
     },
     "metadata": {
      "needs_background": "light"
     },
     "output_type": "display_data"
    }
   ],
   "source": [
    "# Angles\n",
    "K_t = additional_fns.Kraus_rep(X_t,d,pdim,1)\n",
    "K_opt = additional_fns.Kraus_rep(X_opt,d,pdim,1)\n",
    "\n",
    "for x in np.diag(K_opt[5][0]):\n",
    "    print(np.angle(x))\n",
    "    plt.polar([0,np.angle(x)],[0,abs(x)],marker='o')\n",
    "plt.show()"
   ]
  },
  {
   "cell_type": "markdown",
   "id": "f8a43fe6-2669-4145-9c8c-215c149f80bb",
   "metadata": {},
   "source": [
    "## Rank 2 analysis"
   ]
  },
  {
   "cell_type": "code",
   "execution_count": 23,
   "id": "3d446911-665d-4982-ad91-e052927c5d8d",
   "metadata": {},
   "outputs": [],
   "source": [
    "with open('rank_2_hardware_probs_1313', 'rb') as handle:\n",
    "    b = pickle.load(handle)\n",
    "results = b['results']\n",
    "K,X,E,rho = results[0][:]\n",
    "J = b['parameters']['J']\n",
    "y = b['parameters']['y']"
   ]
  },
  {
   "cell_type": "code",
   "execution_count": 24,
   "id": "78391cfa-a3da-4201-91c2-6862cb913874",
   "metadata": {},
   "outputs": [
    {
     "data": {
      "text/html": [
       "<style type=\"text/css\">\n",
       "#T_196d6 th.col_heading {\n",
       "  text-align: center;\n",
       "}\n",
       "#T_196d6 th.col_heading.level0 {\n",
       "  font-size: 1em;\n",
       "}\n",
       "#T_196d6 td {\n",
       "  text-align: center;\n",
       "}\n",
       "</style>\n",
       "<table id=\"T_196d6\">\n",
       "  <thead>\n",
       "    <tr>\n",
       "      <th class=\"blank level0\" >&nbsp;</th>\n",
       "      <th id=\"T_196d6_level0_col0\" class=\"col_heading level0 col0\" >F_avg</th>\n",
       "      <th id=\"T_196d6_level0_col1\" class=\"col_heading level0 col1\" >Diamond distances</th>\n",
       "      <th id=\"T_196d6_level0_col2\" class=\"col_heading level0 col2\" >Min. Spectral distances</th>\n",
       "    </tr>\n",
       "  </thead>\n",
       "  <tbody>\n",
       "    <tr>\n",
       "      <th id=\"T_196d6_level0_row0\" class=\"row_heading level0 row0\" >Id</th>\n",
       "      <td id=\"T_196d6_row0_col0\" class=\"data row0 col0\" >0,98926</td>\n",
       "      <td id=\"T_196d6_row0_col1\" class=\"data row0 col1\" >0,04526</td>\n",
       "      <td id=\"T_196d6_row0_col2\" class=\"data row0 col2\" >0,02889</td>\n",
       "    </tr>\n",
       "    <tr>\n",
       "      <th id=\"T_196d6_level0_row1\" class=\"row_heading level0 row1\" >Rx(pi/2)[q0]</th>\n",
       "      <td id=\"T_196d6_row1_col0\" class=\"data row1 col0\" >0,98926</td>\n",
       "      <td id=\"T_196d6_row1_col1\" class=\"data row1 col1\" >0,03919</td>\n",
       "      <td id=\"T_196d6_row1_col2\" class=\"data row1 col2\" >0,01682</td>\n",
       "    </tr>\n",
       "    <tr>\n",
       "      <th id=\"T_196d6_level0_row2\" class=\"row_heading level0 row2\" >Ry(pi/2)[q0]</th>\n",
       "      <td id=\"T_196d6_row2_col0\" class=\"data row2 col0\" >0,98999</td>\n",
       "      <td id=\"T_196d6_row2_col1\" class=\"data row2 col1\" >0,04101</td>\n",
       "      <td id=\"T_196d6_row2_col2\" class=\"data row2 col2\" >0,01877</td>\n",
       "    </tr>\n",
       "    <tr>\n",
       "      <th id=\"T_196d6_level0_row3\" class=\"row_heading level0 row3\" >Rx(pi/2)[q1]</th>\n",
       "      <td id=\"T_196d6_row3_col0\" class=\"data row3 col0\" >0,98979</td>\n",
       "      <td id=\"T_196d6_row3_col1\" class=\"data row3 col1\" >0,03186</td>\n",
       "      <td id=\"T_196d6_row3_col2\" class=\"data row3 col2\" >0,01724</td>\n",
       "    </tr>\n",
       "    <tr>\n",
       "      <th id=\"T_196d6_level0_row4\" class=\"row_heading level0 row4\" >Ry(pi/2)[q1]</th>\n",
       "      <td id=\"T_196d6_row4_col0\" class=\"data row4 col0\" >0,98685</td>\n",
       "      <td id=\"T_196d6_row4_col1\" class=\"data row4 col1\" >0,03763</td>\n",
       "      <td id=\"T_196d6_row4_col2\" class=\"data row4 col2\" >0,01993</td>\n",
       "    </tr>\n",
       "    <tr>\n",
       "      <th id=\"T_196d6_level0_row5\" class=\"row_heading level0 row5\" >CZ[q0-q1]</th>\n",
       "      <td id=\"T_196d6_row5_col0\" class=\"data row5 col0\" >0,96317</td>\n",
       "      <td id=\"T_196d6_row5_col1\" class=\"data row5 col1\" >0,13977</td>\n",
       "      <td id=\"T_196d6_row5_col2\" class=\"data row5 col2\" >0,08653</td>\n",
       "    </tr>\n",
       "  </tbody>\n",
       "</table>\n"
      ],
      "text/plain": [
       "<pandas.io.formats.style.Styler at 0x7f7e57269630>"
      ]
     },
     "metadata": {},
     "output_type": "display_data"
    },
    {
     "data": {
      "text/html": [
       "<style type=\"text/css\">\n",
       "#T_db8aa th.col_heading {\n",
       "  text-align: center;\n",
       "}\n",
       "#T_db8aa th.col_heading.level0 {\n",
       "  font-size: 1em;\n",
       "}\n",
       "#T_db8aa td {\n",
       "  text-align: center;\n",
       "}\n",
       "</style>\n",
       "<table id=\"T_db8aa\">\n",
       "  <thead>\n",
       "    <tr>\n",
       "      <th class=\"blank level0\" >&nbsp;</th>\n",
       "      <th id=\"T_db8aa_level0_col0\" class=\"col_heading level0 col0\" >Final cost function value</th>\n",
       "      <th id=\"T_db8aa_level0_col1\" class=\"col_heading level0 col1\" >Mean total variation dist. to data</th>\n",
       "      <th id=\"T_db8aa_level0_col2\" class=\"col_heading level0 col2\" >Mean total variation dist. target to data</th>\n",
       "      <th id=\"T_db8aa_level0_col3\" class=\"col_heading level0 col3\" >POVM - Choi map trace distance</th>\n",
       "      <th id=\"T_db8aa_level0_col4\" class=\"col_heading level0 col4\" >State - Trace distance</th>\n",
       "    </tr>\n",
       "  </thead>\n",
       "  <tbody>\n",
       "    <tr>\n",
       "      <th id=\"T_db8aa_level0_row0\" class=\"row_heading level0 row0\" ></th>\n",
       "      <td id=\"T_db8aa_row0_col0\" class=\"data row0 col0\" >0.000289</td>\n",
       "      <td id=\"T_db8aa_row0_col1\" class=\"data row0 col1\" >0.019797</td>\n",
       "      <td id=\"T_db8aa_row0_col2\" class=\"data row0 col2\" >0.081364</td>\n",
       "      <td id=\"T_db8aa_row0_col3\" class=\"data row0 col3\" >0.061603</td>\n",
       "      <td id=\"T_db8aa_row0_col4\" class=\"data row0 col4\" >0.000375</td>\n",
       "    </tr>\n",
       "  </tbody>\n",
       "</table>\n"
      ],
      "text/plain": [
       "<pandas.io.formats.style.Styler at 0x7f7e78123370>"
      ]
     },
     "metadata": {},
     "output_type": "display_data"
    },
    {
     "data": {
      "text/plain": [
       "(None, None)"
      ]
     },
     "execution_count": 24,
     "metadata": {},
     "output_type": "execute_result"
    }
   ],
   "source": [
    "weights = {'G0': 1,'G1': 1, 'G2': 1, 'G3': 1, 'G4': 1, 'G5': 1, 'spam': 0, 'rho0': 100}\n",
    "gate_labels = {0: \"Id\", 1: \"Rx(pi/2)[q0]\", 2: \"Ry(pi/2)[q0]\", 3: \"Rx(pi/2)[q1]\", 4: \"Ry(pi/2)[q1]\", 5: \"CZ[q0-q1]\"}\n",
    "\n",
    "X_opt, E_opt, rho_opt = gauge_opt(X, E, rho, target_mdl, weights)\n",
    "\n",
    "df_g, df_o, s_g, s_o = report(X_opt, E_opt, rho_opt, J, y, target_mdl, gate_labels)\n",
    "display(s_g), display(s_o)"
   ]
  },
  {
   "cell_type": "markdown",
   "id": "810680a2-6587-4a9e-a150-c7c5aaca1fa2",
   "metadata": {},
   "source": [
    "## Rank 16 Analysis"
   ]
  },
  {
   "cell_type": "code",
   "execution_count": 31,
   "id": "615ad03a-d4ea-4a82-bcd4-768ddf0ba8b7",
   "metadata": {},
   "outputs": [],
   "source": [
    "with open('rank_16_hardware_probs_1313', 'rb') as handle:\n",
    "    b = pickle.load(handle)\n",
    "results = b['results']\n",
    "K,X,E,rho = results[0][:]\n",
    "J = b['parameters']['J']\n",
    "y = b['parameters']['y']"
   ]
  },
  {
   "cell_type": "code",
   "execution_count": 32,
   "id": "04b0cd2a-63ef-4a6a-9242-26cc2d6d6b49",
   "metadata": {},
   "outputs": [
    {
     "data": {
      "text/html": [
       "<style type=\"text/css\">\n",
       "#T_bd0f2 th.col_heading {\n",
       "  text-align: center;\n",
       "}\n",
       "#T_bd0f2 th.col_heading.level0 {\n",
       "  font-size: 1em;\n",
       "}\n",
       "#T_bd0f2 td {\n",
       "  text-align: center;\n",
       "}\n",
       "</style>\n",
       "<table id=\"T_bd0f2\">\n",
       "  <thead>\n",
       "    <tr>\n",
       "      <th class=\"blank level0\" >&nbsp;</th>\n",
       "      <th id=\"T_bd0f2_level0_col0\" class=\"col_heading level0 col0\" >F_avg</th>\n",
       "      <th id=\"T_bd0f2_level0_col1\" class=\"col_heading level0 col1\" >Diamond distances</th>\n",
       "      <th id=\"T_bd0f2_level0_col2\" class=\"col_heading level0 col2\" >Min. Spectral distances</th>\n",
       "    </tr>\n",
       "  </thead>\n",
       "  <tbody>\n",
       "    <tr>\n",
       "      <th id=\"T_bd0f2_level0_row0\" class=\"row_heading level0 row0\" >Id</th>\n",
       "      <td id=\"T_bd0f2_row0_col0\" class=\"data row0 col0\" >0,99972</td>\n",
       "      <td id=\"T_bd0f2_row0_col1\" class=\"data row0 col1\" >0,02140</td>\n",
       "      <td id=\"T_bd0f2_row0_col2\" class=\"data row0 col2\" >0,01991</td>\n",
       "    </tr>\n",
       "    <tr>\n",
       "      <th id=\"T_bd0f2_level0_row1\" class=\"row_heading level0 row1\" >Rx(pi/2)[q0]</th>\n",
       "      <td id=\"T_bd0f2_row1_col0\" class=\"data row1 col0\" >0,99976</td>\n",
       "      <td id=\"T_bd0f2_row1_col1\" class=\"data row1 col1\" >0,02271</td>\n",
       "      <td id=\"T_bd0f2_row1_col2\" class=\"data row1 col2\" >0,00964</td>\n",
       "    </tr>\n",
       "    <tr>\n",
       "      <th id=\"T_bd0f2_level0_row2\" class=\"row_heading level0 row2\" >Ry(pi/2)[q0]</th>\n",
       "      <td id=\"T_bd0f2_row2_col0\" class=\"data row2 col0\" >0,99976</td>\n",
       "      <td id=\"T_bd0f2_row2_col1\" class=\"data row2 col1\" >0,02272</td>\n",
       "      <td id=\"T_bd0f2_row2_col2\" class=\"data row2 col2\" >0,00910</td>\n",
       "    </tr>\n",
       "    <tr>\n",
       "      <th id=\"T_bd0f2_level0_row3\" class=\"row_heading level0 row3\" >Rx(pi/2)[q1]</th>\n",
       "      <td id=\"T_bd0f2_row3_col0\" class=\"data row3 col0\" >0,99985</td>\n",
       "      <td id=\"T_bd0f2_row3_col1\" class=\"data row3 col1\" >0,01818</td>\n",
       "      <td id=\"T_bd0f2_row3_col2\" class=\"data row3 col2\" >0,00890</td>\n",
       "    </tr>\n",
       "    <tr>\n",
       "      <th id=\"T_bd0f2_level0_row4\" class=\"row_heading level0 row4\" >Ry(pi/2)[q1]</th>\n",
       "      <td id=\"T_bd0f2_row4_col0\" class=\"data row4 col0\" >0,99984</td>\n",
       "      <td id=\"T_bd0f2_row4_col1\" class=\"data row4 col1\" >0,01891</td>\n",
       "      <td id=\"T_bd0f2_row4_col2\" class=\"data row4 col2\" >0,00636</td>\n",
       "    </tr>\n",
       "    <tr>\n",
       "      <th id=\"T_bd0f2_level0_row5\" class=\"row_heading level0 row5\" >CZ[q0-q1]</th>\n",
       "      <td id=\"T_bd0f2_row5_col0\" class=\"data row5 col0\" >0,99825</td>\n",
       "      <td id=\"T_bd0f2_row5_col1\" class=\"data row5 col1\" >0,06538</td>\n",
       "      <td id=\"T_bd0f2_row5_col2\" class=\"data row5 col2\" >0,04994</td>\n",
       "    </tr>\n",
       "  </tbody>\n",
       "</table>\n"
      ],
      "text/plain": [
       "<pandas.io.formats.style.Styler at 0x7f7e1442d870>"
      ]
     },
     "metadata": {},
     "output_type": "display_data"
    },
    {
     "data": {
      "text/html": [
       "<style type=\"text/css\">\n",
       "#T_3c086 th.col_heading {\n",
       "  text-align: center;\n",
       "}\n",
       "#T_3c086 th.col_heading.level0 {\n",
       "  font-size: 1em;\n",
       "}\n",
       "#T_3c086 td {\n",
       "  text-align: center;\n",
       "}\n",
       "</style>\n",
       "<table id=\"T_3c086\">\n",
       "  <thead>\n",
       "    <tr>\n",
       "      <th class=\"blank level0\" >&nbsp;</th>\n",
       "      <th id=\"T_3c086_level0_col0\" class=\"col_heading level0 col0\" >Final cost function value</th>\n",
       "      <th id=\"T_3c086_level0_col1\" class=\"col_heading level0 col1\" >Mean total variation dist. to data</th>\n",
       "      <th id=\"T_3c086_level0_col2\" class=\"col_heading level0 col2\" >Mean total variation dist. target to data</th>\n",
       "      <th id=\"T_3c086_level0_col3\" class=\"col_heading level0 col3\" >POVM - Choi map trace distance</th>\n",
       "      <th id=\"T_3c086_level0_col4\" class=\"col_heading level0 col4\" >State - Trace distance</th>\n",
       "    </tr>\n",
       "  </thead>\n",
       "  <tbody>\n",
       "    <tr>\n",
       "      <th id=\"T_3c086_level0_row0\" class=\"row_heading level0 row0\" ></th>\n",
       "      <td id=\"T_3c086_row0_col0\" class=\"data row0 col0\" >0.000515</td>\n",
       "      <td id=\"T_3c086_row0_col1\" class=\"data row0 col1\" >0.027359</td>\n",
       "      <td id=\"T_3c086_row0_col2\" class=\"data row0 col2\" >0.081364</td>\n",
       "      <td id=\"T_3c086_row0_col3\" class=\"data row0 col3\" >0.095886</td>\n",
       "      <td id=\"T_3c086_row0_col4\" class=\"data row0 col4\" >0.000506</td>\n",
       "    </tr>\n",
       "  </tbody>\n",
       "</table>\n"
      ],
      "text/plain": [
       "<pandas.io.formats.style.Styler at 0x7f7e146a2590>"
      ]
     },
     "metadata": {},
     "output_type": "display_data"
    },
    {
     "data": {
      "text/plain": [
       "(None, None)"
      ]
     },
     "execution_count": 32,
     "metadata": {},
     "output_type": "execute_result"
    }
   ],
   "source": [
    "weights = {'G0': 1,'G1': 1, 'G2': 1, 'G3': 1, 'G4': 1, 'G5': 1, 'spam': 0, 'rho0': 100}\n",
    "gate_labels = {0: \"Id\", 1: \"Rx(pi/2)[q0]\", 2: \"Ry(pi/2)[q0]\", 3: \"Rx(pi/2)[q1]\", 4: \"Ry(pi/2)[q1]\", 5: \"CZ[q0-q1]\"}\n",
    "\n",
    "X_opt, E_opt, rho_opt = gauge_opt(X, E, rho, target_mdl, weights)\n",
    "\n",
    "df_g, df_o, s_g, s_o = report(X_opt, E_opt, rho_opt, J, y, target_mdl, gate_labels)\n",
    "display(s_g), display(s_o)"
   ]
  },
  {
   "cell_type": "code",
   "execution_count": 29,
   "id": "d477c76e-cd5e-469d-92ca-6ed370067dea",
   "metadata": {},
   "outputs": [
    {
     "data": {
      "text/plain": [
       "[<matplotlib.lines.Line2D at 0x7f7e14632260>]"
      ]
     },
     "execution_count": 29,
     "metadata": {},
     "output_type": "execute_result"
    },
    {
     "data": {
      "image/png": "[encoded data removed]",
      "text/plain": [
       "<Figure size 432x288 with 1 Axes>"
      ]
     },
     "metadata": {
      "needs_background": "light"
     },
     "output_type": "display_data"
    }
   ],
   "source": [
    "# Spectrum of the Choi matrix\n",
    "X_choi = X_opt.reshape(d,pdim,pdim,pdim,pdim)\n",
    "X_choi = np.einsum('ijklm->iljmk',X_choi).reshape(d,pdim**2,pdim**2)\n",
    "plt.plot(np.sort(np.abs(la.eig(X_choi[5])[0]))[::-1])"
   ]
  },
  {
   "cell_type": "code",
   "execution_count": 30,
   "id": "9aab559c-c001-41f9-85c6-9209b4a4af22",
   "metadata": {},
   "outputs": [
    {
     "name": "stdout",
     "output_type": "stream",
     "text": [
      "[4.00000000e+00 2.96862178e-15 4.24982942e-16 3.83907075e-16\n",
      " 3.67281825e-16 3.02125323e-16 1.67107590e-16 1.66312446e-16\n",
      " 1.58091371e-16 9.87890861e-17 6.53061446e-17 6.49308615e-17\n",
      " 3.28322301e-17 2.80173436e-17 1.93920726e-17 1.50486630e-17]\n"
     ]
    }
   ],
   "source": [
    "print(np.sort(np.abs(la.eig(X_choi[5])[0]))[::-1])"
   ]
  },
  {
   "cell_type": "code",
   "execution_count": null,
   "id": "f333ee50-ab33-4a38-9069-d52fd34038c4",
   "metadata": {},
   "outputs": [],
   "source": []
  }
 ],
 "metadata": {
  "kernelspec": {
   "display_name": "Python 3 (ipykernel)",
   "language": "python",
   "name": "python3"
  },
  "language_info": {
   "codemirror_mode": {
    "name": "ipython",
    "version": 3
   },
   "file_extension": ".py",
   "mimetype": "text/x-python",
   "name": "python",
   "nbconvert_exporter": "python",
   "pygments_lexer": "ipython3",
   "version": "3.10.6"
  }
 },
 "nbformat": 4,
 "nbformat_minor": 5
}
