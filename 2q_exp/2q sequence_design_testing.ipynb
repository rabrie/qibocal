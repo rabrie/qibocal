{
 "cells": [
  {
   "cell_type": "markdown",
   "id": "19498ba6-106b-4ef2-b798-ca7d0a6fce8a",
   "metadata": {
    "tags": []
   },
   "source": [
    "# 2 qubit GST for XYICZ gate: Testing random sequence constructions"
   ]
  },
  {
   "cell_type": "code",
   "execution_count": 1,
   "id": "2fad699e-1bfe-4b66-9a11-1a9f9697f627",
   "metadata": {},
   "outputs": [],
   "source": [
    "# Note: I removed the mGST folders from within the qibocal fork, such that it is installed and updated seperately\n",
    "from mGST import compatibility,algorithm, optimization, low_level_jit, additional_fns"
   ]
  },
  {
   "cell_type": "code",
   "execution_count": 2,
   "id": "6e58b942-2370-4d00-a8f0-88704b080a55",
   "metadata": {},
   "outputs": [],
   "source": [
    "import pickle as pickle\n",
    "from pygsti.report import reportables as rptbl #Needs cvxpy!\n",
    "import pygsti\n",
    "from argparse import Namespace\n",
    "import numpy as np\n",
    "import pandas as pd\n",
    "import numpy.linalg as la\n",
    "import json\n",
    "import matplotlib.pyplot as plt\n",
    "from random import sample\n",
    "#from pygsti.modelpacks import smq2Q_XYICNOT as std\n",
    "\n",
    "%run ../src/mGST/reporting.py"
   ]
  },
  {
   "cell_type": "markdown",
   "id": "8aa5d0c5-5f45-41ba-9309-b5055901f76d",
   "metadata": {},
   "source": [
    "### Setting the parameters"
   ]
  },
  {
   "cell_type": "code",
   "execution_count": 3,
   "id": "bc5a4c05-f8c4-46cd-ad54-4fc6a2544e66",
   "metadata": {},
   "outputs": [],
   "source": [
    "pdim = 4   # physical dimension\n",
    "r = pdim**2   # rank of the gate superoperators \n",
    "\n",
    "max_l = 10  # maximum number of gates in each measurement sequence\n",
    "n_povm = 4   # number of POVM-elements\n",
    "d = 6"
   ]
  },
  {
   "cell_type": "code",
   "execution_count": 4,
   "id": "6942f219-11ea-4153-a7fb-5d457fb69cd2",
   "metadata": {},
   "outputs": [],
   "source": [
    "from true_values import E_true, X_true, rho_true\n",
    "X_t = X_true[:d].copy()\n",
    "E_t = E_true.copy()\n",
    "rho_t = rho_true.copy()\n",
    "target_mdl = compatibility.arrays_to_pygsti_model(X_t,E_t,rho_t, basis = 'std')\n",
    "noisy_mdl = compatibility.arrays_to_pygsti_model(X_t,E_t,rho_t, basis = 'std').depolarize(0.001,spam_noise=0.05).randomize_with_unitary(0.01)\n",
    "X_noisy, E_noisy, rho_noisy = compatibility.pygsti_model_to_arrays(noisy_mdl, basis = 'std')"
   ]
  },
  {
   "cell_type": "markdown",
   "id": "a9d466a3-c184-4647-a735-3882ed478720",
   "metadata": {},
   "source": [
    "### Generating data"
   ]
  },
  {
   "cell_type": "code",
   "execution_count": 5,
   "id": "a09b4ff1-cdc4-4d2c-b260-d5b3f3ca76c1",
   "metadata": {},
   "outputs": [],
   "source": [
    "def random_len_seq_2(d,min_l,max_l,N):\n",
    "    seq_lengths = np.sort(np.random.randint(min_l,max_l+1,N))\n",
    "    J = []\n",
    "    for l in seq_lengths:\n",
    "        j_curr = np.random.randint(0,d,l)\n",
    "        J.append(list(np.pad(j_curr,(0,max_l-l),'constant',constant_values=-1)))\n",
    "    return np.array(J)\n",
    "\n",
    "def random_len_seq_3(d,min_l,max_l,N): #Draws without replacement but inneficiently (not working for sequences length > 24)\n",
    "    seq_counts = []\n",
    "    J = [-np.ones(max_l)]\n",
    "    N_remaining = N - 1\n",
    "    for l in range(min_l,max_l+1):\n",
    "        seq_counts.append(int(np.min([np.floor(N_remaining/(max_l+1-l)), d**l])))\n",
    "        ind_curr = np.array(sample(range(d**l), seq_counts[-1]))\n",
    "        J_curr = np.array([np.pad(low_level_jit.local_basis(ind,d,l),(0,max_l-l),'constant', constant_values = -1) for ind in ind_curr])\n",
    "        J = np.concatenate((J,J_curr), axis = 0)\n",
    "        N_remaining = N - 1 - np.sum(seq_counts)\n",
    "    if N_remaining > 0:\n",
    "        print('Number of possible sequences without replacement for the given sequence\\\n",
    "        length range is lower than the desired total number of sequences')\n",
    "    return J.astype(int)"
   ]
  },
  {
   "cell_type": "code",
   "execution_count": 35,
   "id": "b7a325c6-12c6-4e8c-90e1-2ad7e0c1b578",
   "metadata": {},
   "outputs": [],
   "source": [
    "J = random_len_seq_3(d,1,8,500)"
   ]
  },
  {
   "cell_type": "code",
   "execution_count": 36,
   "id": "5131894e-51e8-49e4-b0fc-dd8861626741",
   "metadata": {},
   "outputs": [
    {
     "name": "stdout",
     "output_type": "stream",
     "text": [
      "(500, 8)\n"
     ]
    }
   ],
   "source": [
    "print(J.shape)"
   ]
  },
  {
   "cell_type": "code",
   "execution_count": 11,
   "id": "f70807b6-5e3a-45a6-9cb7-ccd70ee70c76",
   "metadata": {},
   "outputs": [],
   "source": [
    "l_min = 1\n",
    "l_cut = 8\n",
    "l_max = 24\n",
    "N = 500\n",
    "N_long = 300\n",
    "meas_samples = 1e5\n",
    "J = random_len_seq_3(d,l_min,l_cut,N)\n",
    "J2 = random_len_seq_3(d,l_cut,l_max,N_long)\n",
    "\n",
    "y = np.real(np.array([[E_noisy[i].conj()@low_level_jit.contract(X_noisy,j)@rho_noisy for j in J] for i in range(n_povm)]))\n",
    "y = additional_fns.sampled_measurements(y,meas_samples).copy()\n",
    "\n",
    "y2 = np.real(np.array([[E_noisy[i].conj()@low_level_jit.contract(X_noisy,j)@rho_noisy for j in J2] for i in range(n_povm)]))\n",
    "y2 = additional_fns.sampled_measurements(y2,meas_samples).copy()"
   ]
  },
  {
   "cell_type": "code",
   "execution_count": 12,
   "id": "a793412b-46ce-49bc-a8cf-e1fd3b95a772",
   "metadata": {},
   "outputs": [
    {
     "name": "stdout",
     "output_type": "stream",
     "text": [
      "24\n"
     ]
    }
   ],
   "source": [
    "max_l_drawn = np.max(np.sum(J2>=0,axis = 1))\n",
    "print(max_l_drawn)\n",
    "J_all = []\n",
    "for i in range(N):\n",
    "    J_all.append(list(np.pad(J[i],(0,max_l_drawn-len(J[i])),'constant',constant_values=-1)))\n",
    "for i in range(N_long):\n",
    "    J_all.append(list(np.pad(J2[i],(0,max_l_drawn-len(J2[i])),'constant',constant_values=-1)))\n",
    "J_all = np.array(J_all)\n",
    "\n",
    "J_reduced = []\n",
    "for i in range(N):\n",
    "    J_reduced.append(list(J[i,:][J[i,:]>=0]))\n",
    "for i in range(N_long):\n",
    "    J_reduced.append(list(J2[i,:][J2[i,:]>=0]))\n",
    "y_all = np.concatenate((y,y2), axis = 1)"
   ]
  },
  {
   "cell_type": "code",
   "execution_count": 49,
   "id": "b95c5d2e-5652-4c1d-9c05-78e110424f65",
   "metadata": {},
   "outputs": [
    {
     "name": "stdout",
     "output_type": "stream",
     "text": [
      "(4, 700)\n"
     ]
    }
   ],
   "source": [
    "print(y_all.shape)"
   ]
  },
  {
   "cell_type": "code",
   "execution_count": 13,
   "id": "f8d3c0bb-87ea-4163-bced-cde45e51f1c0",
   "metadata": {},
   "outputs": [],
   "source": [
    "import csv\n",
    "\n",
    "with open('sequences.csv', 'w', newline='') as myfile:\n",
    "    wr = csv.writer(myfile, quoting=csv.QUOTE_ALL)\n",
    "    wr.writerows(J_reduced)"
   ]
  },
  {
   "cell_type": "markdown",
   "id": "35724025-9e20-4876-aaf1-895a7c644f92",
   "metadata": {},
   "source": [
    "### GST"
   ]
  },
  {
   "cell_type": "code",
   "execution_count": 52,
   "id": "117a49d5-ad10-4e3e-b788-dc0770f36081",
   "metadata": {
    "tags": []
   },
   "outputs": [
    {
     "name": "stdout",
     "output_type": "stream",
     "text": [
      "Starting optimization...\n",
      "100%|█████████████████████████████████████████| 180/180 [04:26<00:00,  1.48s/it]\n"
     ]
    },
    {
     "data": {
      "image/png": "[encoded data removed]",
      "text/plain": [
       "<Figure size 432x288 with 1 Axes>"
      ]
     },
     "metadata": {
      "needs_background": "light"
     },
     "output_type": "display_data"
    },
    {
     "name": "stdout",
     "output_type": "stream",
     "text": [
      "Run  0 failed, trying new initialization...\n",
      "100%|█████████████████████████████████████████| 180/180 [04:24<00:00,  1.47s/it]\n"
     ]
    },
    {
     "data": {
      "image/png": "[encoded data removed]",
      "text/plain": [
       "<Figure size 432x288 with 1 Axes>"
      ]
     },
     "metadata": {
      "needs_background": "light"
     },
     "output_type": "display_data"
    },
    {
     "name": "stdout",
     "output_type": "stream",
     "text": [
      "Run  1 failed, trying new initialization...\n",
      "100%|█████████████████████████████████████████| 180/180 [04:24<00:00,  1.47s/it]\n"
     ]
    },
    {
     "data": {
      "image/png": "[encoded data removed]",
      "text/plain": [
       "<Figure size 432x288 with 1 Axes>"
      ]
     },
     "metadata": {
      "needs_background": "light"
     },
     "output_type": "display_data"
    },
    {
     "name": "stdout",
     "output_type": "stream",
     "text": [
      "Run  2 failed, trying new initialization...\n",
      " 32%|█████████████▌                            | 58/180 [01:27<03:03,  1.50s/it]\n"
     ]
    },
    {
     "data": {
      "image/png": "[encoded data removed]",
      "text/plain": [
       "<Figure size 432x288 with 1 Axes>"
      ]
     },
     "metadata": {
      "needs_background": "light"
     },
     "output_type": "display_data"
    },
    {
     "name": "stdout",
     "output_type": "stream",
     "text": [
      "Initialization successful, improving estimate over full data....\n",
      "100%|███████████████████████████████████████████| 30/30 [02:30<00:00,  5.01s/it]\n"
     ]
    },
    {
     "data": {
      "image/png": "[encoded data removed]",
      "text/plain": [
       "<Figure size 432x288 with 1 Axes>"
      ]
     },
     "metadata": {
      "needs_background": "light"
     },
     "output_type": "display_data"
    },
    {
     "name": "stdout",
     "output_type": "stream",
     "text": [
      "#################\n",
      "\t Convergence criterion satisfied\n",
      "\t Final objective function value 1.1485811723335245e-06 with # of initializations: 4 \n",
      " \t Total runtime: 1035.6270604133606\n",
      "Starting optimization...\n",
      "100%|███████████████████████████████████████████| 30/30 [11:14<00:00, 22.50s/it]\n"
     ]
    },
    {
     "data": {
      "image/png": "[encoded data removed]",
      "text/plain": [
       "<Figure size 432x288 with 1 Axes>"
      ]
     },
     "metadata": {
      "needs_background": "light"
     },
     "output_type": "display_data"
    },
    {
     "name": "stdout",
     "output_type": "stream",
     "text": [
      "#################\n",
      "\t Convergence criterion satisfied\n",
      "\t Final objective function value 1.2114198504608238e-06 with # of initializations: 1 \n",
      " \t Total runtime: 677.9342319965363\n"
     ]
    }
   ],
   "source": [
    "bsize = 120   # The batch size on which the optimization is started\n",
    "results = []\n",
    "rK = 2\n",
    "for _ in range(1):  \n",
    "    K_t = additional_fns.Kraus_rep(X_t,d,pdim,rK)\n",
    "    K,X,E,rho,res_list = algorithm.run_mGST(y, J, max_l,d,r,rK, n_povm, bsize, meas_samples, method = 'SFN',\n",
    "                         max_inits = 10, max_iter = 180, final_iter = 30, threshold_multiplier = 4, \n",
    "                         target_rel_prec = 1e-4, testing = True)   \n",
    "    K2,X2,E2,rho2,res_list2 = algorithm.run_mGST(y_all,J_all, max_l,d,r,rK, n_povm, bsize, meas_samples, method = 'SFN',\n",
    "                         max_inits = 10, max_iter = 0, final_iter = 30, threshold_multiplier = 1, \n",
    "                         target_rel_prec = 1e-4, init = [K,E,rho], testing = True)   \n",
    "    results.append([K,X,E,rho])"
   ]
  },
  {
   "cell_type": "code",
   "execution_count": 55,
   "id": "d4da3fcc-0b13-4b51-a4ee-331cddf42833",
   "metadata": {},
   "outputs": [
    {
     "name": "stdout",
     "output_type": "stream",
     "text": [
      "Starting optimization...\n",
      "100%|███████████████████████████████████████████| 50/50 [18:40<00:00, 22.41s/it]\n"
     ]
    },
    {
     "data": {
      "image/png": "[encoded data removed]",
      "text/plain": [
       "<Figure size 432x288 with 1 Axes>"
      ]
     },
     "metadata": {
      "needs_background": "light"
     },
     "output_type": "display_data"
    },
    {
     "name": "stdout",
     "output_type": "stream",
     "text": [
      "#################\n",
      "\t Convergence criterion satisfied\n",
      "\t Final objective function value 1.1562095223952007e-06 with # of initializations: 1 \n",
      " \t Total runtime: 1128.3079965114594\n"
     ]
    }
   ],
   "source": [
    "K3,X3,E3,rho3,res_list3 = algorithm.run_mGST(y_all,J_all, max_l,d,r,rK, n_povm, bsize, meas_samples, method = 'SFN',\n",
    "                     max_inits = 10, max_iter = 0, final_iter = 50, threshold_multiplier = 1, \n",
    "                     target_rel_prec = 1e-5, init = [K2,E2,rho2], testing = True)   "
   ]
  },
  {
   "cell_type": "code",
   "execution_count": 53,
   "id": "0bed1ec9-e72b-4bd7-9088-e1696f0d6099",
   "metadata": {},
   "outputs": [
    {
     "data": {
      "text/html": [
       "<style type=\"text/css\">\n",
       "#T_e8efa th.col_heading {\n",
       "  text-align: center;\n",
       "}\n",
       "#T_e8efa th.col_heading.level0 {\n",
       "  font-size: 1em;\n",
       "}\n",
       "#T_e8efa td {\n",
       "  text-align: center;\n",
       "}\n",
       "</style>\n",
       "<table id=\"T_e8efa\">\n",
       "  <thead>\n",
       "    <tr>\n",
       "      <th class=\"blank level0\" >&nbsp;</th>\n",
       "      <th id=\"T_e8efa_level0_col0\" class=\"col_heading level0 col0\" >F_avg</th>\n",
       "      <th id=\"T_e8efa_level0_col1\" class=\"col_heading level0 col1\" >Diamond distances</th>\n",
       "      <th id=\"T_e8efa_level0_col2\" class=\"col_heading level0 col2\" >Min. Spectral distances</th>\n",
       "    </tr>\n",
       "  </thead>\n",
       "  <tbody>\n",
       "    <tr>\n",
       "      <th id=\"T_e8efa_level0_row0\" class=\"row_heading level0 row0\" >Id</th>\n",
       "      <td id=\"T_e8efa_row0_col0\" class=\"data row0 col0\" >0,99767</td>\n",
       "      <td id=\"T_e8efa_row0_col1\" class=\"data row0 col1\" >0,04680</td>\n",
       "      <td id=\"T_e8efa_row0_col2\" class=\"data row0 col2\" >0,04045</td>\n",
       "    </tr>\n",
       "    <tr>\n",
       "      <th id=\"T_e8efa_level0_row1\" class=\"row_heading level0 row1\" >Rx(pi/2)[q0]</th>\n",
       "      <td id=\"T_e8efa_row1_col0\" class=\"data row1 col0\" >0,20003</td>\n",
       "      <td id=\"T_e8efa_row1_col1\" class=\"data row1 col1\" >1,00000</td>\n",
       "      <td id=\"T_e8efa_row1_col2\" class=\"data row1 col2\" >0,04614</td>\n",
       "    </tr>\n",
       "    <tr>\n",
       "      <th id=\"T_e8efa_level0_row2\" class=\"row_heading level0 row2\" >Ry(pi/2)[q0]</th>\n",
       "      <td id=\"T_e8efa_row2_col0\" class=\"data row2 col0\" >0,99787</td>\n",
       "      <td id=\"T_e8efa_row2_col1\" class=\"data row2 col1\" >0,04913</td>\n",
       "      <td id=\"T_e8efa_row2_col2\" class=\"data row2 col2\" >0,03584</td>\n",
       "    </tr>\n",
       "    <tr>\n",
       "      <th id=\"T_e8efa_level0_row3\" class=\"row_heading level0 row3\" >Rx(pi/2)[q1]</th>\n",
       "      <td id=\"T_e8efa_row3_col0\" class=\"data row3 col0\" >0,20013</td>\n",
       "      <td id=\"T_e8efa_row3_col1\" class=\"data row3 col1\" >1,00000</td>\n",
       "      <td id=\"T_e8efa_row3_col2\" class=\"data row3 col2\" >0,02735</td>\n",
       "    </tr>\n",
       "    <tr>\n",
       "      <th id=\"T_e8efa_level0_row4\" class=\"row_heading level0 row4\" >Ry(pi/2)[q1]</th>\n",
       "      <td id=\"T_e8efa_row4_col0\" class=\"data row4 col0\" >0,99827</td>\n",
       "      <td id=\"T_e8efa_row4_col1\" class=\"data row4 col1\" >0,02494</td>\n",
       "      <td id=\"T_e8efa_row4_col2\" class=\"data row4 col2\" >0,01528</td>\n",
       "    </tr>\n",
       "    <tr>\n",
       "      <th id=\"T_e8efa_level0_row5\" class=\"row_heading level0 row5\" >CZ[q0-q1]</th>\n",
       "      <td id=\"T_e8efa_row5_col0\" class=\"data row5 col0\" >0,99733</td>\n",
       "      <td id=\"T_e8efa_row5_col1\" class=\"data row5 col1\" >0,04145</td>\n",
       "      <td id=\"T_e8efa_row5_col2\" class=\"data row5 col2\" >0,03294</td>\n",
       "    </tr>\n",
       "  </tbody>\n",
       "</table>\n"
      ],
      "text/plain": [
       "<pandas.io.formats.style.Styler at 0x7fbe1575c4c0>"
      ]
     },
     "metadata": {},
     "output_type": "display_data"
    },
    {
     "data": {
      "text/html": [
       "<style type=\"text/css\">\n",
       "#T_2aad6 th.col_heading {\n",
       "  text-align: center;\n",
       "}\n",
       "#T_2aad6 th.col_heading.level0 {\n",
       "  font-size: 1em;\n",
       "}\n",
       "#T_2aad6 td {\n",
       "  text-align: center;\n",
       "}\n",
       "</style>\n",
       "<table id=\"T_2aad6\">\n",
       "  <thead>\n",
       "    <tr>\n",
       "      <th class=\"blank level0\" >&nbsp;</th>\n",
       "      <th id=\"T_2aad6_level0_col0\" class=\"col_heading level0 col0\" >Final cost function value</th>\n",
       "      <th id=\"T_2aad6_level0_col1\" class=\"col_heading level0 col1\" >Mean total variation dist. to data</th>\n",
       "      <th id=\"T_2aad6_level0_col2\" class=\"col_heading level0 col2\" >Mean total variation dist. target to data</th>\n",
       "      <th id=\"T_2aad6_level0_col3\" class=\"col_heading level0 col3\" >POVM - Choi map trace distance</th>\n",
       "      <th id=\"T_2aad6_level0_col4\" class=\"col_heading level0 col4\" >State - Trace distance</th>\n",
       "    </tr>\n",
       "  </thead>\n",
       "  <tbody>\n",
       "    <tr>\n",
       "      <th id=\"T_2aad6_level0_row0\" class=\"row_heading level0 row0\" ></th>\n",
       "      <td id=\"T_2aad6_row0_col0\" class=\"data row0 col0\" >0.000001</td>\n",
       "      <td id=\"T_2aad6_row0_col1\" class=\"data row0 col1\" >0.001607</td>\n",
       "      <td id=\"T_2aad6_row0_col2\" class=\"data row0 col2\" >0.047674</td>\n",
       "      <td id=\"T_2aad6_row0_col3\" class=\"data row0 col3\" >0.030794</td>\n",
       "      <td id=\"T_2aad6_row0_col4\" class=\"data row0 col4\" >0.019147</td>\n",
       "    </tr>\n",
       "  </tbody>\n",
       "</table>\n"
      ],
      "text/plain": [
       "<pandas.io.formats.style.Styler at 0x7fbe145ca1d0>"
      ]
     },
     "metadata": {},
     "output_type": "display_data"
    },
    {
     "data": {
      "text/html": [
       "<style type=\"text/css\">\n",
       "#T_0acc9 th.col_heading {\n",
       "  text-align: center;\n",
       "}\n",
       "#T_0acc9 th.col_heading.level0 {\n",
       "  font-size: 1em;\n",
       "}\n",
       "#T_0acc9 td {\n",
       "  text-align: center;\n",
       "}\n",
       "</style>\n",
       "<table id=\"T_0acc9\">\n",
       "  <thead>\n",
       "    <tr>\n",
       "      <th class=\"blank level0\" >&nbsp;</th>\n",
       "      <th id=\"T_0acc9_level0_col0\" class=\"col_heading level0 col0\" >F_avg</th>\n",
       "      <th id=\"T_0acc9_level0_col1\" class=\"col_heading level0 col1\" >Diamond distances</th>\n",
       "      <th id=\"T_0acc9_level0_col2\" class=\"col_heading level0 col2\" >Min. Spectral distances</th>\n",
       "    </tr>\n",
       "  </thead>\n",
       "  <tbody>\n",
       "    <tr>\n",
       "      <th id=\"T_0acc9_level0_row0\" class=\"row_heading level0 row0\" >Id</th>\n",
       "      <td id=\"T_0acc9_row0_col0\" class=\"data row0 col0\" >0,99562</td>\n",
       "      <td id=\"T_0acc9_row0_col1\" class=\"data row0 col1\" >0,07734</td>\n",
       "      <td id=\"T_0acc9_row0_col2\" class=\"data row0 col2\" >0,00089</td>\n",
       "    </tr>\n",
       "    <tr>\n",
       "      <th id=\"T_0acc9_level0_row1\" class=\"row_heading level0 row1\" >Rx(pi/2)[q0]</th>\n",
       "      <td id=\"T_0acc9_row1_col0\" class=\"data row1 col0\" >0,20018</td>\n",
       "      <td id=\"T_0acc9_row1_col1\" class=\"data row1 col1\" >0,99988</td>\n",
       "      <td id=\"T_0acc9_row1_col2\" class=\"data row1 col2\" >0,00091</td>\n",
       "    </tr>\n",
       "    <tr>\n",
       "      <th id=\"T_0acc9_level0_row2\" class=\"row_heading level0 row2\" >Ry(pi/2)[q0]</th>\n",
       "      <td id=\"T_0acc9_row2_col0\" class=\"data row2 col0\" >0,99712</td>\n",
       "      <td id=\"T_0acc9_row2_col1\" class=\"data row2 col1\" >0,05811</td>\n",
       "      <td id=\"T_0acc9_row2_col2\" class=\"data row2 col2\" >0,00096</td>\n",
       "    </tr>\n",
       "    <tr>\n",
       "      <th id=\"T_0acc9_level0_row3\" class=\"row_heading level0 row3\" >Rx(pi/2)[q1]</th>\n",
       "      <td id=\"T_0acc9_row3_col0\" class=\"data row3 col0\" >0,20048</td>\n",
       "      <td id=\"T_0acc9_row3_col1\" class=\"data row3 col1\" >0,99984</td>\n",
       "      <td id=\"T_0acc9_row3_col2\" class=\"data row3 col2\" >0,00104</td>\n",
       "    </tr>\n",
       "    <tr>\n",
       "      <th id=\"T_0acc9_level0_row4\" class=\"row_heading level0 row4\" >Ry(pi/2)[q1]</th>\n",
       "      <td id=\"T_0acc9_row4_col0\" class=\"data row4 col0\" >0,99763</td>\n",
       "      <td id=\"T_0acc9_row4_col1\" class=\"data row4 col1\" >0,04231</td>\n",
       "      <td id=\"T_0acc9_row4_col2\" class=\"data row4 col2\" >0,00157</td>\n",
       "    </tr>\n",
       "    <tr>\n",
       "      <th id=\"T_0acc9_level0_row5\" class=\"row_heading level0 row5\" >CZ[q0-q1]</th>\n",
       "      <td id=\"T_0acc9_row5_col0\" class=\"data row5 col0\" >0,99460</td>\n",
       "      <td id=\"T_0acc9_row5_col1\" class=\"data row5 col1\" >0,08546</td>\n",
       "      <td id=\"T_0acc9_row5_col2\" class=\"data row5 col2\" >0,00175</td>\n",
       "    </tr>\n",
       "  </tbody>\n",
       "</table>\n"
      ],
      "text/plain": [
       "<pandas.io.formats.style.Styler at 0x7fbe383ebd90>"
      ]
     },
     "metadata": {},
     "output_type": "display_data"
    },
    {
     "data": {
      "text/html": [
       "<style type=\"text/css\">\n",
       "#T_6f797 th.col_heading {\n",
       "  text-align: center;\n",
       "}\n",
       "#T_6f797 th.col_heading.level0 {\n",
       "  font-size: 1em;\n",
       "}\n",
       "#T_6f797 td {\n",
       "  text-align: center;\n",
       "}\n",
       "</style>\n",
       "<table id=\"T_6f797\">\n",
       "  <thead>\n",
       "    <tr>\n",
       "      <th class=\"blank level0\" >&nbsp;</th>\n",
       "      <th id=\"T_6f797_level0_col0\" class=\"col_heading level0 col0\" >Final cost function value</th>\n",
       "      <th id=\"T_6f797_level0_col1\" class=\"col_heading level0 col1\" >Mean total variation dist. to data</th>\n",
       "      <th id=\"T_6f797_level0_col2\" class=\"col_heading level0 col2\" >Mean total variation dist. target to data</th>\n",
       "      <th id=\"T_6f797_level0_col3\" class=\"col_heading level0 col3\" >POVM - Choi map trace distance</th>\n",
       "      <th id=\"T_6f797_level0_col4\" class=\"col_heading level0 col4\" >State - Trace distance</th>\n",
       "    </tr>\n",
       "  </thead>\n",
       "  <tbody>\n",
       "    <tr>\n",
       "      <th id=\"T_6f797_level0_row0\" class=\"row_heading level0 row0\" ></th>\n",
       "      <td id=\"T_6f797_row0_col0\" class=\"data row0 col0\" >0.000001</td>\n",
       "      <td id=\"T_6f797_row0_col1\" class=\"data row0 col1\" >0.001607</td>\n",
       "      <td id=\"T_6f797_row0_col2\" class=\"data row0 col2\" >0.001682</td>\n",
       "      <td id=\"T_6f797_row0_col3\" class=\"data row0 col3\" >0.030794</td>\n",
       "      <td id=\"T_6f797_row0_col4\" class=\"data row0 col4\" >0.043697</td>\n",
       "    </tr>\n",
       "  </tbody>\n",
       "</table>\n"
      ],
      "text/plain": [
       "<pandas.io.formats.style.Styler at 0x7fbdfc3b0c70>"
      ]
     },
     "metadata": {},
     "output_type": "display_data"
    },
    {
     "data": {
      "text/plain": [
       "(None, None)"
      ]
     },
     "execution_count": 53,
     "metadata": {},
     "output_type": "execute_result"
    }
   ],
   "source": [
    "K,X,E,rho = results[0][:]\n",
    "\n",
    "weights = {'G0': 1,'G1': 1, 'G2': 1, 'G3': 1, 'G4': 1, 'G5': 1, 'spam': 1, 'rho0': 0}\n",
    "gate_labels = {0: \"Id\", 1: \"Rx(pi/2)[q0]\", 2: \"Ry(pi/2)[q0]\", 3: \"Rx(pi/2)[q1]\", 4: \"Ry(pi/2)[q1]\", 5: \"CZ[q0-q1]\"}\n",
    "\n",
    "X_opt, E_opt, rho_opt = gauge_opt(X, E, rho, target_mdl, weights)\n",
    "df_g, df_o, s_g, s_o = report(X_opt, E_opt, rho_opt, J, y, target_mdl, gate_labels)\n",
    "display(s_g), display(s_o)\n",
    "\n",
    "\n",
    "df_g, df_o, s_g, s_o = report(X_opt, E_opt, rho_opt, J, y, noisy_mdl, gate_labels)\n",
    "display(s_g), display(s_o)\n"
   ]
  },
  {
   "cell_type": "code",
   "execution_count": 54,
   "id": "0cb8ac9e-e9a4-4342-96f0-476793c8e63b",
   "metadata": {},
   "outputs": [
    {
     "data": {
      "text/html": [
       "<style type=\"text/css\">\n",
       "#T_977f6 th.col_heading {\n",
       "  text-align: center;\n",
       "}\n",
       "#T_977f6 th.col_heading.level0 {\n",
       "  font-size: 1em;\n",
       "}\n",
       "#T_977f6 td {\n",
       "  text-align: center;\n",
       "}\n",
       "</style>\n",
       "<table id=\"T_977f6\">\n",
       "  <thead>\n",
       "    <tr>\n",
       "      <th class=\"blank level0\" >&nbsp;</th>\n",
       "      <th id=\"T_977f6_level0_col0\" class=\"col_heading level0 col0\" >F_avg</th>\n",
       "      <th id=\"T_977f6_level0_col1\" class=\"col_heading level0 col1\" >Diamond distances</th>\n",
       "      <th id=\"T_977f6_level0_col2\" class=\"col_heading level0 col2\" >Min. Spectral distances</th>\n",
       "    </tr>\n",
       "  </thead>\n",
       "  <tbody>\n",
       "    <tr>\n",
       "      <th id=\"T_977f6_level0_row0\" class=\"row_heading level0 row0\" >Id</th>\n",
       "      <td id=\"T_977f6_row0_col0\" class=\"data row0 col0\" >0,99825</td>\n",
       "      <td id=\"T_977f6_row0_col1\" class=\"data row0 col1\" >0,04667</td>\n",
       "      <td id=\"T_977f6_row0_col2\" class=\"data row0 col2\" >0,04047</td>\n",
       "    </tr>\n",
       "    <tr>\n",
       "      <th id=\"T_977f6_level0_row1\" class=\"row_heading level0 row1\" >Rx(pi/2)[q0]</th>\n",
       "      <td id=\"T_977f6_row1_col0\" class=\"data row1 col0\" >0,20009</td>\n",
       "      <td id=\"T_977f6_row1_col1\" class=\"data row1 col1\" >1,00000</td>\n",
       "      <td id=\"T_977f6_row1_col2\" class=\"data row1 col2\" >0,04545</td>\n",
       "    </tr>\n",
       "    <tr>\n",
       "      <th id=\"T_977f6_level0_row2\" class=\"row_heading level0 row2\" >Ry(pi/2)[q0]</th>\n",
       "      <td id=\"T_977f6_row2_col0\" class=\"data row2 col0\" >0,99829</td>\n",
       "      <td id=\"T_977f6_row2_col1\" class=\"data row2 col1\" >0,04873</td>\n",
       "      <td id=\"T_977f6_row2_col2\" class=\"data row2 col2\" >0,03540</td>\n",
       "    </tr>\n",
       "    <tr>\n",
       "      <th id=\"T_977f6_level0_row3\" class=\"row_heading level0 row3\" >Rx(pi/2)[q1]</th>\n",
       "      <td id=\"T_977f6_row3_col0\" class=\"data row3 col0\" >0,20010</td>\n",
       "      <td id=\"T_977f6_row3_col1\" class=\"data row3 col1\" >1,00000</td>\n",
       "      <td id=\"T_977f6_row3_col2\" class=\"data row3 col2\" >0,02681</td>\n",
       "    </tr>\n",
       "    <tr>\n",
       "      <th id=\"T_977f6_level0_row4\" class=\"row_heading level0 row4\" >Ry(pi/2)[q1]</th>\n",
       "      <td id=\"T_977f6_row4_col0\" class=\"data row4 col0\" >0,99886</td>\n",
       "      <td id=\"T_977f6_row4_col1\" class=\"data row4 col1\" >0,02460</td>\n",
       "      <td id=\"T_977f6_row4_col2\" class=\"data row4 col2\" >0,01546</td>\n",
       "    </tr>\n",
       "    <tr>\n",
       "      <th id=\"T_977f6_level0_row5\" class=\"row_heading level0 row5\" >CZ[q0-q1]</th>\n",
       "      <td id=\"T_977f6_row5_col0\" class=\"data row5 col0\" >0,99845</td>\n",
       "      <td id=\"T_977f6_row5_col1\" class=\"data row5 col1\" >0,04092</td>\n",
       "      <td id=\"T_977f6_row5_col2\" class=\"data row5 col2\" >0,03221</td>\n",
       "    </tr>\n",
       "  </tbody>\n",
       "</table>\n"
      ],
      "text/plain": [
       "<pandas.io.formats.style.Styler at 0x7fbe3a947ee0>"
      ]
     },
     "metadata": {},
     "output_type": "display_data"
    },
    {
     "data": {
      "text/html": [
       "<style type=\"text/css\">\n",
       "#T_fdf4a th.col_heading {\n",
       "  text-align: center;\n",
       "}\n",
       "#T_fdf4a th.col_heading.level0 {\n",
       "  font-size: 1em;\n",
       "}\n",
       "#T_fdf4a td {\n",
       "  text-align: center;\n",
       "}\n",
       "</style>\n",
       "<table id=\"T_fdf4a\">\n",
       "  <thead>\n",
       "    <tr>\n",
       "      <th class=\"blank level0\" >&nbsp;</th>\n",
       "      <th id=\"T_fdf4a_level0_col0\" class=\"col_heading level0 col0\" >Final cost function value</th>\n",
       "      <th id=\"T_fdf4a_level0_col1\" class=\"col_heading level0 col1\" >Mean total variation dist. to data</th>\n",
       "      <th id=\"T_fdf4a_level0_col2\" class=\"col_heading level0 col2\" >Mean total variation dist. target to data</th>\n",
       "      <th id=\"T_fdf4a_level0_col3\" class=\"col_heading level0 col3\" >POVM - Choi map trace distance</th>\n",
       "      <th id=\"T_fdf4a_level0_col4\" class=\"col_heading level0 col4\" >State - Trace distance</th>\n",
       "    </tr>\n",
       "  </thead>\n",
       "  <tbody>\n",
       "    <tr>\n",
       "      <th id=\"T_fdf4a_level0_row0\" class=\"row_heading level0 row0\" ></th>\n",
       "      <td id=\"T_fdf4a_row0_col0\" class=\"data row0 col0\" >0.000001</td>\n",
       "      <td id=\"T_fdf4a_row0_col1\" class=\"data row0 col1\" >0.001628</td>\n",
       "      <td id=\"T_fdf4a_row0_col2\" class=\"data row0 col2\" >0.047674</td>\n",
       "      <td id=\"T_fdf4a_row0_col3\" class=\"data row0 col3\" >0.031704</td>\n",
       "      <td id=\"T_fdf4a_row0_col4\" class=\"data row0 col4\" >0.018352</td>\n",
       "    </tr>\n",
       "  </tbody>\n",
       "</table>\n"
      ],
      "text/plain": [
       "<pandas.io.formats.style.Styler at 0x7fbdfc1554b0>"
      ]
     },
     "metadata": {},
     "output_type": "display_data"
    },
    {
     "data": {
      "text/html": [
       "<style type=\"text/css\">\n",
       "#T_06b61 th.col_heading {\n",
       "  text-align: center;\n",
       "}\n",
       "#T_06b61 th.col_heading.level0 {\n",
       "  font-size: 1em;\n",
       "}\n",
       "#T_06b61 td {\n",
       "  text-align: center;\n",
       "}\n",
       "</style>\n",
       "<table id=\"T_06b61\">\n",
       "  <thead>\n",
       "    <tr>\n",
       "      <th class=\"blank level0\" >&nbsp;</th>\n",
       "      <th id=\"T_06b61_level0_col0\" class=\"col_heading level0 col0\" >F_avg</th>\n",
       "      <th id=\"T_06b61_level0_col1\" class=\"col_heading level0 col1\" >Diamond distances</th>\n",
       "      <th id=\"T_06b61_level0_col2\" class=\"col_heading level0 col2\" >Min. Spectral distances</th>\n",
       "    </tr>\n",
       "  </thead>\n",
       "  <tbody>\n",
       "    <tr>\n",
       "      <th id=\"T_06b61_level0_row0\" class=\"row_heading level0 row0\" >Id</th>\n",
       "      <td id=\"T_06b61_row0_col0\" class=\"data row0 col0\" >0,99607</td>\n",
       "      <td id=\"T_06b61_row0_col1\" class=\"data row0 col1\" >0,07733</td>\n",
       "      <td id=\"T_06b61_row0_col2\" class=\"data row0 col2\" >0,00046</td>\n",
       "    </tr>\n",
       "    <tr>\n",
       "      <th id=\"T_06b61_level0_row1\" class=\"row_heading level0 row1\" >Rx(pi/2)[q0]</th>\n",
       "      <td id=\"T_06b61_row1_col0\" class=\"data row1 col0\" >0,20030</td>\n",
       "      <td id=\"T_06b61_row1_col1\" class=\"data row1 col1\" >0,99986</td>\n",
       "      <td id=\"T_06b61_row1_col2\" class=\"data row1 col2\" >0,00026</td>\n",
       "    </tr>\n",
       "    <tr>\n",
       "      <th id=\"T_06b61_level0_row2\" class=\"row_heading level0 row2\" >Ry(pi/2)[q0]</th>\n",
       "      <td id=\"T_06b61_row2_col0\" class=\"data row2 col0\" >0,99743</td>\n",
       "      <td id=\"T_06b61_row2_col1\" class=\"data row2 col1\" >0,05770</td>\n",
       "      <td id=\"T_06b61_row2_col2\" class=\"data row2 col2\" >0,00032</td>\n",
       "    </tr>\n",
       "    <tr>\n",
       "      <th id=\"T_06b61_level0_row3\" class=\"row_heading level0 row3\" >Rx(pi/2)[q1]</th>\n",
       "      <td id=\"T_06b61_row3_col0\" class=\"data row3 col0\" >0,20041</td>\n",
       "      <td id=\"T_06b61_row3_col1\" class=\"data row3 col1\" >0,99986</td>\n",
       "      <td id=\"T_06b61_row3_col2\" class=\"data row3 col2\" >0,00044</td>\n",
       "    </tr>\n",
       "    <tr>\n",
       "      <th id=\"T_06b61_level0_row4\" class=\"row_heading level0 row4\" >Ry(pi/2)[q1]</th>\n",
       "      <td id=\"T_06b61_row4_col0\" class=\"data row4 col0\" >0,99809</td>\n",
       "      <td id=\"T_06b61_row4_col1\" class=\"data row4 col1\" >0,04204</td>\n",
       "      <td id=\"T_06b61_row4_col2\" class=\"data row4 col2\" >0,00046</td>\n",
       "    </tr>\n",
       "    <tr>\n",
       "      <th id=\"T_06b61_level0_row5\" class=\"row_heading level0 row5\" >CZ[q0-q1]</th>\n",
       "      <td id=\"T_06b61_row5_col0\" class=\"data row5 col0\" >0,99550</td>\n",
       "      <td id=\"T_06b61_row5_col1\" class=\"data row5 col1\" >0,08460</td>\n",
       "      <td id=\"T_06b61_row5_col2\" class=\"data row5 col2\" >0,00040</td>\n",
       "    </tr>\n",
       "  </tbody>\n",
       "</table>\n"
      ],
      "text/plain": [
       "<pandas.io.formats.style.Styler at 0x7fbdf47466e0>"
      ]
     },
     "metadata": {},
     "output_type": "display_data"
    },
    {
     "data": {
      "text/html": [
       "<style type=\"text/css\">\n",
       "#T_085e8 th.col_heading {\n",
       "  text-align: center;\n",
       "}\n",
       "#T_085e8 th.col_heading.level0 {\n",
       "  font-size: 1em;\n",
       "}\n",
       "#T_085e8 td {\n",
       "  text-align: center;\n",
       "}\n",
       "</style>\n",
       "<table id=\"T_085e8\">\n",
       "  <thead>\n",
       "    <tr>\n",
       "      <th class=\"blank level0\" >&nbsp;</th>\n",
       "      <th id=\"T_085e8_level0_col0\" class=\"col_heading level0 col0\" >Final cost function value</th>\n",
       "      <th id=\"T_085e8_level0_col1\" class=\"col_heading level0 col1\" >Mean total variation dist. to data</th>\n",
       "      <th id=\"T_085e8_level0_col2\" class=\"col_heading level0 col2\" >Mean total variation dist. target to data</th>\n",
       "      <th id=\"T_085e8_level0_col3\" class=\"col_heading level0 col3\" >POVM - Choi map trace distance</th>\n",
       "      <th id=\"T_085e8_level0_col4\" class=\"col_heading level0 col4\" >State - Trace distance</th>\n",
       "    </tr>\n",
       "  </thead>\n",
       "  <tbody>\n",
       "    <tr>\n",
       "      <th id=\"T_085e8_level0_row0\" class=\"row_heading level0 row0\" ></th>\n",
       "      <td id=\"T_085e8_row0_col0\" class=\"data row0 col0\" >0.000001</td>\n",
       "      <td id=\"T_085e8_row0_col1\" class=\"data row0 col1\" >0.001628</td>\n",
       "      <td id=\"T_085e8_row0_col2\" class=\"data row0 col2\" >0.001682</td>\n",
       "      <td id=\"T_085e8_row0_col3\" class=\"data row0 col3\" >0.031704</td>\n",
       "      <td id=\"T_085e8_row0_col4\" class=\"data row0 col4\" >0.043240</td>\n",
       "    </tr>\n",
       "  </tbody>\n",
       "</table>\n"
      ],
      "text/plain": [
       "<pandas.io.formats.style.Styler at 0x7fbe3818a020>"
      ]
     },
     "metadata": {},
     "output_type": "display_data"
    },
    {
     "data": {
      "text/plain": [
       "(None, None)"
      ]
     },
     "execution_count": 54,
     "metadata": {},
     "output_type": "execute_result"
    }
   ],
   "source": [
    "weights = {'G0': 1,'G1': 1, 'G2': 1, 'G3': 1, 'G4': 1, 'G5': 1, 'spam': 1, 'rho0': 0}\n",
    "gate_labels = {0: \"Id\", 1: \"Rx(pi/2)[q0]\", 2: \"Ry(pi/2)[q0]\", 3: \"Rx(pi/2)[q1]\", 4: \"Ry(pi/2)[q1]\", 5: \"CZ[q0-q1]\"}\n",
    "\n",
    "X_opt, E_opt, rho_opt = gauge_opt(X2, E2, rho2, target_mdl, weights)\n",
    "df_g, df_o, s_g, s_o = report(X_opt, E_opt, rho_opt, J, y, target_mdl, gate_labels)\n",
    "display(s_g), display(s_o)\n",
    "\n",
    "\n",
    "df_g, df_o, s_g, s_o = report(X_opt, E_opt, rho_opt, J, y, noisy_mdl, gate_labels)\n",
    "display(s_g), display(s_o)\n"
   ]
  },
  {
   "cell_type": "code",
   "execution_count": 56,
   "id": "2425019d-579f-48c8-b13b-ea0bba2bbab8",
   "metadata": {},
   "outputs": [
    {
     "data": {
      "text/html": [
       "<style type=\"text/css\">\n",
       "#T_33853 th.col_heading {\n",
       "  text-align: center;\n",
       "}\n",
       "#T_33853 th.col_heading.level0 {\n",
       "  font-size: 1em;\n",
       "}\n",
       "#T_33853 td {\n",
       "  text-align: center;\n",
       "}\n",
       "</style>\n",
       "<table id=\"T_33853\">\n",
       "  <thead>\n",
       "    <tr>\n",
       "      <th class=\"blank level0\" >&nbsp;</th>\n",
       "      <th id=\"T_33853_level0_col0\" class=\"col_heading level0 col0\" >F_avg</th>\n",
       "      <th id=\"T_33853_level0_col1\" class=\"col_heading level0 col1\" >Diamond distances</th>\n",
       "      <th id=\"T_33853_level0_col2\" class=\"col_heading level0 col2\" >Min. Spectral distances</th>\n",
       "    </tr>\n",
       "  </thead>\n",
       "  <tbody>\n",
       "    <tr>\n",
       "      <th id=\"T_33853_level0_row0\" class=\"row_heading level0 row0\" >Id</th>\n",
       "      <td id=\"T_33853_row0_col0\" class=\"data row0 col0\" >0,99824</td>\n",
       "      <td id=\"T_33853_row0_col1\" class=\"data row0 col1\" >0,04662</td>\n",
       "      <td id=\"T_33853_row0_col2\" class=\"data row0 col2\" >0,04041</td>\n",
       "    </tr>\n",
       "    <tr>\n",
       "      <th id=\"T_33853_level0_row1\" class=\"row_heading level0 row1\" >Rx(pi/2)[q0]</th>\n",
       "      <td id=\"T_33853_row1_col0\" class=\"data row1 col0\" >0,20020</td>\n",
       "      <td id=\"T_33853_row1_col1\" class=\"data row1 col1\" >1,00000</td>\n",
       "      <td id=\"T_33853_row1_col2\" class=\"data row1 col2\" >0,04548</td>\n",
       "    </tr>\n",
       "    <tr>\n",
       "      <th id=\"T_33853_level0_row2\" class=\"row_heading level0 row2\" >Ry(pi/2)[q0]</th>\n",
       "      <td id=\"T_33853_row2_col0\" class=\"data row2 col0\" >0,99826</td>\n",
       "      <td id=\"T_33853_row2_col1\" class=\"data row2 col1\" >0,04885</td>\n",
       "      <td id=\"T_33853_row2_col2\" class=\"data row2 col2\" >0,03539</td>\n",
       "    </tr>\n",
       "    <tr>\n",
       "      <th id=\"T_33853_level0_row3\" class=\"row_heading level0 row3\" >Rx(pi/2)[q1]</th>\n",
       "      <td id=\"T_33853_row3_col0\" class=\"data row3 col0\" >0,20009</td>\n",
       "      <td id=\"T_33853_row3_col1\" class=\"data row3 col1\" >1,00000</td>\n",
       "      <td id=\"T_33853_row3_col2\" class=\"data row3 col2\" >0,02685</td>\n",
       "    </tr>\n",
       "    <tr>\n",
       "      <th id=\"T_33853_level0_row4\" class=\"row_heading level0 row4\" >Ry(pi/2)[q1]</th>\n",
       "      <td id=\"T_33853_row4_col0\" class=\"data row4 col0\" >0,99889</td>\n",
       "      <td id=\"T_33853_row4_col1\" class=\"data row4 col1\" >0,02462</td>\n",
       "      <td id=\"T_33853_row4_col2\" class=\"data row4 col2\" >0,01546</td>\n",
       "    </tr>\n",
       "    <tr>\n",
       "      <th id=\"T_33853_level0_row5\" class=\"row_heading level0 row5\" >CZ[q0-q1]</th>\n",
       "      <td id=\"T_33853_row5_col0\" class=\"data row5 col0\" >0,99844</td>\n",
       "      <td id=\"T_33853_row5_col1\" class=\"data row5 col1\" >0,04118</td>\n",
       "      <td id=\"T_33853_row5_col2\" class=\"data row5 col2\" >0,03221</td>\n",
       "    </tr>\n",
       "  </tbody>\n",
       "</table>\n"
      ],
      "text/plain": [
       "<pandas.io.formats.style.Styler at 0x7fbe38261420>"
      ]
     },
     "metadata": {},
     "output_type": "display_data"
    },
    {
     "data": {
      "text/html": [
       "<style type=\"text/css\">\n",
       "#T_dba15 th.col_heading {\n",
       "  text-align: center;\n",
       "}\n",
       "#T_dba15 th.col_heading.level0 {\n",
       "  font-size: 1em;\n",
       "}\n",
       "#T_dba15 td {\n",
       "  text-align: center;\n",
       "}\n",
       "</style>\n",
       "<table id=\"T_dba15\">\n",
       "  <thead>\n",
       "    <tr>\n",
       "      <th class=\"blank level0\" >&nbsp;</th>\n",
       "      <th id=\"T_dba15_level0_col0\" class=\"col_heading level0 col0\" >Final cost function value</th>\n",
       "      <th id=\"T_dba15_level0_col1\" class=\"col_heading level0 col1\" >Mean total variation dist. to data</th>\n",
       "      <th id=\"T_dba15_level0_col2\" class=\"col_heading level0 col2\" >Mean total variation dist. target to data</th>\n",
       "      <th id=\"T_dba15_level0_col3\" class=\"col_heading level0 col3\" >POVM - Choi map trace distance</th>\n",
       "      <th id=\"T_dba15_level0_col4\" class=\"col_heading level0 col4\" >State - Trace distance</th>\n",
       "    </tr>\n",
       "  </thead>\n",
       "  <tbody>\n",
       "    <tr>\n",
       "      <th id=\"T_dba15_level0_row0\" class=\"row_heading level0 row0\" ></th>\n",
       "      <td id=\"T_dba15_row0_col0\" class=\"data row0 col0\" >0.000001</td>\n",
       "      <td id=\"T_dba15_row0_col1\" class=\"data row0 col1\" >0.001617</td>\n",
       "      <td id=\"T_dba15_row0_col2\" class=\"data row0 col2\" >0.047674</td>\n",
       "      <td id=\"T_dba15_row0_col3\" class=\"data row0 col3\" >0.031714</td>\n",
       "      <td id=\"T_dba15_row0_col4\" class=\"data row0 col4\" >0.018311</td>\n",
       "    </tr>\n",
       "  </tbody>\n",
       "</table>\n"
      ],
      "text/plain": [
       "<pandas.io.formats.style.Styler at 0x7fbe153ef490>"
      ]
     },
     "metadata": {},
     "output_type": "display_data"
    },
    {
     "data": {
      "text/html": [
       "<style type=\"text/css\">\n",
       "#T_81618 th.col_heading {\n",
       "  text-align: center;\n",
       "}\n",
       "#T_81618 th.col_heading.level0 {\n",
       "  font-size: 1em;\n",
       "}\n",
       "#T_81618 td {\n",
       "  text-align: center;\n",
       "}\n",
       "</style>\n",
       "<table id=\"T_81618\">\n",
       "  <thead>\n",
       "    <tr>\n",
       "      <th class=\"blank level0\" >&nbsp;</th>\n",
       "      <th id=\"T_81618_level0_col0\" class=\"col_heading level0 col0\" >F_avg</th>\n",
       "      <th id=\"T_81618_level0_col1\" class=\"col_heading level0 col1\" >Diamond distances</th>\n",
       "      <th id=\"T_81618_level0_col2\" class=\"col_heading level0 col2\" >Min. Spectral distances</th>\n",
       "    </tr>\n",
       "  </thead>\n",
       "  <tbody>\n",
       "    <tr>\n",
       "      <th id=\"T_81618_level0_row0\" class=\"row_heading level0 row0\" >Id</th>\n",
       "      <td id=\"T_81618_row0_col0\" class=\"data row0 col0\" >0,99606</td>\n",
       "      <td id=\"T_81618_row0_col1\" class=\"data row0 col1\" >0,07735</td>\n",
       "      <td id=\"T_81618_row0_col2\" class=\"data row0 col2\" >0,00047</td>\n",
       "    </tr>\n",
       "    <tr>\n",
       "      <th id=\"T_81618_level0_row1\" class=\"row_heading level0 row1\" >Rx(pi/2)[q0]</th>\n",
       "      <td id=\"T_81618_row1_col0\" class=\"data row1 col0\" >0,20048</td>\n",
       "      <td id=\"T_81618_row1_col1\" class=\"data row1 col1\" >0,99984</td>\n",
       "      <td id=\"T_81618_row1_col2\" class=\"data row1 col2\" >0,00031</td>\n",
       "    </tr>\n",
       "    <tr>\n",
       "      <th id=\"T_81618_level0_row2\" class=\"row_heading level0 row2\" >Ry(pi/2)[q0]</th>\n",
       "      <td id=\"T_81618_row2_col0\" class=\"data row2 col0\" >0,99741</td>\n",
       "      <td id=\"T_81618_row2_col1\" class=\"data row2 col1\" >0,05768</td>\n",
       "      <td id=\"T_81618_row2_col2\" class=\"data row2 col2\" >0,00028</td>\n",
       "    </tr>\n",
       "    <tr>\n",
       "      <th id=\"T_81618_level0_row3\" class=\"row_heading level0 row3\" >Rx(pi/2)[q1]</th>\n",
       "      <td id=\"T_81618_row3_col0\" class=\"data row3 col0\" >0,20038</td>\n",
       "      <td id=\"T_81618_row3_col1\" class=\"data row3 col1\" >0,99986</td>\n",
       "      <td id=\"T_81618_row3_col2\" class=\"data row3 col2\" >0,00045</td>\n",
       "    </tr>\n",
       "    <tr>\n",
       "      <th id=\"T_81618_level0_row4\" class=\"row_heading level0 row4\" >Ry(pi/2)[q1]</th>\n",
       "      <td id=\"T_81618_row4_col0\" class=\"data row4 col0\" >0,99811</td>\n",
       "      <td id=\"T_81618_row4_col1\" class=\"data row4 col1\" >0,04202</td>\n",
       "      <td id=\"T_81618_row4_col2\" class=\"data row4 col2\" >0,00040</td>\n",
       "    </tr>\n",
       "    <tr>\n",
       "      <th id=\"T_81618_level0_row5\" class=\"row_heading level0 row5\" >CZ[q0-q1]</th>\n",
       "      <td id=\"T_81618_row5_col0\" class=\"data row5 col0\" >0,99550</td>\n",
       "      <td id=\"T_81618_row5_col1\" class=\"data row5 col1\" >0,08463</td>\n",
       "      <td id=\"T_81618_row5_col2\" class=\"data row5 col2\" >0,00035</td>\n",
       "    </tr>\n",
       "  </tbody>\n",
       "</table>\n"
      ],
      "text/plain": [
       "<pandas.io.formats.style.Styler at 0x7fbe3a909ae0>"
      ]
     },
     "metadata": {},
     "output_type": "display_data"
    },
    {
     "data": {
      "text/html": [
       "<style type=\"text/css\">\n",
       "#T_23683 th.col_heading {\n",
       "  text-align: center;\n",
       "}\n",
       "#T_23683 th.col_heading.level0 {\n",
       "  font-size: 1em;\n",
       "}\n",
       "#T_23683 td {\n",
       "  text-align: center;\n",
       "}\n",
       "</style>\n",
       "<table id=\"T_23683\">\n",
       "  <thead>\n",
       "    <tr>\n",
       "      <th class=\"blank level0\" >&nbsp;</th>\n",
       "      <th id=\"T_23683_level0_col0\" class=\"col_heading level0 col0\" >Final cost function value</th>\n",
       "      <th id=\"T_23683_level0_col1\" class=\"col_heading level0 col1\" >Mean total variation dist. to data</th>\n",
       "      <th id=\"T_23683_level0_col2\" class=\"col_heading level0 col2\" >Mean total variation dist. target to data</th>\n",
       "      <th id=\"T_23683_level0_col3\" class=\"col_heading level0 col3\" >POVM - Choi map trace distance</th>\n",
       "      <th id=\"T_23683_level0_col4\" class=\"col_heading level0 col4\" >State - Trace distance</th>\n",
       "    </tr>\n",
       "  </thead>\n",
       "  <tbody>\n",
       "    <tr>\n",
       "      <th id=\"T_23683_level0_row0\" class=\"row_heading level0 row0\" ></th>\n",
       "      <td id=\"T_23683_row0_col0\" class=\"data row0 col0\" >0.000001</td>\n",
       "      <td id=\"T_23683_row0_col1\" class=\"data row0 col1\" >0.001617</td>\n",
       "      <td id=\"T_23683_row0_col2\" class=\"data row0 col2\" >0.001682</td>\n",
       "      <td id=\"T_23683_row0_col3\" class=\"data row0 col3\" >0.031714</td>\n",
       "      <td id=\"T_23683_row0_col4\" class=\"data row0 col4\" >0.043217</td>\n",
       "    </tr>\n",
       "  </tbody>\n",
       "</table>\n"
      ],
      "text/plain": [
       "<pandas.io.formats.style.Styler at 0x7fbdf457bfd0>"
      ]
     },
     "metadata": {},
     "output_type": "display_data"
    },
    {
     "data": {
      "text/plain": [
       "(None, None)"
      ]
     },
     "execution_count": 56,
     "metadata": {},
     "output_type": "execute_result"
    }
   ],
   "source": [
    "weights = {'G0': 1,'G1': 1, 'G2': 1, 'G3': 1, 'G4': 1, 'G5': 1, 'spam': 1, 'rho0': 0}\n",
    "gate_labels = {0: \"Id\", 1: \"Rx(pi/2)[q0]\", 2: \"Ry(pi/2)[q0]\", 3: \"Rx(pi/2)[q1]\", 4: \"Ry(pi/2)[q1]\", 5: \"CZ[q0-q1]\"}\n",
    "\n",
    "X_opt, E_opt, rho_opt = gauge_opt(X3, E3, rho3, target_mdl, weights)\n",
    "df_g, df_o, s_g, s_o = report(X_opt, E_opt, rho_opt, J, y, target_mdl, gate_labels)\n",
    "display(s_g), display(s_o)\n",
    "\n",
    "\n",
    "df_g, df_o, s_g, s_o = report(X_opt, E_opt, rho_opt, J, y, noisy_mdl, gate_labels)\n",
    "display(s_g), display(s_o)\n"
   ]
  }
 ],
 "metadata": {
  "kernelspec": {
   "display_name": "Python 3 (ipykernel)",
   "language": "python",
   "name": "python3"
  },
  "language_info": {
   "codemirror_mode": {
    "name": "ipython",
    "version": 3
   },
   "file_extension": ".py",
   "mimetype": "text/x-python",
   "name": "python",
   "nbconvert_exporter": "python",
   "pygments_lexer": "ipython3",
   "version": "3.10.6"
  }
 },
 "nbformat": 4,
 "nbformat_minor": 5
}
