{
 "cells": [
  {
   "cell_type": "markdown",
   "id": "19498ba6-106b-4ef2-b798-ca7d0a6fce8a",
   "metadata": {
    "tags": []
   },
   "source": [
    "# Single qubit GST on the 5 qubit chip (Data from 3.5.2023)"
   ]
  },
  {
   "cell_type": "code",
   "execution_count": 1,
   "id": "2fad699e-1bfe-4b66-9a11-1a9f9697f627",
   "metadata": {},
   "outputs": [],
   "source": [
    "# Note: I removed the mGST folders from within the qibocal fork, such that it is installed and updated seperately\n",
    "from mGST import compatibility,algorithm, optimization, low_level_jit, additional_fns"
   ]
  },
  {
   "cell_type": "code",
   "execution_count": 12,
   "id": "6e58b942-2370-4d00-a8f0-88704b080a55",
   "metadata": {},
   "outputs": [],
   "source": [
    "import pickle as pickle\n",
    "from pygsti.report import reportables as rptbl #Needs cvxpy!\n",
    "import pygsti\n",
    "from argparse import Namespace\n",
    "import numpy as np\n",
    "import pandas as pd\n",
    "import numpy.linalg as la\n",
    "import json\n",
    "import matplotlib.pyplot as plt\n",
    "from pygsti.modelpacks import smq2Q_XYICNOT as std\n",
    "\n",
    "%run ../src/mGST/reporting.py"
   ]
  },
  {
   "cell_type": "markdown",
   "id": "8aa5d0c5-5f45-41ba-9309-b5055901f76d",
   "metadata": {},
   "source": [
    "### Setting the parameters"
   ]
  },
  {
   "cell_type": "code",
   "execution_count": 3,
   "id": "bc5a4c05-f8c4-46cd-ad54-4fc6a2544e66",
   "metadata": {},
   "outputs": [],
   "source": [
    "pdim = 4   # physical dimension\n",
    "r = pdim**2   # rank of the gate superoperators \n",
    "\n",
    "max_l = 10  # maximum number of gates in each measurement sequence\n",
    "n_povm = 4   # number of POVM-elements\n"
   ]
  },
  {
   "cell_type": "markdown",
   "id": "a9d466a3-c184-4647-a735-3882ed478720",
   "metadata": {},
   "source": [
    "### Loading data"
   ]
  },
  {
   "cell_type": "code",
   "execution_count": 4,
   "id": "d4029d3f-3387-47eb-ad47-654e09c4a8e1",
   "metadata": {},
   "outputs": [],
   "source": [
    "with open('data/20230504-1132_cgst_depth_5.json') as f:\n",
    "    data = json.load(f)\n",
    "N = data['nsequences']\n",
    "l = data['depth']\n",
    "J5 = np.array([list(np.pad(data['measurements'][i]['circuit'],(0,max_l-l),'constant',constant_values=-1)) for i in range(N)])\n",
    "y5 = np.array([[data['measurements'][i]['hardware_probabilities'][basis_str] for i in range(N)] for basis_str in ['00','01','10','11']])\n",
    "\n",
    "with open('data/20230504-1132_cgst_depth_7.json') as f:\n",
    "    data = json.load(f)\n",
    "N = data['nsequences']\n",
    "l = data['depth']\n",
    "J7 = np.array([list(np.pad(data['measurements'][i]['circuit'],(0,max_l-l),'constant',constant_values=-1)) for i in range(N)])\n",
    "y7 = np.array([[data['measurements'][i]['hardware_probabilities'][basis_str] for i in range(N)] for basis_str in ['00','01','10','11']])\n",
    "\n",
    "with open('data/20230504-1132_cgst_depth_10.json') as f:\n",
    "    data = json.load(f)\n",
    "N = data['nsequences']\n",
    "l = data['depth']\n",
    "J10 = np.array([list(np.pad(data['measurements'][i]['circuit'],(0,max_l-l),'constant',constant_values=-1)) for i in range(N)])\n",
    "y10 = np.array([[data['measurements'][i]['hardware_probabilities'][basis_str] for i in range(N)] for basis_str in ['00','01','10','11']])\n",
    "\n",
    "J57 = np.concatenate((J5,J7), axis = 0)\n",
    "y57 = np.concatenate((y5,y7), axis = 1)\n",
    "\n",
    "J_all = np.concatenate((J57,J10), axis = 0)\n",
    "y_all = np.concatenate((y57,y10), axis = 1)\n",
    "\n",
    "meas_samples = data['nshots']\n",
    "d = 6"
   ]
  },
  {
   "cell_type": "code",
   "execution_count": 5,
   "id": "3e073e1d-7a19-4656-98aa-caa4b58607a2",
   "metadata": {},
   "outputs": [],
   "source": [
    "CZ = np.array([[1,0,0,0],[0,1,0,0],[0,0,1,0],[0,0,0,-1]])\n",
    "CZ_gate = np.kron(CZ,CZ)\n",
    "X_t,E_t,rho_t = compatibility.pygsti_model_to_arrays(std.target_model(),basis = 'std') #Import XYICNOT model from pygsti\n",
    "X_t[[1,2,3,4],:,:] = X_t[[3,4,1,2],:,:] #swap gate ordering for consistency\n",
    "X_t[5] = CZ_gate\n",
    "target_mdl = compatibility.arrays_to_pygsti_model(X_t,E_t,rho_t, basis = 'std') #Save new model with CZ instead of CNOT"
   ]
  },
  {
   "cell_type": "markdown",
   "id": "35724025-9e20-4876-aaf1-895a7c644f92",
   "metadata": {},
   "source": [
    "### GST"
   ]
  },
  {
   "cell_type": "code",
   "execution_count": 6,
   "id": "a05bc45f-d1dc-48b7-a20d-c0914b6cfc46",
   "metadata": {},
   "outputs": [],
   "source": [
    "%run /home/raphael/Desktop/rGST/src/rGST/algorithm_mle"
   ]
  },
  {
   "cell_type": "code",
   "execution_count": null,
   "id": "117a49d5-ad10-4e3e-b788-dc0770f36081",
   "metadata": {
    "tags": []
   },
   "outputs": [],
   "source": [
    "bsize = 120   # The batch size on which the optimization is started\n",
    "results = []\n",
    "for rK in [1]:  \n",
    "    K_t = additional_fns.Kraus_rep(X_t,d,pdim,rK)\n",
    "    # K,X,E,rho,res_list = algorithm.run_mGST(y_all,J_all,max_l,d,r,rK, n_povm, bsize, meas_samples, method = 'GD',\n",
    "    #                      max_inits = 10, max_iter = 200, final_iter = 100, threshold_multiplyer = 100, \n",
    "    #                      target_rel_prec = 1e-4, init = [K_t, E_t, rho_t], testing = True)   \n",
    "    K,X,E,rho,res_list = algorithm.run_mGST(y_all,J_all,max_l,d,r,rK, n_povm, bsize, meas_samples, method = 'SFN',\n",
    "                         max_inits = 10, max_iter = 0, final_iter = 40, threshold_multiplyer = 100, \n",
    "                         target_rel_prec = 1e-4, init = [K_t, E_t, rho_t], testing = True)   \n",
    "    results.append([K,X,E,rho])"
   ]
  },
  {
   "cell_type": "code",
   "execution_count": 86,
   "id": "052f02c9-7d3b-4b43-92cc-76dfe840f85b",
   "metadata": {},
   "outputs": [],
   "source": [
    "# ###################################### \n",
    "# filename = 'ranks_1_from_init_mle'\n",
    "# parameters = {'sequence length':l,'gate count':d,'Kraus ranks':[1],'phys. dimension':int(np.sqrt(r)), 'Sequence count': N, \n",
    "#               'J':J_all,'y':y_all,'threshold_multiplyer': 30, \n",
    "#                      'target_rel_prec':1e-4}\n",
    "# data_to_safe = {'parameters':parameters, 'results':results}\n",
    "\n",
    "# with open(filename, 'wb') as handle:\n",
    "#     pickle.dump(data_to_safe, handle, protocol=pickle.HIGHEST_PROTOCOL)"
   ]
  },
  {
   "cell_type": "markdown",
   "id": "cb9ba87a-9782-4470-94c0-6885f80a4138",
   "metadata": {
    "tags": []
   },
   "source": [
    "# Analysis"
   ]
  },
  {
   "cell_type": "markdown",
   "id": "ab193788-54c0-410d-bb08-b38c59043d31",
   "metadata": {},
   "source": [
    "### Full rank"
   ]
  },
  {
   "cell_type": "code",
   "execution_count": 8,
   "id": "ffd95a99-333f-46ef-9480-f530ff4f445e",
   "metadata": {},
   "outputs": [],
   "source": [
    "with open(\"ranks_16_from_init\", 'rb') as handle:\n",
    "    b = pickle.load(handle)\n",
    "results = b['results']"
   ]
  },
  {
   "cell_type": "code",
   "execution_count": 9,
   "id": "a6f3781a-4e6a-47b9-8921-5a89b3b80b3d",
   "metadata": {},
   "outputs": [
    {
     "data": {
      "text/html": [
       "<style type=\"text/css\">\n",
       "#T_5619e th.col_heading {\n",
       "  text-align: center;\n",
       "}\n",
       "#T_5619e th.col_heading.level0 {\n",
       "  font-size: 1em;\n",
       "}\n",
       "#T_5619e td {\n",
       "  text-align: center;\n",
       "}\n",
       "</style>\n",
       "<table id=\"T_5619e\">\n",
       "  <thead>\n",
       "    <tr>\n",
       "      <th class=\"blank level0\" >&nbsp;</th>\n",
       "      <th id=\"T_5619e_level0_col0\" class=\"col_heading level0 col0\" >F_avg</th>\n",
       "      <th id=\"T_5619e_level0_col1\" class=\"col_heading level0 col1\" >Diamond distances</th>\n",
       "    </tr>\n",
       "  </thead>\n",
       "  <tbody>\n",
       "    <tr>\n",
       "      <th id=\"T_5619e_level0_row0\" class=\"row_heading level0 row0\" >Id</th>\n",
       "      <td id=\"T_5619e_row0_col0\" class=\"data row0 col0\" >0,99985</td>\n",
       "      <td id=\"T_5619e_row0_col1\" class=\"data row0 col1\" >0,01413</td>\n",
       "    </tr>\n",
       "    <tr>\n",
       "      <th id=\"T_5619e_level0_row1\" class=\"row_heading level0 row1\" >Rx(pi/2)[q0]</th>\n",
       "      <td id=\"T_5619e_row1_col0\" class=\"data row1 col0\" >0,99280</td>\n",
       "      <td id=\"T_5619e_row1_col1\" class=\"data row1 col1\" >0,07295</td>\n",
       "    </tr>\n",
       "    <tr>\n",
       "      <th id=\"T_5619e_level0_row2\" class=\"row_heading level0 row2\" >Ry(pi/2)[q0]</th>\n",
       "      <td id=\"T_5619e_row2_col0\" class=\"data row2 col0\" >0,99327</td>\n",
       "      <td id=\"T_5619e_row2_col1\" class=\"data row2 col1\" >0,06827</td>\n",
       "    </tr>\n",
       "    <tr>\n",
       "      <th id=\"T_5619e_level0_row3\" class=\"row_heading level0 row3\" >Rx(pi/2)[q1]</th>\n",
       "      <td id=\"T_5619e_row3_col0\" class=\"data row3 col0\" >0,96335</td>\n",
       "      <td id=\"T_5619e_row3_col1\" class=\"data row3 col1\" >0,16810</td>\n",
       "    </tr>\n",
       "    <tr>\n",
       "      <th id=\"T_5619e_level0_row4\" class=\"row_heading level0 row4\" >Ry(pi/2)[q1]</th>\n",
       "      <td id=\"T_5619e_row4_col0\" class=\"data row4 col0\" >0,96233</td>\n",
       "      <td id=\"T_5619e_row4_col1\" class=\"data row4 col1\" >0,13692</td>\n",
       "    </tr>\n",
       "    <tr>\n",
       "      <th id=\"T_5619e_level0_row5\" class=\"row_heading level0 row5\" >CNOT[q0-q1]</th>\n",
       "      <td id=\"T_5619e_row5_col0\" class=\"data row5 col0\" >0,37913</td>\n",
       "      <td id=\"T_5619e_row5_col1\" class=\"data row5 col1\" >0,97309</td>\n",
       "    </tr>\n",
       "  </tbody>\n",
       "</table>\n"
      ],
      "text/plain": [
       "<pandas.io.formats.style.Styler at 0x7fbb841d30a0>"
      ]
     },
     "metadata": {},
     "output_type": "display_data"
    },
    {
     "data": {
      "text/html": [
       "<style type=\"text/css\">\n",
       "#T_f5325 th.col_heading {\n",
       "  text-align: center;\n",
       "}\n",
       "#T_f5325 th.col_heading.level0 {\n",
       "  font-size: 1em;\n",
       "}\n",
       "#T_f5325 td {\n",
       "  text-align: center;\n",
       "}\n",
       "</style>\n",
       "<table id=\"T_f5325\">\n",
       "  <thead>\n",
       "    <tr>\n",
       "      <th class=\"blank level0\" >&nbsp;</th>\n",
       "      <th id=\"T_f5325_level0_col0\" class=\"col_heading level0 col0\" >Final cost function value</th>\n",
       "      <th id=\"T_f5325_level0_col1\" class=\"col_heading level0 col1\" >Mean total variation dist. to data</th>\n",
       "      <th id=\"T_f5325_level0_col2\" class=\"col_heading level0 col2\" >Mean total variation dist. target to data</th>\n",
       "      <th id=\"T_f5325_level0_col3\" class=\"col_heading level0 col3\" >POVM - Choi map trace distance</th>\n",
       "      <th id=\"T_f5325_level0_col4\" class=\"col_heading level0 col4\" >State - Trace distance</th>\n",
       "    </tr>\n",
       "  </thead>\n",
       "  <tbody>\n",
       "    <tr>\n",
       "      <th id=\"T_f5325_level0_row0\" class=\"row_heading level0 row0\" ></th>\n",
       "      <td id=\"T_f5325_row0_col0\" class=\"data row0 col0\" >0.004028</td>\n",
       "      <td id=\"T_f5325_row0_col1\" class=\"data row0 col1\" >0.080832</td>\n",
       "      <td id=\"T_f5325_row0_col2\" class=\"data row0 col2\" >0.221379</td>\n",
       "      <td id=\"T_f5325_row0_col3\" class=\"data row0 col3\" >0.112840</td>\n",
       "      <td id=\"T_f5325_row0_col4\" class=\"data row0 col4\" >0.081675</td>\n",
       "    </tr>\n",
       "  </tbody>\n",
       "</table>\n"
      ],
      "text/plain": [
       "<pandas.io.formats.style.Styler at 0x7fbb8449e730>"
      ]
     },
     "metadata": {},
     "output_type": "display_data"
    },
    {
     "data": {
      "text/plain": [
       "(None, None)"
      ]
     },
     "execution_count": 9,
     "metadata": {},
     "output_type": "execute_result"
    }
   ],
   "source": [
    "K,X,E,rho = results[0][:]\n",
    "\n",
    "weights = {'G0': 1,'G1': 1, 'G2': 1, 'G3': 1, 'G4': 1, 'G5': 1, 'spam': 1}\n",
    "gate_labels = {0: \"Id\", 1: \"Rx(pi/2)[q0]\", 2: \"Ry(pi/2)[q0]\", 3: \"Rx(pi/2)[q1]\", 4: \"Ry(pi/2)[q1]\", 5: \"CNOT[q0-q1]\"}\n",
    "\n",
    "X_opt, E_opt, rho_opt = gauge_opt(X, E, rho, target_mdl, weights)\n",
    "df_g, df_o, s_g, s_o = report(X_opt, E_opt, rho_opt, J_all, y_all, target_mdl, gate_labels)\n",
    "\n",
    "display(s_g), display(s_o)"
   ]
  },
  {
   "cell_type": "code",
   "execution_count": 16,
   "id": "6b669864-5771-4e3c-8454-13ed977bbdf9",
   "metadata": {},
   "outputs": [
    {
     "data": {
      "image/png": "[encoded data removed]",
      "text/plain": [
       "<Figure size 767.432x314.182 with 3 Axes>"
      ]
     },
     "metadata": {
      "needs_background": "light"
     },
     "output_type": "display_data"
    },
    {
     "data": {
      "image/png": "[encoded data removed]",
      "text/plain": [
       "<Figure size 432x288 with 6 Axes>"
      ]
     },
     "metadata": {
      "needs_background": "light"
     },
     "output_type": "display_data"
    }
   ],
   "source": [
    "gate_index = 5\n",
    "\n",
    "X_opt_pp, E_opt_pp, rho_opt_pp = compatibility.std2pp(X_opt,E_opt,rho_opt)\n",
    "X_t_pp, E_t_pp, rho_t_pp = compatibility.pygsti_model_to_arrays(target_mdl,basis = 'pp')\n",
    "\n",
    "\n",
    "plot_mat(X_opt[gate_index], X_t[gate_index])\n",
    "plot_spam(rho_opt_pp, E_opt_pp)"
   ]
  },
  {
   "cell_type": "code",
   "execution_count": 11,
   "id": "9ea44797-00df-4202-ad47-e641b9df0558",
   "metadata": {},
   "outputs": [
    {
     "name": "stdout",
     "output_type": "stream",
     "text": [
      "Assignment fidelity for ideal basis state 0: 0.7869247556121024\n"
     ]
    },
    {
     "data": {
      "image/png": "[encoded data removed]",
      "text/plain": [
       "<Figure size 432x288 with 1 Axes>"
      ]
     },
     "metadata": {
      "needs_background": "light"
     },
     "output_type": "display_data"
    },
    {
     "name": "stdout",
     "output_type": "stream",
     "text": [
      "Assignment fidelity for ideal basis state 1: 0.9387900813018228\n"
     ]
    },
    {
     "data": {
      "image/png": "[encoded data removed]",
      "text/plain": [
       "<Figure size 432x288 with 1 Axes>"
      ]
     },
     "metadata": {
      "needs_background": "light"
     },
     "output_type": "display_data"
    },
    {
     "name": "stdout",
     "output_type": "stream",
     "text": [
      "Assignment fidelity for ideal basis state 2: 0.5851680399223098\n"
     ]
    },
    {
     "data": {
      "image/png": "[encoded data removed]",
      "text/plain": [
       "<Figure size 432x288 with 1 Axes>"
      ]
     },
     "metadata": {
      "needs_background": "light"
     },
     "output_type": "display_data"
    },
    {
     "name": "stdout",
     "output_type": "stream",
     "text": [
      "Assignment fidelity for ideal basis state 3: 0.673848099928426\n"
     ]
    },
    {
     "data": {
      "image/png": "[encoded data removed]",
      "text/plain": [
       "<Figure size 432x288 with 1 Axes>"
      ]
     },
     "metadata": {
      "needs_background": "light"
     },
     "output_type": "display_data"
    }
   ],
   "source": [
    "for i in range(4):\n",
    "    print(\"Assignment fidelity for ideal basis state %i:\"%i, np.abs(E_opt.reshape(4,4,4)[i,i,i])**2)\n",
    "    plt.imshow(np.abs(E_opt.reshape(4,4,4)[i,:,:]), vmin = -1, vmax = 1)\n",
    "    plt.show()"
   ]
  },
  {
   "cell_type": "code",
   "execution_count": 17,
   "id": "708028c8-73b4-46b9-98ba-4282990154c5",
   "metadata": {},
   "outputs": [
    {
     "data": {
      "text/plain": [
       "[<matplotlib.lines.Line2D at 0x7fbb47d42190>]"
      ]
     },
     "execution_count": 17,
     "metadata": {},
     "output_type": "execute_result"
    },
    {
     "data": {
      "image/png": "[encoded data removed]",
      "text/plain": [
       "<Figure size 432x288 with 1 Axes>"
      ]
     },
     "metadata": {
      "needs_background": "light"
     },
     "output_type": "display_data"
    }
   ],
   "source": [
    "# Spectrum of the Choi matrix\n",
    "X_choi = X_opt.reshape(d,pdim,pdim,pdim,pdim)\n",
    "X_choi = np.einsum('ijklm->iljmk',X_choi).reshape(d,pdim**2,pdim**2)\n",
    "plt.plot(np.sort(np.abs(la.eig(X_choi[5])[0]))[::-1])"
   ]
  },
  {
   "cell_type": "code",
   "execution_count": 18,
   "id": "b56d595a-8faa-49a7-a956-04e08dc965ad",
   "metadata": {},
   "outputs": [
    {
     "name": "stdout",
     "output_type": "stream",
     "text": [
      "0.012591550652701854\n"
     ]
    }
   ],
   "source": [
    "from qiskit.quantum_info import entanglement_of_formation\n",
    "\n",
    "plus_plus = np.outer(np.array([1,1,1,1])/2,np.array([1,1,1,1])/2).reshape(-1)\n",
    "\n",
    "print(entanglement_of_formation((X_opt[5]@plus_plus).reshape(4,4)))"
   ]
  },
  {
   "cell_type": "markdown",
   "id": "33d69b4f-7495-4b56-9aaf-19d888d36110",
   "metadata": {},
   "source": [
    "### Rank 4"
   ]
  },
  {
   "cell_type": "code",
   "execution_count": 19,
   "id": "67345272-3fe7-4b6b-bf90-664bad754f8b",
   "metadata": {},
   "outputs": [],
   "source": [
    "with open(\"ranks_4_from_init\", 'rb') as handle:\n",
    "    b = pickle.load(handle)\n",
    "results = b['results']"
   ]
  },
  {
   "cell_type": "code",
   "execution_count": 20,
   "id": "f6bf4f81-6d17-45c3-8328-ff09e9cf2ad8",
   "metadata": {},
   "outputs": [
    {
     "data": {
      "text/html": [
       "<style type=\"text/css\">\n",
       "#T_e0ff6 th.col_heading {\n",
       "  text-align: center;\n",
       "}\n",
       "#T_e0ff6 th.col_heading.level0 {\n",
       "  font-size: 1em;\n",
       "}\n",
       "#T_e0ff6 td {\n",
       "  text-align: center;\n",
       "}\n",
       "</style>\n",
       "<table id=\"T_e0ff6\">\n",
       "  <thead>\n",
       "    <tr>\n",
       "      <th class=\"blank level0\" >&nbsp;</th>\n",
       "      <th id=\"T_e0ff6_level0_col0\" class=\"col_heading level0 col0\" >F_avg</th>\n",
       "      <th id=\"T_e0ff6_level0_col1\" class=\"col_heading level0 col1\" >Diamond distances</th>\n",
       "    </tr>\n",
       "  </thead>\n",
       "  <tbody>\n",
       "    <tr>\n",
       "      <th id=\"T_e0ff6_level0_row0\" class=\"row_heading level0 row0\" >Id</th>\n",
       "      <td id=\"T_e0ff6_row0_col0\" class=\"data row0 col0\" >0,98466</td>\n",
       "      <td id=\"T_e0ff6_row0_col1\" class=\"data row0 col1\" >0,04937</td>\n",
       "    </tr>\n",
       "    <tr>\n",
       "      <th id=\"T_e0ff6_level0_row1\" class=\"row_heading level0 row1\" >Rx(pi/2)[q0]</th>\n",
       "      <td id=\"T_e0ff6_row1_col0\" class=\"data row1 col0\" >0,97724</td>\n",
       "      <td id=\"T_e0ff6_row1_col1\" class=\"data row1 col1\" >0,08978</td>\n",
       "    </tr>\n",
       "    <tr>\n",
       "      <th id=\"T_e0ff6_level0_row2\" class=\"row_heading level0 row2\" >Ry(pi/2)[q0]</th>\n",
       "      <td id=\"T_e0ff6_row2_col0\" class=\"data row2 col0\" >0,97419</td>\n",
       "      <td id=\"T_e0ff6_row2_col1\" class=\"data row2 col1\" >0,09854</td>\n",
       "    </tr>\n",
       "    <tr>\n",
       "      <th id=\"T_e0ff6_level0_row3\" class=\"row_heading level0 row3\" >Rx(pi/2)[q1]</th>\n",
       "      <td id=\"T_e0ff6_row3_col0\" class=\"data row3 col0\" >0,94845</td>\n",
       "      <td id=\"T_e0ff6_row3_col1\" class=\"data row3 col1\" >0,16368</td>\n",
       "    </tr>\n",
       "    <tr>\n",
       "      <th id=\"T_e0ff6_level0_row4\" class=\"row_heading level0 row4\" >Ry(pi/2)[q1]</th>\n",
       "      <td id=\"T_e0ff6_row4_col0\" class=\"data row4 col0\" >0,95050</td>\n",
       "      <td id=\"T_e0ff6_row4_col1\" class=\"data row4 col1\" >0,14989</td>\n",
       "    </tr>\n",
       "    <tr>\n",
       "      <th id=\"T_e0ff6_level0_row5\" class=\"row_heading level0 row5\" >CNOT[q0-q1]</th>\n",
       "      <td id=\"T_e0ff6_row5_col0\" class=\"data row5 col0\" >0,37837</td>\n",
       "      <td id=\"T_e0ff6_row5_col1\" class=\"data row5 col1\" >0,94874</td>\n",
       "    </tr>\n",
       "  </tbody>\n",
       "</table>\n"
      ],
      "text/plain": [
       "<pandas.io.formats.style.Styler at 0x7fbb43daa100>"
      ]
     },
     "metadata": {},
     "output_type": "display_data"
    },
    {
     "data": {
      "text/html": [
       "<style type=\"text/css\">\n",
       "#T_658a5 th.col_heading {\n",
       "  text-align: center;\n",
       "}\n",
       "#T_658a5 th.col_heading.level0 {\n",
       "  font-size: 1em;\n",
       "}\n",
       "#T_658a5 td {\n",
       "  text-align: center;\n",
       "}\n",
       "</style>\n",
       "<table id=\"T_658a5\">\n",
       "  <thead>\n",
       "    <tr>\n",
       "      <th class=\"blank level0\" >&nbsp;</th>\n",
       "      <th id=\"T_658a5_level0_col0\" class=\"col_heading level0 col0\" >Final cost function value</th>\n",
       "      <th id=\"T_658a5_level0_col1\" class=\"col_heading level0 col1\" >Mean total variation dist. to data</th>\n",
       "      <th id=\"T_658a5_level0_col2\" class=\"col_heading level0 col2\" >Mean total variation dist. target to data</th>\n",
       "      <th id=\"T_658a5_level0_col3\" class=\"col_heading level0 col3\" >POVM - Choi map trace distance</th>\n",
       "      <th id=\"T_658a5_level0_col4\" class=\"col_heading level0 col4\" >State - Trace distance</th>\n",
       "    </tr>\n",
       "  </thead>\n",
       "  <tbody>\n",
       "    <tr>\n",
       "      <th id=\"T_658a5_level0_row0\" class=\"row_heading level0 row0\" ></th>\n",
       "      <td id=\"T_658a5_row0_col0\" class=\"data row0 col0\" >0.003927</td>\n",
       "      <td id=\"T_658a5_row0_col1\" class=\"data row0 col1\" >0.079855</td>\n",
       "      <td id=\"T_658a5_row0_col2\" class=\"data row0 col2\" >0.221379</td>\n",
       "      <td id=\"T_658a5_row0_col3\" class=\"data row0 col3\" >0.699667</td>\n",
       "      <td id=\"T_658a5_row0_col4\" class=\"data row0 col4\" >0.997707</td>\n",
       "    </tr>\n",
       "  </tbody>\n",
       "</table>\n"
      ],
      "text/plain": [
       "<pandas.io.formats.style.Styler at 0x7fbb43dc1130>"
      ]
     },
     "metadata": {},
     "output_type": "display_data"
    },
    {
     "data": {
      "text/plain": [
       "(None, None)"
      ]
     },
     "execution_count": 20,
     "metadata": {},
     "output_type": "execute_result"
    }
   ],
   "source": [
    "K,X,E,rho = results[0][:]\n",
    "\n",
    "weights = {'G0': 1,'G1': 1, 'G2': 1, 'G3': 1, 'G4': 1, 'G5': 1, 'spam': 1}\n",
    "gate_labels = {0: \"Id\", 1: \"Rx(pi/2)[q0]\", 2: \"Ry(pi/2)[q0]\", 3: \"Rx(pi/2)[q1]\", 4: \"Ry(pi/2)[q1]\", 5: \"CNOT[q0-q1]\"}\n",
    "\n",
    "X_opt, E_opt, rho_opt = gauge_opt(X, E, rho, target_mdl, weights)\n",
    "df_g, df_o, s_g, s_o = report(X_opt, E_opt, rho_opt, J_all, y_all, target_mdl, gate_labels)\n",
    "\n",
    "display(s_g), display(s_o)"
   ]
  },
  {
   "cell_type": "markdown",
   "id": "64886561-ff19-41f4-ac38-eefb4a7a6c98",
   "metadata": {},
   "source": [
    "### Rank 1"
   ]
  },
  {
   "cell_type": "code",
   "execution_count": 21,
   "id": "f143ff30-90b1-4e5e-b224-e12c364e78ef",
   "metadata": {},
   "outputs": [],
   "source": [
    "with open(\"ranks_1_from_init\", 'rb') as handle:\n",
    "    b = pickle.load(handle)\n",
    "results = b['results']"
   ]
  },
  {
   "cell_type": "code",
   "execution_count": 22,
   "id": "caed2da6-7736-43b6-a946-15e49dc82c59",
   "metadata": {},
   "outputs": [
    {
     "data": {
      "text/html": [
       "<style type=\"text/css\">\n",
       "#T_495c4 th.col_heading {\n",
       "  text-align: center;\n",
       "}\n",
       "#T_495c4 th.col_heading.level0 {\n",
       "  font-size: 1em;\n",
       "}\n",
       "#T_495c4 td {\n",
       "  text-align: center;\n",
       "}\n",
       "</style>\n",
       "<table id=\"T_495c4\">\n",
       "  <thead>\n",
       "    <tr>\n",
       "      <th class=\"blank level0\" >&nbsp;</th>\n",
       "      <th id=\"T_495c4_level0_col0\" class=\"col_heading level0 col0\" >F_avg</th>\n",
       "      <th id=\"T_495c4_level0_col1\" class=\"col_heading level0 col1\" >Diamond distances</th>\n",
       "    </tr>\n",
       "  </thead>\n",
       "  <tbody>\n",
       "    <tr>\n",
       "      <th id=\"T_495c4_level0_row0\" class=\"row_heading level0 row0\" >Id</th>\n",
       "      <td id=\"T_495c4_row0_col0\" class=\"data row0 col0\" >0,99887</td>\n",
       "      <td id=\"T_495c4_row0_col1\" class=\"data row0 col1\" >0,04965</td>\n",
       "    </tr>\n",
       "    <tr>\n",
       "      <th id=\"T_495c4_level0_row1\" class=\"row_heading level0 row1\" >Rx(pi/2)[q0]</th>\n",
       "      <td id=\"T_495c4_row1_col0\" class=\"data row1 col0\" >0,99895</td>\n",
       "      <td id=\"T_495c4_row1_col1\" class=\"data row1 col1\" >0,04879</td>\n",
       "    </tr>\n",
       "    <tr>\n",
       "      <th id=\"T_495c4_level0_row2\" class=\"row_heading level0 row2\" >Ry(pi/2)[q0]</th>\n",
       "      <td id=\"T_495c4_row2_col0\" class=\"data row2 col0\" >0,99658</td>\n",
       "      <td id=\"T_495c4_row2_col1\" class=\"data row2 col1\" >0,08090</td>\n",
       "    </tr>\n",
       "    <tr>\n",
       "      <th id=\"T_495c4_level0_row3\" class=\"row_heading level0 row3\" >Rx(pi/2)[q1]</th>\n",
       "      <td id=\"T_495c4_row3_col0\" class=\"data row3 col0\" >0,99130</td>\n",
       "      <td id=\"T_495c4_row3_col1\" class=\"data row3 col1\" >0,11573</td>\n",
       "    </tr>\n",
       "    <tr>\n",
       "      <th id=\"T_495c4_level0_row4\" class=\"row_heading level0 row4\" >Ry(pi/2)[q1]</th>\n",
       "      <td id=\"T_495c4_row4_col0\" class=\"data row4 col0\" >0,99131</td>\n",
       "      <td id=\"T_495c4_row4_col1\" class=\"data row4 col1\" >0,12613</td>\n",
       "    </tr>\n",
       "    <tr>\n",
       "      <th id=\"T_495c4_level0_row5\" class=\"row_heading level0 row5\" >CNOT[q0-q1]</th>\n",
       "      <td id=\"T_495c4_row5_col0\" class=\"data row5 col0\" >0,34751</td>\n",
       "      <td id=\"T_495c4_row5_col1\" class=\"data row5 col1\" >1,00000</td>\n",
       "    </tr>\n",
       "  </tbody>\n",
       "</table>\n"
      ],
      "text/plain": [
       "<pandas.io.formats.style.Styler at 0x7fbb43ba8280>"
      ]
     },
     "metadata": {},
     "output_type": "display_data"
    },
    {
     "data": {
      "text/html": [
       "<style type=\"text/css\">\n",
       "#T_40e92 th.col_heading {\n",
       "  text-align: center;\n",
       "}\n",
       "#T_40e92 th.col_heading.level0 {\n",
       "  font-size: 1em;\n",
       "}\n",
       "#T_40e92 td {\n",
       "  text-align: center;\n",
       "}\n",
       "</style>\n",
       "<table id=\"T_40e92\">\n",
       "  <thead>\n",
       "    <tr>\n",
       "      <th class=\"blank level0\" >&nbsp;</th>\n",
       "      <th id=\"T_40e92_level0_col0\" class=\"col_heading level0 col0\" >Final cost function value</th>\n",
       "      <th id=\"T_40e92_level0_col1\" class=\"col_heading level0 col1\" >Mean total variation dist. to data</th>\n",
       "      <th id=\"T_40e92_level0_col2\" class=\"col_heading level0 col2\" >Mean total variation dist. target to data</th>\n",
       "      <th id=\"T_40e92_level0_col3\" class=\"col_heading level0 col3\" >POVM - Choi map trace distance</th>\n",
       "      <th id=\"T_40e92_level0_col4\" class=\"col_heading level0 col4\" >State - Trace distance</th>\n",
       "    </tr>\n",
       "  </thead>\n",
       "  <tbody>\n",
       "    <tr>\n",
       "      <th id=\"T_40e92_level0_row0\" class=\"row_heading level0 row0\" ></th>\n",
       "      <td id=\"T_40e92_row0_col0\" class=\"data row0 col0\" >0.006190</td>\n",
       "      <td id=\"T_40e92_row0_col1\" class=\"data row0 col1\" >0.102545</td>\n",
       "      <td id=\"T_40e92_row0_col2\" class=\"data row0 col2\" >0.221379</td>\n",
       "      <td id=\"T_40e92_row0_col3\" class=\"data row0 col3\" >0.153570</td>\n",
       "      <td id=\"T_40e92_row0_col4\" class=\"data row0 col4\" >0.192942</td>\n",
       "    </tr>\n",
       "  </tbody>\n",
       "</table>\n"
      ],
      "text/plain": [
       "<pandas.io.formats.style.Styler at 0x7fbb43c9ae50>"
      ]
     },
     "metadata": {},
     "output_type": "display_data"
    },
    {
     "data": {
      "text/plain": [
       "(None, None)"
      ]
     },
     "execution_count": 22,
     "metadata": {},
     "output_type": "execute_result"
    }
   ],
   "source": [
    "K,X,E,rho = results[0][:]\n",
    "\n",
    "weights = {'G0': 1,'G1': 1, 'G2': 1, 'G3': 1, 'G4': 1, 'G5': 1, 'spam': 1}\n",
    "gate_labels = {0: \"Id\", 1: \"Rx(pi/2)[q0]\", 2: \"Ry(pi/2)[q0]\", 3: \"Rx(pi/2)[q1]\", 4: \"Ry(pi/2)[q1]\", 5: \"CNOT[q0-q1]\"}\n",
    "\n",
    "X_opt, E_opt, rho_opt = gauge_opt(X, E, rho, target_mdl, weights)\n",
    "df_g, df_o, s_g, s_o = report(X_opt, E_opt, rho_opt, J_all, y_all, target_mdl, gate_labels)\n",
    "\n",
    "display(s_g), display(s_o)"
   ]
  },
  {
   "cell_type": "code",
   "execution_count": 23,
   "id": "6264b57e-14b4-4f95-8193-d0d2e6320cfd",
   "metadata": {},
   "outputs": [
    {
     "data": {
      "image/png": "[encoded data removed]",
      "text/plain": [
       "<Figure size 767.432x314.182 with 3 Axes>"
      ]
     },
     "metadata": {
      "needs_background": "light"
     },
     "output_type": "display_data"
    },
    {
     "data": {
      "image/png": "[encoded data removed]",
      "text/plain": [
       "<Figure size 432x288 with 6 Axes>"
      ]
     },
     "metadata": {
      "needs_background": "light"
     },
     "output_type": "display_data"
    }
   ],
   "source": [
    "gate_index = 5\n",
    "\n",
    "X_opt_pp, E_opt_pp, rho_opt_pp = compatibility.std2pp(X_opt,E_opt,rho_opt)\n",
    "X_t_pp, E_t_pp, rho_t_pp = compatibility.pygsti_model_to_arrays(target_mdl,basis = 'pp')\n",
    "\n",
    "\n",
    "plot_mat(X_opt[gate_index], X_t[gate_index])\n",
    "plot_spam(rho_opt_pp, E_opt_pp)"
   ]
  },
  {
   "cell_type": "code",
   "execution_count": 24,
   "id": "342c9a52-6f71-43b4-8f14-6be040435402",
   "metadata": {},
   "outputs": [],
   "source": [
    "K_opt = additional_fns.Kraus_rep(X_opt,d,pdim,1)"
   ]
  },
  {
   "cell_type": "code",
   "execution_count": 35,
   "id": "f956f1cf-31a4-459f-a1ca-bd37b4ed6db6",
   "metadata": {},
   "outputs": [
    {
     "data": {
      "image/png": "[encoded data removed]",
      "text/plain": [
       "<Figure size 383.716x157.091 with 3 Axes>"
      ]
     },
     "metadata": {
      "needs_background": "light"
     },
     "output_type": "display_data"
    }
   ],
   "source": [
    "plot_mat(np.abs(K_opt[5][0]), np.abs(K_t[5][0]))"
   ]
  },
  {
   "cell_type": "code",
   "execution_count": 37,
   "id": "daf5b441-dead-4e98-b21a-4afbca08d12b",
   "metadata": {},
   "outputs": [
    {
     "name": "stdout",
     "output_type": "stream",
     "text": [
      "0.0\n",
      "-2.0017198657014745\n",
      "-0.18109969859314326\n",
      "-1.7280166074641028\n"
     ]
    },
    {
     "data": {
      "image/png": "[encoded data removed]",
      "text/plain": [
       "<Figure size 432x288 with 1 Axes>"
      ]
     },
     "metadata": {
      "needs_background": "light"
     },
     "output_type": "display_data"
    }
   ],
   "source": [
    "for x in np.diag(K_opt[5][0]):\n",
    "    print(np.angle(x))\n",
    "    plt.polar([0,np.angle(x)],[0,abs(x)],marker='o')\n",
    "plt.show()"
   ]
  },
  {
   "cell_type": "code",
   "execution_count": 28,
   "id": "c75eade2-d16c-43ea-98fd-32b938388d1d",
   "metadata": {},
   "outputs": [
    {
     "data": {
      "image/png": "[encoded data removed]",
      "text/plain": [
       "<Figure size 432x288 with 1 Axes>"
      ]
     },
     "metadata": {
      "needs_background": "light"
     },
     "output_type": "display_data"
    }
   ],
   "source": [
    "for x in np.diag(CZ):\n",
    "    plt.polar([0,np.angle(x)],[0,abs(x)],marker='o')\n",
    "plt.show()"
   ]
  },
  {
   "cell_type": "markdown",
   "id": "bd3f902c-071c-4361-9406-fd3217644ba4",
   "metadata": {},
   "source": []
  }
 ],
 "metadata": {
  "kernelspec": {
   "display_name": "Python 3",
   "language": "python",
   "name": "python3"
  },
  "language_info": {
   "codemirror_mode": {
    "name": "ipython",
    "version": 3
   },
   "file_extension": ".py",
   "mimetype": "text/x-python",
   "name": "python",
   "nbconvert_exporter": "python",
   "pygments_lexer": "ipython3",
   "version": "3.8.10"
  }
 },
 "nbformat": 4,
 "nbformat_minor": 5
}
