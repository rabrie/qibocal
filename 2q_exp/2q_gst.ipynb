{
 "cells": [
  {
   "cell_type": "markdown",
   "id": "19498ba6-106b-4ef2-b798-ca7d0a6fce8a",
   "metadata": {
    "tags": []
   },
   "source": [
    "# 2 qubit GST for XYICZ gate set"
   ]
  },
  {
   "cell_type": "code",
   "execution_count": 1,
   "id": "2fad699e-1bfe-4b66-9a11-1a9f9697f627",
   "metadata": {},
   "outputs": [],
   "source": [
    "# Note: I removed the mGST folders from within the qibocal fork, such that it is installed and updated seperately\n",
    "from mGST import compatibility,algorithm, optimization, low_level_jit, additional_fns"
   ]
  },
  {
   "cell_type": "code",
   "execution_count": 2,
   "id": "6e58b942-2370-4d00-a8f0-88704b080a55",
   "metadata": {},
   "outputs": [],
   "source": [
    "import pickle as pickle\n",
    "from pygsti.report import reportables as rptbl #Needs cvxpy!\n",
    "import pygsti\n",
    "from argparse import Namespace\n",
    "import numpy as np\n",
    "import pandas as pd\n",
    "import numpy.linalg as la\n",
    "import json\n",
    "import matplotlib.pyplot as plt\n",
    "#from pygsti.modelpacks import smq2Q_XYICNOT as std\n",
    "\n",
    "%run ../src/mGST/reporting.py"
   ]
  },
  {
   "cell_type": "markdown",
   "id": "8aa5d0c5-5f45-41ba-9309-b5055901f76d",
   "metadata": {},
   "source": [
    "### Setting the parameters"
   ]
  },
  {
   "cell_type": "code",
   "execution_count": 3,
   "id": "bc5a4c05-f8c4-46cd-ad54-4fc6a2544e66",
   "metadata": {},
   "outputs": [],
   "source": [
    "pdim = 4   # physical dimension\n",
    "r = pdim**2   # rank of the gate superoperators \n",
    "\n",
    "max_l = 10  # maximum number of gates in each measurement sequence\n",
    "n_povm = 4   # number of POVM-elements\n",
    "d = 6"
   ]
  },
  {
   "cell_type": "code",
   "execution_count": 4,
   "id": "6942f219-11ea-4153-a7fb-5d457fb69cd2",
   "metadata": {},
   "outputs": [],
   "source": [
    "from true_values import E_true, X_true, rho_true\n",
    "X_t = X_true[:d].copy()\n",
    "E_t = E_true.copy()\n",
    "rho_t = rho_true.copy()\n",
    "target_mdl = compatibility.arrays_to_pygsti_model(X_t,E_t,rho_t, basis = 'std') #Save new model with CZ instead of CNOT"
   ]
  },
  {
   "cell_type": "markdown",
   "id": "a9d466a3-c184-4647-a735-3882ed478720",
   "metadata": {},
   "source": [
    "### Loading data"
   ]
  },
  {
   "cell_type": "code",
   "execution_count": 5,
   "id": "d4029d3f-3387-47eb-ad47-654e09c4a8e1",
   "metadata": {},
   "outputs": [],
   "source": [
    "# Hardware probabilities\n",
    "filename = 'data/20230504-1132_cgst_500_5_7_10/20230504-1132_cgst'\n",
    "\n",
    "with open(filename + '_depth_5.json') as f:\n",
    "    data = json.load(f)\n",
    "N = data['nsequences']\n",
    "l = data['depth']\n",
    "J5 = np.array([list(np.pad(data['measurements'][i]['circuit'],(0,max_l-l),'constant',constant_values=-1)) for i in range(N)])[:,::-1]\n",
    "y5 = np.array([[data['measurements'][i]['hardware_probabilities'][basis_str] for i in range(N)] for basis_str in ['00','01','10','11']])\n",
    "\n",
    "with open(filename + '_depth_7.json') as f:\n",
    "    data = json.load(f)\n",
    "N = data['nsequences']\n",
    "l = data['depth']\n",
    "J7 = np.array([list(np.pad(data['measurements'][i]['circuit'],(0,max_l-l),'constant',constant_values=-1)) for i in range(N)])[:,::-1]\n",
    "y7 = np.array([[data['measurements'][i]['hardware_probabilities'][basis_str] for i in range(N)] for basis_str in ['00','01','10','11']])\n",
    "\n",
    "with open(filename + '_depth_10.json') as f:\n",
    "    data = json.load(f)\n",
    "N = data['nsequences']\n",
    "l = data['depth']\n",
    "J10 = np.array([list(np.pad(data['measurements'][i]['circuit'],(0,max_l-l),'constant',constant_values=-1)) for i in range(N)])[:,::-1]\n",
    "y10 = np.array([[data['measurements'][i]['hardware_probabilities'][basis_str] for i in range(N)] for basis_str in ['00','01','10','11']])\n",
    "\n",
    "J57 = np.concatenate((J5,J7), axis = 0)\n",
    "y57 = np.concatenate((y5,y7), axis = 1)\n",
    "\n",
    "J_all = np.concatenate((J57,J10), axis = 0)\n",
    "y_all = np.concatenate((y57,y10), axis = 1)\n",
    "\n",
    "meas_samples = data['nshots']"
   ]
  },
  {
   "cell_type": "code",
   "execution_count": 6,
   "id": "1d95215b-71eb-4918-849d-b3466c674475",
   "metadata": {},
   "outputs": [],
   "source": [
    "# #Simulation probabilities\n",
    "# basis_str_dict = {'00':0, '01':1, '10':2, '11':3}\n",
    "# filename = 'data/20230504-1132_cgst_500_5_7_10/20230504-1132_cgst'\n",
    "\n",
    "# with open(filename + '_depth_5.json') as f:\n",
    "#     data = json.load(f)\n",
    "# N = data['nsequences']\n",
    "# l = data['depth']\n",
    "# J5 = np.array([list(np.pad(data['measurements'][i]['circuit'],(0,max_l-l),'constant',constant_values=-1)) for i in range(N)])[:,::-1]\n",
    "# y5 = np.zeros((n_povm,N))\n",
    "# for i in range(N):\n",
    "#     keylist = [key for key in data['measurements'][i]['simulation_probabilities'].keys()]\n",
    "#     for key in data['measurements'][i]['simulation_probabilities'].keys():\n",
    "#         y5[basis_str_dict[key],i] = data['measurements'][i]['simulation_probabilities'][key]\n",
    "\n",
    "# with open(filename + '_depth_7.json') as f:\n",
    "#     data = json.load(f)\n",
    "# N = data['nsequences']\n",
    "# l = data['depth']\n",
    "# J7 = np.array([list(np.pad(data['measurements'][i]['circuit'],(0,max_l-l),'constant',constant_values=-1)) for i in range(N)])[:,::-1]\n",
    "# y7 = np.zeros((n_povm,N))\n",
    "# for i in range(N):\n",
    "#     keylist = [key for key in data['measurements'][i]['simulation_probabilities'].keys()]\n",
    "#     for key in data['measurements'][i]['simulation_probabilities'].keys():\n",
    "#         y7[basis_str_dict[key],i] = data['measurements'][i]['simulation_probabilities'][key]\n",
    "\n",
    "# with open(filename + '_depth_10.json') as f:\n",
    "#     data = json.load(f)\n",
    "# N = data['nsequences']\n",
    "# l = data['depth']\n",
    "# J10 = np.array([list(np.pad(data['measurements'][i]['circuit'],(0,max_l-l),'constant',constant_values=-1)) for i in range(N)])[:,::-1]\n",
    "# y10 = np.zeros((n_povm,N))\n",
    "# for i in range(N):\n",
    "#     for key in data['measurements'][i]['simulation_probabilities'].keys():\n",
    "#         y10[basis_str_dict[key],i] = data['measurements'][i]['simulation_probabilities'][key]\n",
    "\n",
    "# J57 = np.concatenate((J5,J7), axis = 0)\n",
    "# y57 = np.concatenate((y5,y7), axis = 1)\n",
    "\n",
    "# J_all = np.concatenate((J57,J10), axis = 0)\n",
    "# y_all = np.concatenate((y57,y10), axis = 1)\n",
    "\n",
    "# meas_samples = data['nshots']"
   ]
  },
  {
   "cell_type": "markdown",
   "id": "35724025-9e20-4876-aaf1-895a7c644f92",
   "metadata": {},
   "source": [
    "### GST"
   ]
  },
  {
   "cell_type": "code",
   "execution_count": 49,
   "id": "117a49d5-ad10-4e3e-b788-dc0770f36081",
   "metadata": {
    "tags": []
   },
   "outputs": [
    {
     "name": "stdout",
     "output_type": "stream",
     "text": [
      "Starting optimization...\n",
      "100%|█████████████████████████████████████████| 100/100 [10:19<00:00,  6.20s/it]\n"
     ]
    },
    {
     "data": {
      "image/png": "[encoded data removed]",
      "text/plain": [
       "<Figure size 432x288 with 1 Axes>"
      ]
     },
     "metadata": {},
     "output_type": "display_data"
    },
    {
     "name": "stdout",
     "output_type": "stream",
     "text": [
      "Success threshold not reached, attempting optimization over full data set...\n",
      "100%|███████████████████████████████████████████| 30/30 [35:04<00:00, 70.15s/it]\n"
     ]
    },
    {
     "data": {
      "image/png": "[encoded data removed]",
      "text/plain": [
       "<Figure size 432x288 with 1 Axes>"
      ]
     },
     "metadata": {},
     "output_type": "display_data"
    },
    {
     "name": "stdout",
     "output_type": "stream",
     "text": [
      "#################\n",
      "\t Convergence criterion not satisfied, try increasing max_iter or using new initializations.\n",
      "\t Final objective function value 0.002554592143382346 with # of initializations: 1 \n",
      " \t Total runtime: 2724.4912469387054\n"
     ]
    }
   ],
   "source": [
    "bsize = 120   # The batch size on which the optimization is started\n",
    "results = []\n",
    "rK = 4\n",
    "for _ in range(1):  \n",
    "    K_t = additional_fns.Kraus_rep(X_t,d,pdim,rK)\n",
    "    K,X,E,rho,res_list = algorithm.run_mGST(y_all, J_all, max_l,d,r,rK, n_povm, bsize, meas_samples, method = 'SFN',\n",
    "                         max_inits = 1, max_iter = 100, final_iter = 30, threshold_multiplier = 5, \n",
    "                         target_rel_prec = 1e-5, init = [K_t,E_t,rho_t], testing = True)   \n",
    "    # K,X,E,rho,res_list = algorithm.run_mGST(y_all,J_all, max_l,d,r,rK, n_povm, bsize, meas_samples, method = 'SFN',\n",
    "    #                      max_inits = 10, max_iter = 0, final_iter = 30, threshold_multiplier = 500, \n",
    "    #                      target_rel_prec = 1e-4, init = [K,E,rho], testing = True)   \n",
    "    results.append([K,X,E,rho])"
   ]
  },
  {
   "cell_type": "code",
   "execution_count": 51,
   "id": "06572af1-385f-4bee-9ce8-44271eecc9b2",
   "metadata": {},
   "outputs": [],
   "source": [
    "###################################### \n",
    "filename = 'rank_4_hardware_probs_1132'\n",
    "parameters = {'sequence length':l,'gate count':d,'Kraus ranks':[4],'phys. dimension':int(np.sqrt(r)), 'Sequence count': N, \n",
    "              'J':J_all,'y':y_all, 'target_rel_prec':1e-4}\n",
    "data_to_safe = {'parameters':parameters, 'results':results}\n",
    "\n",
    "with open(filename, 'wb') as handle:\n",
    "    pickle.dump(data_to_safe, handle, protocol=pickle.HIGHEST_PROTOCOL)"
   ]
  },
  {
   "cell_type": "code",
   "execution_count": 20,
   "id": "aaf1cf3f-c8d0-4dec-87b3-79908b717aff",
   "metadata": {},
   "outputs": [],
   "source": [
    "with open(\"rank_16_hardware_probs_1132\", 'rb') as handle:\n",
    "    b = pickle.load(handle)\n",
    "results = b['results']"
   ]
  },
  {
   "cell_type": "code",
   "execution_count": 50,
   "id": "6e3cfcbc-1424-4752-968f-6ec26f3e3baa",
   "metadata": {},
   "outputs": [
    {
     "data": {
      "text/html": [
       "<style type=\"text/css\">\n",
       "#T_ca1d7 th.col_heading {\n",
       "  text-align: center;\n",
       "}\n",
       "#T_ca1d7 th.col_heading.level0 {\n",
       "  font-size: 1em;\n",
       "}\n",
       "#T_ca1d7 td {\n",
       "  text-align: center;\n",
       "}\n",
       "</style>\n",
       "<table id=\"T_ca1d7\">\n",
       "  <thead>\n",
       "    <tr>\n",
       "      <th class=\"blank level0\" >&nbsp;</th>\n",
       "      <th id=\"T_ca1d7_level0_col0\" class=\"col_heading level0 col0\" >F_avg</th>\n",
       "      <th id=\"T_ca1d7_level0_col1\" class=\"col_heading level0 col1\" >Diamond distances</th>\n",
       "    </tr>\n",
       "  </thead>\n",
       "  <tbody>\n",
       "    <tr>\n",
       "      <th id=\"T_ca1d7_level0_row0\" class=\"row_heading level0 row0\" >Id</th>\n",
       "      <td id=\"T_ca1d7_row0_col0\" class=\"data row0 col0\" >0,97591</td>\n",
       "      <td id=\"T_ca1d7_row0_col1\" class=\"data row0 col1\" >0,06193</td>\n",
       "    </tr>\n",
       "    <tr>\n",
       "      <th id=\"T_ca1d7_level0_row1\" class=\"row_heading level0 row1\" >Rx(pi/2)[q0]</th>\n",
       "      <td id=\"T_ca1d7_row1_col0\" class=\"data row1 col0\" >0,97408</td>\n",
       "      <td id=\"T_ca1d7_row1_col1\" class=\"data row1 col1\" >0,11206</td>\n",
       "    </tr>\n",
       "    <tr>\n",
       "      <th id=\"T_ca1d7_level0_row2\" class=\"row_heading level0 row2\" >Ry(pi/2)[q0]</th>\n",
       "      <td id=\"T_ca1d7_row2_col0\" class=\"data row2 col0\" >0,97816</td>\n",
       "      <td id=\"T_ca1d7_row2_col1\" class=\"data row2 col1\" >0,10303</td>\n",
       "    </tr>\n",
       "    <tr>\n",
       "      <th id=\"T_ca1d7_level0_row3\" class=\"row_heading level0 row3\" >Rx(pi/2)[q1]</th>\n",
       "      <td id=\"T_ca1d7_row3_col0\" class=\"data row3 col0\" >0,97060</td>\n",
       "      <td id=\"T_ca1d7_row3_col1\" class=\"data row3 col1\" >0,14595</td>\n",
       "    </tr>\n",
       "    <tr>\n",
       "      <th id=\"T_ca1d7_level0_row4\" class=\"row_heading level0 row4\" >Ry(pi/2)[q1]</th>\n",
       "      <td id=\"T_ca1d7_row4_col0\" class=\"data row4 col0\" >0,96926</td>\n",
       "      <td id=\"T_ca1d7_row4_col1\" class=\"data row4 col1\" >0,14672</td>\n",
       "    </tr>\n",
       "    <tr>\n",
       "      <th id=\"T_ca1d7_level0_row5\" class=\"row_heading level0 row5\" >CZ[q0-q1]</th>\n",
       "      <td id=\"T_ca1d7_row5_col0\" class=\"data row5 col0\" >0,36861</td>\n",
       "      <td id=\"T_ca1d7_row5_col1\" class=\"data row5 col1\" >0,96010</td>\n",
       "    </tr>\n",
       "  </tbody>\n",
       "</table>\n"
      ],
      "text/plain": [
       "<pandas.io.formats.style.Styler at 0x7f95e812db50>"
      ]
     },
     "metadata": {},
     "output_type": "display_data"
    },
    {
     "data": {
      "text/html": [
       "<style type=\"text/css\">\n",
       "#T_7ddf5 th.col_heading {\n",
       "  text-align: center;\n",
       "}\n",
       "#T_7ddf5 th.col_heading.level0 {\n",
       "  font-size: 1em;\n",
       "}\n",
       "#T_7ddf5 td {\n",
       "  text-align: center;\n",
       "}\n",
       "</style>\n",
       "<table id=\"T_7ddf5\">\n",
       "  <thead>\n",
       "    <tr>\n",
       "      <th class=\"blank level0\" >&nbsp;</th>\n",
       "      <th id=\"T_7ddf5_level0_col0\" class=\"col_heading level0 col0\" >Final cost function value</th>\n",
       "      <th id=\"T_7ddf5_level0_col1\" class=\"col_heading level0 col1\" >Mean total variation dist. to data</th>\n",
       "      <th id=\"T_7ddf5_level0_col2\" class=\"col_heading level0 col2\" >Mean total variation dist. target to data</th>\n",
       "      <th id=\"T_7ddf5_level0_col3\" class=\"col_heading level0 col3\" >POVM - Choi map trace distance</th>\n",
       "      <th id=\"T_7ddf5_level0_col4\" class=\"col_heading level0 col4\" >State - Trace distance</th>\n",
       "    </tr>\n",
       "  </thead>\n",
       "  <tbody>\n",
       "    <tr>\n",
       "      <th id=\"T_7ddf5_level0_row0\" class=\"row_heading level0 row0\" ></th>\n",
       "      <td id=\"T_7ddf5_row0_col0\" class=\"data row0 col0\" >0.002555</td>\n",
       "      <td id=\"T_7ddf5_row0_col1\" class=\"data row0 col1\" >0.058268</td>\n",
       "      <td id=\"T_7ddf5_row0_col2\" class=\"data row0 col2\" >0.213159</td>\n",
       "      <td id=\"T_7ddf5_row0_col3\" class=\"data row0 col3\" >0.118741</td>\n",
       "      <td id=\"T_7ddf5_row0_col4\" class=\"data row0 col4\" >0.088207</td>\n",
       "    </tr>\n",
       "  </tbody>\n",
       "</table>\n"
      ],
      "text/plain": [
       "<pandas.io.formats.style.Styler at 0x7f95e81d5370>"
      ]
     },
     "metadata": {},
     "output_type": "display_data"
    },
    {
     "data": {
      "text/plain": [
       "(None, None)"
      ]
     },
     "execution_count": 50,
     "metadata": {},
     "output_type": "execute_result"
    }
   ],
   "source": [
    "weights = {'G0': 1, 'G1': 1, 'G2': 1, 'G3': 1, 'G4': 1, 'G5': 1, 'spam': 1}\n",
    "gate_labels = {0: \"Id\", 1: \"Rx(pi/2)[q0]\", 2: \"Ry(pi/2)[q0]\", 3: \"Rx(pi/2)[q1]\", 4: \"Ry(pi/2)[q1]\", 5: \"CZ[q0-q1]\"}\n",
    "\n",
    "X_opt, E_opt, rho_opt = gauge_opt(X, E, rho, target_mdl, weights)\n",
    "df_g, df_o, s_g, s_o = report(X_opt, E_opt, rho_opt, J_all, y_all, target_mdl, gate_labels)\n",
    "\n",
    "display(s_g), display(s_o)"
   ]
  },
  {
   "cell_type": "code",
   "execution_count": 48,
   "id": "e117d5e2-b4bb-4f38-8cbe-dbf0dfe45c71",
   "metadata": {},
   "outputs": [
    {
     "data": {
      "image/png": "[encoded data removed]",
      "text/plain": [
       "<Figure size 767.432x314.182 with 3 Axes>"
      ]
     },
     "metadata": {},
     "output_type": "display_data"
    }
   ],
   "source": [
    "plot_mat(np.real(X_opt[5]), np.real(X_t[5]))"
   ]
  },
  {
   "cell_type": "code",
   "execution_count": 9,
   "id": "5749a4f0-2116-46b0-8555-8065242e5b47",
   "metadata": {
    "collapsed": true,
    "jupyter": {
     "outputs_hidden": true
    },
    "tags": []
   },
   "outputs": [
    {
     "data": {
      "text/html": [
       "<style type=\"text/css\">\n",
       "#T_07591 th.col_heading {\n",
       "  text-align: center;\n",
       "}\n",
       "#T_07591 th.col_heading.level0 {\n",
       "  font-size: 1em;\n",
       "}\n",
       "#T_07591 td {\n",
       "  text-align: center;\n",
       "}\n",
       "</style>\n",
       "<table id=\"T_07591\">\n",
       "  <thead>\n",
       "    <tr>\n",
       "      <th class=\"blank level0\" >&nbsp;</th>\n",
       "      <th id=\"T_07591_level0_col0\" class=\"col_heading level0 col0\" >F_avg</th>\n",
       "      <th id=\"T_07591_level0_col1\" class=\"col_heading level0 col1\" >Diamond distances</th>\n",
       "    </tr>\n",
       "  </thead>\n",
       "  <tbody>\n",
       "    <tr>\n",
       "      <th id=\"T_07591_level0_row0\" class=\"row_heading level0 row0\" >Id</th>\n",
       "      <td id=\"T_07591_row0_col0\" class=\"data row0 col0\" >0,99920</td>\n",
       "      <td id=\"T_07591_row0_col1\" class=\"data row0 col1\" >0,03915</td>\n",
       "    </tr>\n",
       "    <tr>\n",
       "      <th id=\"T_07591_level0_row1\" class=\"row_heading level0 row1\" >Rx(pi/2)[q0]</th>\n",
       "      <td id=\"T_07591_row1_col0\" class=\"data row1 col0\" >0,99588</td>\n",
       "      <td id=\"T_07591_row1_col1\" class=\"data row1 col1\" >0,09000</td>\n",
       "    </tr>\n",
       "    <tr>\n",
       "      <th id=\"T_07591_level0_row2\" class=\"row_heading level0 row2\" >Ry(pi/2)[q0]</th>\n",
       "      <td id=\"T_07591_row2_col0\" class=\"data row2 col0\" >0,99575</td>\n",
       "      <td id=\"T_07591_row2_col1\" class=\"data row2 col1\" >0,10138</td>\n",
       "    </tr>\n",
       "    <tr>\n",
       "      <th id=\"T_07591_level0_row3\" class=\"row_heading level0 row3\" >Rx(pi/2)[q1]</th>\n",
       "      <td id=\"T_07591_row3_col0\" class=\"data row3 col0\" >0,99223</td>\n",
       "      <td id=\"T_07591_row3_col1\" class=\"data row3 col1\" >0,12235</td>\n",
       "    </tr>\n",
       "    <tr>\n",
       "      <th id=\"T_07591_level0_row4\" class=\"row_heading level0 row4\" >Ry(pi/2)[q1]</th>\n",
       "      <td id=\"T_07591_row4_col0\" class=\"data row4 col0\" >0,98879</td>\n",
       "      <td id=\"T_07591_row4_col1\" class=\"data row4 col1\" >0,14116</td>\n",
       "    </tr>\n",
       "    <tr>\n",
       "      <th id=\"T_07591_level0_row5\" class=\"row_heading level0 row5\" >CZ[q0-q1]</th>\n",
       "      <td id=\"T_07591_row5_col0\" class=\"data row5 col0\" >0,85641</td>\n",
       "      <td id=\"T_07591_row5_col1\" class=\"data row5 col1\" >0,57540</td>\n",
       "    </tr>\n",
       "  </tbody>\n",
       "</table>\n"
      ],
      "text/plain": [
       "<pandas.io.formats.style.Styler at 0x7f95f1ad72e0>"
      ]
     },
     "metadata": {},
     "output_type": "display_data"
    },
    {
     "data": {
      "text/html": [
       "<style type=\"text/css\">\n",
       "#T_6bd32 th.col_heading {\n",
       "  text-align: center;\n",
       "}\n",
       "#T_6bd32 th.col_heading.level0 {\n",
       "  font-size: 1em;\n",
       "}\n",
       "#T_6bd32 td {\n",
       "  text-align: center;\n",
       "}\n",
       "</style>\n",
       "<table id=\"T_6bd32\">\n",
       "  <thead>\n",
       "    <tr>\n",
       "      <th class=\"blank level0\" >&nbsp;</th>\n",
       "      <th id=\"T_6bd32_level0_col0\" class=\"col_heading level0 col0\" >Final cost function value</th>\n",
       "      <th id=\"T_6bd32_level0_col1\" class=\"col_heading level0 col1\" >Mean total variation dist. to data</th>\n",
       "      <th id=\"T_6bd32_level0_col2\" class=\"col_heading level0 col2\" >Mean total variation dist. target to data</th>\n",
       "      <th id=\"T_6bd32_level0_col3\" class=\"col_heading level0 col3\" >POVM - Choi map trace distance</th>\n",
       "      <th id=\"T_6bd32_level0_col4\" class=\"col_heading level0 col4\" >State - Trace distance</th>\n",
       "    </tr>\n",
       "  </thead>\n",
       "  <tbody>\n",
       "    <tr>\n",
       "      <th id=\"T_6bd32_level0_row0\" class=\"row_heading level0 row0\" ></th>\n",
       "      <td id=\"T_6bd32_row0_col0\" class=\"data row0 col0\" >0.003461</td>\n",
       "      <td id=\"T_6bd32_row0_col1\" class=\"data row0 col1\" >0.065201</td>\n",
       "      <td id=\"T_6bd32_row0_col2\" class=\"data row0 col2\" >0.184534</td>\n",
       "      <td id=\"T_6bd32_row0_col3\" class=\"data row0 col3\" >0.654884</td>\n",
       "      <td id=\"T_6bd32_row0_col4\" class=\"data row0 col4\" >0.995346</td>\n",
       "    </tr>\n",
       "  </tbody>\n",
       "</table>\n"
      ],
      "text/plain": [
       "<pandas.io.formats.style.Styler at 0x7f95f13bbf40>"
      ]
     },
     "metadata": {},
     "output_type": "display_data"
    },
    {
     "name": "stderr",
     "output_type": "stream",
     "text": [
      "/home/raphael/.local/lib/python3.8/site-packages/pygsti/tools/optools.py:379: UserWarning: CVXPY failed: Solver 'CVXOPT' failed. Try another solver, or solve with verbose=True for more information. - diamonddist returning -2!\n",
      "  _warnings.warn(\"CVXPY failed: %s - diamonddist returning -2!\" % str(e))\n"
     ]
    },
    {
     "data": {
      "text/html": [
       "<style type=\"text/css\">\n",
       "#T_e7d86 th.col_heading {\n",
       "  text-align: center;\n",
       "}\n",
       "#T_e7d86 th.col_heading.level0 {\n",
       "  font-size: 1em;\n",
       "}\n",
       "#T_e7d86 td {\n",
       "  text-align: center;\n",
       "}\n",
       "</style>\n",
       "<table id=\"T_e7d86\">\n",
       "  <thead>\n",
       "    <tr>\n",
       "      <th class=\"blank level0\" >&nbsp;</th>\n",
       "      <th id=\"T_e7d86_level0_col0\" class=\"col_heading level0 col0\" >F_avg</th>\n",
       "      <th id=\"T_e7d86_level0_col1\" class=\"col_heading level0 col1\" >Diamond distances</th>\n",
       "    </tr>\n",
       "  </thead>\n",
       "  <tbody>\n",
       "    <tr>\n",
       "      <th id=\"T_e7d86_level0_row0\" class=\"row_heading level0 row0\" >Id</th>\n",
       "      <td id=\"T_e7d86_row0_col0\" class=\"data row0 col0\" >0,99843</td>\n",
       "      <td id=\"T_e7d86_row0_col1\" class=\"data row0 col1\" >0,05573</td>\n",
       "    </tr>\n",
       "    <tr>\n",
       "      <th id=\"T_e7d86_level0_row1\" class=\"row_heading level0 row1\" >Rx(pi/2)[q0]</th>\n",
       "      <td id=\"T_e7d86_row1_col0\" class=\"data row1 col0\" >0,77251</td>\n",
       "      <td id=\"T_e7d86_row1_col1\" class=\"data row1 col1\" >-1,00000</td>\n",
       "    </tr>\n",
       "    <tr>\n",
       "      <th id=\"T_e7d86_level0_row2\" class=\"row_heading level0 row2\" >Ry(pi/2)[q0]</th>\n",
       "      <td id=\"T_e7d86_row2_col0\" class=\"data row2 col0\" >0,68682</td>\n",
       "      <td id=\"T_e7d86_row2_col1\" class=\"data row2 col1\" >0,79272</td>\n",
       "    </tr>\n",
       "    <tr>\n",
       "      <th id=\"T_e7d86_level0_row3\" class=\"row_heading level0 row3\" >Rx(pi/2)[q1]</th>\n",
       "      <td id=\"T_e7d86_row3_col0\" class=\"data row3 col0\" >0,40526</td>\n",
       "      <td id=\"T_e7d86_row3_col1\" class=\"data row3 col1\" >0,99960</td>\n",
       "    </tr>\n",
       "    <tr>\n",
       "      <th id=\"T_e7d86_level0_row4\" class=\"row_heading level0 row4\" >Ry(pi/2)[q1]</th>\n",
       "      <td id=\"T_e7d86_row4_col0\" class=\"data row4 col0\" >0,64461</td>\n",
       "      <td id=\"T_e7d86_row4_col1\" class=\"data row4 col1\" >0,84633</td>\n",
       "    </tr>\n",
       "    <tr>\n",
       "      <th id=\"T_e7d86_level0_row5\" class=\"row_heading level0 row5\" >CZ[q0-q1]</th>\n",
       "      <td id=\"T_e7d86_row5_col0\" class=\"data row5 col0\" >0,67024</td>\n",
       "      <td id=\"T_e7d86_row5_col1\" class=\"data row5 col1\" >0,77951</td>\n",
       "    </tr>\n",
       "  </tbody>\n",
       "</table>\n"
      ],
      "text/plain": [
       "<pandas.io.formats.style.Styler at 0x7f95f15673d0>"
      ]
     },
     "metadata": {},
     "output_type": "display_data"
    },
    {
     "data": {
      "text/html": [
       "<style type=\"text/css\">\n",
       "#T_e9db9 th.col_heading {\n",
       "  text-align: center;\n",
       "}\n",
       "#T_e9db9 th.col_heading.level0 {\n",
       "  font-size: 1em;\n",
       "}\n",
       "#T_e9db9 td {\n",
       "  text-align: center;\n",
       "}\n",
       "</style>\n",
       "<table id=\"T_e9db9\">\n",
       "  <thead>\n",
       "    <tr>\n",
       "      <th class=\"blank level0\" >&nbsp;</th>\n",
       "      <th id=\"T_e9db9_level0_col0\" class=\"col_heading level0 col0\" >Final cost function value</th>\n",
       "      <th id=\"T_e9db9_level0_col1\" class=\"col_heading level0 col1\" >Mean total variation dist. to data</th>\n",
       "      <th id=\"T_e9db9_level0_col2\" class=\"col_heading level0 col2\" >Mean total variation dist. target to data</th>\n",
       "      <th id=\"T_e9db9_level0_col3\" class=\"col_heading level0 col3\" >POVM - Choi map trace distance</th>\n",
       "      <th id=\"T_e9db9_level0_col4\" class=\"col_heading level0 col4\" >State - Trace distance</th>\n",
       "    </tr>\n",
       "  </thead>\n",
       "  <tbody>\n",
       "    <tr>\n",
       "      <th id=\"T_e9db9_level0_row0\" class=\"row_heading level0 row0\" ></th>\n",
       "      <td id=\"T_e9db9_row0_col0\" class=\"data row0 col0\" >0.007256</td>\n",
       "      <td id=\"T_e9db9_row0_col1\" class=\"data row0 col1\" >0.121482</td>\n",
       "      <td id=\"T_e9db9_row0_col2\" class=\"data row0 col2\" >0.184534</td>\n",
       "      <td id=\"T_e9db9_row0_col3\" class=\"data row0 col3\" >0.484138</td>\n",
       "      <td id=\"T_e9db9_row0_col4\" class=\"data row0 col4\" >0.458087</td>\n",
       "    </tr>\n",
       "  </tbody>\n",
       "</table>\n"
      ],
      "text/plain": [
       "<pandas.io.formats.style.Styler at 0x7f95f1afca60>"
      ]
     },
     "metadata": {},
     "output_type": "display_data"
    },
    {
     "data": {
      "text/html": [
       "<style type=\"text/css\">\n",
       "#T_71e44 th.col_heading {\n",
       "  text-align: center;\n",
       "}\n",
       "#T_71e44 th.col_heading.level0 {\n",
       "  font-size: 1em;\n",
       "}\n",
       "#T_71e44 td {\n",
       "  text-align: center;\n",
       "}\n",
       "</style>\n",
       "<table id=\"T_71e44\">\n",
       "  <thead>\n",
       "    <tr>\n",
       "      <th class=\"blank level0\" >&nbsp;</th>\n",
       "      <th id=\"T_71e44_level0_col0\" class=\"col_heading level0 col0\" >F_avg</th>\n",
       "      <th id=\"T_71e44_level0_col1\" class=\"col_heading level0 col1\" >Diamond distances</th>\n",
       "    </tr>\n",
       "  </thead>\n",
       "  <tbody>\n",
       "    <tr>\n",
       "      <th id=\"T_71e44_level0_row0\" class=\"row_heading level0 row0\" >Id</th>\n",
       "      <td id=\"T_71e44_row0_col0\" class=\"data row0 col0\" >0,99227</td>\n",
       "      <td id=\"T_71e44_row0_col1\" class=\"data row0 col1\" >0,11364</td>\n",
       "    </tr>\n",
       "    <tr>\n",
       "      <th id=\"T_71e44_level0_row1\" class=\"row_heading level0 row1\" >Rx(pi/2)[q0]</th>\n",
       "      <td id=\"T_71e44_row1_col0\" class=\"data row1 col0\" >0,73937</td>\n",
       "      <td id=\"T_71e44_row1_col1\" class=\"data row1 col1\" >0,71101</td>\n",
       "    </tr>\n",
       "    <tr>\n",
       "      <th id=\"T_71e44_level0_row2\" class=\"row_heading level0 row2\" >Ry(pi/2)[q0]</th>\n",
       "      <td id=\"T_71e44_row2_col0\" class=\"data row2 col0\" >0,75396</td>\n",
       "      <td id=\"T_71e44_row2_col1\" class=\"data row2 col1\" >0,73739</td>\n",
       "    </tr>\n",
       "    <tr>\n",
       "      <th id=\"T_71e44_level0_row3\" class=\"row_heading level0 row3\" >Rx(pi/2)[q1]</th>\n",
       "      <td id=\"T_71e44_row3_col0\" class=\"data row3 col0\" >0,60318</td>\n",
       "      <td id=\"T_71e44_row3_col1\" class=\"data row3 col1\" >0,88369</td>\n",
       "    </tr>\n",
       "    <tr>\n",
       "      <th id=\"T_71e44_level0_row4\" class=\"row_heading level0 row4\" >Ry(pi/2)[q1]</th>\n",
       "      <td id=\"T_71e44_row4_col0\" class=\"data row4 col0\" >0,65274</td>\n",
       "      <td id=\"T_71e44_row4_col1\" class=\"data row4 col1\" >0,82959</td>\n",
       "    </tr>\n",
       "    <tr>\n",
       "      <th id=\"T_71e44_level0_row5\" class=\"row_heading level0 row5\" >CZ[q0-q1]</th>\n",
       "      <td id=\"T_71e44_row5_col0\" class=\"data row5 col0\" >0,57716</td>\n",
       "      <td id=\"T_71e44_row5_col1\" class=\"data row5 col1\" >0,87067</td>\n",
       "    </tr>\n",
       "  </tbody>\n",
       "</table>\n"
      ],
      "text/plain": [
       "<pandas.io.formats.style.Styler at 0x7f95f1ad7e20>"
      ]
     },
     "metadata": {},
     "output_type": "display_data"
    },
    {
     "data": {
      "text/html": [
       "<style type=\"text/css\">\n",
       "#T_96130 th.col_heading {\n",
       "  text-align: center;\n",
       "}\n",
       "#T_96130 th.col_heading.level0 {\n",
       "  font-size: 1em;\n",
       "}\n",
       "#T_96130 td {\n",
       "  text-align: center;\n",
       "}\n",
       "</style>\n",
       "<table id=\"T_96130\">\n",
       "  <thead>\n",
       "    <tr>\n",
       "      <th class=\"blank level0\" >&nbsp;</th>\n",
       "      <th id=\"T_96130_level0_col0\" class=\"col_heading level0 col0\" >Final cost function value</th>\n",
       "      <th id=\"T_96130_level0_col1\" class=\"col_heading level0 col1\" >Mean total variation dist. to data</th>\n",
       "      <th id=\"T_96130_level0_col2\" class=\"col_heading level0 col2\" >Mean total variation dist. target to data</th>\n",
       "      <th id=\"T_96130_level0_col3\" class=\"col_heading level0 col3\" >POVM - Choi map trace distance</th>\n",
       "      <th id=\"T_96130_level0_col4\" class=\"col_heading level0 col4\" >State - Trace distance</th>\n",
       "    </tr>\n",
       "  </thead>\n",
       "  <tbody>\n",
       "    <tr>\n",
       "      <th id=\"T_96130_level0_row0\" class=\"row_heading level0 row0\" ></th>\n",
       "      <td id=\"T_96130_row0_col0\" class=\"data row0 col0\" >0.006578</td>\n",
       "      <td id=\"T_96130_row0_col1\" class=\"data row0 col1\" >0.115797</td>\n",
       "      <td id=\"T_96130_row0_col2\" class=\"data row0 col2\" >0.184534</td>\n",
       "      <td id=\"T_96130_row0_col3\" class=\"data row0 col3\" >0.732453</td>\n",
       "      <td id=\"T_96130_row0_col4\" class=\"data row0 col4\" >0.925848</td>\n",
       "    </tr>\n",
       "  </tbody>\n",
       "</table>\n"
      ],
      "text/plain": [
       "<pandas.io.formats.style.Styler at 0x7f95f17180d0>"
      ]
     },
     "metadata": {},
     "output_type": "display_data"
    },
    {
     "data": {
      "text/html": [
       "<style type=\"text/css\">\n",
       "#T_672c7 th.col_heading {\n",
       "  text-align: center;\n",
       "}\n",
       "#T_672c7 th.col_heading.level0 {\n",
       "  font-size: 1em;\n",
       "}\n",
       "#T_672c7 td {\n",
       "  text-align: center;\n",
       "}\n",
       "</style>\n",
       "<table id=\"T_672c7\">\n",
       "  <thead>\n",
       "    <tr>\n",
       "      <th class=\"blank level0\" >&nbsp;</th>\n",
       "      <th id=\"T_672c7_level0_col0\" class=\"col_heading level0 col0\" >F_avg</th>\n",
       "      <th id=\"T_672c7_level0_col1\" class=\"col_heading level0 col1\" >Diamond distances</th>\n",
       "    </tr>\n",
       "  </thead>\n",
       "  <tbody>\n",
       "    <tr>\n",
       "      <th id=\"T_672c7_level0_row0\" class=\"row_heading level0 row0\" >Id</th>\n",
       "      <td id=\"T_672c7_row0_col0\" class=\"data row0 col0\" >0,99936</td>\n",
       "      <td id=\"T_672c7_row0_col1\" class=\"data row0 col1\" >0,03782</td>\n",
       "    </tr>\n",
       "    <tr>\n",
       "      <th id=\"T_672c7_level0_row1\" class=\"row_heading level0 row1\" >Rx(pi/2)[q0]</th>\n",
       "      <td id=\"T_672c7_row1_col0\" class=\"data row1 col0\" >0,75354</td>\n",
       "      <td id=\"T_672c7_row1_col1\" class=\"data row1 col1\" >0,72557</td>\n",
       "    </tr>\n",
       "    <tr>\n",
       "      <th id=\"T_672c7_level0_row2\" class=\"row_heading level0 row2\" >Ry(pi/2)[q0]</th>\n",
       "      <td id=\"T_672c7_row2_col0\" class=\"data row2 col0\" >0,71906</td>\n",
       "      <td id=\"T_672c7_row2_col1\" class=\"data row2 col1\" >0,74063</td>\n",
       "    </tr>\n",
       "    <tr>\n",
       "      <th id=\"T_672c7_level0_row3\" class=\"row_heading level0 row3\" >Rx(pi/2)[q1]</th>\n",
       "      <td id=\"T_672c7_row3_col0\" class=\"data row3 col0\" >0,62008</td>\n",
       "      <td id=\"T_672c7_row3_col1\" class=\"data row3 col1\" >0,87610</td>\n",
       "    </tr>\n",
       "    <tr>\n",
       "      <th id=\"T_672c7_level0_row4\" class=\"row_heading level0 row4\" >Ry(pi/2)[q1]</th>\n",
       "      <td id=\"T_672c7_row4_col0\" class=\"data row4 col0\" >0,63091</td>\n",
       "      <td id=\"T_672c7_row4_col1\" class=\"data row4 col1\" >0,85653</td>\n",
       "    </tr>\n",
       "    <tr>\n",
       "      <th id=\"T_672c7_level0_row5\" class=\"row_heading level0 row5\" >CZ[q0-q1]</th>\n",
       "      <td id=\"T_672c7_row5_col0\" class=\"data row5 col0\" >0,64152</td>\n",
       "      <td id=\"T_672c7_row5_col1\" class=\"data row5 col1\" >0,80400</td>\n",
       "    </tr>\n",
       "  </tbody>\n",
       "</table>\n"
      ],
      "text/plain": [
       "<pandas.io.formats.style.Styler at 0x7f95f192fe50>"
      ]
     },
     "metadata": {},
     "output_type": "display_data"
    },
    {
     "data": {
      "text/html": [
       "<style type=\"text/css\">\n",
       "#T_d1963 th.col_heading {\n",
       "  text-align: center;\n",
       "}\n",
       "#T_d1963 th.col_heading.level0 {\n",
       "  font-size: 1em;\n",
       "}\n",
       "#T_d1963 td {\n",
       "  text-align: center;\n",
       "}\n",
       "</style>\n",
       "<table id=\"T_d1963\">\n",
       "  <thead>\n",
       "    <tr>\n",
       "      <th class=\"blank level0\" >&nbsp;</th>\n",
       "      <th id=\"T_d1963_level0_col0\" class=\"col_heading level0 col0\" >Final cost function value</th>\n",
       "      <th id=\"T_d1963_level0_col1\" class=\"col_heading level0 col1\" >Mean total variation dist. to data</th>\n",
       "      <th id=\"T_d1963_level0_col2\" class=\"col_heading level0 col2\" >Mean total variation dist. target to data</th>\n",
       "      <th id=\"T_d1963_level0_col3\" class=\"col_heading level0 col3\" >POVM - Choi map trace distance</th>\n",
       "      <th id=\"T_d1963_level0_col4\" class=\"col_heading level0 col4\" >State - Trace distance</th>\n",
       "    </tr>\n",
       "  </thead>\n",
       "  <tbody>\n",
       "    <tr>\n",
       "      <th id=\"T_d1963_level0_row0\" class=\"row_heading level0 row0\" ></th>\n",
       "      <td id=\"T_d1963_row0_col0\" class=\"data row0 col0\" >0.006473</td>\n",
       "      <td id=\"T_d1963_row0_col1\" class=\"data row0 col1\" >0.114686</td>\n",
       "      <td id=\"T_d1963_row0_col2\" class=\"data row0 col2\" >0.184534</td>\n",
       "      <td id=\"T_d1963_row0_col3\" class=\"data row0 col3\" >0.727647</td>\n",
       "      <td id=\"T_d1963_row0_col4\" class=\"data row0 col4\" >0.919705</td>\n",
       "    </tr>\n",
       "  </tbody>\n",
       "</table>\n"
      ],
      "text/plain": [
       "<pandas.io.formats.style.Styler at 0x7f95f1a0edf0>"
      ]
     },
     "metadata": {},
     "output_type": "display_data"
    },
    {
     "name": "stderr",
     "output_type": "stream",
     "text": [
      "/home/raphael/.local/lib/python3.8/site-packages/pygsti/tools/optools.py:379: UserWarning: CVXPY failed: Solver 'CVXOPT' failed. Try another solver, or solve with verbose=True for more information. - diamonddist returning -2!\n",
      "  _warnings.warn(\"CVXPY failed: %s - diamonddist returning -2!\" % str(e))\n"
     ]
    },
    {
     "data": {
      "text/html": [
       "<style type=\"text/css\">\n",
       "#T_3b257 th.col_heading {\n",
       "  text-align: center;\n",
       "}\n",
       "#T_3b257 th.col_heading.level0 {\n",
       "  font-size: 1em;\n",
       "}\n",
       "#T_3b257 td {\n",
       "  text-align: center;\n",
       "}\n",
       "</style>\n",
       "<table id=\"T_3b257\">\n",
       "  <thead>\n",
       "    <tr>\n",
       "      <th class=\"blank level0\" >&nbsp;</th>\n",
       "      <th id=\"T_3b257_level0_col0\" class=\"col_heading level0 col0\" >F_avg</th>\n",
       "      <th id=\"T_3b257_level0_col1\" class=\"col_heading level0 col1\" >Diamond distances</th>\n",
       "    </tr>\n",
       "  </thead>\n",
       "  <tbody>\n",
       "    <tr>\n",
       "      <th id=\"T_3b257_level0_row0\" class=\"row_heading level0 row0\" >Id</th>\n",
       "      <td id=\"T_3b257_row0_col0\" class=\"data row0 col0\" >0,99692</td>\n",
       "      <td id=\"T_3b257_row0_col1\" class=\"data row0 col1\" >0,07285</td>\n",
       "    </tr>\n",
       "    <tr>\n",
       "      <th id=\"T_3b257_level0_row1\" class=\"row_heading level0 row1\" >Rx(pi/2)[q0]</th>\n",
       "      <td id=\"T_3b257_row1_col0\" class=\"data row1 col0\" >0,69020</td>\n",
       "      <td id=\"T_3b257_row1_col1\" class=\"data row1 col1\" >0,79093</td>\n",
       "    </tr>\n",
       "    <tr>\n",
       "      <th id=\"T_3b257_level0_row2\" class=\"row_heading level0 row2\" >Ry(pi/2)[q0]</th>\n",
       "      <td id=\"T_3b257_row2_col0\" class=\"data row2 col0\" >0,68024</td>\n",
       "      <td id=\"T_3b257_row2_col1\" class=\"data row2 col1\" >0,81564</td>\n",
       "    </tr>\n",
       "    <tr>\n",
       "      <th id=\"T_3b257_level0_row3\" class=\"row_heading level0 row3\" >Rx(pi/2)[q1]</th>\n",
       "      <td id=\"T_3b257_row3_col0\" class=\"data row3 col0\" >0,66284</td>\n",
       "      <td id=\"T_3b257_row3_col1\" class=\"data row3 col1\" >0,79776</td>\n",
       "    </tr>\n",
       "    <tr>\n",
       "      <th id=\"T_3b257_level0_row4\" class=\"row_heading level0 row4\" >Ry(pi/2)[q1]</th>\n",
       "      <td id=\"T_3b257_row4_col0\" class=\"data row4 col0\" >0,67190</td>\n",
       "      <td id=\"T_3b257_row4_col1\" class=\"data row4 col1\" >-1,00000</td>\n",
       "    </tr>\n",
       "    <tr>\n",
       "      <th id=\"T_3b257_level0_row5\" class=\"row_heading level0 row5\" >CZ[q0-q1]</th>\n",
       "      <td id=\"T_3b257_row5_col0\" class=\"data row5 col0\" >0,71137</td>\n",
       "      <td id=\"T_3b257_row5_col1\" class=\"data row5 col1\" >0,72018</td>\n",
       "    </tr>\n",
       "  </tbody>\n",
       "</table>\n"
      ],
      "text/plain": [
       "<pandas.io.formats.style.Styler at 0x7f95f1490ca0>"
      ]
     },
     "metadata": {},
     "output_type": "display_data"
    },
    {
     "data": {
      "text/html": [
       "<style type=\"text/css\">\n",
       "#T_3564f th.col_heading {\n",
       "  text-align: center;\n",
       "}\n",
       "#T_3564f th.col_heading.level0 {\n",
       "  font-size: 1em;\n",
       "}\n",
       "#T_3564f td {\n",
       "  text-align: center;\n",
       "}\n",
       "</style>\n",
       "<table id=\"T_3564f\">\n",
       "  <thead>\n",
       "    <tr>\n",
       "      <th class=\"blank level0\" >&nbsp;</th>\n",
       "      <th id=\"T_3564f_level0_col0\" class=\"col_heading level0 col0\" >Final cost function value</th>\n",
       "      <th id=\"T_3564f_level0_col1\" class=\"col_heading level0 col1\" >Mean total variation dist. to data</th>\n",
       "      <th id=\"T_3564f_level0_col2\" class=\"col_heading level0 col2\" >Mean total variation dist. target to data</th>\n",
       "      <th id=\"T_3564f_level0_col3\" class=\"col_heading level0 col3\" >POVM - Choi map trace distance</th>\n",
       "      <th id=\"T_3564f_level0_col4\" class=\"col_heading level0 col4\" >State - Trace distance</th>\n",
       "    </tr>\n",
       "  </thead>\n",
       "  <tbody>\n",
       "    <tr>\n",
       "      <th id=\"T_3564f_level0_row0\" class=\"row_heading level0 row0\" ></th>\n",
       "      <td id=\"T_3564f_row0_col0\" class=\"data row0 col0\" >0.006655</td>\n",
       "      <td id=\"T_3564f_row0_col1\" class=\"data row0 col1\" >0.116155</td>\n",
       "      <td id=\"T_3564f_row0_col2\" class=\"data row0 col2\" >0.184534</td>\n",
       "      <td id=\"T_3564f_row0_col3\" class=\"data row0 col3\" >0.627451</td>\n",
       "      <td id=\"T_3564f_row0_col4\" class=\"data row0 col4\" >0.777992</td>\n",
       "    </tr>\n",
       "  </tbody>\n",
       "</table>\n"
      ],
      "text/plain": [
       "<pandas.io.formats.style.Styler at 0x7f95f178aa30>"
      ]
     },
     "metadata": {},
     "output_type": "display_data"
    },
    {
     "data": {
      "text/html": [
       "<style type=\"text/css\">\n",
       "#T_f099f th.col_heading {\n",
       "  text-align: center;\n",
       "}\n",
       "#T_f099f th.col_heading.level0 {\n",
       "  font-size: 1em;\n",
       "}\n",
       "#T_f099f td {\n",
       "  text-align: center;\n",
       "}\n",
       "</style>\n",
       "<table id=\"T_f099f\">\n",
       "  <thead>\n",
       "    <tr>\n",
       "      <th class=\"blank level0\" >&nbsp;</th>\n",
       "      <th id=\"T_f099f_level0_col0\" class=\"col_heading level0 col0\" >F_avg</th>\n",
       "      <th id=\"T_f099f_level0_col1\" class=\"col_heading level0 col1\" >Diamond distances</th>\n",
       "    </tr>\n",
       "  </thead>\n",
       "  <tbody>\n",
       "    <tr>\n",
       "      <th id=\"T_f099f_level0_row0\" class=\"row_heading level0 row0\" >Id</th>\n",
       "      <td id=\"T_f099f_row0_col0\" class=\"data row0 col0\" >0,99930</td>\n",
       "      <td id=\"T_f099f_row0_col1\" class=\"data row0 col1\" >0,03959</td>\n",
       "    </tr>\n",
       "    <tr>\n",
       "      <th id=\"T_f099f_level0_row1\" class=\"row_heading level0 row1\" >Rx(pi/2)[q0]</th>\n",
       "      <td id=\"T_f099f_row1_col0\" class=\"data row1 col0\" >0,70053</td>\n",
       "      <td id=\"T_f099f_row1_col1\" class=\"data row1 col1\" >0,79491</td>\n",
       "    </tr>\n",
       "    <tr>\n",
       "      <th id=\"T_f099f_level0_row2\" class=\"row_heading level0 row2\" >Ry(pi/2)[q0]</th>\n",
       "      <td id=\"T_f099f_row2_col0\" class=\"data row2 col0\" >0,68363</td>\n",
       "      <td id=\"T_f099f_row2_col1\" class=\"data row2 col1\" >0,80104</td>\n",
       "    </tr>\n",
       "    <tr>\n",
       "      <th id=\"T_f099f_level0_row3\" class=\"row_heading level0 row3\" >Rx(pi/2)[q1]</th>\n",
       "      <td id=\"T_f099f_row3_col0\" class=\"data row3 col0\" >0,68914</td>\n",
       "      <td id=\"T_f099f_row3_col1\" class=\"data row3 col1\" >0,78516</td>\n",
       "    </tr>\n",
       "    <tr>\n",
       "      <th id=\"T_f099f_level0_row4\" class=\"row_heading level0 row4\" >Ry(pi/2)[q1]</th>\n",
       "      <td id=\"T_f099f_row4_col0\" class=\"data row4 col0\" >0,73448</td>\n",
       "      <td id=\"T_f099f_row4_col1\" class=\"data row4 col1\" >0,72923</td>\n",
       "    </tr>\n",
       "    <tr>\n",
       "      <th id=\"T_f099f_level0_row5\" class=\"row_heading level0 row5\" >CZ[q0-q1]</th>\n",
       "      <td id=\"T_f099f_row5_col0\" class=\"data row5 col0\" >0,66708</td>\n",
       "      <td id=\"T_f099f_row5_col1\" class=\"data row5 col1\" >0,78967</td>\n",
       "    </tr>\n",
       "  </tbody>\n",
       "</table>\n"
      ],
      "text/plain": [
       "<pandas.io.formats.style.Styler at 0x7f95f1775c10>"
      ]
     },
     "metadata": {},
     "output_type": "display_data"
    },
    {
     "data": {
      "text/html": [
       "<style type=\"text/css\">\n",
       "#T_e4f71 th.col_heading {\n",
       "  text-align: center;\n",
       "}\n",
       "#T_e4f71 th.col_heading.level0 {\n",
       "  font-size: 1em;\n",
       "}\n",
       "#T_e4f71 td {\n",
       "  text-align: center;\n",
       "}\n",
       "</style>\n",
       "<table id=\"T_e4f71\">\n",
       "  <thead>\n",
       "    <tr>\n",
       "      <th class=\"blank level0\" >&nbsp;</th>\n",
       "      <th id=\"T_e4f71_level0_col0\" class=\"col_heading level0 col0\" >Final cost function value</th>\n",
       "      <th id=\"T_e4f71_level0_col1\" class=\"col_heading level0 col1\" >Mean total variation dist. to data</th>\n",
       "      <th id=\"T_e4f71_level0_col2\" class=\"col_heading level0 col2\" >Mean total variation dist. target to data</th>\n",
       "      <th id=\"T_e4f71_level0_col3\" class=\"col_heading level0 col3\" >POVM - Choi map trace distance</th>\n",
       "      <th id=\"T_e4f71_level0_col4\" class=\"col_heading level0 col4\" >State - Trace distance</th>\n",
       "    </tr>\n",
       "  </thead>\n",
       "  <tbody>\n",
       "    <tr>\n",
       "      <th id=\"T_e4f71_level0_row0\" class=\"row_heading level0 row0\" ></th>\n",
       "      <td id=\"T_e4f71_row0_col0\" class=\"data row0 col0\" >0.006473</td>\n",
       "      <td id=\"T_e4f71_row0_col1\" class=\"data row0 col1\" >0.114664</td>\n",
       "      <td id=\"T_e4f71_row0_col2\" class=\"data row0 col2\" >0.184534</td>\n",
       "      <td id=\"T_e4f71_row0_col3\" class=\"data row0 col3\" >0.491837</td>\n",
       "      <td id=\"T_e4f71_row0_col4\" class=\"data row0 col4\" >0.311349</td>\n",
       "    </tr>\n",
       "  </tbody>\n",
       "</table>\n"
      ],
      "text/plain": [
       "<pandas.io.formats.style.Styler at 0x7f95f17c9fa0>"
      ]
     },
     "metadata": {},
     "output_type": "display_data"
    },
    {
     "data": {
      "text/html": [
       "<style type=\"text/css\">\n",
       "#T_076f4 th.col_heading {\n",
       "  text-align: center;\n",
       "}\n",
       "#T_076f4 th.col_heading.level0 {\n",
       "  font-size: 1em;\n",
       "}\n",
       "#T_076f4 td {\n",
       "  text-align: center;\n",
       "}\n",
       "</style>\n",
       "<table id=\"T_076f4\">\n",
       "  <thead>\n",
       "    <tr>\n",
       "      <th class=\"blank level0\" >&nbsp;</th>\n",
       "      <th id=\"T_076f4_level0_col0\" class=\"col_heading level0 col0\" >F_avg</th>\n",
       "      <th id=\"T_076f4_level0_col1\" class=\"col_heading level0 col1\" >Diamond distances</th>\n",
       "    </tr>\n",
       "  </thead>\n",
       "  <tbody>\n",
       "    <tr>\n",
       "      <th id=\"T_076f4_level0_row0\" class=\"row_heading level0 row0\" >Id</th>\n",
       "      <td id=\"T_076f4_row0_col0\" class=\"data row0 col0\" >0,99922</td>\n",
       "      <td id=\"T_076f4_row0_col1\" class=\"data row0 col1\" >0,04101</td>\n",
       "    </tr>\n",
       "    <tr>\n",
       "      <th id=\"T_076f4_level0_row1\" class=\"row_heading level0 row1\" >Rx(pi/2)[q0]</th>\n",
       "      <td id=\"T_076f4_row1_col0\" class=\"data row1 col0\" >0,75260</td>\n",
       "      <td id=\"T_076f4_row1_col1\" class=\"data row1 col1\" >0,73297</td>\n",
       "    </tr>\n",
       "    <tr>\n",
       "      <th id=\"T_076f4_level0_row2\" class=\"row_heading level0 row2\" >Ry(pi/2)[q0]</th>\n",
       "      <td id=\"T_076f4_row2_col0\" class=\"data row2 col0\" >0,71172</td>\n",
       "      <td id=\"T_076f4_row2_col1\" class=\"data row2 col1\" >0,73742</td>\n",
       "    </tr>\n",
       "    <tr>\n",
       "      <th id=\"T_076f4_level0_row3\" class=\"row_heading level0 row3\" >Rx(pi/2)[q1]</th>\n",
       "      <td id=\"T_076f4_row3_col0\" class=\"data row3 col0\" >0,62269</td>\n",
       "      <td id=\"T_076f4_row3_col1\" class=\"data row3 col1\" >0,87514</td>\n",
       "    </tr>\n",
       "    <tr>\n",
       "      <th id=\"T_076f4_level0_row4\" class=\"row_heading level0 row4\" >Ry(pi/2)[q1]</th>\n",
       "      <td id=\"T_076f4_row4_col0\" class=\"data row4 col0\" >0,63033</td>\n",
       "      <td id=\"T_076f4_row4_col1\" class=\"data row4 col1\" >0,85837</td>\n",
       "    </tr>\n",
       "    <tr>\n",
       "      <th id=\"T_076f4_level0_row5\" class=\"row_heading level0 row5\" >CZ[q0-q1]</th>\n",
       "      <td id=\"T_076f4_row5_col0\" class=\"data row5 col0\" >0,64773</td>\n",
       "      <td id=\"T_076f4_row5_col1\" class=\"data row5 col1\" >0,79788</td>\n",
       "    </tr>\n",
       "  </tbody>\n",
       "</table>\n"
      ],
      "text/plain": [
       "<pandas.io.formats.style.Styler at 0x7f95f195b4c0>"
      ]
     },
     "metadata": {},
     "output_type": "display_data"
    },
    {
     "data": {
      "text/html": [
       "<style type=\"text/css\">\n",
       "#T_47e90 th.col_heading {\n",
       "  text-align: center;\n",
       "}\n",
       "#T_47e90 th.col_heading.level0 {\n",
       "  font-size: 1em;\n",
       "}\n",
       "#T_47e90 td {\n",
       "  text-align: center;\n",
       "}\n",
       "</style>\n",
       "<table id=\"T_47e90\">\n",
       "  <thead>\n",
       "    <tr>\n",
       "      <th class=\"blank level0\" >&nbsp;</th>\n",
       "      <th id=\"T_47e90_level0_col0\" class=\"col_heading level0 col0\" >Final cost function value</th>\n",
       "      <th id=\"T_47e90_level0_col1\" class=\"col_heading level0 col1\" >Mean total variation dist. to data</th>\n",
       "      <th id=\"T_47e90_level0_col2\" class=\"col_heading level0 col2\" >Mean total variation dist. target to data</th>\n",
       "      <th id=\"T_47e90_level0_col3\" class=\"col_heading level0 col3\" >POVM - Choi map trace distance</th>\n",
       "      <th id=\"T_47e90_level0_col4\" class=\"col_heading level0 col4\" >State - Trace distance</th>\n",
       "    </tr>\n",
       "  </thead>\n",
       "  <tbody>\n",
       "    <tr>\n",
       "      <th id=\"T_47e90_level0_row0\" class=\"row_heading level0 row0\" ></th>\n",
       "      <td id=\"T_47e90_row0_col0\" class=\"data row0 col0\" >0.006477</td>\n",
       "      <td id=\"T_47e90_row0_col1\" class=\"data row0 col1\" >0.114581</td>\n",
       "      <td id=\"T_47e90_row0_col2\" class=\"data row0 col2\" >0.184534</td>\n",
       "      <td id=\"T_47e90_row0_col3\" class=\"data row0 col3\" >0.725439</td>\n",
       "      <td id=\"T_47e90_row0_col4\" class=\"data row0 col4\" >0.916337</td>\n",
       "    </tr>\n",
       "  </tbody>\n",
       "</table>\n"
      ],
      "text/plain": [
       "<pandas.io.formats.style.Styler at 0x7f95f18e1370>"
      ]
     },
     "metadata": {},
     "output_type": "display_data"
    },
    {
     "name": "stderr",
     "output_type": "stream",
     "text": [
      "/home/raphael/.local/lib/python3.8/site-packages/pygsti/tools/optools.py:379: UserWarning: CVXPY failed: Solver 'CVXOPT' failed. Try another solver, or solve with verbose=True for more information. - diamonddist returning -2!\n",
      "  _warnings.warn(\"CVXPY failed: %s - diamonddist returning -2!\" % str(e))\n"
     ]
    },
    {
     "data": {
      "text/html": [
       "<style type=\"text/css\">\n",
       "#T_b01f1 th.col_heading {\n",
       "  text-align: center;\n",
       "}\n",
       "#T_b01f1 th.col_heading.level0 {\n",
       "  font-size: 1em;\n",
       "}\n",
       "#T_b01f1 td {\n",
       "  text-align: center;\n",
       "}\n",
       "</style>\n",
       "<table id=\"T_b01f1\">\n",
       "  <thead>\n",
       "    <tr>\n",
       "      <th class=\"blank level0\" >&nbsp;</th>\n",
       "      <th id=\"T_b01f1_level0_col0\" class=\"col_heading level0 col0\" >F_avg</th>\n",
       "      <th id=\"T_b01f1_level0_col1\" class=\"col_heading level0 col1\" >Diamond distances</th>\n",
       "    </tr>\n",
       "  </thead>\n",
       "  <tbody>\n",
       "    <tr>\n",
       "      <th id=\"T_b01f1_level0_row0\" class=\"row_heading level0 row0\" >Id</th>\n",
       "      <td id=\"T_b01f1_row0_col0\" class=\"data row0 col0\" >0,99797</td>\n",
       "      <td id=\"T_b01f1_row0_col1\" class=\"data row0 col1\" >0,06225</td>\n",
       "    </tr>\n",
       "    <tr>\n",
       "      <th id=\"T_b01f1_level0_row1\" class=\"row_heading level0 row1\" >Rx(pi/2)[q0]</th>\n",
       "      <td id=\"T_b01f1_row1_col0\" class=\"data row1 col0\" >0,77758</td>\n",
       "      <td id=\"T_b01f1_row1_col1\" class=\"data row1 col1\" >-1,00000</td>\n",
       "    </tr>\n",
       "    <tr>\n",
       "      <th id=\"T_b01f1_level0_row2\" class=\"row_heading level0 row2\" >Ry(pi/2)[q0]</th>\n",
       "      <td id=\"T_b01f1_row2_col0\" class=\"data row2 col0\" >0,68796</td>\n",
       "      <td id=\"T_b01f1_row2_col1\" class=\"data row2 col1\" >0,79944</td>\n",
       "    </tr>\n",
       "    <tr>\n",
       "      <th id=\"T_b01f1_level0_row3\" class=\"row_heading level0 row3\" >Rx(pi/2)[q1]</th>\n",
       "      <td id=\"T_b01f1_row3_col0\" class=\"data row3 col0\" >0,50893</td>\n",
       "      <td id=\"T_b01f1_row3_col1\" class=\"data row3 col1\" >0,95251</td>\n",
       "    </tr>\n",
       "    <tr>\n",
       "      <th id=\"T_b01f1_level0_row4\" class=\"row_heading level0 row4\" >Ry(pi/2)[q1]</th>\n",
       "      <td id=\"T_b01f1_row4_col0\" class=\"data row4 col0\" >0,70834</td>\n",
       "      <td id=\"T_b01f1_row4_col1\" class=\"data row4 col1\" >0,74567</td>\n",
       "    </tr>\n",
       "    <tr>\n",
       "      <th id=\"T_b01f1_level0_row5\" class=\"row_heading level0 row5\" >CZ[q0-q1]</th>\n",
       "      <td id=\"T_b01f1_row5_col0\" class=\"data row5 col0\" >0,28557</td>\n",
       "      <td id=\"T_b01f1_row5_col1\" class=\"data row5 col1\" >1,00000</td>\n",
       "    </tr>\n",
       "  </tbody>\n",
       "</table>\n"
      ],
      "text/plain": [
       "<pandas.io.formats.style.Styler at 0x7f95f1a43f70>"
      ]
     },
     "metadata": {},
     "output_type": "display_data"
    },
    {
     "data": {
      "text/html": [
       "<style type=\"text/css\">\n",
       "#T_78149 th.col_heading {\n",
       "  text-align: center;\n",
       "}\n",
       "#T_78149 th.col_heading.level0 {\n",
       "  font-size: 1em;\n",
       "}\n",
       "#T_78149 td {\n",
       "  text-align: center;\n",
       "}\n",
       "</style>\n",
       "<table id=\"T_78149\">\n",
       "  <thead>\n",
       "    <tr>\n",
       "      <th class=\"blank level0\" >&nbsp;</th>\n",
       "      <th id=\"T_78149_level0_col0\" class=\"col_heading level0 col0\" >Final cost function value</th>\n",
       "      <th id=\"T_78149_level0_col1\" class=\"col_heading level0 col1\" >Mean total variation dist. to data</th>\n",
       "      <th id=\"T_78149_level0_col2\" class=\"col_heading level0 col2\" >Mean total variation dist. target to data</th>\n",
       "      <th id=\"T_78149_level0_col3\" class=\"col_heading level0 col3\" >POVM - Choi map trace distance</th>\n",
       "      <th id=\"T_78149_level0_col4\" class=\"col_heading level0 col4\" >State - Trace distance</th>\n",
       "    </tr>\n",
       "  </thead>\n",
       "  <tbody>\n",
       "    <tr>\n",
       "      <th id=\"T_78149_level0_row0\" class=\"row_heading level0 row0\" ></th>\n",
       "      <td id=\"T_78149_row0_col0\" class=\"data row0 col0\" >0.007254</td>\n",
       "      <td id=\"T_78149_row0_col1\" class=\"data row0 col1\" >0.121568</td>\n",
       "      <td id=\"T_78149_row0_col2\" class=\"data row0 col2\" >0.184534</td>\n",
       "      <td id=\"T_78149_row0_col3\" class=\"data row0 col3\" >0.481477</td>\n",
       "      <td id=\"T_78149_row0_col4\" class=\"data row0 col4\" >0.564890</td>\n",
       "    </tr>\n",
       "  </tbody>\n",
       "</table>\n"
      ],
      "text/plain": [
       "<pandas.io.formats.style.Styler at 0x7f95f14cf6d0>"
      ]
     },
     "metadata": {},
     "output_type": "display_data"
    },
    {
     "data": {
      "text/html": [
       "<style type=\"text/css\">\n",
       "#T_216ba th.col_heading {\n",
       "  text-align: center;\n",
       "}\n",
       "#T_216ba th.col_heading.level0 {\n",
       "  font-size: 1em;\n",
       "}\n",
       "#T_216ba td {\n",
       "  text-align: center;\n",
       "}\n",
       "</style>\n",
       "<table id=\"T_216ba\">\n",
       "  <thead>\n",
       "    <tr>\n",
       "      <th class=\"blank level0\" >&nbsp;</th>\n",
       "      <th id=\"T_216ba_level0_col0\" class=\"col_heading level0 col0\" >F_avg</th>\n",
       "      <th id=\"T_216ba_level0_col1\" class=\"col_heading level0 col1\" >Diamond distances</th>\n",
       "    </tr>\n",
       "  </thead>\n",
       "  <tbody>\n",
       "    <tr>\n",
       "      <th id=\"T_216ba_level0_row0\" class=\"row_heading level0 row0\" >Id</th>\n",
       "      <td id=\"T_216ba_row0_col0\" class=\"data row0 col0\" >0,99959</td>\n",
       "      <td id=\"T_216ba_row0_col1\" class=\"data row0 col1\" >0,03086</td>\n",
       "    </tr>\n",
       "    <tr>\n",
       "      <th id=\"T_216ba_level0_row1\" class=\"row_heading level0 row1\" >Rx(pi/2)[q0]</th>\n",
       "      <td id=\"T_216ba_row1_col0\" class=\"data row1 col0\" >0,99726</td>\n",
       "      <td id=\"T_216ba_row1_col1\" class=\"data row1 col1\" >0,06874</td>\n",
       "    </tr>\n",
       "    <tr>\n",
       "      <th id=\"T_216ba_level0_row2\" class=\"row_heading level0 row2\" >Ry(pi/2)[q0]</th>\n",
       "      <td id=\"T_216ba_row2_col0\" class=\"data row2 col0\" >0,99677</td>\n",
       "      <td id=\"T_216ba_row2_col1\" class=\"data row2 col1\" >0,08812</td>\n",
       "    </tr>\n",
       "    <tr>\n",
       "      <th id=\"T_216ba_level0_row3\" class=\"row_heading level0 row3\" >Rx(pi/2)[q1]</th>\n",
       "      <td id=\"T_216ba_row3_col0\" class=\"data row3 col0\" >0,20001</td>\n",
       "      <td id=\"T_216ba_row3_col1\" class=\"data row3 col1\" >1,00000</td>\n",
       "    </tr>\n",
       "    <tr>\n",
       "      <th id=\"T_216ba_level0_row4\" class=\"row_heading level0 row4\" >Ry(pi/2)[q1]</th>\n",
       "      <td id=\"T_216ba_row4_col0\" class=\"data row4 col0\" >0,98984</td>\n",
       "      <td id=\"T_216ba_row4_col1\" class=\"data row4 col1\" >0,13995</td>\n",
       "    </tr>\n",
       "    <tr>\n",
       "      <th id=\"T_216ba_level0_row5\" class=\"row_heading level0 row5\" >CZ[q0-q1]</th>\n",
       "      <td id=\"T_216ba_row5_col0\" class=\"data row5 col0\" >0,76863</td>\n",
       "      <td id=\"T_216ba_row5_col1\" class=\"data row5 col1\" >0,70881</td>\n",
       "    </tr>\n",
       "  </tbody>\n",
       "</table>\n"
      ],
      "text/plain": [
       "<pandas.io.formats.style.Styler at 0x7f95f1914a90>"
      ]
     },
     "metadata": {},
     "output_type": "display_data"
    },
    {
     "data": {
      "text/html": [
       "<style type=\"text/css\">\n",
       "#T_9973c th.col_heading {\n",
       "  text-align: center;\n",
       "}\n",
       "#T_9973c th.col_heading.level0 {\n",
       "  font-size: 1em;\n",
       "}\n",
       "#T_9973c td {\n",
       "  text-align: center;\n",
       "}\n",
       "</style>\n",
       "<table id=\"T_9973c\">\n",
       "  <thead>\n",
       "    <tr>\n",
       "      <th class=\"blank level0\" >&nbsp;</th>\n",
       "      <th id=\"T_9973c_level0_col0\" class=\"col_heading level0 col0\" >Final cost function value</th>\n",
       "      <th id=\"T_9973c_level0_col1\" class=\"col_heading level0 col1\" >Mean total variation dist. to data</th>\n",
       "      <th id=\"T_9973c_level0_col2\" class=\"col_heading level0 col2\" >Mean total variation dist. target to data</th>\n",
       "      <th id=\"T_9973c_level0_col3\" class=\"col_heading level0 col3\" >POVM - Choi map trace distance</th>\n",
       "      <th id=\"T_9973c_level0_col4\" class=\"col_heading level0 col4\" >State - Trace distance</th>\n",
       "    </tr>\n",
       "  </thead>\n",
       "  <tbody>\n",
       "    <tr>\n",
       "      <th id=\"T_9973c_level0_row0\" class=\"row_heading level0 row0\" ></th>\n",
       "      <td id=\"T_9973c_row0_col0\" class=\"data row0 col0\" >0.002670</td>\n",
       "      <td id=\"T_9973c_row0_col1\" class=\"data row0 col1\" >0.054409</td>\n",
       "      <td id=\"T_9973c_row0_col2\" class=\"data row0 col2\" >0.184534</td>\n",
       "      <td id=\"T_9973c_row0_col3\" class=\"data row0 col3\" >0.657657</td>\n",
       "      <td id=\"T_9973c_row0_col4\" class=\"data row0 col4\" >0.996071</td>\n",
       "    </tr>\n",
       "  </tbody>\n",
       "</table>\n"
      ],
      "text/plain": [
       "<pandas.io.formats.style.Styler at 0x7f95f15679a0>"
      ]
     },
     "metadata": {},
     "output_type": "display_data"
    },
    {
     "data": {
      "text/html": [
       "<style type=\"text/css\">\n",
       "#T_14063 th.col_heading {\n",
       "  text-align: center;\n",
       "}\n",
       "#T_14063 th.col_heading.level0 {\n",
       "  font-size: 1em;\n",
       "}\n",
       "#T_14063 td {\n",
       "  text-align: center;\n",
       "}\n",
       "</style>\n",
       "<table id=\"T_14063\">\n",
       "  <thead>\n",
       "    <tr>\n",
       "      <th class=\"blank level0\" >&nbsp;</th>\n",
       "      <th id=\"T_14063_level0_col0\" class=\"col_heading level0 col0\" >F_avg</th>\n",
       "      <th id=\"T_14063_level0_col1\" class=\"col_heading level0 col1\" >Diamond distances</th>\n",
       "    </tr>\n",
       "  </thead>\n",
       "  <tbody>\n",
       "    <tr>\n",
       "      <th id=\"T_14063_level0_row0\" class=\"row_heading level0 row0\" >Id</th>\n",
       "      <td id=\"T_14063_row0_col0\" class=\"data row0 col0\" >0,99920</td>\n",
       "      <td id=\"T_14063_row0_col1\" class=\"data row0 col1\" >0,03919</td>\n",
       "    </tr>\n",
       "    <tr>\n",
       "      <th id=\"T_14063_level0_row1\" class=\"row_heading level0 row1\" >Rx(pi/2)[q0]</th>\n",
       "      <td id=\"T_14063_row1_col0\" class=\"data row1 col0\" >0,99606</td>\n",
       "      <td id=\"T_14063_row1_col1\" class=\"data row1 col1\" >0,08719</td>\n",
       "    </tr>\n",
       "    <tr>\n",
       "      <th id=\"T_14063_level0_row2\" class=\"row_heading level0 row2\" >Ry(pi/2)[q0]</th>\n",
       "      <td id=\"T_14063_row2_col0\" class=\"data row2 col0\" >0,99672</td>\n",
       "      <td id=\"T_14063_row2_col1\" class=\"data row2 col1\" >0,08818</td>\n",
       "    </tr>\n",
       "    <tr>\n",
       "      <th id=\"T_14063_level0_row3\" class=\"row_heading level0 row3\" >Rx(pi/2)[q1]</th>\n",
       "      <td id=\"T_14063_row3_col0\" class=\"data row3 col0\" >0,99270</td>\n",
       "      <td id=\"T_14063_row3_col1\" class=\"data row3 col1\" >0,11631</td>\n",
       "    </tr>\n",
       "    <tr>\n",
       "      <th id=\"T_14063_level0_row4\" class=\"row_heading level0 row4\" >Ry(pi/2)[q1]</th>\n",
       "      <td id=\"T_14063_row4_col0\" class=\"data row4 col0\" >0,98920</td>\n",
       "      <td id=\"T_14063_row4_col1\" class=\"data row4 col1\" >0,14259</td>\n",
       "    </tr>\n",
       "    <tr>\n",
       "      <th id=\"T_14063_level0_row5\" class=\"row_heading level0 row5\" >CZ[q0-q1]</th>\n",
       "      <td id=\"T_14063_row5_col0\" class=\"data row5 col0\" >0,21036</td>\n",
       "      <td id=\"T_14063_row5_col1\" class=\"data row5 col1\" >1,00000</td>\n",
       "    </tr>\n",
       "  </tbody>\n",
       "</table>\n"
      ],
      "text/plain": [
       "<pandas.io.formats.style.Styler at 0x7f95f15a2910>"
      ]
     },
     "metadata": {},
     "output_type": "display_data"
    },
    {
     "data": {
      "text/html": [
       "<style type=\"text/css\">\n",
       "#T_441e1 th.col_heading {\n",
       "  text-align: center;\n",
       "}\n",
       "#T_441e1 th.col_heading.level0 {\n",
       "  font-size: 1em;\n",
       "}\n",
       "#T_441e1 td {\n",
       "  text-align: center;\n",
       "}\n",
       "</style>\n",
       "<table id=\"T_441e1\">\n",
       "  <thead>\n",
       "    <tr>\n",
       "      <th class=\"blank level0\" >&nbsp;</th>\n",
       "      <th id=\"T_441e1_level0_col0\" class=\"col_heading level0 col0\" >Final cost function value</th>\n",
       "      <th id=\"T_441e1_level0_col1\" class=\"col_heading level0 col1\" >Mean total variation dist. to data</th>\n",
       "      <th id=\"T_441e1_level0_col2\" class=\"col_heading level0 col2\" >Mean total variation dist. target to data</th>\n",
       "      <th id=\"T_441e1_level0_col3\" class=\"col_heading level0 col3\" >POVM - Choi map trace distance</th>\n",
       "      <th id=\"T_441e1_level0_col4\" class=\"col_heading level0 col4\" >State - Trace distance</th>\n",
       "    </tr>\n",
       "  </thead>\n",
       "  <tbody>\n",
       "    <tr>\n",
       "      <th id=\"T_441e1_level0_row0\" class=\"row_heading level0 row0\" ></th>\n",
       "      <td id=\"T_441e1_row0_col0\" class=\"data row0 col0\" >0.003461</td>\n",
       "      <td id=\"T_441e1_row0_col1\" class=\"data row0 col1\" >0.065205</td>\n",
       "      <td id=\"T_441e1_row0_col2\" class=\"data row0 col2\" >0.184534</td>\n",
       "      <td id=\"T_441e1_row0_col3\" class=\"data row0 col3\" >0.607649</td>\n",
       "      <td id=\"T_441e1_row0_col4\" class=\"data row0 col4\" >0.999314</td>\n",
       "    </tr>\n",
       "  </tbody>\n",
       "</table>\n"
      ],
      "text/plain": [
       "<pandas.io.formats.style.Styler at 0x7f95f13d87f0>"
      ]
     },
     "metadata": {},
     "output_type": "display_data"
    },
    {
     "data": {
      "text/html": [
       "<style type=\"text/css\">\n",
       "#T_29e9c th.col_heading {\n",
       "  text-align: center;\n",
       "}\n",
       "#T_29e9c th.col_heading.level0 {\n",
       "  font-size: 1em;\n",
       "}\n",
       "#T_29e9c td {\n",
       "  text-align: center;\n",
       "}\n",
       "</style>\n",
       "<table id=\"T_29e9c\">\n",
       "  <thead>\n",
       "    <tr>\n",
       "      <th class=\"blank level0\" >&nbsp;</th>\n",
       "      <th id=\"T_29e9c_level0_col0\" class=\"col_heading level0 col0\" >F_avg</th>\n",
       "      <th id=\"T_29e9c_level0_col1\" class=\"col_heading level0 col1\" >Diamond distances</th>\n",
       "    </tr>\n",
       "  </thead>\n",
       "  <tbody>\n",
       "    <tr>\n",
       "      <th id=\"T_29e9c_level0_row0\" class=\"row_heading level0 row0\" >Id</th>\n",
       "      <td id=\"T_29e9c_row0_col0\" class=\"data row0 col0\" >0,99931</td>\n",
       "      <td id=\"T_29e9c_row0_col1\" class=\"data row0 col1\" >0,03931</td>\n",
       "    </tr>\n",
       "    <tr>\n",
       "      <th id=\"T_29e9c_level0_row1\" class=\"row_heading level0 row1\" >Rx(pi/2)[q0]</th>\n",
       "      <td id=\"T_29e9c_row1_col0\" class=\"data row1 col0\" >0,70044</td>\n",
       "      <td id=\"T_29e9c_row1_col1\" class=\"data row1 col1\" >0,79491</td>\n",
       "    </tr>\n",
       "    <tr>\n",
       "      <th id=\"T_29e9c_level0_row2\" class=\"row_heading level0 row2\" >Ry(pi/2)[q0]</th>\n",
       "      <td id=\"T_29e9c_row2_col0\" class=\"data row2 col0\" >0,68380</td>\n",
       "      <td id=\"T_29e9c_row2_col1\" class=\"data row2 col1\" >0,80082</td>\n",
       "    </tr>\n",
       "    <tr>\n",
       "      <th id=\"T_29e9c_level0_row3\" class=\"row_heading level0 row3\" >Rx(pi/2)[q1]</th>\n",
       "      <td id=\"T_29e9c_row3_col0\" class=\"data row3 col0\" >0,68928</td>\n",
       "      <td id=\"T_29e9c_row3_col1\" class=\"data row3 col1\" >0,78507</td>\n",
       "    </tr>\n",
       "    <tr>\n",
       "      <th id=\"T_29e9c_level0_row4\" class=\"row_heading level0 row4\" >Ry(pi/2)[q1]</th>\n",
       "      <td id=\"T_29e9c_row4_col0\" class=\"data row4 col0\" >0,73485</td>\n",
       "      <td id=\"T_29e9c_row4_col1\" class=\"data row4 col1\" >0,72839</td>\n",
       "    </tr>\n",
       "    <tr>\n",
       "      <th id=\"T_29e9c_level0_row5\" class=\"row_heading level0 row5\" >CZ[q0-q1]</th>\n",
       "      <td id=\"T_29e9c_row5_col0\" class=\"data row5 col0\" >0,66726</td>\n",
       "      <td id=\"T_29e9c_row5_col1\" class=\"data row5 col1\" >0,78948</td>\n",
       "    </tr>\n",
       "  </tbody>\n",
       "</table>\n"
      ],
      "text/plain": [
       "<pandas.io.formats.style.Styler at 0x7f95f13bbf40>"
      ]
     },
     "metadata": {},
     "output_type": "display_data"
    },
    {
     "data": {
      "text/html": [
       "<style type=\"text/css\">\n",
       "#T_f5a18 th.col_heading {\n",
       "  text-align: center;\n",
       "}\n",
       "#T_f5a18 th.col_heading.level0 {\n",
       "  font-size: 1em;\n",
       "}\n",
       "#T_f5a18 td {\n",
       "  text-align: center;\n",
       "}\n",
       "</style>\n",
       "<table id=\"T_f5a18\">\n",
       "  <thead>\n",
       "    <tr>\n",
       "      <th class=\"blank level0\" >&nbsp;</th>\n",
       "      <th id=\"T_f5a18_level0_col0\" class=\"col_heading level0 col0\" >Final cost function value</th>\n",
       "      <th id=\"T_f5a18_level0_col1\" class=\"col_heading level0 col1\" >Mean total variation dist. to data</th>\n",
       "      <th id=\"T_f5a18_level0_col2\" class=\"col_heading level0 col2\" >Mean total variation dist. target to data</th>\n",
       "      <th id=\"T_f5a18_level0_col3\" class=\"col_heading level0 col3\" >POVM - Choi map trace distance</th>\n",
       "      <th id=\"T_f5a18_level0_col4\" class=\"col_heading level0 col4\" >State - Trace distance</th>\n",
       "    </tr>\n",
       "  </thead>\n",
       "  <tbody>\n",
       "    <tr>\n",
       "      <th id=\"T_f5a18_level0_row0\" class=\"row_heading level0 row0\" ></th>\n",
       "      <td id=\"T_f5a18_row0_col0\" class=\"data row0 col0\" >0.006473</td>\n",
       "      <td id=\"T_f5a18_row0_col1\" class=\"data row0 col1\" >0.114696</td>\n",
       "      <td id=\"T_f5a18_row0_col2\" class=\"data row0 col2\" >0.184534</td>\n",
       "      <td id=\"T_f5a18_row0_col3\" class=\"data row0 col3\" >0.491390</td>\n",
       "      <td id=\"T_f5a18_row0_col4\" class=\"data row0 col4\" >0.311788</td>\n",
       "    </tr>\n",
       "  </tbody>\n",
       "</table>\n"
      ],
      "text/plain": [
       "<pandas.io.formats.style.Styler at 0x7f95f1644910>"
      ]
     },
     "metadata": {},
     "output_type": "display_data"
    },
    {
     "name": "stderr",
     "output_type": "stream",
     "text": [
      "/home/raphael/.local/lib/python3.8/site-packages/pygsti/tools/optools.py:379: UserWarning: CVXPY failed: Solver 'CVXOPT' failed. Try another solver, or solve with verbose=True for more information. - diamonddist returning -2!\n",
      "  _warnings.warn(\"CVXPY failed: %s - diamonddist returning -2!\" % str(e))\n"
     ]
    },
    {
     "data": {
      "text/html": [
       "<style type=\"text/css\">\n",
       "#T_6c7bf th.col_heading {\n",
       "  text-align: center;\n",
       "}\n",
       "#T_6c7bf th.col_heading.level0 {\n",
       "  font-size: 1em;\n",
       "}\n",
       "#T_6c7bf td {\n",
       "  text-align: center;\n",
       "}\n",
       "</style>\n",
       "<table id=\"T_6c7bf\">\n",
       "  <thead>\n",
       "    <tr>\n",
       "      <th class=\"blank level0\" >&nbsp;</th>\n",
       "      <th id=\"T_6c7bf_level0_col0\" class=\"col_heading level0 col0\" >F_avg</th>\n",
       "      <th id=\"T_6c7bf_level0_col1\" class=\"col_heading level0 col1\" >Diamond distances</th>\n",
       "    </tr>\n",
       "  </thead>\n",
       "  <tbody>\n",
       "    <tr>\n",
       "      <th id=\"T_6c7bf_level0_row0\" class=\"row_heading level0 row0\" >Id</th>\n",
       "      <td id=\"T_6c7bf_row0_col0\" class=\"data row0 col0\" >0,99972</td>\n",
       "      <td id=\"T_6c7bf_row0_col1\" class=\"data row0 col1\" >0,02453</td>\n",
       "    </tr>\n",
       "    <tr>\n",
       "      <th id=\"T_6c7bf_level0_row1\" class=\"row_heading level0 row1\" >Rx(pi/2)[q0]</th>\n",
       "      <td id=\"T_6c7bf_row1_col0\" class=\"data row1 col0\" >0,99823</td>\n",
       "      <td id=\"T_6c7bf_row1_col1\" class=\"data row1 col1\" >0,05583</td>\n",
       "    </tr>\n",
       "    <tr>\n",
       "      <th id=\"T_6c7bf_level0_row2\" class=\"row_heading level0 row2\" >Ry(pi/2)[q0]</th>\n",
       "      <td id=\"T_6c7bf_row2_col0\" class=\"data row2 col0\" >0,99815</td>\n",
       "      <td id=\"T_6c7bf_row2_col1\" class=\"data row2 col1\" >0,06508</td>\n",
       "    </tr>\n",
       "    <tr>\n",
       "      <th id=\"T_6c7bf_level0_row3\" class=\"row_heading level0 row3\" >Rx(pi/2)[q1]</th>\n",
       "      <td id=\"T_6c7bf_row3_col0\" class=\"data row3 col0\" >0,20001</td>\n",
       "      <td id=\"T_6c7bf_row3_col1\" class=\"data row3 col1\" >-1,00000</td>\n",
       "    </tr>\n",
       "    <tr>\n",
       "      <th id=\"T_6c7bf_level0_row4\" class=\"row_heading level0 row4\" >Ry(pi/2)[q1]</th>\n",
       "      <td id=\"T_6c7bf_row4_col0\" class=\"data row4 col0\" >0,99185</td>\n",
       "      <td id=\"T_6c7bf_row4_col1\" class=\"data row4 col1\" >0,12379</td>\n",
       "    </tr>\n",
       "    <tr>\n",
       "      <th id=\"T_6c7bf_level0_row5\" class=\"row_heading level0 row5\" >CZ[q0-q1]</th>\n",
       "      <td id=\"T_6c7bf_row5_col0\" class=\"data row5 col0\" >0,57156</td>\n",
       "      <td id=\"T_6c7bf_row5_col1\" class=\"data row5 col1\" >0,87575</td>\n",
       "    </tr>\n",
       "  </tbody>\n",
       "</table>\n"
      ],
      "text/plain": [
       "<pandas.io.formats.style.Styler at 0x7f95f17d3c10>"
      ]
     },
     "metadata": {},
     "output_type": "display_data"
    },
    {
     "data": {
      "text/html": [
       "<style type=\"text/css\">\n",
       "#T_e7298 th.col_heading {\n",
       "  text-align: center;\n",
       "}\n",
       "#T_e7298 th.col_heading.level0 {\n",
       "  font-size: 1em;\n",
       "}\n",
       "#T_e7298 td {\n",
       "  text-align: center;\n",
       "}\n",
       "</style>\n",
       "<table id=\"T_e7298\">\n",
       "  <thead>\n",
       "    <tr>\n",
       "      <th class=\"blank level0\" >&nbsp;</th>\n",
       "      <th id=\"T_e7298_level0_col0\" class=\"col_heading level0 col0\" >Final cost function value</th>\n",
       "      <th id=\"T_e7298_level0_col1\" class=\"col_heading level0 col1\" >Mean total variation dist. to data</th>\n",
       "      <th id=\"T_e7298_level0_col2\" class=\"col_heading level0 col2\" >Mean total variation dist. target to data</th>\n",
       "      <th id=\"T_e7298_level0_col3\" class=\"col_heading level0 col3\" >POVM - Choi map trace distance</th>\n",
       "      <th id=\"T_e7298_level0_col4\" class=\"col_heading level0 col4\" >State - Trace distance</th>\n",
       "    </tr>\n",
       "  </thead>\n",
       "  <tbody>\n",
       "    <tr>\n",
       "      <th id=\"T_e7298_level0_row0\" class=\"row_heading level0 row0\" ></th>\n",
       "      <td id=\"T_e7298_row0_col0\" class=\"data row0 col0\" >0.003367</td>\n",
       "      <td id=\"T_e7298_row0_col1\" class=\"data row0 col1\" >0.065386</td>\n",
       "      <td id=\"T_e7298_row0_col2\" class=\"data row0 col2\" >0.184534</td>\n",
       "      <td id=\"T_e7298_row0_col3\" class=\"data row0 col3\" >0.196252</td>\n",
       "      <td id=\"T_e7298_row0_col4\" class=\"data row0 col4\" >0.085474</td>\n",
       "    </tr>\n",
       "  </tbody>\n",
       "</table>\n"
      ],
      "text/plain": [
       "<pandas.io.formats.style.Styler at 0x7f95f136a460>"
      ]
     },
     "metadata": {},
     "output_type": "display_data"
    },
    {
     "name": "stderr",
     "output_type": "stream",
     "text": [
      "/home/raphael/.local/lib/python3.8/site-packages/pygsti/tools/optools.py:379: UserWarning: CVXPY failed: Solver 'CVXOPT' failed. Try another solver, or solve with verbose=True for more information. - diamonddist returning -2!\n",
      "  _warnings.warn(\"CVXPY failed: %s - diamonddist returning -2!\" % str(e))\n"
     ]
    },
    {
     "data": {
      "text/html": [
       "<style type=\"text/css\">\n",
       "#T_e1b41 th.col_heading {\n",
       "  text-align: center;\n",
       "}\n",
       "#T_e1b41 th.col_heading.level0 {\n",
       "  font-size: 1em;\n",
       "}\n",
       "#T_e1b41 td {\n",
       "  text-align: center;\n",
       "}\n",
       "</style>\n",
       "<table id=\"T_e1b41\">\n",
       "  <thead>\n",
       "    <tr>\n",
       "      <th class=\"blank level0\" >&nbsp;</th>\n",
       "      <th id=\"T_e1b41_level0_col0\" class=\"col_heading level0 col0\" >F_avg</th>\n",
       "      <th id=\"T_e1b41_level0_col1\" class=\"col_heading level0 col1\" >Diamond distances</th>\n",
       "    </tr>\n",
       "  </thead>\n",
       "  <tbody>\n",
       "    <tr>\n",
       "      <th id=\"T_e1b41_level0_row0\" class=\"row_heading level0 row0\" >Id</th>\n",
       "      <td id=\"T_e1b41_row0_col0\" class=\"data row0 col0\" >0,99947</td>\n",
       "      <td id=\"T_e1b41_row0_col1\" class=\"data row0 col1\" >0,03305</td>\n",
       "    </tr>\n",
       "    <tr>\n",
       "      <th id=\"T_e1b41_level0_row1\" class=\"row_heading level0 row1\" >Rx(pi/2)[q0]</th>\n",
       "      <td id=\"T_e1b41_row1_col0\" class=\"data row1 col0\" >0,66563</td>\n",
       "      <td id=\"T_e1b41_row1_col1\" class=\"data row1 col1\" >-1,00000</td>\n",
       "    </tr>\n",
       "    <tr>\n",
       "      <th id=\"T_e1b41_level0_row2\" class=\"row_heading level0 row2\" >Ry(pi/2)[q0]</th>\n",
       "      <td id=\"T_e1b41_row2_col0\" class=\"data row2 col0\" >0,66139</td>\n",
       "      <td id=\"T_e1b41_row2_col1\" class=\"data row2 col1\" >0,83152</td>\n",
       "    </tr>\n",
       "    <tr>\n",
       "      <th id=\"T_e1b41_level0_row3\" class=\"row_heading level0 row3\" >Rx(pi/2)[q1]</th>\n",
       "      <td id=\"T_e1b41_row3_col0\" class=\"data row3 col0\" >0,68775</td>\n",
       "      <td id=\"T_e1b41_row3_col1\" class=\"data row3 col1\" >0,80890</td>\n",
       "    </tr>\n",
       "    <tr>\n",
       "      <th id=\"T_e1b41_level0_row4\" class=\"row_heading level0 row4\" >Ry(pi/2)[q1]</th>\n",
       "      <td id=\"T_e1b41_row4_col0\" class=\"data row4 col0\" >0,74444</td>\n",
       "      <td id=\"T_e1b41_row4_col1\" class=\"data row4 col1\" >0,70353</td>\n",
       "    </tr>\n",
       "    <tr>\n",
       "      <th id=\"T_e1b41_level0_row5\" class=\"row_heading level0 row5\" >CZ[q0-q1]</th>\n",
       "      <td id=\"T_e1b41_row5_col0\" class=\"data row5 col0\" >0,68473</td>\n",
       "      <td id=\"T_e1b41_row5_col1\" class=\"data row5 col1\" >0,74534</td>\n",
       "    </tr>\n",
       "  </tbody>\n",
       "</table>\n"
      ],
      "text/plain": [
       "<pandas.io.formats.style.Styler at 0x7f95f19c8ee0>"
      ]
     },
     "metadata": {},
     "output_type": "display_data"
    },
    {
     "data": {
      "text/html": [
       "<style type=\"text/css\">\n",
       "#T_4cc02 th.col_heading {\n",
       "  text-align: center;\n",
       "}\n",
       "#T_4cc02 th.col_heading.level0 {\n",
       "  font-size: 1em;\n",
       "}\n",
       "#T_4cc02 td {\n",
       "  text-align: center;\n",
       "}\n",
       "</style>\n",
       "<table id=\"T_4cc02\">\n",
       "  <thead>\n",
       "    <tr>\n",
       "      <th class=\"blank level0\" >&nbsp;</th>\n",
       "      <th id=\"T_4cc02_level0_col0\" class=\"col_heading level0 col0\" >Final cost function value</th>\n",
       "      <th id=\"T_4cc02_level0_col1\" class=\"col_heading level0 col1\" >Mean total variation dist. to data</th>\n",
       "      <th id=\"T_4cc02_level0_col2\" class=\"col_heading level0 col2\" >Mean total variation dist. target to data</th>\n",
       "      <th id=\"T_4cc02_level0_col3\" class=\"col_heading level0 col3\" >POVM - Choi map trace distance</th>\n",
       "      <th id=\"T_4cc02_level0_col4\" class=\"col_heading level0 col4\" >State - Trace distance</th>\n",
       "    </tr>\n",
       "  </thead>\n",
       "  <tbody>\n",
       "    <tr>\n",
       "      <th id=\"T_4cc02_level0_row0\" class=\"row_heading level0 row0\" ></th>\n",
       "      <td id=\"T_4cc02_row0_col0\" class=\"data row0 col0\" >0.006685</td>\n",
       "      <td id=\"T_4cc02_row0_col1\" class=\"data row0 col1\" >0.116117</td>\n",
       "      <td id=\"T_4cc02_row0_col2\" class=\"data row0 col2\" >0.184534</td>\n",
       "      <td id=\"T_4cc02_row0_col3\" class=\"data row0 col3\" >0.611104</td>\n",
       "      <td id=\"T_4cc02_row0_col4\" class=\"data row0 col4\" >0.767406</td>\n",
       "    </tr>\n",
       "  </tbody>\n",
       "</table>\n"
      ],
      "text/plain": [
       "<pandas.io.formats.style.Styler at 0x7f95f188ff40>"
      ]
     },
     "metadata": {},
     "output_type": "display_data"
    },
    {
     "data": {
      "text/html": [
       "<style type=\"text/css\">\n",
       "#T_d782e th.col_heading {\n",
       "  text-align: center;\n",
       "}\n",
       "#T_d782e th.col_heading.level0 {\n",
       "  font-size: 1em;\n",
       "}\n",
       "#T_d782e td {\n",
       "  text-align: center;\n",
       "}\n",
       "</style>\n",
       "<table id=\"T_d782e\">\n",
       "  <thead>\n",
       "    <tr>\n",
       "      <th class=\"blank level0\" >&nbsp;</th>\n",
       "      <th id=\"T_d782e_level0_col0\" class=\"col_heading level0 col0\" >F_avg</th>\n",
       "      <th id=\"T_d782e_level0_col1\" class=\"col_heading level0 col1\" >Diamond distances</th>\n",
       "    </tr>\n",
       "  </thead>\n",
       "  <tbody>\n",
       "    <tr>\n",
       "      <th id=\"T_d782e_level0_row0\" class=\"row_heading level0 row0\" >Id</th>\n",
       "      <td id=\"T_d782e_row0_col0\" class=\"data row0 col0\" >0,99882</td>\n",
       "      <td id=\"T_d782e_row0_col1\" class=\"data row0 col1\" >0,04934</td>\n",
       "    </tr>\n",
       "    <tr>\n",
       "      <th id=\"T_d782e_level0_row1\" class=\"row_heading level0 row1\" >Rx(pi/2)[q0]</th>\n",
       "      <td id=\"T_d782e_row1_col0\" class=\"data row1 col0\" >0,70007</td>\n",
       "      <td id=\"T_d782e_row1_col1\" class=\"data row1 col1\" >0,80166</td>\n",
       "    </tr>\n",
       "    <tr>\n",
       "      <th id=\"T_d782e_level0_row2\" class=\"row_heading level0 row2\" >Ry(pi/2)[q0]</th>\n",
       "      <td id=\"T_d782e_row2_col0\" class=\"data row2 col0\" >0,68119</td>\n",
       "      <td id=\"T_d782e_row2_col1\" class=\"data row2 col1\" >0,79647</td>\n",
       "    </tr>\n",
       "    <tr>\n",
       "      <th id=\"T_d782e_level0_row3\" class=\"row_heading level0 row3\" >Rx(pi/2)[q1]</th>\n",
       "      <td id=\"T_d782e_row3_col0\" class=\"data row3 col0\" >0,68966</td>\n",
       "      <td id=\"T_d782e_row3_col1\" class=\"data row3 col1\" >0,77807</td>\n",
       "    </tr>\n",
       "    <tr>\n",
       "      <th id=\"T_d782e_level0_row4\" class=\"row_heading level0 row4\" >Ry(pi/2)[q1]</th>\n",
       "      <td id=\"T_d782e_row4_col0\" class=\"data row4 col0\" >0,73192</td>\n",
       "      <td id=\"T_d782e_row4_col1\" class=\"data row4 col1\" >0,74024</td>\n",
       "    </tr>\n",
       "    <tr>\n",
       "      <th id=\"T_d782e_level0_row5\" class=\"row_heading level0 row5\" >CZ[q0-q1]</th>\n",
       "      <td id=\"T_d782e_row5_col0\" class=\"data row5 col0\" >0,67671</td>\n",
       "      <td id=\"T_d782e_row5_col1\" class=\"data row5 col1\" >0,77577</td>\n",
       "    </tr>\n",
       "  </tbody>\n",
       "</table>\n"
      ],
      "text/plain": [
       "<pandas.io.formats.style.Styler at 0x7f95f1cd7340>"
      ]
     },
     "metadata": {},
     "output_type": "display_data"
    },
    {
     "data": {
      "text/html": [
       "<style type=\"text/css\">\n",
       "#T_c94b2 th.col_heading {\n",
       "  text-align: center;\n",
       "}\n",
       "#T_c94b2 th.col_heading.level0 {\n",
       "  font-size: 1em;\n",
       "}\n",
       "#T_c94b2 td {\n",
       "  text-align: center;\n",
       "}\n",
       "</style>\n",
       "<table id=\"T_c94b2\">\n",
       "  <thead>\n",
       "    <tr>\n",
       "      <th class=\"blank level0\" >&nbsp;</th>\n",
       "      <th id=\"T_c94b2_level0_col0\" class=\"col_heading level0 col0\" >Final cost function value</th>\n",
       "      <th id=\"T_c94b2_level0_col1\" class=\"col_heading level0 col1\" >Mean total variation dist. to data</th>\n",
       "      <th id=\"T_c94b2_level0_col2\" class=\"col_heading level0 col2\" >Mean total variation dist. target to data</th>\n",
       "      <th id=\"T_c94b2_level0_col3\" class=\"col_heading level0 col3\" >POVM - Choi map trace distance</th>\n",
       "      <th id=\"T_c94b2_level0_col4\" class=\"col_heading level0 col4\" >State - Trace distance</th>\n",
       "    </tr>\n",
       "  </thead>\n",
       "  <tbody>\n",
       "    <tr>\n",
       "      <th id=\"T_c94b2_level0_row0\" class=\"row_heading level0 row0\" ></th>\n",
       "      <td id=\"T_c94b2_row0_col0\" class=\"data row0 col0\" >0.006484</td>\n",
       "      <td id=\"T_c94b2_row0_col1\" class=\"data row0 col1\" >0.114528</td>\n",
       "      <td id=\"T_c94b2_row0_col2\" class=\"data row0 col2\" >0.184534</td>\n",
       "      <td id=\"T_c94b2_row0_col3\" class=\"data row0 col3\" >0.497353</td>\n",
       "      <td id=\"T_c94b2_row0_col4\" class=\"data row0 col4\" >0.305809</td>\n",
       "    </tr>\n",
       "  </tbody>\n",
       "</table>\n"
      ],
      "text/plain": [
       "<pandas.io.formats.style.Styler at 0x7f95f132bcd0>"
      ]
     },
     "metadata": {},
     "output_type": "display_data"
    },
    {
     "data": {
      "text/html": [
       "<style type=\"text/css\">\n",
       "#T_31e8a th.col_heading {\n",
       "  text-align: center;\n",
       "}\n",
       "#T_31e8a th.col_heading.level0 {\n",
       "  font-size: 1em;\n",
       "}\n",
       "#T_31e8a td {\n",
       "  text-align: center;\n",
       "}\n",
       "</style>\n",
       "<table id=\"T_31e8a\">\n",
       "  <thead>\n",
       "    <tr>\n",
       "      <th class=\"blank level0\" >&nbsp;</th>\n",
       "      <th id=\"T_31e8a_level0_col0\" class=\"col_heading level0 col0\" >F_avg</th>\n",
       "      <th id=\"T_31e8a_level0_col1\" class=\"col_heading level0 col1\" >Diamond distances</th>\n",
       "    </tr>\n",
       "  </thead>\n",
       "  <tbody>\n",
       "    <tr>\n",
       "      <th id=\"T_31e8a_level0_row0\" class=\"row_heading level0 row0\" >Id</th>\n",
       "      <td id=\"T_31e8a_row0_col0\" class=\"data row0 col0\" >0,99959</td>\n",
       "      <td id=\"T_31e8a_row0_col1\" class=\"data row0 col1\" >0,03089</td>\n",
       "    </tr>\n",
       "    <tr>\n",
       "      <th id=\"T_31e8a_level0_row1\" class=\"row_heading level0 row1\" >Rx(pi/2)[q0]</th>\n",
       "      <td id=\"T_31e8a_row1_col0\" class=\"data row1 col0\" >0,20000</td>\n",
       "      <td id=\"T_31e8a_row1_col1\" class=\"data row1 col1\" >1,00000</td>\n",
       "    </tr>\n",
       "    <tr>\n",
       "      <th id=\"T_31e8a_level0_row2\" class=\"row_heading level0 row2\" >Ry(pi/2)[q0]</th>\n",
       "      <td id=\"T_31e8a_row2_col0\" class=\"data row2 col0\" >0,99644</td>\n",
       "      <td id=\"T_31e8a_row2_col1\" class=\"data row2 col1\" >0,09155</td>\n",
       "    </tr>\n",
       "    <tr>\n",
       "      <th id=\"T_31e8a_level0_row3\" class=\"row_heading level0 row3\" >Rx(pi/2)[q1]</th>\n",
       "      <td id=\"T_31e8a_row3_col0\" class=\"data row3 col0\" >0,99249</td>\n",
       "      <td id=\"T_31e8a_row3_col1\" class=\"data row3 col1\" >0,11491</td>\n",
       "    </tr>\n",
       "    <tr>\n",
       "      <th id=\"T_31e8a_level0_row4\" class=\"row_heading level0 row4\" >Ry(pi/2)[q1]</th>\n",
       "      <td id=\"T_31e8a_row4_col0\" class=\"data row4 col0\" >0,99025</td>\n",
       "      <td id=\"T_31e8a_row4_col1\" class=\"data row4 col1\" >0,13773</td>\n",
       "    </tr>\n",
       "    <tr>\n",
       "      <th id=\"T_31e8a_level0_row5\" class=\"row_heading level0 row5\" >CZ[q0-q1]</th>\n",
       "      <td id=\"T_31e8a_row5_col0\" class=\"data row5 col0\" >0,76720</td>\n",
       "      <td id=\"T_31e8a_row5_col1\" class=\"data row5 col1\" >0,71082</td>\n",
       "    </tr>\n",
       "  </tbody>\n",
       "</table>\n"
      ],
      "text/plain": [
       "<pandas.io.formats.style.Styler at 0x7f95f130da30>"
      ]
     },
     "metadata": {},
     "output_type": "display_data"
    },
    {
     "data": {
      "text/html": [
       "<style type=\"text/css\">\n",
       "#T_5d9b5 th.col_heading {\n",
       "  text-align: center;\n",
       "}\n",
       "#T_5d9b5 th.col_heading.level0 {\n",
       "  font-size: 1em;\n",
       "}\n",
       "#T_5d9b5 td {\n",
       "  text-align: center;\n",
       "}\n",
       "</style>\n",
       "<table id=\"T_5d9b5\">\n",
       "  <thead>\n",
       "    <tr>\n",
       "      <th class=\"blank level0\" >&nbsp;</th>\n",
       "      <th id=\"T_5d9b5_level0_col0\" class=\"col_heading level0 col0\" >Final cost function value</th>\n",
       "      <th id=\"T_5d9b5_level0_col1\" class=\"col_heading level0 col1\" >Mean total variation dist. to data</th>\n",
       "      <th id=\"T_5d9b5_level0_col2\" class=\"col_heading level0 col2\" >Mean total variation dist. target to data</th>\n",
       "      <th id=\"T_5d9b5_level0_col3\" class=\"col_heading level0 col3\" >POVM - Choi map trace distance</th>\n",
       "      <th id=\"T_5d9b5_level0_col4\" class=\"col_heading level0 col4\" >State - Trace distance</th>\n",
       "    </tr>\n",
       "  </thead>\n",
       "  <tbody>\n",
       "    <tr>\n",
       "      <th id=\"T_5d9b5_level0_row0\" class=\"row_heading level0 row0\" ></th>\n",
       "      <td id=\"T_5d9b5_row0_col0\" class=\"data row0 col0\" >0.002670</td>\n",
       "      <td id=\"T_5d9b5_row0_col1\" class=\"data row0 col1\" >0.054424</td>\n",
       "      <td id=\"T_5d9b5_row0_col2\" class=\"data row0 col2\" >0.184534</td>\n",
       "      <td id=\"T_5d9b5_row0_col3\" class=\"data row0 col3\" >0.657913</td>\n",
       "      <td id=\"T_5d9b5_row0_col4\" class=\"data row0 col4\" >0.995648</td>\n",
       "    </tr>\n",
       "  </tbody>\n",
       "</table>\n"
      ],
      "text/plain": [
       "<pandas.io.formats.style.Styler at 0x7f95f1433c40>"
      ]
     },
     "metadata": {},
     "output_type": "display_data"
    },
    {
     "name": "stderr",
     "output_type": "stream",
     "text": [
      "/home/raphael/.local/lib/python3.8/site-packages/pygsti/tools/optools.py:379: UserWarning: CVXPY failed: Solver 'CVXOPT' failed. Try another solver, or solve with verbose=True for more information. - diamonddist returning -2!\n",
      "  _warnings.warn(\"CVXPY failed: %s - diamonddist returning -2!\" % str(e))\n"
     ]
    },
    {
     "data": {
      "text/html": [
       "<style type=\"text/css\">\n",
       "#T_26b8a th.col_heading {\n",
       "  text-align: center;\n",
       "}\n",
       "#T_26b8a th.col_heading.level0 {\n",
       "  font-size: 1em;\n",
       "}\n",
       "#T_26b8a td {\n",
       "  text-align: center;\n",
       "}\n",
       "</style>\n",
       "<table id=\"T_26b8a\">\n",
       "  <thead>\n",
       "    <tr>\n",
       "      <th class=\"blank level0\" >&nbsp;</th>\n",
       "      <th id=\"T_26b8a_level0_col0\" class=\"col_heading level0 col0\" >F_avg</th>\n",
       "      <th id=\"T_26b8a_level0_col1\" class=\"col_heading level0 col1\" >Diamond distances</th>\n",
       "    </tr>\n",
       "  </thead>\n",
       "  <tbody>\n",
       "    <tr>\n",
       "      <th id=\"T_26b8a_level0_row0\" class=\"row_heading level0 row0\" >Id</th>\n",
       "      <td id=\"T_26b8a_row0_col0\" class=\"data row0 col0\" >0,99888</td>\n",
       "      <td id=\"T_26b8a_row0_col1\" class=\"data row0 col1\" >0,04889</td>\n",
       "    </tr>\n",
       "    <tr>\n",
       "      <th id=\"T_26b8a_level0_row1\" class=\"row_heading level0 row1\" >Rx(pi/2)[q0]</th>\n",
       "      <td id=\"T_26b8a_row1_col0\" class=\"data row1 col0\" >0,63431</td>\n",
       "      <td id=\"T_26b8a_row1_col1\" class=\"data row1 col1\" >0,87081</td>\n",
       "    </tr>\n",
       "    <tr>\n",
       "      <th id=\"T_26b8a_level0_row2\" class=\"row_heading level0 row2\" >Ry(pi/2)[q0]</th>\n",
       "      <td id=\"T_26b8a_row2_col0\" class=\"data row2 col0\" >0,67034</td>\n",
       "      <td id=\"T_26b8a_row2_col1\" class=\"data row2 col1\" >-1,00000</td>\n",
       "    </tr>\n",
       "    <tr>\n",
       "      <th id=\"T_26b8a_level0_row3\" class=\"row_heading level0 row3\" >Rx(pi/2)[q1]</th>\n",
       "      <td id=\"T_26b8a_row3_col0\" class=\"data row3 col0\" >0,69619</td>\n",
       "      <td id=\"T_26b8a_row3_col1\" class=\"data row3 col1\" >0,79981</td>\n",
       "    </tr>\n",
       "    <tr>\n",
       "      <th id=\"T_26b8a_level0_row4\" class=\"row_heading level0 row4\" >Ry(pi/2)[q1]</th>\n",
       "      <td id=\"T_26b8a_row4_col0\" class=\"data row4 col0\" >0,75990</td>\n",
       "      <td id=\"T_26b8a_row4_col1\" class=\"data row4 col1\" >0,68530</td>\n",
       "    </tr>\n",
       "    <tr>\n",
       "      <th id=\"T_26b8a_level0_row5\" class=\"row_heading level0 row5\" >CZ[q0-q1]</th>\n",
       "      <td id=\"T_26b8a_row5_col0\" class=\"data row5 col0\" >0,67939</td>\n",
       "      <td id=\"T_26b8a_row5_col1\" class=\"data row5 col1\" >0,75740</td>\n",
       "    </tr>\n",
       "  </tbody>\n",
       "</table>\n"
      ],
      "text/plain": [
       "<pandas.io.formats.style.Styler at 0x7f96201b5040>"
      ]
     },
     "metadata": {},
     "output_type": "display_data"
    },
    {
     "data": {
      "text/html": [
       "<style type=\"text/css\">\n",
       "#T_5c296 th.col_heading {\n",
       "  text-align: center;\n",
       "}\n",
       "#T_5c296 th.col_heading.level0 {\n",
       "  font-size: 1em;\n",
       "}\n",
       "#T_5c296 td {\n",
       "  text-align: center;\n",
       "}\n",
       "</style>\n",
       "<table id=\"T_5c296\">\n",
       "  <thead>\n",
       "    <tr>\n",
       "      <th class=\"blank level0\" >&nbsp;</th>\n",
       "      <th id=\"T_5c296_level0_col0\" class=\"col_heading level0 col0\" >Final cost function value</th>\n",
       "      <th id=\"T_5c296_level0_col1\" class=\"col_heading level0 col1\" >Mean total variation dist. to data</th>\n",
       "      <th id=\"T_5c296_level0_col2\" class=\"col_heading level0 col2\" >Mean total variation dist. target to data</th>\n",
       "      <th id=\"T_5c296_level0_col3\" class=\"col_heading level0 col3\" >POVM - Choi map trace distance</th>\n",
       "      <th id=\"T_5c296_level0_col4\" class=\"col_heading level0 col4\" >State - Trace distance</th>\n",
       "    </tr>\n",
       "  </thead>\n",
       "  <tbody>\n",
       "    <tr>\n",
       "      <th id=\"T_5c296_level0_row0\" class=\"row_heading level0 row0\" ></th>\n",
       "      <td id=\"T_5c296_row0_col0\" class=\"data row0 col0\" >0.006722</td>\n",
       "      <td id=\"T_5c296_row0_col1\" class=\"data row0 col1\" >0.116476</td>\n",
       "      <td id=\"T_5c296_row0_col2\" class=\"data row0 col2\" >0.184534</td>\n",
       "      <td id=\"T_5c296_row0_col3\" class=\"data row0 col3\" >0.595319</td>\n",
       "      <td id=\"T_5c296_row0_col4\" class=\"data row0 col4\" >0.773038</td>\n",
       "    </tr>\n",
       "  </tbody>\n",
       "</table>\n"
      ],
      "text/plain": [
       "<pandas.io.formats.style.Styler at 0x7f95f17c9e80>"
      ]
     },
     "metadata": {},
     "output_type": "display_data"
    },
    {
     "data": {
      "text/html": [
       "<style type=\"text/css\">\n",
       "#T_dcd03 th.col_heading {\n",
       "  text-align: center;\n",
       "}\n",
       "#T_dcd03 th.col_heading.level0 {\n",
       "  font-size: 1em;\n",
       "}\n",
       "#T_dcd03 td {\n",
       "  text-align: center;\n",
       "}\n",
       "</style>\n",
       "<table id=\"T_dcd03\">\n",
       "  <thead>\n",
       "    <tr>\n",
       "      <th class=\"blank level0\" >&nbsp;</th>\n",
       "      <th id=\"T_dcd03_level0_col0\" class=\"col_heading level0 col0\" >F_avg</th>\n",
       "      <th id=\"T_dcd03_level0_col1\" class=\"col_heading level0 col1\" >Diamond distances</th>\n",
       "    </tr>\n",
       "  </thead>\n",
       "  <tbody>\n",
       "    <tr>\n",
       "      <th id=\"T_dcd03_level0_row0\" class=\"row_heading level0 row0\" >Id</th>\n",
       "      <td id=\"T_dcd03_row0_col0\" class=\"data row0 col0\" >0,99921</td>\n",
       "      <td id=\"T_dcd03_row0_col1\" class=\"data row0 col1\" >0,04279</td>\n",
       "    </tr>\n",
       "    <tr>\n",
       "      <th id=\"T_dcd03_level0_row1\" class=\"row_heading level0 row1\" >Rx(pi/2)[q0]</th>\n",
       "      <td id=\"T_dcd03_row1_col0\" class=\"data row1 col0\" >0,70779</td>\n",
       "      <td id=\"T_dcd03_row1_col1\" class=\"data row1 col1\" >0,78401</td>\n",
       "    </tr>\n",
       "    <tr>\n",
       "      <th id=\"T_dcd03_level0_row2\" class=\"row_heading level0 row2\" >Ry(pi/2)[q0]</th>\n",
       "      <td id=\"T_dcd03_row2_col0\" class=\"data row2 col0\" >0,73614</td>\n",
       "      <td id=\"T_dcd03_row2_col1\" class=\"data row2 col1\" >0,69599</td>\n",
       "    </tr>\n",
       "    <tr>\n",
       "      <th id=\"T_dcd03_level0_row3\" class=\"row_heading level0 row3\" >Rx(pi/2)[q1]</th>\n",
       "      <td id=\"T_dcd03_row3_col0\" class=\"data row3 col0\" >0,68612</td>\n",
       "      <td id=\"T_dcd03_row3_col1\" class=\"data row3 col1\" >0,79417</td>\n",
       "    </tr>\n",
       "    <tr>\n",
       "      <th id=\"T_dcd03_level0_row4\" class=\"row_heading level0 row4\" >Ry(pi/2)[q1]</th>\n",
       "      <td id=\"T_dcd03_row4_col0\" class=\"data row4 col0\" >0,74484</td>\n",
       "      <td id=\"T_dcd03_row4_col1\" class=\"data row4 col1\" >0,68740</td>\n",
       "    </tr>\n",
       "    <tr>\n",
       "      <th id=\"T_dcd03_level0_row5\" class=\"row_heading level0 row5\" >CZ[q0-q1]</th>\n",
       "      <td id=\"T_dcd03_row5_col0\" class=\"data row5 col0\" >0,73873</td>\n",
       "      <td id=\"T_dcd03_row5_col1\" class=\"data row5 col1\" >0,69602</td>\n",
       "    </tr>\n",
       "  </tbody>\n",
       "</table>\n"
      ],
      "text/plain": [
       "<pandas.io.formats.style.Styler at 0x7f95f1a0edf0>"
      ]
     },
     "metadata": {},
     "output_type": "display_data"
    },
    {
     "data": {
      "text/html": [
       "<style type=\"text/css\">\n",
       "#T_cdd57 th.col_heading {\n",
       "  text-align: center;\n",
       "}\n",
       "#T_cdd57 th.col_heading.level0 {\n",
       "  font-size: 1em;\n",
       "}\n",
       "#T_cdd57 td {\n",
       "  text-align: center;\n",
       "}\n",
       "</style>\n",
       "<table id=\"T_cdd57\">\n",
       "  <thead>\n",
       "    <tr>\n",
       "      <th class=\"blank level0\" >&nbsp;</th>\n",
       "      <th id=\"T_cdd57_level0_col0\" class=\"col_heading level0 col0\" >Final cost function value</th>\n",
       "      <th id=\"T_cdd57_level0_col1\" class=\"col_heading level0 col1\" >Mean total variation dist. to data</th>\n",
       "      <th id=\"T_cdd57_level0_col2\" class=\"col_heading level0 col2\" >Mean total variation dist. target to data</th>\n",
       "      <th id=\"T_cdd57_level0_col3\" class=\"col_heading level0 col3\" >POVM - Choi map trace distance</th>\n",
       "      <th id=\"T_cdd57_level0_col4\" class=\"col_heading level0 col4\" >State - Trace distance</th>\n",
       "    </tr>\n",
       "  </thead>\n",
       "  <tbody>\n",
       "    <tr>\n",
       "      <th id=\"T_cdd57_level0_row0\" class=\"row_heading level0 row0\" ></th>\n",
       "      <td id=\"T_cdd57_row0_col0\" class=\"data row0 col0\" >0.008451</td>\n",
       "      <td id=\"T_cdd57_row0_col1\" class=\"data row0 col1\" >0.133990</td>\n",
       "      <td id=\"T_cdd57_row0_col2\" class=\"data row0 col2\" >0.184534</td>\n",
       "      <td id=\"T_cdd57_row0_col3\" class=\"data row0 col3\" >0.606680</td>\n",
       "      <td id=\"T_cdd57_row0_col4\" class=\"data row0 col4\" >0.984248</td>\n",
       "    </tr>\n",
       "  </tbody>\n",
       "</table>\n"
      ],
      "text/plain": [
       "<pandas.io.formats.style.Styler at 0x7f95f19bb0a0>"
      ]
     },
     "metadata": {},
     "output_type": "display_data"
    },
    {
     "data": {
      "text/html": [
       "<style type=\"text/css\">\n",
       "#T_ac36a th.col_heading {\n",
       "  text-align: center;\n",
       "}\n",
       "#T_ac36a th.col_heading.level0 {\n",
       "  font-size: 1em;\n",
       "}\n",
       "#T_ac36a td {\n",
       "  text-align: center;\n",
       "}\n",
       "</style>\n",
       "<table id=\"T_ac36a\">\n",
       "  <thead>\n",
       "    <tr>\n",
       "      <th class=\"blank level0\" >&nbsp;</th>\n",
       "      <th id=\"T_ac36a_level0_col0\" class=\"col_heading level0 col0\" >F_avg</th>\n",
       "      <th id=\"T_ac36a_level0_col1\" class=\"col_heading level0 col1\" >Diamond distances</th>\n",
       "    </tr>\n",
       "  </thead>\n",
       "  <tbody>\n",
       "    <tr>\n",
       "      <th id=\"T_ac36a_level0_row0\" class=\"row_heading level0 row0\" >Id</th>\n",
       "      <td id=\"T_ac36a_row0_col0\" class=\"data row0 col0\" >0,99922</td>\n",
       "      <td id=\"T_ac36a_row0_col1\" class=\"data row0 col1\" >0,03886</td>\n",
       "    </tr>\n",
       "    <tr>\n",
       "      <th id=\"T_ac36a_level0_row1\" class=\"row_heading level0 row1\" >Rx(pi/2)[q0]</th>\n",
       "      <td id=\"T_ac36a_row1_col0\" class=\"data row1 col0\" >0,20000</td>\n",
       "      <td id=\"T_ac36a_row1_col1\" class=\"data row1 col1\" >1,00000</td>\n",
       "    </tr>\n",
       "    <tr>\n",
       "      <th id=\"T_ac36a_level0_row2\" class=\"row_heading level0 row2\" >Ry(pi/2)[q0]</th>\n",
       "      <td id=\"T_ac36a_row2_col0\" class=\"data row2 col0\" >0,99639</td>\n",
       "      <td id=\"T_ac36a_row2_col1\" class=\"data row2 col1\" >0,09207</td>\n",
       "    </tr>\n",
       "    <tr>\n",
       "      <th id=\"T_ac36a_level0_row3\" class=\"row_heading level0 row3\" >Rx(pi/2)[q1]</th>\n",
       "      <td id=\"T_ac36a_row3_col0\" class=\"data row3 col0\" >0,99280</td>\n",
       "      <td id=\"T_ac36a_row3_col1\" class=\"data row3 col1\" >0,11861</td>\n",
       "    </tr>\n",
       "    <tr>\n",
       "      <th id=\"T_ac36a_level0_row4\" class=\"row_heading level0 row4\" >Ry(pi/2)[q1]</th>\n",
       "      <td id=\"T_ac36a_row4_col0\" class=\"data row4 col0\" >0,98959</td>\n",
       "      <td id=\"T_ac36a_row4_col1\" class=\"data row4 col1\" >0,13467</td>\n",
       "    </tr>\n",
       "    <tr>\n",
       "      <th id=\"T_ac36a_level0_row5\" class=\"row_heading level0 row5\" >CZ[q0-q1]</th>\n",
       "      <td id=\"T_ac36a_row5_col0\" class=\"data row5 col0\" >0,26031</td>\n",
       "      <td id=\"T_ac36a_row5_col1\" class=\"data row5 col1\" >0,99990</td>\n",
       "    </tr>\n",
       "  </tbody>\n",
       "</table>\n"
      ],
      "text/plain": [
       "<pandas.io.formats.style.Styler at 0x7f95f12e3a00>"
      ]
     },
     "metadata": {},
     "output_type": "display_data"
    },
    {
     "data": {
      "text/html": [
       "<style type=\"text/css\">\n",
       "#T_f425a th.col_heading {\n",
       "  text-align: center;\n",
       "}\n",
       "#T_f425a th.col_heading.level0 {\n",
       "  font-size: 1em;\n",
       "}\n",
       "#T_f425a td {\n",
       "  text-align: center;\n",
       "}\n",
       "</style>\n",
       "<table id=\"T_f425a\">\n",
       "  <thead>\n",
       "    <tr>\n",
       "      <th class=\"blank level0\" >&nbsp;</th>\n",
       "      <th id=\"T_f425a_level0_col0\" class=\"col_heading level0 col0\" >Final cost function value</th>\n",
       "      <th id=\"T_f425a_level0_col1\" class=\"col_heading level0 col1\" >Mean total variation dist. to data</th>\n",
       "      <th id=\"T_f425a_level0_col2\" class=\"col_heading level0 col2\" >Mean total variation dist. target to data</th>\n",
       "      <th id=\"T_f425a_level0_col3\" class=\"col_heading level0 col3\" >POVM - Choi map trace distance</th>\n",
       "      <th id=\"T_f425a_level0_col4\" class=\"col_heading level0 col4\" >State - Trace distance</th>\n",
       "    </tr>\n",
       "  </thead>\n",
       "  <tbody>\n",
       "    <tr>\n",
       "      <th id=\"T_f425a_level0_row0\" class=\"row_heading level0 row0\" ></th>\n",
       "      <td id=\"T_f425a_row0_col0\" class=\"data row0 col0\" >0.003466</td>\n",
       "      <td id=\"T_f425a_row0_col1\" class=\"data row0 col1\" >0.065298</td>\n",
       "      <td id=\"T_f425a_row0_col2\" class=\"data row0 col2\" >0.184534</td>\n",
       "      <td id=\"T_f425a_row0_col3\" class=\"data row0 col3\" >0.191958</td>\n",
       "      <td id=\"T_f425a_row0_col4\" class=\"data row0 col4\" >0.079744</td>\n",
       "    </tr>\n",
       "  </tbody>\n",
       "</table>\n"
      ],
      "text/plain": [
       "<pandas.io.formats.style.Styler at 0x7f95f142fa00>"
      ]
     },
     "metadata": {},
     "output_type": "display_data"
    },
    {
     "data": {
      "text/html": [
       "<style type=\"text/css\">\n",
       "#T_ce55a th.col_heading {\n",
       "  text-align: center;\n",
       "}\n",
       "#T_ce55a th.col_heading.level0 {\n",
       "  font-size: 1em;\n",
       "}\n",
       "#T_ce55a td {\n",
       "  text-align: center;\n",
       "}\n",
       "</style>\n",
       "<table id=\"T_ce55a\">\n",
       "  <thead>\n",
       "    <tr>\n",
       "      <th class=\"blank level0\" >&nbsp;</th>\n",
       "      <th id=\"T_ce55a_level0_col0\" class=\"col_heading level0 col0\" >F_avg</th>\n",
       "      <th id=\"T_ce55a_level0_col1\" class=\"col_heading level0 col1\" >Diamond distances</th>\n",
       "    </tr>\n",
       "  </thead>\n",
       "  <tbody>\n",
       "    <tr>\n",
       "      <th id=\"T_ce55a_level0_row0\" class=\"row_heading level0 row0\" >Id</th>\n",
       "      <td id=\"T_ce55a_row0_col0\" class=\"data row0 col0\" >0,99082</td>\n",
       "      <td id=\"T_ce55a_row0_col1\" class=\"data row0 col1\" >0,13857</td>\n",
       "    </tr>\n",
       "    <tr>\n",
       "      <th id=\"T_ce55a_level0_row1\" class=\"row_heading level0 row1\" >Rx(pi/2)[q0]</th>\n",
       "      <td id=\"T_ce55a_row1_col0\" class=\"data row1 col0\" >0,99264</td>\n",
       "      <td id=\"T_ce55a_row1_col1\" class=\"data row1 col1\" >0,12657</td>\n",
       "    </tr>\n",
       "    <tr>\n",
       "      <th id=\"T_ce55a_level0_row2\" class=\"row_heading level0 row2\" >Ry(pi/2)[q0]</th>\n",
       "      <td id=\"T_ce55a_row2_col0\" class=\"data row2 col0\" >0,99139</td>\n",
       "      <td id=\"T_ce55a_row2_col1\" class=\"data row2 col1\" >0,13491</td>\n",
       "    </tr>\n",
       "    <tr>\n",
       "      <th id=\"T_ce55a_level0_row3\" class=\"row_heading level0 row3\" >Rx(pi/2)[q1]</th>\n",
       "      <td id=\"T_ce55a_row3_col0\" class=\"data row3 col0\" >0,43456</td>\n",
       "      <td id=\"T_ce55a_row3_col1\" class=\"data row3 col1\" >0,98280</td>\n",
       "    </tr>\n",
       "    <tr>\n",
       "      <th id=\"T_ce55a_level0_row4\" class=\"row_heading level0 row4\" >Ry(pi/2)[q1]</th>\n",
       "      <td id=\"T_ce55a_row4_col0\" class=\"data row4 col0\" >0,97753</td>\n",
       "      <td id=\"T_ce55a_row4_col1\" class=\"data row4 col1\" >0,20787</td>\n",
       "    </tr>\n",
       "    <tr>\n",
       "      <th id=\"T_ce55a_level0_row5\" class=\"row_heading level0 row5\" >CZ[q0-q1]</th>\n",
       "      <td id=\"T_ce55a_row5_col0\" class=\"data row5 col0\" >0,32688</td>\n",
       "      <td id=\"T_ce55a_row5_col1\" class=\"data row5 col1\" >0,99812</td>\n",
       "    </tr>\n",
       "  </tbody>\n",
       "</table>\n"
      ],
      "text/plain": [
       "<pandas.io.formats.style.Styler at 0x7f95f188fb80>"
      ]
     },
     "metadata": {},
     "output_type": "display_data"
    },
    {
     "data": {
      "text/html": [
       "<style type=\"text/css\">\n",
       "#T_cc211 th.col_heading {\n",
       "  text-align: center;\n",
       "}\n",
       "#T_cc211 th.col_heading.level0 {\n",
       "  font-size: 1em;\n",
       "}\n",
       "#T_cc211 td {\n",
       "  text-align: center;\n",
       "}\n",
       "</style>\n",
       "<table id=\"T_cc211\">\n",
       "  <thead>\n",
       "    <tr>\n",
       "      <th class=\"blank level0\" >&nbsp;</th>\n",
       "      <th id=\"T_cc211_level0_col0\" class=\"col_heading level0 col0\" >Final cost function value</th>\n",
       "      <th id=\"T_cc211_level0_col1\" class=\"col_heading level0 col1\" >Mean total variation dist. to data</th>\n",
       "      <th id=\"T_cc211_level0_col2\" class=\"col_heading level0 col2\" >Mean total variation dist. target to data</th>\n",
       "      <th id=\"T_cc211_level0_col3\" class=\"col_heading level0 col3\" >POVM - Choi map trace distance</th>\n",
       "      <th id=\"T_cc211_level0_col4\" class=\"col_heading level0 col4\" >State - Trace distance</th>\n",
       "    </tr>\n",
       "  </thead>\n",
       "  <tbody>\n",
       "    <tr>\n",
       "      <th id=\"T_cc211_level0_row0\" class=\"row_heading level0 row0\" ></th>\n",
       "      <td id=\"T_cc211_row0_col0\" class=\"data row0 col0\" >0.006249</td>\n",
       "      <td id=\"T_cc211_row0_col1\" class=\"data row0 col1\" >0.108777</td>\n",
       "      <td id=\"T_cc211_row0_col2\" class=\"data row0 col2\" >0.184534</td>\n",
       "      <td id=\"T_cc211_row0_col3\" class=\"data row0 col3\" >0.230474</td>\n",
       "      <td id=\"T_cc211_row0_col4\" class=\"data row0 col4\" >0.125406</td>\n",
       "    </tr>\n",
       "  </tbody>\n",
       "</table>\n"
      ],
      "text/plain": [
       "<pandas.io.formats.style.Styler at 0x7f95f12d0700>"
      ]
     },
     "metadata": {},
     "output_type": "display_data"
    },
    {
     "data": {
      "text/html": [
       "<style type=\"text/css\">\n",
       "#T_38548 th.col_heading {\n",
       "  text-align: center;\n",
       "}\n",
       "#T_38548 th.col_heading.level0 {\n",
       "  font-size: 1em;\n",
       "}\n",
       "#T_38548 td {\n",
       "  text-align: center;\n",
       "}\n",
       "</style>\n",
       "<table id=\"T_38548\">\n",
       "  <thead>\n",
       "    <tr>\n",
       "      <th class=\"blank level0\" >&nbsp;</th>\n",
       "      <th id=\"T_38548_level0_col0\" class=\"col_heading level0 col0\" >F_avg</th>\n",
       "      <th id=\"T_38548_level0_col1\" class=\"col_heading level0 col1\" >Diamond distances</th>\n",
       "    </tr>\n",
       "  </thead>\n",
       "  <tbody>\n",
       "    <tr>\n",
       "      <th id=\"T_38548_level0_row0\" class=\"row_heading level0 row0\" >Id</th>\n",
       "      <td id=\"T_38548_row0_col0\" class=\"data row0 col0\" >0,99799</td>\n",
       "      <td id=\"T_38548_row0_col1\" class=\"data row0 col1\" >0,06149</td>\n",
       "    </tr>\n",
       "    <tr>\n",
       "      <th id=\"T_38548_level0_row1\" class=\"row_heading level0 row1\" >Rx(pi/2)[q0]</th>\n",
       "      <td id=\"T_38548_row1_col0\" class=\"data row1 col0\" >0,75125</td>\n",
       "      <td id=\"T_38548_row1_col1\" class=\"data row1 col1\" >0,74095</td>\n",
       "    </tr>\n",
       "    <tr>\n",
       "      <th id=\"T_38548_level0_row2\" class=\"row_heading level0 row2\" >Ry(pi/2)[q0]</th>\n",
       "      <td id=\"T_38548_row2_col0\" class=\"data row2 col0\" >0,70268</td>\n",
       "      <td id=\"T_38548_row2_col1\" class=\"data row2 col1\" >0,73168</td>\n",
       "    </tr>\n",
       "    <tr>\n",
       "      <th id=\"T_38548_level0_row3\" class=\"row_heading level0 row3\" >Rx(pi/2)[q1]</th>\n",
       "      <td id=\"T_38548_row3_col0\" class=\"data row3 col0\" >0,62443</td>\n",
       "      <td id=\"T_38548_row3_col1\" class=\"data row3 col1\" >0,87504</td>\n",
       "    </tr>\n",
       "    <tr>\n",
       "      <th id=\"T_38548_level0_row4\" class=\"row_heading level0 row4\" >Ry(pi/2)[q1]</th>\n",
       "      <td id=\"T_38548_row4_col0\" class=\"data row4 col0\" >0,62668</td>\n",
       "      <td id=\"T_38548_row4_col1\" class=\"data row4 col1\" >0,86364</td>\n",
       "    </tr>\n",
       "    <tr>\n",
       "      <th id=\"T_38548_level0_row5\" class=\"row_heading level0 row5\" >CZ[q0-q1]</th>\n",
       "      <td id=\"T_38548_row5_col0\" class=\"data row5 col0\" >0,66577</td>\n",
       "      <td id=\"T_38548_row5_col1\" class=\"data row5 col1\" >0,77783</td>\n",
       "    </tr>\n",
       "  </tbody>\n",
       "</table>\n"
      ],
      "text/plain": [
       "<pandas.io.formats.style.Styler at 0x7f95f13d0910>"
      ]
     },
     "metadata": {},
     "output_type": "display_data"
    },
    {
     "data": {
      "text/html": [
       "<style type=\"text/css\">\n",
       "#T_18068 th.col_heading {\n",
       "  text-align: center;\n",
       "}\n",
       "#T_18068 th.col_heading.level0 {\n",
       "  font-size: 1em;\n",
       "}\n",
       "#T_18068 td {\n",
       "  text-align: center;\n",
       "}\n",
       "</style>\n",
       "<table id=\"T_18068\">\n",
       "  <thead>\n",
       "    <tr>\n",
       "      <th class=\"blank level0\" >&nbsp;</th>\n",
       "      <th id=\"T_18068_level0_col0\" class=\"col_heading level0 col0\" >Final cost function value</th>\n",
       "      <th id=\"T_18068_level0_col1\" class=\"col_heading level0 col1\" >Mean total variation dist. to data</th>\n",
       "      <th id=\"T_18068_level0_col2\" class=\"col_heading level0 col2\" >Mean total variation dist. target to data</th>\n",
       "      <th id=\"T_18068_level0_col3\" class=\"col_heading level0 col3\" >POVM - Choi map trace distance</th>\n",
       "      <th id=\"T_18068_level0_col4\" class=\"col_heading level0 col4\" >State - Trace distance</th>\n",
       "    </tr>\n",
       "  </thead>\n",
       "  <tbody>\n",
       "    <tr>\n",
       "      <th id=\"T_18068_level0_row0\" class=\"row_heading level0 row0\" ></th>\n",
       "      <td id=\"T_18068_row0_col0\" class=\"data row0 col0\" >0.006496</td>\n",
       "      <td id=\"T_18068_row0_col1\" class=\"data row0 col1\" >0.114643</td>\n",
       "      <td id=\"T_18068_row0_col2\" class=\"data row0 col2\" >0.184534</td>\n",
       "      <td id=\"T_18068_row0_col3\" class=\"data row0 col3\" >0.722223</td>\n",
       "      <td id=\"T_18068_row0_col4\" class=\"data row0 col4\" >0.918406</td>\n",
       "    </tr>\n",
       "  </tbody>\n",
       "</table>\n"
      ],
      "text/plain": [
       "<pandas.io.formats.style.Styler at 0x7f95f169c760>"
      ]
     },
     "metadata": {},
     "output_type": "display_data"
    }
   ],
   "source": [
    "for i in range(20):\n",
    "    K,X,E,rho = results[i][:]\n",
    "    weights = {'G0': 1,'G1': 1, 'G2': 1, 'G3': 1, 'G4': 1, 'G5': 1, 'spam': 1}\n",
    "    gate_labels = {0: \"Id\", 1: \"Rx(pi/2)[q0]\", 2: \"Ry(pi/2)[q0]\", 3: \"Rx(pi/2)[q1]\", 4: \"Ry(pi/2)[q1]\", 5: \"CZ[q0-q1]\"}\n",
    "\n",
    "    X_opt, E_opt, rho_opt = gauge_opt(X, E, rho, target_mdl, weights)\n",
    "    df_g, df_o, s_g, s_o = report(X_opt, E_opt, rho_opt, J57, y57, target_mdl, gate_labels)\n",
    "\n",
    "    display(s_g), display(s_o)"
   ]
  },
  {
   "cell_type": "code",
   "execution_count": 31,
   "id": "f67af843-7422-47d8-ab0d-6b3e611fecd6",
   "metadata": {},
   "outputs": [],
   "source": [
    "s0 = np.array([[1,0],[0,1]]).astype(np.complex128)\n",
    "s1 = np.array([[0,1],[1,0]]).astype(np.complex128)\n",
    "\n",
    "unitary_part = np.kron(s0,s1)\n",
    "K_XI = np.array([unitary_part])\n",
    "X_XI = np.einsum('jkl,jnm -> knlm', K_XI, K_XI.conj()).reshape(16,16)\n",
    "\n",
    "rho_test = X_XI@rho_opt\n",
    "E_test = E_opt@X_XI\n",
    "\n",
    "X_test = np.einsum('ij,kjl, lm -> kim', X_XI, X_opt, X_XI)"
   ]
  },
  {
   "cell_type": "code",
   "execution_count": 33,
   "id": "01c8b9df-ef6b-4c52-9f76-d567db13b7f9",
   "metadata": {},
   "outputs": [
    {
     "data": {
      "text/html": [
       "<style type=\"text/css\">\n",
       "#T_65816 th.col_heading {\n",
       "  text-align: center;\n",
       "}\n",
       "#T_65816 th.col_heading.level0 {\n",
       "  font-size: 1em;\n",
       "}\n",
       "#T_65816 td {\n",
       "  text-align: center;\n",
       "}\n",
       "</style>\n",
       "<table id=\"T_65816\">\n",
       "  <thead>\n",
       "    <tr>\n",
       "      <th class=\"blank level0\" >&nbsp;</th>\n",
       "      <th id=\"T_65816_level0_col0\" class=\"col_heading level0 col0\" >F_avg</th>\n",
       "      <th id=\"T_65816_level0_col1\" class=\"col_heading level0 col1\" >Diamond distances</th>\n",
       "    </tr>\n",
       "  </thead>\n",
       "  <tbody>\n",
       "    <tr>\n",
       "      <th id=\"T_65816_level0_row0\" class=\"row_heading level0 row0\" >Id</th>\n",
       "      <td id=\"T_65816_row0_col0\" class=\"data row0 col0\" >0,99968</td>\n",
       "      <td id=\"T_65816_row0_col1\" class=\"data row0 col1\" >0,02508</td>\n",
       "    </tr>\n",
       "    <tr>\n",
       "      <th id=\"T_65816_level0_row1\" class=\"row_heading level0 row1\" >Rx(pi/2)[q0]</th>\n",
       "      <td id=\"T_65816_row1_col0\" class=\"data row1 col0\" >0,99863</td>\n",
       "      <td id=\"T_65816_row1_col1\" class=\"data row1 col1\" >0,05415</td>\n",
       "    </tr>\n",
       "    <tr>\n",
       "      <th id=\"T_65816_level0_row2\" class=\"row_heading level0 row2\" >Ry(pi/2)[q0]</th>\n",
       "      <td id=\"T_65816_row2_col0\" class=\"data row2 col0\" >0,20000</td>\n",
       "      <td id=\"T_65816_row2_col1\" class=\"data row2 col1\" >1,00000</td>\n",
       "    </tr>\n",
       "    <tr>\n",
       "      <th id=\"T_65816_level0_row3\" class=\"row_heading level0 row3\" >Rx(pi/2)[q1]</th>\n",
       "      <td id=\"T_65816_row3_col0\" class=\"data row3 col0\" >0,98921</td>\n",
       "      <td id=\"T_65816_row3_col1\" class=\"data row3 col1\" >0,15704</td>\n",
       "    </tr>\n",
       "    <tr>\n",
       "      <th id=\"T_65816_level0_row4\" class=\"row_heading level0 row4\" >Ry(pi/2)[q1]</th>\n",
       "      <td id=\"T_65816_row4_col0\" class=\"data row4 col0\" >0,98916</td>\n",
       "      <td id=\"T_65816_row4_col1\" class=\"data row4 col1\" >0,15859</td>\n",
       "    </tr>\n",
       "    <tr>\n",
       "      <th id=\"T_65816_level0_row5\" class=\"row_heading level0 row5\" >CZ[q0-q1]</th>\n",
       "      <td id=\"T_65816_row5_col0\" class=\"data row5 col0\" >0,53933</td>\n",
       "      <td id=\"T_65816_row5_col1\" class=\"data row5 col1\" >0,91906</td>\n",
       "    </tr>\n",
       "  </tbody>\n",
       "</table>\n"
      ],
      "text/plain": [
       "<pandas.io.formats.style.Styler at 0x7f95f13ac100>"
      ]
     },
     "metadata": {},
     "output_type": "display_data"
    },
    {
     "data": {
      "text/html": [
       "<style type=\"text/css\">\n",
       "#T_27349 th.col_heading {\n",
       "  text-align: center;\n",
       "}\n",
       "#T_27349 th.col_heading.level0 {\n",
       "  font-size: 1em;\n",
       "}\n",
       "#T_27349 td {\n",
       "  text-align: center;\n",
       "}\n",
       "</style>\n",
       "<table id=\"T_27349\">\n",
       "  <thead>\n",
       "    <tr>\n",
       "      <th class=\"blank level0\" >&nbsp;</th>\n",
       "      <th id=\"T_27349_level0_col0\" class=\"col_heading level0 col0\" >Final cost function value</th>\n",
       "      <th id=\"T_27349_level0_col1\" class=\"col_heading level0 col1\" >Mean total variation dist. to data</th>\n",
       "      <th id=\"T_27349_level0_col2\" class=\"col_heading level0 col2\" >Mean total variation dist. target to data</th>\n",
       "      <th id=\"T_27349_level0_col3\" class=\"col_heading level0 col3\" >POVM - Choi map trace distance</th>\n",
       "      <th id=\"T_27349_level0_col4\" class=\"col_heading level0 col4\" >State - Trace distance</th>\n",
       "    </tr>\n",
       "  </thead>\n",
       "  <tbody>\n",
       "    <tr>\n",
       "      <th id=\"T_27349_level0_row0\" class=\"row_heading level0 row0\" ></th>\n",
       "      <td id=\"T_27349_row0_col0\" class=\"data row0 col0\" >0.004754</td>\n",
       "      <td id=\"T_27349_row0_col1\" class=\"data row0 col1\" >0.084002</td>\n",
       "      <td id=\"T_27349_row0_col2\" class=\"data row0 col2\" >0.213159</td>\n",
       "      <td id=\"T_27349_row0_col3\" class=\"data row0 col3\" >0.173636</td>\n",
       "      <td id=\"T_27349_row0_col4\" class=\"data row0 col4\" >0.130938</td>\n",
       "    </tr>\n",
       "  </tbody>\n",
       "</table>\n"
      ],
      "text/plain": [
       "<pandas.io.formats.style.Styler at 0x7f95f13af730>"
      ]
     },
     "metadata": {},
     "output_type": "display_data"
    },
    {
     "data": {
      "text/plain": [
       "(None, None)"
      ]
     },
     "execution_count": 33,
     "metadata": {},
     "output_type": "execute_result"
    }
   ],
   "source": [
    "df_g, df_o, s_g, s_o = report(X_test, E_test, rho_test, J_all, y_all, target_mdl, gate_labels)\n",
    "display(s_g), display(s_o)"
   ]
  },
  {
   "cell_type": "code",
   "execution_count": 30,
   "id": "7ab74e8a-d26e-4237-8e75-f8683dd05e6a",
   "metadata": {},
   "outputs": [
    {
     "name": "stdout",
     "output_type": "stream",
     "text": [
      "Assignment fidelity for ideal basis state 0: 0.008842046328310644\n"
     ]
    },
    {
     "data": {
      "image/png": "[encoded data removed]",
      "text/plain": [
       "<Figure size 432x288 with 1 Axes>"
      ]
     },
     "metadata": {},
     "output_type": "display_data"
    },
    {
     "name": "stdout",
     "output_type": "stream",
     "text": [
      "Assignment fidelity for ideal basis state 1: 0.040880325116652017\n"
     ]
    },
    {
     "data": {
      "image/png": "[encoded data removed]",
      "text/plain": [
       "<Figure size 432x288 with 1 Axes>"
      ]
     },
     "metadata": {},
     "output_type": "display_data"
    },
    {
     "name": "stdout",
     "output_type": "stream",
     "text": [
      "Assignment fidelity for ideal basis state 2: 0.005588059086874302\n"
     ]
    },
    {
     "data": {
      "image/png": "[encoded data removed]",
      "text/plain": [
       "<Figure size 432x288 with 1 Axes>"
      ]
     },
     "metadata": {},
     "output_type": "display_data"
    },
    {
     "name": "stdout",
     "output_type": "stream",
     "text": [
      "Assignment fidelity for ideal basis state 3: 0.031889205161084656\n"
     ]
    },
    {
     "data": {
      "image/png": "[encoded data removed]",
      "text/plain": [
       "<Figure size 432x288 with 1 Axes>"
      ]
     },
     "metadata": {},
     "output_type": "display_data"
    },
    {
     "data": {
      "image/png": "[encoded data removed]",
      "text/plain": [
       "<Figure size 432x288 with 1 Axes>"
      ]
     },
     "metadata": {},
     "output_type": "display_data"
    }
   ],
   "source": [
    "for i in range(4):\n",
    "    print(\"Assignment fidelity for ideal basis state %i:\"%i, np.abs(E_opt.reshape(4,4,4)[i,i,i])**2)\n",
    "    plt.imshow(np.abs(E_test.reshape(4,4,4)[i,:,:]), vmin = -1, vmax = 1)\n",
    "    plt.show()\n",
    "plt.imshow(np.abs(rho_test.reshape(4,4)), vmin = -1, vmax = 1)\n",
    "plt.show()"
   ]
  },
  {
   "cell_type": "code",
   "execution_count": 17,
   "id": "dc2312b8-b51f-4eed-9903-1b21610bf8ca",
   "metadata": {},
   "outputs": [
    {
     "data": {
      "image/png": "[encoded data removed]",
      "text/plain": [
       "<Figure size 767.432x314.182 with 3 Axes>"
      ]
     },
     "metadata": {},
     "output_type": "display_data"
    }
   ],
   "source": [
    "plot_mat(np.real(X_opt[5]), np.real(X_t[5]))"
   ]
  },
  {
   "cell_type": "code",
   "execution_count": 31,
   "id": "b919e4be-2483-4411-88d1-5740877210f8",
   "metadata": {},
   "outputs": [
    {
     "name": "stdout",
     "output_type": "stream",
     "text": [
      "0.014011978719999998\n",
      "0.006073570611499048\n",
      "(0.04869140000000004, 0.9999999999999996)\n",
      "(0.06940252767888164, 0.8310980722743345)\n"
     ]
    }
   ],
   "source": [
    "print(low_level_jit.objf(X_t,E_t,rho_t, J57,y57))\n",
    "print(low_level_jit.objf(X,E,rho, J57,y57))\n",
    "\n",
    "print(MVE_data(X_t,E_t,rho_t,J57,y57))\n",
    "print(MVE_data(X,E,rho,J57,y57))"
   ]
  },
  {
   "cell_type": "markdown",
   "id": "3f9d8a06-afa2-4b26-81d7-5442faa1b643",
   "metadata": {},
   "source": [
    "### Rank 1 simulated probabilities"
   ]
  },
  {
   "cell_type": "code",
   "execution_count": 16,
   "id": "62ff52f7-4aba-4e94-989d-f3ede46e9f0e",
   "metadata": {},
   "outputs": [],
   "source": [
    "with open(\"rank_1_from_simulated_probs_10_runs\", 'rb') as handle:\n",
    "    b = pickle.load(handle)\n",
    "results = b['results']"
   ]
  },
  {
   "cell_type": "code",
   "execution_count": 17,
   "id": "1264fd44-a832-47f3-93fe-8b25d3c45b5e",
   "metadata": {},
   "outputs": [
    {
     "data": {
      "text/html": [
       "<style type=\"text/css\">\n",
       "#T_eedf3 th.col_heading {\n",
       "  text-align: center;\n",
       "}\n",
       "#T_eedf3 th.col_heading.level0 {\n",
       "  font-size: 1em;\n",
       "}\n",
       "#T_eedf3 td {\n",
       "  text-align: center;\n",
       "}\n",
       "</style>\n",
       "<table id=\"T_eedf3\">\n",
       "  <thead>\n",
       "    <tr>\n",
       "      <th class=\"blank level0\" >&nbsp;</th>\n",
       "      <th id=\"T_eedf3_level0_col0\" class=\"col_heading level0 col0\" >F_avg</th>\n",
       "      <th id=\"T_eedf3_level0_col1\" class=\"col_heading level0 col1\" >Diamond distances</th>\n",
       "    </tr>\n",
       "  </thead>\n",
       "  <tbody>\n",
       "    <tr>\n",
       "      <th id=\"T_eedf3_level0_row0\" class=\"row_heading level0 row0\" >Id</th>\n",
       "      <td id=\"T_eedf3_row0_col0\" class=\"data row0 col0\" >0,99949</td>\n",
       "      <td id=\"T_eedf3_row0_col1\" class=\"data row0 col1\" >0,03319</td>\n",
       "    </tr>\n",
       "    <tr>\n",
       "      <th id=\"T_eedf3_level0_row1\" class=\"row_heading level0 row1\" >Rx(pi/2)[q0]</th>\n",
       "      <td id=\"T_eedf3_row1_col0\" class=\"data row1 col0\" >0,99820</td>\n",
       "      <td id=\"T_eedf3_row1_col1\" class=\"data row1 col1\" >0,06403</td>\n",
       "    </tr>\n",
       "    <tr>\n",
       "      <th id=\"T_eedf3_level0_row2\" class=\"row_heading level0 row2\" >Ry(pi/2)[q0]</th>\n",
       "      <td id=\"T_eedf3_row2_col0\" class=\"data row2 col0\" >0,99900</td>\n",
       "      <td id=\"T_eedf3_row2_col1\" class=\"data row2 col1\" >0,04718</td>\n",
       "    </tr>\n",
       "    <tr>\n",
       "      <th id=\"T_eedf3_level0_row3\" class=\"row_heading level0 row3\" >Rx(pi/2)[q1]</th>\n",
       "      <td id=\"T_eedf3_row3_col0\" class=\"data row3 col0\" >0,99971</td>\n",
       "      <td id=\"T_eedf3_row3_col1\" class=\"data row3 col1\" >0,02557</td>\n",
       "    </tr>\n",
       "    <tr>\n",
       "      <th id=\"T_eedf3_level0_row4\" class=\"row_heading level0 row4\" >Ry(pi/2)[q1]</th>\n",
       "      <td id=\"T_eedf3_row4_col0\" class=\"data row4 col0\" >0,99838</td>\n",
       "      <td id=\"T_eedf3_row4_col1\" class=\"data row4 col1\" >0,05821</td>\n",
       "    </tr>\n",
       "    <tr>\n",
       "      <th id=\"T_eedf3_level0_row5\" class=\"row_heading level0 row5\" >CNOT[q0-q1]</th>\n",
       "      <td id=\"T_eedf3_row5_col0\" class=\"data row5 col0\" >0,39986</td>\n",
       "      <td id=\"T_eedf3_row5_col1\" class=\"data row5 col1\" >1,00000</td>\n",
       "    </tr>\n",
       "  </tbody>\n",
       "</table>\n"
      ],
      "text/plain": [
       "<pandas.io.formats.style.Styler at 0x7f90a7fd8d30>"
      ]
     },
     "metadata": {},
     "output_type": "display_data"
    },
    {
     "data": {
      "text/html": [
       "<style type=\"text/css\">\n",
       "#T_a2d4c th.col_heading {\n",
       "  text-align: center;\n",
       "}\n",
       "#T_a2d4c th.col_heading.level0 {\n",
       "  font-size: 1em;\n",
       "}\n",
       "#T_a2d4c td {\n",
       "  text-align: center;\n",
       "}\n",
       "</style>\n",
       "<table id=\"T_a2d4c\">\n",
       "  <thead>\n",
       "    <tr>\n",
       "      <th class=\"blank level0\" >&nbsp;</th>\n",
       "      <th id=\"T_a2d4c_level0_col0\" class=\"col_heading level0 col0\" >Final cost function value</th>\n",
       "      <th id=\"T_a2d4c_level0_col1\" class=\"col_heading level0 col1\" >Mean total variation dist. to data</th>\n",
       "      <th id=\"T_a2d4c_level0_col2\" class=\"col_heading level0 col2\" >Mean total variation dist. target to data</th>\n",
       "      <th id=\"T_a2d4c_level0_col3\" class=\"col_heading level0 col3\" >POVM - Choi map trace distance</th>\n",
       "      <th id=\"T_a2d4c_level0_col4\" class=\"col_heading level0 col4\" >State - Trace distance</th>\n",
       "    </tr>\n",
       "  </thead>\n",
       "  <tbody>\n",
       "    <tr>\n",
       "      <th id=\"T_a2d4c_level0_row0\" class=\"row_heading level0 row0\" ></th>\n",
       "      <td id=\"T_a2d4c_row0_col0\" class=\"data row0 col0\" >0.015486</td>\n",
       "      <td id=\"T_a2d4c_row0_col1\" class=\"data row0 col1\" >0.114983</td>\n",
       "      <td id=\"T_a2d4c_row0_col2\" class=\"data row0 col2\" >0.067022</td>\n",
       "      <td id=\"T_a2d4c_row0_col3\" class=\"data row0 col3\" >0.069527</td>\n",
       "      <td id=\"T_a2d4c_row0_col4\" class=\"data row0 col4\" >0.050744</td>\n",
       "    </tr>\n",
       "  </tbody>\n",
       "</table>\n"
      ],
      "text/plain": [
       "<pandas.io.formats.style.Styler at 0x7f9068670460>"
      ]
     },
     "metadata": {},
     "output_type": "display_data"
    },
    {
     "data": {
      "text/plain": [
       "(None, None)"
      ]
     },
     "execution_count": 17,
     "metadata": {},
     "output_type": "execute_result"
    }
   ],
   "source": [
    "K,X,E,rho = results[0][:]\n",
    "\n",
    "weights = {'G0': 1,'G1': 1, 'G2': 1, 'G3': 1, 'G4': 1, 'G5': 1, 'spam': 1}\n",
    "gate_labels = {0: \"Id\", 1: \"Rx(pi/2)[q0]\", 2: \"Ry(pi/2)[q0]\", 3: \"Rx(pi/2)[q1]\", 4: \"Ry(pi/2)[q1]\", 5: \"CZ[q0-q1]\"}\n",
    "\n",
    "X_opt, E_opt, rho_opt = gauge_opt(X, E, rho, target_mdl, weights)\n",
    "df_g, df_o, s_g, s_o = report(X_opt, E_opt, rho_opt, J_all, y_all, target_mdl, gate_labels)\n",
    "\n",
    "display(s_g), display(s_o)"
   ]
  },
  {
   "cell_type": "code",
   "execution_count": 19,
   "id": "eb98e00b-c247-4c89-b778-7f8ae9e729cd",
   "metadata": {},
   "outputs": [],
   "source": [
    "K_opt = additional_fns.Kraus_rep(X_opt,d,pdim,1)"
   ]
  },
  {
   "cell_type": "code",
   "execution_count": 24,
   "id": "cad6f7a1-6eb7-468f-acee-8356b35bb287",
   "metadata": {},
   "outputs": [
    {
     "name": "stdout",
     "output_type": "stream",
     "text": [
      "[[ 9.99902406e-01+0.j          7.72218298e-03-0.00112471j\n",
      "   6.10650425e-03+0.00148481j  2.13288414e-03+0.00949943j]\n",
      " [-7.69238823e-03-0.00108898j  9.99667441e-01+0.01870522j\n",
      "  -7.23669189e-04-0.00633907j  1.44135717e-02-0.00251073j]\n",
      " [-6.43502858e-03+0.00122854j  1.02734539e-03-0.0065589j\n",
      "   9.96951196e-01+0.07254474j  1.92235383e-02+0.01921029j]\n",
      " [-2.52830798e-03+0.00924713j -1.40736113e-02-0.00347602j\n",
      "  -2.17165799e-02+0.01654575j  9.97386961e-01+0.06458968j]]\n"
     ]
    }
   ],
   "source": [
    "print(K_opt[5][0])"
   ]
  },
  {
   "cell_type": "code",
   "execution_count": 14,
   "id": "2662fa55-67a8-4478-952b-6bd2d949649d",
   "metadata": {},
   "outputs": [
    {
     "data": {
      "image/png": "[encoded data removed]",
      "text/plain": [
       "<Figure size 767.432x314.182 with 3 Axes>"
      ]
     },
     "metadata": {},
     "output_type": "display_data"
    }
   ],
   "source": [
    "plot_mat(np.abs(X_opt[5]), np.abs(X_t[5]))"
   ]
  },
  {
   "cell_type": "code",
   "execution_count": 20,
   "id": "c5081419-c0f5-4644-848d-5f4367276570",
   "metadata": {},
   "outputs": [
    {
     "data": {
      "image/png": "[encoded data removed]",
      "text/plain": [
       "<Figure size 383.716x157.091 with 3 Axes>"
      ]
     },
     "metadata": {},
     "output_type": "display_data"
    }
   ],
   "source": [
    "plot_mat(np.abs(K_opt[5][0]), np.abs(K_t[5][0]))"
   ]
  },
  {
   "cell_type": "code",
   "execution_count": 21,
   "id": "f26c2d59-3396-4eb0-a5de-9e2329a292e6",
   "metadata": {},
   "outputs": [
    {
     "name": "stdout",
     "output_type": "stream",
     "text": [
      "0.0\n",
      "0.018709264318632915\n",
      "0.0726385668382582\n",
      "0.06466860096608343\n"
     ]
    },
    {
     "data": {
      "image/png": "[encoded data removed]",
      "text/plain": [
       "<Figure size 432x288 with 1 Axes>"
      ]
     },
     "metadata": {},
     "output_type": "display_data"
    }
   ],
   "source": [
    "for x in np.diag(K_opt[5][0]):\n",
    "    print(np.angle(x))\n",
    "    plt.polar([0,np.angle(x)],[0,abs(x)],marker='o')\n",
    "plt.show()"
   ]
  },
  {
   "cell_type": "markdown",
   "id": "cb9ba87a-9782-4470-94c0-6885f80a4138",
   "metadata": {
    "tags": []
   },
   "source": [
    "# Analysis"
   ]
  },
  {
   "cell_type": "markdown",
   "id": "ab193788-54c0-410d-bb08-b38c59043d31",
   "metadata": {},
   "source": [
    "### Full rank"
   ]
  },
  {
   "cell_type": "code",
   "execution_count": 9,
   "id": "ffd95a99-333f-46ef-9480-f530ff4f445e",
   "metadata": {},
   "outputs": [],
   "source": [
    "with open(\"rank_16_from_init_hardware_probs_1132\", 'rb') as handle:\n",
    "    b = pickle.load(handle)\n",
    "results = b['results']"
   ]
  },
  {
   "cell_type": "code",
   "execution_count": 10,
   "id": "a6f3781a-4e6a-47b9-8921-5a89b3b80b3d",
   "metadata": {},
   "outputs": [
    {
     "data": {
      "text/html": [
       "<style type=\"text/css\">\n",
       "#T_1fd5b th.col_heading {\n",
       "  text-align: center;\n",
       "}\n",
       "#T_1fd5b th.col_heading.level0 {\n",
       "  font-size: 1em;\n",
       "}\n",
       "#T_1fd5b td {\n",
       "  text-align: center;\n",
       "}\n",
       "</style>\n",
       "<table id=\"T_1fd5b\">\n",
       "  <thead>\n",
       "    <tr>\n",
       "      <th class=\"blank level0\" >&nbsp;</th>\n",
       "      <th id=\"T_1fd5b_level0_col0\" class=\"col_heading level0 col0\" >F_avg</th>\n",
       "      <th id=\"T_1fd5b_level0_col1\" class=\"col_heading level0 col1\" >Diamond distances</th>\n",
       "    </tr>\n",
       "  </thead>\n",
       "  <tbody>\n",
       "    <tr>\n",
       "      <th id=\"T_1fd5b_level0_row0\" class=\"row_heading level0 row0\" >Id</th>\n",
       "      <td id=\"T_1fd5b_row0_col0\" class=\"data row0 col0\" >0,99981</td>\n",
       "      <td id=\"T_1fd5b_row0_col1\" class=\"data row0 col1\" >0,01886</td>\n",
       "    </tr>\n",
       "    <tr>\n",
       "      <th id=\"T_1fd5b_level0_row1\" class=\"row_heading level0 row1\" >Rx(pi/2)[q0]</th>\n",
       "      <td id=\"T_1fd5b_row1_col0\" class=\"data row1 col0\" >0,99736</td>\n",
       "      <td id=\"T_1fd5b_row1_col1\" class=\"data row1 col1\" >0,06978</td>\n",
       "    </tr>\n",
       "    <tr>\n",
       "      <th id=\"T_1fd5b_level0_row2\" class=\"row_heading level0 row2\" >Ry(pi/2)[q0]</th>\n",
       "      <td id=\"T_1fd5b_row2_col0\" class=\"data row2 col0\" >0,99380</td>\n",
       "      <td id=\"T_1fd5b_row2_col1\" class=\"data row2 col1\" >0,07097</td>\n",
       "    </tr>\n",
       "    <tr>\n",
       "      <th id=\"T_1fd5b_level0_row3\" class=\"row_heading level0 row3\" >Rx(pi/2)[q1]</th>\n",
       "      <td id=\"T_1fd5b_row3_col0\" class=\"data row3 col0\" >0,97579</td>\n",
       "      <td id=\"T_1fd5b_row3_col1\" class=\"data row3 col1\" >0,14862</td>\n",
       "    </tr>\n",
       "    <tr>\n",
       "      <th id=\"T_1fd5b_level0_row4\" class=\"row_heading level0 row4\" >Ry(pi/2)[q1]</th>\n",
       "      <td id=\"T_1fd5b_row4_col0\" class=\"data row4 col0\" >0,96966</td>\n",
       "      <td id=\"T_1fd5b_row4_col1\" class=\"data row4 col1\" >0,13100</td>\n",
       "    </tr>\n",
       "    <tr>\n",
       "      <th id=\"T_1fd5b_level0_row5\" class=\"row_heading level0 row5\" >CZ[q0-q1]</th>\n",
       "      <td id=\"T_1fd5b_row5_col0\" class=\"data row5 col0\" >0,40950</td>\n",
       "      <td id=\"T_1fd5b_row5_col1\" class=\"data row5 col1\" >0,95475</td>\n",
       "    </tr>\n",
       "  </tbody>\n",
       "</table>\n"
      ],
      "text/plain": [
       "<pandas.io.formats.style.Styler at 0x7f79c38805b0>"
      ]
     },
     "metadata": {},
     "output_type": "display_data"
    },
    {
     "data": {
      "text/html": [
       "<style type=\"text/css\">\n",
       "#T_7e1bd th.col_heading {\n",
       "  text-align: center;\n",
       "}\n",
       "#T_7e1bd th.col_heading.level0 {\n",
       "  font-size: 1em;\n",
       "}\n",
       "#T_7e1bd td {\n",
       "  text-align: center;\n",
       "}\n",
       "</style>\n",
       "<table id=\"T_7e1bd\">\n",
       "  <thead>\n",
       "    <tr>\n",
       "      <th class=\"blank level0\" >&nbsp;</th>\n",
       "      <th id=\"T_7e1bd_level0_col0\" class=\"col_heading level0 col0\" >Final cost function value</th>\n",
       "      <th id=\"T_7e1bd_level0_col1\" class=\"col_heading level0 col1\" >Mean total variation dist. to data</th>\n",
       "      <th id=\"T_7e1bd_level0_col2\" class=\"col_heading level0 col2\" >Mean total variation dist. target to data</th>\n",
       "      <th id=\"T_7e1bd_level0_col3\" class=\"col_heading level0 col3\" >POVM - Choi map trace distance</th>\n",
       "      <th id=\"T_7e1bd_level0_col4\" class=\"col_heading level0 col4\" >State - Trace distance</th>\n",
       "    </tr>\n",
       "  </thead>\n",
       "  <tbody>\n",
       "    <tr>\n",
       "      <th id=\"T_7e1bd_level0_row0\" class=\"row_heading level0 row0\" ></th>\n",
       "      <td id=\"T_7e1bd_row0_col0\" class=\"data row0 col0\" >0.004100</td>\n",
       "      <td id=\"T_7e1bd_row0_col1\" class=\"data row0 col1\" >0.081282</td>\n",
       "      <td id=\"T_7e1bd_row0_col2\" class=\"data row0 col2\" >0.221379</td>\n",
       "      <td id=\"T_7e1bd_row0_col3\" class=\"data row0 col3\" >0.119560</td>\n",
       "      <td id=\"T_7e1bd_row0_col4\" class=\"data row0 col4\" >0.082728</td>\n",
       "    </tr>\n",
       "  </tbody>\n",
       "</table>\n"
      ],
      "text/plain": [
       "<pandas.io.formats.style.Styler at 0x7f79bdbcf550>"
      ]
     },
     "metadata": {},
     "output_type": "display_data"
    },
    {
     "data": {
      "text/plain": [
       "(None, None)"
      ]
     },
     "execution_count": 10,
     "metadata": {},
     "output_type": "execute_result"
    }
   ],
   "source": [
    "K,X,E,rho = results[0][:]\n",
    "\n",
    "weights = {'G0': 1,'G1': 1, 'G2': 1, 'G3': 1, 'G4': 1, 'G5': 1, 'spam': 1}\n",
    "gate_labels = {0: \"Id\", 1: \"Rx(pi/2)[q0]\", 2: \"Ry(pi/2)[q0]\", 3: \"Rx(pi/2)[q1]\", 4: \"Ry(pi/2)[q1]\", 5: \"CZ[q0-q1]\"}\n",
    "\n",
    "X_opt, E_opt, rho_opt = gauge_opt(X, E, rho, target_mdl, weights)\n",
    "df_g, df_o, s_g, s_o = report(X_opt, E_opt, rho_opt, J_all, y_all, target_mdl, gate_labels)\n",
    "\n",
    "display(s_g), display(s_o)"
   ]
  },
  {
   "cell_type": "code",
   "execution_count": 11,
   "id": "6b669864-5771-4e3c-8454-13ed977bbdf9",
   "metadata": {},
   "outputs": [
    {
     "data": {
      "image/png": "[encoded data removed]",
      "text/plain": [
       "<Figure size 767.432x314.182 with 3 Axes>"
      ]
     },
     "metadata": {},
     "output_type": "display_data"
    },
    {
     "data": {
      "image/png": "[encoded data removed]",
      "text/plain": [
       "<Figure size 432x288 with 6 Axes>"
      ]
     },
     "metadata": {},
     "output_type": "display_data"
    }
   ],
   "source": [
    "gate_index = 5\n",
    "\n",
    "X_opt_pp, E_opt_pp, rho_opt_pp = compatibility.std2pp(X_opt,E_opt,rho_opt)\n",
    "X_t_pp, E_t_pp, rho_t_pp = compatibility.pygsti_model_to_arrays(target_mdl,basis = 'pp')\n",
    "\n",
    "\n",
    "plot_mat(X_opt[gate_index], X_t[gate_index])\n",
    "plot_spam(rho_opt_pp, E_opt_pp)"
   ]
  },
  {
   "cell_type": "code",
   "execution_count": 28,
   "id": "9ea44797-00df-4202-ad47-e641b9df0558",
   "metadata": {},
   "outputs": [
    {
     "name": "stdout",
     "output_type": "stream",
     "text": [
      "Assignment fidelity for ideal basis state 0: 0.7140673549515567\n"
     ]
    },
    {
     "data": {
      "image/png": "[encoded data removed]",
      "text/plain": [
       "<Figure size 432x288 with 1 Axes>"
      ]
     },
     "metadata": {},
     "output_type": "display_data"
    },
    {
     "name": "stdout",
     "output_type": "stream",
     "text": [
      "Assignment fidelity for ideal basis state 1: 0.8481359951816153\n"
     ]
    },
    {
     "data": {
      "image/png": "[encoded data removed]",
      "text/plain": [
       "<Figure size 432x288 with 1 Axes>"
      ]
     },
     "metadata": {},
     "output_type": "display_data"
    },
    {
     "name": "stdout",
     "output_type": "stream",
     "text": [
      "Assignment fidelity for ideal basis state 2: 0.46355187369719203\n"
     ]
    },
    {
     "data": {
      "image/png": "[encoded data removed]",
      "text/plain": [
       "<Figure size 432x288 with 1 Axes>"
      ]
     },
     "metadata": {},
     "output_type": "display_data"
    },
    {
     "name": "stdout",
     "output_type": "stream",
     "text": [
      "Assignment fidelity for ideal basis state 3: 0.5684939969097486\n"
     ]
    },
    {
     "data": {
      "image/png": "[encoded data removed]",
      "text/plain": [
       "<Figure size 432x288 with 1 Axes>"
      ]
     },
     "metadata": {},
     "output_type": "display_data"
    }
   ],
   "source": [
    "for i in range(4):\n",
    "    print(\"Assignment fidelity for ideal basis state %i:\"%i, np.abs(E_opt.reshape(4,4,4)[i,i,i])**2)\n",
    "    plt.imshow(np.abs(E_opt.reshape(4,4,4)[i,:,:]), vmin = -1, vmax = 1)\n",
    "    plt.show()"
   ]
  },
  {
   "cell_type": "code",
   "execution_count": 15,
   "id": "708028c8-73b4-46b9-98ba-4282990154c5",
   "metadata": {},
   "outputs": [
    {
     "data": {
      "text/plain": [
       "[<matplotlib.lines.Line2D at 0x7fcabd74c850>]"
      ]
     },
     "execution_count": 15,
     "metadata": {},
     "output_type": "execute_result"
    },
    {
     "data": {
      "image/png": "[encoded data removed]",
      "text/plain": [
       "<Figure size 432x288 with 1 Axes>"
      ]
     },
     "metadata": {},
     "output_type": "display_data"
    }
   ],
   "source": [
    "# Spectrum of the Choi matrix\n",
    "X_choi = X_opt.reshape(d,pdim,pdim,pdim,pdim)\n",
    "X_choi = np.einsum('ijklm->iljmk',X_choi).reshape(d,pdim**2,pdim**2)\n",
    "plt.plot(np.sort(np.abs(la.eig(X_choi[5])[0]))[::-1])"
   ]
  },
  {
   "cell_type": "code",
   "execution_count": 18,
   "id": "b56d595a-8faa-49a7-a956-04e08dc965ad",
   "metadata": {},
   "outputs": [
    {
     "name": "stdout",
     "output_type": "stream",
     "text": [
      "0.012591550652701854\n"
     ]
    }
   ],
   "source": [
    "from qiskit.quantum_info import entanglement_of_formation\n",
    "\n",
    "plus_plus = np.outer(np.array([1,1,1,1])/2,np.array([1,1,1,1])/2).reshape(-1)\n",
    "\n",
    "print(entanglement_of_formation((X_opt[5]@plus_plus).reshape(4,4)))"
   ]
  },
  {
   "cell_type": "markdown",
   "id": "33d69b4f-7495-4b56-9aaf-19d888d36110",
   "metadata": {},
   "source": [
    "### Rank 4"
   ]
  },
  {
   "cell_type": "code",
   "execution_count": 19,
   "id": "67345272-3fe7-4b6b-bf90-664bad754f8b",
   "metadata": {},
   "outputs": [],
   "source": [
    "with open(\"ranks_4_from_init\", 'rb') as handle:\n",
    "    b = pickle.load(handle)\n",
    "results = b['results']"
   ]
  },
  {
   "cell_type": "code",
   "execution_count": 20,
   "id": "f6bf4f81-6d17-45c3-8328-ff09e9cf2ad8",
   "metadata": {},
   "outputs": [
    {
     "data": {
      "text/html": [
       "<style type=\"text/css\">\n",
       "#T_e0ff6 th.col_heading {\n",
       "  text-align: center;\n",
       "}\n",
       "#T_e0ff6 th.col_heading.level0 {\n",
       "  font-size: 1em;\n",
       "}\n",
       "#T_e0ff6 td {\n",
       "  text-align: center;\n",
       "}\n",
       "</style>\n",
       "<table id=\"T_e0ff6\">\n",
       "  <thead>\n",
       "    <tr>\n",
       "      <th class=\"blank level0\" >&nbsp;</th>\n",
       "      <th id=\"T_e0ff6_level0_col0\" class=\"col_heading level0 col0\" >F_avg</th>\n",
       "      <th id=\"T_e0ff6_level0_col1\" class=\"col_heading level0 col1\" >Diamond distances</th>\n",
       "    </tr>\n",
       "  </thead>\n",
       "  <tbody>\n",
       "    <tr>\n",
       "      <th id=\"T_e0ff6_level0_row0\" class=\"row_heading level0 row0\" >Id</th>\n",
       "      <td id=\"T_e0ff6_row0_col0\" class=\"data row0 col0\" >0,98466</td>\n",
       "      <td id=\"T_e0ff6_row0_col1\" class=\"data row0 col1\" >0,04937</td>\n",
       "    </tr>\n",
       "    <tr>\n",
       "      <th id=\"T_e0ff6_level0_row1\" class=\"row_heading level0 row1\" >Rx(pi/2)[q0]</th>\n",
       "      <td id=\"T_e0ff6_row1_col0\" class=\"data row1 col0\" >0,97724</td>\n",
       "      <td id=\"T_e0ff6_row1_col1\" class=\"data row1 col1\" >0,08978</td>\n",
       "    </tr>\n",
       "    <tr>\n",
       "      <th id=\"T_e0ff6_level0_row2\" class=\"row_heading level0 row2\" >Ry(pi/2)[q0]</th>\n",
       "      <td id=\"T_e0ff6_row2_col0\" class=\"data row2 col0\" >0,97419</td>\n",
       "      <td id=\"T_e0ff6_row2_col1\" class=\"data row2 col1\" >0,09854</td>\n",
       "    </tr>\n",
       "    <tr>\n",
       "      <th id=\"T_e0ff6_level0_row3\" class=\"row_heading level0 row3\" >Rx(pi/2)[q1]</th>\n",
       "      <td id=\"T_e0ff6_row3_col0\" class=\"data row3 col0\" >0,94845</td>\n",
       "      <td id=\"T_e0ff6_row3_col1\" class=\"data row3 col1\" >0,16368</td>\n",
       "    </tr>\n",
       "    <tr>\n",
       "      <th id=\"T_e0ff6_level0_row4\" class=\"row_heading level0 row4\" >Ry(pi/2)[q1]</th>\n",
       "      <td id=\"T_e0ff6_row4_col0\" class=\"data row4 col0\" >0,95050</td>\n",
       "      <td id=\"T_e0ff6_row4_col1\" class=\"data row4 col1\" >0,14989</td>\n",
       "    </tr>\n",
       "    <tr>\n",
       "      <th id=\"T_e0ff6_level0_row5\" class=\"row_heading level0 row5\" >CNOT[q0-q1]</th>\n",
       "      <td id=\"T_e0ff6_row5_col0\" class=\"data row5 col0\" >0,37837</td>\n",
       "      <td id=\"T_e0ff6_row5_col1\" class=\"data row5 col1\" >0,94874</td>\n",
       "    </tr>\n",
       "  </tbody>\n",
       "</table>\n"
      ],
      "text/plain": [
       "<pandas.io.formats.style.Styler at 0x7fbb43daa100>"
      ]
     },
     "metadata": {},
     "output_type": "display_data"
    },
    {
     "data": {
      "text/html": [
       "<style type=\"text/css\">\n",
       "#T_658a5 th.col_heading {\n",
       "  text-align: center;\n",
       "}\n",
       "#T_658a5 th.col_heading.level0 {\n",
       "  font-size: 1em;\n",
       "}\n",
       "#T_658a5 td {\n",
       "  text-align: center;\n",
       "}\n",
       "</style>\n",
       "<table id=\"T_658a5\">\n",
       "  <thead>\n",
       "    <tr>\n",
       "      <th class=\"blank level0\" >&nbsp;</th>\n",
       "      <th id=\"T_658a5_level0_col0\" class=\"col_heading level0 col0\" >Final cost function value</th>\n",
       "      <th id=\"T_658a5_level0_col1\" class=\"col_heading level0 col1\" >Mean total variation dist. to data</th>\n",
       "      <th id=\"T_658a5_level0_col2\" class=\"col_heading level0 col2\" >Mean total variation dist. target to data</th>\n",
       "      <th id=\"T_658a5_level0_col3\" class=\"col_heading level0 col3\" >POVM - Choi map trace distance</th>\n",
       "      <th id=\"T_658a5_level0_col4\" class=\"col_heading level0 col4\" >State - Trace distance</th>\n",
       "    </tr>\n",
       "  </thead>\n",
       "  <tbody>\n",
       "    <tr>\n",
       "      <th id=\"T_658a5_level0_row0\" class=\"row_heading level0 row0\" ></th>\n",
       "      <td id=\"T_658a5_row0_col0\" class=\"data row0 col0\" >0.003927</td>\n",
       "      <td id=\"T_658a5_row0_col1\" class=\"data row0 col1\" >0.079855</td>\n",
       "      <td id=\"T_658a5_row0_col2\" class=\"data row0 col2\" >0.221379</td>\n",
       "      <td id=\"T_658a5_row0_col3\" class=\"data row0 col3\" >0.699667</td>\n",
       "      <td id=\"T_658a5_row0_col4\" class=\"data row0 col4\" >0.997707</td>\n",
       "    </tr>\n",
       "  </tbody>\n",
       "</table>\n"
      ],
      "text/plain": [
       "<pandas.io.formats.style.Styler at 0x7fbb43dc1130>"
      ]
     },
     "metadata": {},
     "output_type": "display_data"
    },
    {
     "data": {
      "text/plain": [
       "(None, None)"
      ]
     },
     "execution_count": 20,
     "metadata": {},
     "output_type": "execute_result"
    }
   ],
   "source": [
    "K,X,E,rho = results[0][:]\n",
    "\n",
    "weights = {'G0': 1,'G1': 1, 'G2': 1, 'G3': 1, 'G4': 1, 'G5': 1, 'spam': 1}\n",
    "gate_labels = {0: \"Id\", 1: \"Rx(pi/2)[q0]\", 2: \"Ry(pi/2)[q0]\", 3: \"Rx(pi/2)[q1]\", 4: \"Ry(pi/2)[q1]\", 5: \"CZ[q0-q1]\"}\n",
    "\n",
    "X_opt, E_opt, rho_opt = gauge_opt(X, E, rho, target_mdl, weights)\n",
    "df_g, df_o, s_g, s_o = report(X_opt, E_opt, rho_opt, J_all, y_all, target_mdl, gate_labels)\n",
    "\n",
    "display(s_g), display(s_o)"
   ]
  },
  {
   "cell_type": "markdown",
   "id": "64886561-ff19-41f4-ac38-eefb4a7a6c98",
   "metadata": {},
   "source": [
    "### Rank 1"
   ]
  },
  {
   "cell_type": "code",
   "execution_count": 15,
   "id": "f143ff30-90b1-4e5e-b224-e12c364e78ef",
   "metadata": {},
   "outputs": [],
   "source": [
    "with open(\"rank_1_from_init_hardware_probs_1132\", 'rb') as handle:\n",
    "    b = pickle.load(handle)\n",
    "results = b['results']"
   ]
  },
  {
   "cell_type": "code",
   "execution_count": 16,
   "id": "caed2da6-7736-43b6-a946-15e49dc82c59",
   "metadata": {},
   "outputs": [
    {
     "data": {
      "text/html": [
       "<style type=\"text/css\">\n",
       "#T_f4c09 th.col_heading {\n",
       "  text-align: center;\n",
       "}\n",
       "#T_f4c09 th.col_heading.level0 {\n",
       "  font-size: 1em;\n",
       "}\n",
       "#T_f4c09 td {\n",
       "  text-align: center;\n",
       "}\n",
       "</style>\n",
       "<table id=\"T_f4c09\">\n",
       "  <thead>\n",
       "    <tr>\n",
       "      <th class=\"blank level0\" >&nbsp;</th>\n",
       "      <th id=\"T_f4c09_level0_col0\" class=\"col_heading level0 col0\" >F_avg</th>\n",
       "      <th id=\"T_f4c09_level0_col1\" class=\"col_heading level0 col1\" >Diamond distances</th>\n",
       "    </tr>\n",
       "  </thead>\n",
       "  <tbody>\n",
       "    <tr>\n",
       "      <th id=\"T_f4c09_level0_row0\" class=\"row_heading level0 row0\" >Id</th>\n",
       "      <td id=\"T_f4c09_row0_col0\" class=\"data row0 col0\" >0,99892</td>\n",
       "      <td id=\"T_f4c09_row0_col1\" class=\"data row0 col1\" >0,04798</td>\n",
       "    </tr>\n",
       "    <tr>\n",
       "      <th id=\"T_f4c09_level0_row1\" class=\"row_heading level0 row1\" >Rx(pi/2)[q0]</th>\n",
       "      <td id=\"T_f4c09_row1_col0\" class=\"data row1 col0\" >0,99901</td>\n",
       "      <td id=\"T_f4c09_row1_col1\" class=\"data row1 col1\" >0,04744</td>\n",
       "    </tr>\n",
       "    <tr>\n",
       "      <th id=\"T_f4c09_level0_row2\" class=\"row_heading level0 row2\" >Ry(pi/2)[q0]</th>\n",
       "      <td id=\"T_f4c09_row2_col0\" class=\"data row2 col0\" >0,99632</td>\n",
       "      <td id=\"T_f4c09_row2_col1\" class=\"data row2 col1\" >0,08398</td>\n",
       "    </tr>\n",
       "    <tr>\n",
       "      <th id=\"T_f4c09_level0_row3\" class=\"row_heading level0 row3\" >Rx(pi/2)[q1]</th>\n",
       "      <td id=\"T_f4c09_row3_col0\" class=\"data row3 col0\" >0,99120</td>\n",
       "      <td id=\"T_f4c09_row3_col1\" class=\"data row3 col1\" >0,11652</td>\n",
       "    </tr>\n",
       "    <tr>\n",
       "      <th id=\"T_f4c09_level0_row4\" class=\"row_heading level0 row4\" >Ry(pi/2)[q1]</th>\n",
       "      <td id=\"T_f4c09_row4_col0\" class=\"data row4 col0\" >0,99138</td>\n",
       "      <td id=\"T_f4c09_row4_col1\" class=\"data row4 col1\" >0,12533</td>\n",
       "    </tr>\n",
       "    <tr>\n",
       "      <th id=\"T_f4c09_level0_row5\" class=\"row_heading level0 row5\" >CZ[q0-q1]</th>\n",
       "      <td id=\"T_f4c09_row5_col0\" class=\"data row5 col0\" >0,33972</td>\n",
       "      <td id=\"T_f4c09_row5_col1\" class=\"data row5 col1\" >1,00000</td>\n",
       "    </tr>\n",
       "  </tbody>\n",
       "</table>\n"
      ],
      "text/plain": [
       "<pandas.io.formats.style.Styler at 0x7f799e933730>"
      ]
     },
     "metadata": {},
     "output_type": "display_data"
    },
    {
     "data": {
      "text/html": [
       "<style type=\"text/css\">\n",
       "#T_bb742 th.col_heading {\n",
       "  text-align: center;\n",
       "}\n",
       "#T_bb742 th.col_heading.level0 {\n",
       "  font-size: 1em;\n",
       "}\n",
       "#T_bb742 td {\n",
       "  text-align: center;\n",
       "}\n",
       "</style>\n",
       "<table id=\"T_bb742\">\n",
       "  <thead>\n",
       "    <tr>\n",
       "      <th class=\"blank level0\" >&nbsp;</th>\n",
       "      <th id=\"T_bb742_level0_col0\" class=\"col_heading level0 col0\" >Final cost function value</th>\n",
       "      <th id=\"T_bb742_level0_col1\" class=\"col_heading level0 col1\" >Mean total variation dist. to data</th>\n",
       "      <th id=\"T_bb742_level0_col2\" class=\"col_heading level0 col2\" >Mean total variation dist. target to data</th>\n",
       "      <th id=\"T_bb742_level0_col3\" class=\"col_heading level0 col3\" >POVM - Choi map trace distance</th>\n",
       "      <th id=\"T_bb742_level0_col4\" class=\"col_heading level0 col4\" >State - Trace distance</th>\n",
       "    </tr>\n",
       "  </thead>\n",
       "  <tbody>\n",
       "    <tr>\n",
       "      <th id=\"T_bb742_level0_row0\" class=\"row_heading level0 row0\" ></th>\n",
       "      <td id=\"T_bb742_row0_col0\" class=\"data row0 col0\" >0.006186</td>\n",
       "      <td id=\"T_bb742_row0_col1\" class=\"data row0 col1\" >0.102388</td>\n",
       "      <td id=\"T_bb742_row0_col2\" class=\"data row0 col2\" >0.221379</td>\n",
       "      <td id=\"T_bb742_row0_col3\" class=\"data row0 col3\" >0.159434</td>\n",
       "      <td id=\"T_bb742_row0_col4\" class=\"data row0 col4\" >0.187492</td>\n",
       "    </tr>\n",
       "  </tbody>\n",
       "</table>\n"
      ],
      "text/plain": [
       "<pandas.io.formats.style.Styler at 0x7f799e9b3940>"
      ]
     },
     "metadata": {},
     "output_type": "display_data"
    },
    {
     "data": {
      "text/plain": [
       "(None, None)"
      ]
     },
     "execution_count": 16,
     "metadata": {},
     "output_type": "execute_result"
    }
   ],
   "source": [
    "K,X,E,rho = results[0][:]\n",
    "\n",
    "weights = {'G0': 1,'G1': 1, 'G2': 1, 'G3': 1, 'G4': 1, 'G5': 1, 'spam': 1}\n",
    "gate_labels = {0: \"Id\", 1: \"Rx(pi/2)[q0]\", 2: \"Ry(pi/2)[q0]\", 3: \"Rx(pi/2)[q1]\", 4: \"Ry(pi/2)[q1]\", 5: \"CZ[q0-q1]\"}\n",
    "\n",
    "X_opt, E_opt, rho_opt = gauge_opt(X, E, rho, target_mdl, weights)\n",
    "df_g, df_o, s_g, s_o = report(X_opt, E_opt, rho_opt, J_all, y_all, target_mdl, gate_labels)\n",
    "\n",
    "display(s_g), display(s_o)"
   ]
  },
  {
   "cell_type": "code",
   "execution_count": 17,
   "id": "6264b57e-14b4-4f95-8193-d0d2e6320cfd",
   "metadata": {},
   "outputs": [
    {
     "data": {
      "image/png": "[encoded data removed]",
      "text/plain": [
       "<Figure size 767.432x314.182 with 3 Axes>"
      ]
     },
     "metadata": {},
     "output_type": "display_data"
    },
    {
     "data": {
      "image/png": "[encoded data removed]",
      "text/plain": [
       "<Figure size 432x288 with 6 Axes>"
      ]
     },
     "metadata": {},
     "output_type": "display_data"
    }
   ],
   "source": [
    "gate_index = 5\n",
    "\n",
    "X_opt_pp, E_opt_pp, rho_opt_pp = compatibility.std2pp(X_opt,E_opt,rho_opt)\n",
    "X_t_pp, E_t_pp, rho_t_pp = compatibility.pygsti_model_to_arrays(target_mdl,basis = 'pp')\n",
    "\n",
    "\n",
    "plot_mat(X_opt[gate_index], X_t[gate_index])\n",
    "plot_spam(rho_opt_pp, E_opt_pp)"
   ]
  },
  {
   "cell_type": "code",
   "execution_count": 18,
   "id": "f956f1cf-31a4-459f-a1ca-bd37b4ed6db6",
   "metadata": {},
   "outputs": [
    {
     "data": {
      "image/png": "[encoded data removed]",
      "text/plain": [
       "<Figure size 383.716x157.091 with 3 Axes>"
      ]
     },
     "metadata": {},
     "output_type": "display_data"
    }
   ],
   "source": [
    "K_opt = additional_fns.Kraus_rep(X_opt,d,pdim,1)\n",
    "plot_mat(np.abs(K_opt[5][0]), np.abs(K_t[5][0]))"
   ]
  },
  {
   "cell_type": "code",
   "execution_count": 19,
   "id": "daf5b441-dead-4e98-b21a-4afbca08d12b",
   "metadata": {},
   "outputs": [
    {
     "name": "stdout",
     "output_type": "stream",
     "text": [
      "0.0\n",
      "-2.038862400550034\n",
      "-0.2046547625025989\n",
      "-1.71935384831613\n"
     ]
    },
    {
     "data": {
      "image/png": "[encoded data removed]",
      "text/plain": [
       "<Figure size 432x288 with 1 Axes>"
      ]
     },
     "metadata": {},
     "output_type": "display_data"
    }
   ],
   "source": [
    "for x in np.diag(K_opt[5][0]):\n",
    "    print(np.angle(x))\n",
    "    plt.polar([0,np.angle(x)],[0,abs(x)],marker='o')\n",
    "plt.show()"
   ]
  },
  {
   "cell_type": "code",
   "execution_count": 20,
   "id": "c75eade2-d16c-43ea-98fd-32b938388d1d",
   "metadata": {},
   "outputs": [
    {
     "data": {
      "image/png": "[encoded data removed]",
      "text/plain": [
       "<Figure size 432x288 with 1 Axes>"
      ]
     },
     "metadata": {},
     "output_type": "display_data"
    }
   ],
   "source": [
    "for x in np.diag(X_t[5]):\n",
    "    plt.polar([0,np.angle(x)],[0,abs(x)],marker='o')\n",
    "plt.show()"
   ]
  },
  {
   "cell_type": "markdown",
   "id": "bd3f902c-071c-4361-9406-fd3217644ba4",
   "metadata": {},
   "source": []
  }
 ],
 "metadata": {
  "kernelspec": {
   "display_name": "Python 3 (ipykernel)",
   "language": "python",
   "name": "python3"
  },
  "language_info": {
   "codemirror_mode": {
    "name": "ipython",
    "version": 3
   },
   "file_extension": ".py",
   "mimetype": "text/x-python",
   "name": "python",
   "nbconvert_exporter": "python",
   "pygments_lexer": "ipython3",
   "version": "3.8.10"
  }
 },
 "nbformat": 4,
 "nbformat_minor": 5
}
