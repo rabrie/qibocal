{
 "cells": [
  {
   "cell_type": "markdown",
   "id": "19498ba6-106b-4ef2-b798-ca7d0a6fce8a",
   "metadata": {
    "tags": []
   },
   "source": [
    "# Single qubit GST on the 5 qubit chip (Data from 3.5.2023)"
   ]
  },
  {
   "cell_type": "code",
   "execution_count": 2,
   "id": "2fad699e-1bfe-4b66-9a11-1a9f9697f627",
   "metadata": {},
   "outputs": [],
   "source": [
    "# Note: I removed the mGST folders from within the qibocal fork, such that it is installed and updated seperately\n",
    "from mGST import compatibility,algorithm, optimization, low_level_jit, additional_fns"
   ]
  },
  {
   "cell_type": "code",
   "execution_count": 45,
   "id": "6e58b942-2370-4d00-a8f0-88704b080a55",
   "metadata": {},
   "outputs": [],
   "source": [
    "import pickle as pickle\n",
    "from pygsti.report import reportables as rptbl #Needs cvxpy!\n",
    "from pygsti.modelpacks import smq1Q_XYI as std\n",
    "import pygsti\n",
    "from argparse import Namespace\n",
    "import numpy as np\n",
    "import pandas as pd\n",
    "import numpy.linalg as la\n",
    "import json\n",
    "import matplotlib.pyplot as plt\n",
    "from pygsti.modelpacks import smq2Q_XYICNOT as std\n",
    "\n",
    "%run ../src/mGST/reporting.py"
   ]
  },
  {
   "cell_type": "markdown",
   "id": "8aa5d0c5-5f45-41ba-9309-b5055901f76d",
   "metadata": {},
   "source": [
    "### Setting the parameters"
   ]
  },
  {
   "cell_type": "code",
   "execution_count": 4,
   "id": "bc5a4c05-f8c4-46cd-ad54-4fc6a2544e66",
   "metadata": {},
   "outputs": [],
   "source": [
    "pdim = 4   # physical dimension\n",
    "r = pdim**2   # rank of the gate superoperators \n",
    "\n",
    "max_l = 10  # maximum number of gates in each measurement sequence\n",
    "n_povm = 4   # number of POVM-elements\n"
   ]
  },
  {
   "cell_type": "markdown",
   "id": "a9d466a3-c184-4647-a735-3882ed478720",
   "metadata": {},
   "source": [
    "### Loading data"
   ]
  },
  {
   "cell_type": "code",
   "execution_count": 57,
   "id": "d4029d3f-3387-47eb-ad47-654e09c4a8e1",
   "metadata": {},
   "outputs": [],
   "source": [
    "with open('data/20230504-1132_cgst_depth_5.json') as f:\n",
    "    data = json.load(f)\n",
    "N = data['nsequences']\n",
    "l = data['depth']\n",
    "J5 = np.array([list(np.pad(data['measurements'][i]['circuit'],(0,max_l-l),'constant',constant_values=-1)) for i in range(N)])\n",
    "y5 = np.array([[data['measurements'][i]['hardware_probabilities'][basis_str] for i in range(N)] for basis_str in ['00','01','10','11']])\n",
    "\n",
    "with open('data/20230504-1132_cgst_depth_7.json') as f:\n",
    "    data = json.load(f)\n",
    "N = data['nsequences']\n",
    "l = data['depth']\n",
    "J7 = np.array([list(np.pad(data['measurements'][i]['circuit'],(0,max_l-l),'constant',constant_values=-1)) for i in range(N)])\n",
    "y7 = np.array([[data['measurements'][i]['hardware_probabilities'][basis_str] for i in range(N)] for basis_str in ['00','01','10','11']])\n",
    "\n",
    "with open('data/20230504-1132_cgst_depth_10.json') as f:\n",
    "    data = json.load(f)\n",
    "N = data['nsequences']\n",
    "l = data['depth']\n",
    "J10 = np.array([list(np.pad(data['measurements'][i]['circuit'],(0,max_l-l),'constant',constant_values=-1)) for i in range(N)])\n",
    "y10 = np.array([[data['measurements'][i]['hardware_probabilities'][basis_str] for i in range(N)] for basis_str in ['00','01','10','11']])\n",
    "\n",
    "J57 = np.concatenate((J5,J7), axis = 0)\n",
    "y57 = np.concatenate((y5,y7), axis = 1)\n",
    "\n",
    "J_all = np.concatenate((J57,J10), axis = 0)\n",
    "y_all = np.concatenate((y57,y10), axis = 1)\n",
    "\n",
    "meas_samples = data['nshots']\n",
    "d = 6"
   ]
  },
  {
   "cell_type": "markdown",
   "id": "35724025-9e20-4876-aaf1-895a7c644f92",
   "metadata": {},
   "source": [
    "### GST"
   ]
  },
  {
   "cell_type": "code",
   "execution_count": null,
   "id": "117a49d5-ad10-4e3e-b788-dc0770f36081",
   "metadata": {
    "tags": []
   },
   "outputs": [],
   "source": [
    "bsize = 120   # The batch size on which the optimization is started\n",
    "results = []\n",
    "for rK in [4]:  \n",
    "    X_t,E_t,rho_t = compatibility.pygsti_model_to_arrays(std.target_model(),basis = 'std') #The idle-X(pi/w)-Y(pi/2) model \n",
    "    K_t = additional_fns.Kraus_rep(X_t,d,pdim,rK)\n",
    "    X_t = np.einsum('ijkl,ijnm -> iknlm', K_t, K_t.conj()).reshape(d,r,r)  \n",
    "    X_t[[1,2,3,4],:,:] = X_t[[3,4,1,2],:,:] #swap gate ordering for consistency\n",
    "    # K,X,E,rho,res_list = algorithm.run_mGST(y_all,J_all,max_l,d,r,rK, n_povm, bsize, meas_samples, method = 'GD',\n",
    "    #                      max_inits = 10, max_iter = 200, final_iter = 100, threshold_multiplyer = 100, \n",
    "    #                      target_rel_prec = 1e-4, init = [K_t, E_t, rho_t], testing = True)   \n",
    "    K,X,E,rho,res_list = algorithm.run_mGST(y_all,J_all,max_l,d,r,rK, n_povm, bsize, meas_samples, method = 'SFN',\n",
    "                         max_inits = 10, max_iter = 0, final_iter = 10, threshold_multiplyer = 100, \n",
    "                         target_rel_prec = 1e-4, init = [K, E, rho], testing = True)   \n",
    "    results.append([K,X,E,rho])"
   ]
  },
  {
   "cell_type": "code",
   "execution_count": 75,
   "id": "052f02c9-7d3b-4b43-92cc-76dfe840f85b",
   "metadata": {},
   "outputs": [],
   "source": [
    "# ###################################### \n",
    "# filename = 'ranks_4_from_init'\n",
    "# parameters = {'sequence length':l,'gate count':d,'Kraus ranks':[1],'phys. dimension':int(np.sqrt(r)), 'Sequence count': N, \n",
    "#               'J':J_all,'y':y_all,'threshold_multiplyer': 30, \n",
    "#                      'target_rel_prec':1e-4}\n",
    "# data_to_safe = {'parameters':parameters, 'results':results}\n",
    "\n",
    "# with open(filename, 'wb') as handle:\n",
    "#     pickle.dump(data_to_safe, handle, protocol=pickle.HIGHEST_PROTOCOL)"
   ]
  },
  {
   "cell_type": "markdown",
   "id": "cb9ba87a-9782-4470-94c0-6885f80a4138",
   "metadata": {
    "tags": []
   },
   "source": [
    "# Analysis"
   ]
  },
  {
   "cell_type": "markdown",
   "id": "ab193788-54c0-410d-bb08-b38c59043d31",
   "metadata": {},
   "source": [
    "### Full rank"
   ]
  },
  {
   "cell_type": "code",
   "execution_count": 47,
   "id": "ffd95a99-333f-46ef-9480-f530ff4f445e",
   "metadata": {},
   "outputs": [],
   "source": [
    "with open(\"ranks_16_from_init\", 'rb') as handle:\n",
    "    b = pickle.load(handle)\n",
    "results = b['results']"
   ]
  },
  {
   "cell_type": "code",
   "execution_count": 49,
   "id": "a6f3781a-4e6a-47b9-8921-5a89b3b80b3d",
   "metadata": {},
   "outputs": [
    {
     "data": {
      "text/html": [
       "<style type=\"text/css\">\n",
       "#T_10d5a th.col_heading {\n",
       "  text-align: center;\n",
       "}\n",
       "#T_10d5a th.col_heading.level0 {\n",
       "  font-size: 1em;\n",
       "}\n",
       "#T_10d5a td {\n",
       "  text-align: center;\n",
       "}\n",
       "</style>\n",
       "<table id=\"T_10d5a\">\n",
       "  <thead>\n",
       "    <tr>\n",
       "      <th class=\"blank level0\" >&nbsp;</th>\n",
       "      <th id=\"T_10d5a_level0_col0\" class=\"col_heading level0 col0\" >F_avg</th>\n",
       "      <th id=\"T_10d5a_level0_col1\" class=\"col_heading level0 col1\" >Diamond distances</th>\n",
       "    </tr>\n",
       "  </thead>\n",
       "  <tbody>\n",
       "    <tr>\n",
       "      <th id=\"T_10d5a_level0_row0\" class=\"row_heading level0 row0\" >Id</th>\n",
       "      <td id=\"T_10d5a_row0_col0\" class=\"data row0 col0\" >0,99985</td>\n",
       "      <td id=\"T_10d5a_row0_col1\" class=\"data row0 col1\" >0,01413</td>\n",
       "    </tr>\n",
       "    <tr>\n",
       "      <th id=\"T_10d5a_level0_row1\" class=\"row_heading level0 row1\" >Rx(pi/2)[q0]</th>\n",
       "      <td id=\"T_10d5a_row1_col0\" class=\"data row1 col0\" >0,99397</td>\n",
       "      <td id=\"T_10d5a_row1_col1\" class=\"data row1 col1\" >0,05215</td>\n",
       "    </tr>\n",
       "    <tr>\n",
       "      <th id=\"T_10d5a_level0_row2\" class=\"row_heading level0 row2\" >Ry(pi/2)[q0]</th>\n",
       "      <td id=\"T_10d5a_row2_col0\" class=\"data row2 col0\" >0,99344</td>\n",
       "      <td id=\"T_10d5a_row2_col1\" class=\"data row2 col1\" >0,06311</td>\n",
       "    </tr>\n",
       "    <tr>\n",
       "      <th id=\"T_10d5a_level0_row3\" class=\"row_heading level0 row3\" >Rx(pi/2)[q1]</th>\n",
       "      <td id=\"T_10d5a_row3_col0\" class=\"data row3 col0\" >0,96317</td>\n",
       "      <td id=\"T_10d5a_row3_col1\" class=\"data row3 col1\" >0,17228</td>\n",
       "    </tr>\n",
       "    <tr>\n",
       "      <th id=\"T_10d5a_level0_row4\" class=\"row_heading level0 row4\" >Ry(pi/2)[q1]</th>\n",
       "      <td id=\"T_10d5a_row4_col0\" class=\"data row4 col0\" >0,96235</td>\n",
       "      <td id=\"T_10d5a_row4_col1\" class=\"data row4 col1\" >0,13657</td>\n",
       "    </tr>\n",
       "    <tr>\n",
       "      <th id=\"T_10d5a_level0_row5\" class=\"row_heading level0 row5\" >CNOT[q0-q1]</th>\n",
       "      <td id=\"T_10d5a_row5_col0\" class=\"data row5 col0\" >0,39724</td>\n",
       "      <td id=\"T_10d5a_row5_col1\" class=\"data row5 col1\" >0,99588</td>\n",
       "    </tr>\n",
       "  </tbody>\n",
       "</table>\n"
      ],
      "text/plain": [
       "<pandas.io.formats.style.Styler at 0x7f0dce1d92e0>"
      ]
     },
     "metadata": {},
     "output_type": "display_data"
    },
    {
     "data": {
      "text/html": [
       "<style type=\"text/css\">\n",
       "#T_5d110 th.col_heading {\n",
       "  text-align: center;\n",
       "}\n",
       "#T_5d110 th.col_heading.level0 {\n",
       "  font-size: 1em;\n",
       "}\n",
       "#T_5d110 td {\n",
       "  text-align: center;\n",
       "}\n",
       "</style>\n",
       "<table id=\"T_5d110\">\n",
       "  <thead>\n",
       "    <tr>\n",
       "      <th class=\"blank level0\" >&nbsp;</th>\n",
       "      <th id=\"T_5d110_level0_col0\" class=\"col_heading level0 col0\" >Final cost function value</th>\n",
       "      <th id=\"T_5d110_level0_col1\" class=\"col_heading level0 col1\" >Mean total variation dist. to data</th>\n",
       "      <th id=\"T_5d110_level0_col2\" class=\"col_heading level0 col2\" >Mean total variation dist. target to data</th>\n",
       "      <th id=\"T_5d110_level0_col3\" class=\"col_heading level0 col3\" >POVM - Choi map trace distance</th>\n",
       "      <th id=\"T_5d110_level0_col4\" class=\"col_heading level0 col4\" >State - Trace distance</th>\n",
       "    </tr>\n",
       "  </thead>\n",
       "  <tbody>\n",
       "    <tr>\n",
       "      <th id=\"T_5d110_level0_row0\" class=\"row_heading level0 row0\" ></th>\n",
       "      <td id=\"T_5d110_row0_col0\" class=\"data row0 col0\" >0.004028</td>\n",
       "      <td id=\"T_5d110_row0_col1\" class=\"data row0 col1\" >0.080832</td>\n",
       "      <td id=\"T_5d110_row0_col2\" class=\"data row0 col2\" >0.357838</td>\n",
       "      <td id=\"T_5d110_row0_col3\" class=\"data row0 col3\" >0.517189</td>\n",
       "      <td id=\"T_5d110_row0_col4\" class=\"data row0 col4\" >0.153710</td>\n",
       "    </tr>\n",
       "  </tbody>\n",
       "</table>\n"
      ],
      "text/plain": [
       "<pandas.io.formats.style.Styler at 0x7f0dce27f8e0>"
      ]
     },
     "metadata": {},
     "output_type": "display_data"
    },
    {
     "data": {
      "text/plain": [
       "(None, None)"
      ]
     },
     "execution_count": 49,
     "metadata": {},
     "output_type": "execute_result"
    }
   ],
   "source": [
    "K,X,E,rho = results[0][:]\n",
    "weights = {'G0': 1,'G1': 1, 'G2': 1, 'G3': 1, 'G4': 1, 'G5':1, 'spam': 1}\n",
    "gate_labels = {0: \"Id\", 1: \"Rx(pi/2)[q0]\", 2: \"Ry(pi/2)[q0]\", 3: \"Rx(pi/2)[q1]\", 4: \"Ry(pi/2)[q1]\", 5: \"CNOT[q0-q1]\"}\n",
    "df_g, df_o, s_g, s_o, gauge_optimized_mdl = gauge_opt_report(\n",
    "    X, E, rho, J_all, y_all, std.target_model(), weights, gate_labels)\n",
    "\n",
    "display(s_g), display(s_o)"
   ]
  },
  {
   "cell_type": "markdown",
   "id": "33d69b4f-7495-4b56-9aaf-19d888d36110",
   "metadata": {},
   "source": [
    "### Rank 4"
   ]
  },
  {
   "cell_type": "code",
   "execution_count": 76,
   "id": "67345272-3fe7-4b6b-bf90-664bad754f8b",
   "metadata": {},
   "outputs": [],
   "source": [
    "with open(\"ranks_4_from_init\", 'rb') as handle:\n",
    "    b = pickle.load(handle)\n",
    "results = b['results']"
   ]
  },
  {
   "cell_type": "code",
   "execution_count": 74,
   "id": "f6bf4f81-6d17-45c3-8328-ff09e9cf2ad8",
   "metadata": {},
   "outputs": [
    {
     "data": {
      "text/html": [
       "<style type=\"text/css\">\n",
       "#T_0277c th.col_heading {\n",
       "  text-align: center;\n",
       "}\n",
       "#T_0277c th.col_heading.level0 {\n",
       "  font-size: 1em;\n",
       "}\n",
       "#T_0277c td {\n",
       "  text-align: center;\n",
       "}\n",
       "</style>\n",
       "<table id=\"T_0277c\">\n",
       "  <thead>\n",
       "    <tr>\n",
       "      <th class=\"blank level0\" >&nbsp;</th>\n",
       "      <th id=\"T_0277c_level0_col0\" class=\"col_heading level0 col0\" >F_avg</th>\n",
       "      <th id=\"T_0277c_level0_col1\" class=\"col_heading level0 col1\" >Diamond distances</th>\n",
       "    </tr>\n",
       "  </thead>\n",
       "  <tbody>\n",
       "    <tr>\n",
       "      <th id=\"T_0277c_level0_row0\" class=\"row_heading level0 row0\" >Id</th>\n",
       "      <td id=\"T_0277c_row0_col0\" class=\"data row0 col0\" >0,98466</td>\n",
       "      <td id=\"T_0277c_row0_col1\" class=\"data row0 col1\" >0,04937</td>\n",
       "    </tr>\n",
       "    <tr>\n",
       "      <th id=\"T_0277c_level0_row1\" class=\"row_heading level0 row1\" >Rx(pi/2)[q0]</th>\n",
       "      <td id=\"T_0277c_row1_col0\" class=\"data row1 col0\" >0,97743</td>\n",
       "      <td id=\"T_0277c_row1_col1\" class=\"data row1 col1\" >0,08424</td>\n",
       "    </tr>\n",
       "    <tr>\n",
       "      <th id=\"T_0277c_level0_row2\" class=\"row_heading level0 row2\" >Ry(pi/2)[q0]</th>\n",
       "      <td id=\"T_0277c_row2_col0\" class=\"data row2 col0\" >0,97419</td>\n",
       "      <td id=\"T_0277c_row2_col1\" class=\"data row2 col1\" >0,09495</td>\n",
       "    </tr>\n",
       "    <tr>\n",
       "      <th id=\"T_0277c_level0_row3\" class=\"row_heading level0 row3\" >Rx(pi/2)[q1]</th>\n",
       "      <td id=\"T_0277c_row3_col0\" class=\"data row3 col0\" >0,94806</td>\n",
       "      <td id=\"T_0277c_row3_col1\" class=\"data row3 col1\" >0,16792</td>\n",
       "    </tr>\n",
       "    <tr>\n",
       "      <th id=\"T_0277c_level0_row4\" class=\"row_heading level0 row4\" >Ry(pi/2)[q1]</th>\n",
       "      <td id=\"T_0277c_row4_col0\" class=\"data row4 col0\" >0,95052</td>\n",
       "      <td id=\"T_0277c_row4_col1\" class=\"data row4 col1\" >0,15220</td>\n",
       "    </tr>\n",
       "    <tr>\n",
       "      <th id=\"T_0277c_level0_row5\" class=\"row_heading level0 row5\" >CNOT[q0-q1]</th>\n",
       "      <td id=\"T_0277c_row5_col0\" class=\"data row5 col0\" >0,41406</td>\n",
       "      <td id=\"T_0277c_row5_col1\" class=\"data row5 col1\" >0,99818</td>\n",
       "    </tr>\n",
       "  </tbody>\n",
       "</table>\n"
      ],
      "text/plain": [
       "<pandas.io.formats.style.Styler at 0x7f0dcdfda490>"
      ]
     },
     "metadata": {},
     "output_type": "display_data"
    },
    {
     "data": {
      "text/html": [
       "<style type=\"text/css\">\n",
       "#T_c6a42 th.col_heading {\n",
       "  text-align: center;\n",
       "}\n",
       "#T_c6a42 th.col_heading.level0 {\n",
       "  font-size: 1em;\n",
       "}\n",
       "#T_c6a42 td {\n",
       "  text-align: center;\n",
       "}\n",
       "</style>\n",
       "<table id=\"T_c6a42\">\n",
       "  <thead>\n",
       "    <tr>\n",
       "      <th class=\"blank level0\" >&nbsp;</th>\n",
       "      <th id=\"T_c6a42_level0_col0\" class=\"col_heading level0 col0\" >Final cost function value</th>\n",
       "      <th id=\"T_c6a42_level0_col1\" class=\"col_heading level0 col1\" >Mean total variation dist. to data</th>\n",
       "      <th id=\"T_c6a42_level0_col2\" class=\"col_heading level0 col2\" >Mean total variation dist. target to data</th>\n",
       "      <th id=\"T_c6a42_level0_col3\" class=\"col_heading level0 col3\" >POVM - Choi map trace distance</th>\n",
       "      <th id=\"T_c6a42_level0_col4\" class=\"col_heading level0 col4\" >State - Trace distance</th>\n",
       "    </tr>\n",
       "  </thead>\n",
       "  <tbody>\n",
       "    <tr>\n",
       "      <th id=\"T_c6a42_level0_row0\" class=\"row_heading level0 row0\" ></th>\n",
       "      <td id=\"T_c6a42_row0_col0\" class=\"data row0 col0\" >0.003927</td>\n",
       "      <td id=\"T_c6a42_row0_col1\" class=\"data row0 col1\" >0.079855</td>\n",
       "      <td id=\"T_c6a42_row0_col2\" class=\"data row0 col2\" >0.357838</td>\n",
       "      <td id=\"T_c6a42_row0_col3\" class=\"data row0 col3\" >0.674016</td>\n",
       "      <td id=\"T_c6a42_row0_col4\" class=\"data row0 col4\" >1.113629</td>\n",
       "    </tr>\n",
       "  </tbody>\n",
       "</table>\n"
      ],
      "text/plain": [
       "<pandas.io.formats.style.Styler at 0x7f0dce286b80>"
      ]
     },
     "metadata": {},
     "output_type": "display_data"
    },
    {
     "data": {
      "text/plain": [
       "(None, None)"
      ]
     },
     "execution_count": 74,
     "metadata": {},
     "output_type": "execute_result"
    }
   ],
   "source": [
    "K,X,E,rho = results[0][:]\n",
    "weights = {'G0': 1,'G1': 1, 'G2': 1, 'G3': 1, 'G4': 1, 'G5':1, 'spam': 1}\n",
    "gate_labels = {0: \"Id\", 1: \"Rx(pi/2)[q0]\", 2: \"Ry(pi/2)[q0]\", 3: \"Rx(pi/2)[q1]\", 4: \"Ry(pi/2)[q1]\", 5: \"CNOT[q0-q1]\"}\n",
    "df_g, df_o, s_g, s_o, gauge_optimized_mdl = gauge_opt_report(\n",
    "    X, E, rho, J_all, y_all, std.target_model(), weights, gate_labels)\n",
    "\n",
    "display(s_g), display(s_o)"
   ]
  },
  {
   "cell_type": "markdown",
   "id": "64886561-ff19-41f4-ac38-eefb4a7a6c98",
   "metadata": {},
   "source": [
    "### Rank 1"
   ]
  },
  {
   "cell_type": "code",
   "execution_count": 62,
   "id": "f143ff30-90b1-4e5e-b224-e12c364e78ef",
   "metadata": {},
   "outputs": [],
   "source": [
    "with open(\"ranks_1_from_init\", 'rb') as handle:\n",
    "    b = pickle.load(handle)\n",
    "results = b['results']"
   ]
  },
  {
   "cell_type": "code",
   "execution_count": 63,
   "id": "caed2da6-7736-43b6-a946-15e49dc82c59",
   "metadata": {},
   "outputs": [
    {
     "data": {
      "text/html": [
       "<style type=\"text/css\">\n",
       "#T_1c2ad th.col_heading {\n",
       "  text-align: center;\n",
       "}\n",
       "#T_1c2ad th.col_heading.level0 {\n",
       "  font-size: 1em;\n",
       "}\n",
       "#T_1c2ad td {\n",
       "  text-align: center;\n",
       "}\n",
       "</style>\n",
       "<table id=\"T_1c2ad\">\n",
       "  <thead>\n",
       "    <tr>\n",
       "      <th class=\"blank level0\" >&nbsp;</th>\n",
       "      <th id=\"T_1c2ad_level0_col0\" class=\"col_heading level0 col0\" >F_avg</th>\n",
       "      <th id=\"T_1c2ad_level0_col1\" class=\"col_heading level0 col1\" >Diamond distances</th>\n",
       "    </tr>\n",
       "  </thead>\n",
       "  <tbody>\n",
       "    <tr>\n",
       "      <th id=\"T_1c2ad_level0_row0\" class=\"row_heading level0 row0\" >Id</th>\n",
       "      <td id=\"T_1c2ad_row0_col0\" class=\"data row0 col0\" >0,99916</td>\n",
       "      <td id=\"T_1c2ad_row0_col1\" class=\"data row0 col1\" >0,04422</td>\n",
       "    </tr>\n",
       "    <tr>\n",
       "      <th id=\"T_1c2ad_level0_row1\" class=\"row_heading level0 row1\" >Rx(pi/2)[q0]</th>\n",
       "      <td id=\"T_1c2ad_row1_col0\" class=\"data row1 col0\" >0,99618</td>\n",
       "      <td id=\"T_1c2ad_row1_col1\" class=\"data row1 col1\" >0,09576</td>\n",
       "    </tr>\n",
       "    <tr>\n",
       "      <th id=\"T_1c2ad_level0_row2\" class=\"row_heading level0 row2\" >Ry(pi/2)[q0]</th>\n",
       "      <td id=\"T_1c2ad_row2_col0\" class=\"data row2 col0\" >0,99849</td>\n",
       "      <td id=\"T_1c2ad_row2_col1\" class=\"data row2 col1\" >0,05596</td>\n",
       "    </tr>\n",
       "    <tr>\n",
       "      <th id=\"T_1c2ad_level0_row3\" class=\"row_heading level0 row3\" >Rx(pi/2)[q1]</th>\n",
       "      <td id=\"T_1c2ad_row3_col0\" class=\"data row3 col0\" >0,98902</td>\n",
       "      <td id=\"T_1c2ad_row3_col1\" class=\"data row3 col1\" >0,14410</td>\n",
       "    </tr>\n",
       "    <tr>\n",
       "      <th id=\"T_1c2ad_level0_row4\" class=\"row_heading level0 row4\" >Ry(pi/2)[q1]</th>\n",
       "      <td id=\"T_1c2ad_row4_col0\" class=\"data row4 col0\" >0,99226</td>\n",
       "      <td id=\"T_1c2ad_row4_col1\" class=\"data row4 col1\" >0,11789</td>\n",
       "    </tr>\n",
       "    <tr>\n",
       "      <th id=\"T_1c2ad_level0_row5\" class=\"row_heading level0 row5\" >CNOT[q0-q1]</th>\n",
       "      <td id=\"T_1c2ad_row5_col0\" class=\"data row5 col0\" >0,41046</td>\n",
       "      <td id=\"T_1c2ad_row5_col1\" class=\"data row5 col1\" >0,99870</td>\n",
       "    </tr>\n",
       "  </tbody>\n",
       "</table>\n"
      ],
      "text/plain": [
       "<pandas.io.formats.style.Styler at 0x7f0dceab9940>"
      ]
     },
     "metadata": {},
     "output_type": "display_data"
    },
    {
     "data": {
      "text/html": [
       "<style type=\"text/css\">\n",
       "#T_dfcd0 th.col_heading {\n",
       "  text-align: center;\n",
       "}\n",
       "#T_dfcd0 th.col_heading.level0 {\n",
       "  font-size: 1em;\n",
       "}\n",
       "#T_dfcd0 td {\n",
       "  text-align: center;\n",
       "}\n",
       "</style>\n",
       "<table id=\"T_dfcd0\">\n",
       "  <thead>\n",
       "    <tr>\n",
       "      <th class=\"blank level0\" >&nbsp;</th>\n",
       "      <th id=\"T_dfcd0_level0_col0\" class=\"col_heading level0 col0\" >Final cost function value</th>\n",
       "      <th id=\"T_dfcd0_level0_col1\" class=\"col_heading level0 col1\" >Mean total variation dist. to data</th>\n",
       "      <th id=\"T_dfcd0_level0_col2\" class=\"col_heading level0 col2\" >Mean total variation dist. target to data</th>\n",
       "      <th id=\"T_dfcd0_level0_col3\" class=\"col_heading level0 col3\" >POVM - Choi map trace distance</th>\n",
       "      <th id=\"T_dfcd0_level0_col4\" class=\"col_heading level0 col4\" >State - Trace distance</th>\n",
       "    </tr>\n",
       "  </thead>\n",
       "  <tbody>\n",
       "    <tr>\n",
       "      <th id=\"T_dfcd0_level0_row0\" class=\"row_heading level0 row0\" ></th>\n",
       "      <td id=\"T_dfcd0_row0_col0\" class=\"data row0 col0\" >0.006214</td>\n",
       "      <td id=\"T_dfcd0_row0_col1\" class=\"data row0 col1\" >0.102858</td>\n",
       "      <td id=\"T_dfcd0_row0_col2\" class=\"data row0 col2\" >0.357838</td>\n",
       "      <td id=\"T_dfcd0_row0_col3\" class=\"data row0 col3\" >0.530870</td>\n",
       "      <td id=\"T_dfcd0_row0_col4\" class=\"data row0 col4\" >0.182604</td>\n",
       "    </tr>\n",
       "  </tbody>\n",
       "</table>\n"
      ],
      "text/plain": [
       "<pandas.io.formats.style.Styler at 0x7f0dc15f25b0>"
      ]
     },
     "metadata": {},
     "output_type": "display_data"
    },
    {
     "data": {
      "text/plain": [
       "(None, None)"
      ]
     },
     "execution_count": 63,
     "metadata": {},
     "output_type": "execute_result"
    }
   ],
   "source": [
    "K,X,E,rho = results[0][:]\n",
    "weights = {'G0': 1,'G1': 1, 'G2': 1, 'G3': 1, 'G4': 1, 'G5':1, 'spam': 1}\n",
    "gate_labels = {0: \"Id\", 1: \"Rx(pi/2)[q0]\", 2: \"Ry(pi/2)[q0]\", 3: \"Rx(pi/2)[q1]\", 4: \"Ry(pi/2)[q1]\", 5: \"CNOT[q0-q1]\"}\n",
    "df_g, df_o, s_g, s_o, gauge_optimized_mdl = gauge_opt_report(\n",
    "    X, E, rho, J_all, y_all, std.target_model(), weights, gate_labels)\n",
    "\n",
    "display(s_g), display(s_o)"
   ]
  },
  {
   "cell_type": "markdown",
   "id": "2f78ddd4-9c51-4e34-92c1-81b6af97208a",
   "metadata": {},
   "source": [
    "### Gate plots"
   ]
  },
  {
   "cell_type": "code",
   "execution_count": 50,
   "id": "6b669864-5771-4e3c-8454-13ed977bbdf9",
   "metadata": {},
   "outputs": [
    {
     "data": {
      "image/png": "[encoded data removed]",
      "text/plain": [
       "<Figure size 767.432x314.182 with 3 Axes>"
      ]
     },
     "metadata": {},
     "output_type": "display_data"
    },
    {
     "data": {
      "image/png": "[encoded data removed]",
      "text/plain": [
       "<Figure size 383.716x157.091 with 3 Axes>"
      ]
     },
     "metadata": {},
     "output_type": "display_data"
    },
    {
     "data": {
      "image/png": "[encoded data removed]",
      "text/plain": [
       "<Figure size 383.716x157.091 with 3 Axes>"
      ]
     },
     "metadata": {},
     "output_type": "display_data"
    }
   ],
   "source": [
    "gate_index = 3\n",
    "\n",
    "X_pp, E_pp, rho_pp = compatibility.pygsti_model_to_arrays(gauge_optimized_mdl,basis = 'pp')\n",
    "X_t_pp, E_t_pp, rho_t_pp = compatibility.pygsti_model_to_arrays(std.target_model(),basis = 'pp')\n",
    "plot_diff(X_pp[gate_index], X_t_pp[gate_index])\n",
    "\n",
    "plot_diff(rho_pp.reshape(4,4), rho_t_pp.reshape(4,4))\n",
    "plot_diff(E_pp[0].reshape(4,4), E_t_pp[0].reshape(4,4))"
   ]
  },
  {
   "cell_type": "code",
   "execution_count": null,
   "id": "fabc55ad-1934-474e-ab22-c68b0c7e8f0a",
   "metadata": {},
   "outputs": [],
   "source": []
  }
 ],
 "metadata": {
  "kernelspec": {
   "display_name": "Python 3 (ipykernel)",
   "language": "python",
   "name": "python3"
  },
  "language_info": {
   "codemirror_mode": {
    "name": "ipython",
    "version": 3
   },
   "file_extension": ".py",
   "mimetype": "text/x-python",
   "name": "python",
   "nbconvert_exporter": "python",
   "pygments_lexer": "ipython3",
   "version": "3.8.10"
  }
 },
 "nbformat": 4,
 "nbformat_minor": 5
}
