{
 "cells": [
  {
   "cell_type": "markdown",
   "id": "19498ba6-106b-4ef2-b798-ca7d0a6fce8a",
   "metadata": {
    "tags": []
   },
   "source": [
    "# 2 qubit GST for XYICZ gate set with identity implemented as waiting time"
   ]
  },
  {
   "cell_type": "code",
   "execution_count": 2,
   "id": "2fad699e-1bfe-4b66-9a11-1a9f9697f627",
   "metadata": {},
   "outputs": [],
   "source": [
    "# Note: I removed the mGST folders from within the qibocal fork, such that it is installed and updated seperately\n",
    "from mGST import compatibility,algorithm, optimization, low_level_jit, additional_fns"
   ]
  },
  {
   "cell_type": "code",
   "execution_count": 3,
   "id": "6e58b942-2370-4d00-a8f0-88704b080a55",
   "metadata": {},
   "outputs": [],
   "source": [
    "import pickle as pickle\n",
    "from pygsti.report import reportables as rptbl #Needs cvxpy!\n",
    "import pygsti\n",
    "from argparse import Namespace\n",
    "import numpy as np\n",
    "import pandas as pd\n",
    "import numpy.linalg as la\n",
    "import json\n",
    "import matplotlib.pyplot as plt\n",
    "#from pygsti.modelpacks import smq2Q_XYICNOT as std\n",
    "\n",
    "%run ../src/mGST/reporting.py"
   ]
  },
  {
   "cell_type": "markdown",
   "id": "8aa5d0c5-5f45-41ba-9309-b5055901f76d",
   "metadata": {},
   "source": [
    "### Setting the parameters"
   ]
  },
  {
   "cell_type": "code",
   "execution_count": 4,
   "id": "bc5a4c05-f8c4-46cd-ad54-4fc6a2544e66",
   "metadata": {},
   "outputs": [],
   "source": [
    "pdim = 4   # physical dimension\n",
    "r = pdim**2   # rank of the gate superoperators \n",
    "\n",
    "max_l = 10  # maximum number of gates in each measurement sequence\n",
    "n_povm = 4   # number of POVM-elements\n",
    "d = 6"
   ]
  },
  {
   "cell_type": "code",
   "execution_count": 5,
   "id": "6942f219-11ea-4153-a7fb-5d457fb69cd2",
   "metadata": {},
   "outputs": [],
   "source": [
    "from true_values import E_true, X_true, rho_true\n",
    "X_t = X_true[:d].copy()\n",
    "E_t = E_true.copy()\n",
    "rho_t = rho_true.copy()\n",
    "target_mdl = compatibility.arrays_to_pygsti_model(X_t,E_t,rho_t, basis = 'std') #Save new model with CZ instead of CNOT"
   ]
  },
  {
   "cell_type": "markdown",
   "id": "a9d466a3-c184-4647-a735-3882ed478720",
   "metadata": {},
   "source": [
    "### Loading data"
   ]
  },
  {
   "cell_type": "code",
   "execution_count": 6,
   "id": "d4029d3f-3387-47eb-ad47-654e09c4a8e1",
   "metadata": {},
   "outputs": [],
   "source": [
    "# Hardware probabilities\n",
    "filename = 'data/20230504-1345_cgst_500_5_7_10/20230504-1345_cgst'\n",
    "\n",
    "with open(filename + '_depth_5.json') as f:\n",
    "    data = json.load(f)\n",
    "N = data['nsequences']\n",
    "l = data['depth']\n",
    "J5 = np.array([list(np.pad(data['measurements'][i]['circuit'],(0,max_l-l),'constant',constant_values=-1)) for i in range(N)])[:,::-1]\n",
    "y5 = np.array([[data['measurements'][i]['hardware_probabilities'][basis_str] for i in range(N)] for basis_str in ['00','01','10','11']])\n",
    "\n",
    "with open(filename + '_depth_7.json') as f:\n",
    "    data = json.load(f)\n",
    "N = data['nsequences']\n",
    "l = data['depth']\n",
    "J7 = np.array([list(np.pad(data['measurements'][i]['circuit'],(0,max_l-l),'constant',constant_values=-1)) for i in range(N)])[:,::-1]\n",
    "y7 = np.array([[data['measurements'][i]['hardware_probabilities'][basis_str] for i in range(N)] for basis_str in ['00','01','10','11']])\n",
    "\n",
    "with open(filename + '_depth_10.json') as f:\n",
    "    data = json.load(f)\n",
    "N = data['nsequences']\n",
    "l = data['depth']\n",
    "J10 = np.array([list(np.pad(data['measurements'][i]['circuit'],(0,max_l-l),'constant',constant_values=-1)) for i in range(N)])[:,::-1]\n",
    "y10 = np.array([[data['measurements'][i]['hardware_probabilities'][basis_str] for i in range(N)] for basis_str in ['00','01','10','11']])\n",
    "\n",
    "J57 = np.concatenate((J5,J7), axis = 0)\n",
    "y57 = np.concatenate((y5,y7), axis = 1)\n",
    "\n",
    "J_all = np.concatenate((J57,J10), axis = 0)\n",
    "y_all = np.concatenate((y57,y10), axis = 1)\n",
    "\n",
    "meas_samples = data['nshots']"
   ]
  },
  {
   "cell_type": "code",
   "execution_count": 6,
   "id": "1d95215b-71eb-4918-849d-b3466c674475",
   "metadata": {},
   "outputs": [],
   "source": [
    "# #Simulation probabilities\n",
    "# basis_str_dict = {'00':0, '01':1, '10':2, '11':3}\n",
    "# filename = 'data/20230504-1345_cgst_500_5_7_10/20230504-1345_cgst'\n",
    "\n",
    "# with open(filename + '_depth_5.json') as f:\n",
    "#     data = json.load(f)\n",
    "# N = data['nsequences']\n",
    "# l = data['depth']\n",
    "# J5 = np.array([list(np.pad(data['measurements'][i]['circuit'],(0,max_l-l),'constant',constant_values=-1)) for i in range(N)])[:,::-1]\n",
    "# y5 = np.zeros((n_povm,N))\n",
    "# for i in range(N):\n",
    "#     keylist = [key for key in data['measurements'][i]['simulation_probabilities'].keys()]\n",
    "#     for key in data['measurements'][i]['simulation_probabilities'].keys():\n",
    "#         y5[basis_str_dict[key],i] = data['measurements'][i]['simulation_probabilities'][key]\n",
    "\n",
    "# with open(filename + '_depth_7.json') as f:\n",
    "#     data = json.load(f)\n",
    "# N = data['nsequences']\n",
    "# l = data['depth']\n",
    "# J7 = np.array([list(np.pad(data['measurements'][i]['circuit'],(0,max_l-l),'constant',constant_values=-1)) for i in range(N)])[:,::-1]\n",
    "# y7 = np.zeros((n_povm,N))\n",
    "# for i in range(N):\n",
    "#     keylist = [key for key in data['measurements'][i]['simulation_probabilities'].keys()]\n",
    "#     for key in data['measurements'][i]['simulation_probabilities'].keys():\n",
    "#         y7[basis_str_dict[key],i] = data['measurements'][i]['simulation_probabilities'][key]\n",
    "\n",
    "# with open(filename + '_depth_10.json') as f:\n",
    "#     data = json.load(f)\n",
    "# N = data['nsequences']\n",
    "# l = data['depth']\n",
    "# J10 = np.array([list(np.pad(data['measurements'][i]['circuit'],(0,max_l-l),'constant',constant_values=-1)) for i in range(N)])[:,::-1]\n",
    "# y10 = np.zeros((n_povm,N))\n",
    "# for i in range(N):\n",
    "#     for key in data['measurements'][i]['simulation_probabilities'].keys():\n",
    "#         y10[basis_str_dict[key],i] = data['measurements'][i]['simulation_probabilities'][key]\n",
    "\n",
    "# J57 = np.concatenate((J5,J7), axis = 0)\n",
    "# y57 = np.concatenate((y5,y7), axis = 1)\n",
    "\n",
    "# J_all = np.concatenate((J57,J10), axis = 0)\n",
    "# y_all = np.concatenate((y57,y10), axis = 1)\n",
    "\n",
    "# meas_samples = data['nshots']"
   ]
  },
  {
   "cell_type": "markdown",
   "id": "35724025-9e20-4876-aaf1-895a7c644f92",
   "metadata": {},
   "source": [
    "### GST"
   ]
  },
  {
   "cell_type": "code",
   "execution_count": null,
   "id": "117a49d5-ad10-4e3e-b788-dc0770f36081",
   "metadata": {
    "tags": []
   },
   "outputs": [],
   "source": [
    "bsize = 120   # The batch size on which the optimization is started\n",
    "results = []\n",
    "rK = 2\n",
    "for _ in range(20):  \n",
    "    K_t = additional_fns.Kraus_rep(X_t,d,pdim,rK)\n",
    "    K,X,E,rho,res_list = algorithm.run_mGST(y_all, J_all, max_l,d,r,rK, n_povm, bsize, meas_samples, method = 'SFN',\n",
    "                         max_inits = 1, max_iter = 150, final_iter = 70, threshold_multiplier = 5, \n",
    "                         target_rel_prec = 1e-5, testing = True)   \n",
    "    # K,X,E,rho,res_list = algorithm.run_mGST(y_all,J_all, max_l,d,r,rK, n_povm, bsize, meas_samples, method = 'SFN',\n",
    "    #                      max_inits = 10, max_iter = 0, final_iter = 30, threshold_multiplier = 500, \n",
    "    #                      target_rel_prec = 1e-4, init = [K,E,rho], testing = True)   \n",
    "    results.append([K,X,E,rho])"
   ]
  },
  {
   "cell_type": "code",
   "execution_count": 17,
   "id": "06572af1-385f-4bee-9ce8-44271eecc9b2",
   "metadata": {},
   "outputs": [],
   "source": [
    "# ###################################### \n",
    "# filename = 'rank_2_hardware_probs_1345_G0'\n",
    "# parameters = {'sequence length':l,'gate count':d,'Kraus ranks':[4],'phys. dimension':int(np.sqrt(r)), 'Sequence count': N, \n",
    "#               'J':J_all,'y':y_all, 'target_rel_prec':1e-5}\n",
    "# data_to_safe = {'parameters':parameters, 'results':results}\n",
    "\n",
    "# with open(filename, 'wb') as handle:\n",
    "#     pickle.dump(data_to_safe, handle, protocol=pickle.HIGHEST_PROTOCOL)"
   ]
  },
  {
   "cell_type": "markdown",
   "id": "f1bac196-6913-40d3-bca6-6d43a1c94dbe",
   "metadata": {},
   "source": [
    "# Analysis"
   ]
  },
  {
   "cell_type": "markdown",
   "id": "a9952641-963d-46e1-b911-b1e054b9d092",
   "metadata": {},
   "source": [
    "## Rank 1"
   ]
  },
  {
   "cell_type": "code",
   "execution_count": 7,
   "id": "aaf1cf3f-c8d0-4dec-87b3-79908b717aff",
   "metadata": {},
   "outputs": [],
   "source": [
    "with open('rank_1_hardware_probs_1345', 'rb') as handle:\n",
    "    b = pickle.load(handle)\n",
    "results = b['results']"
   ]
  },
  {
   "cell_type": "code",
   "execution_count": 9,
   "id": "a43ddb86-075f-403a-8300-f6a7413026ec",
   "metadata": {},
   "outputs": [
    {
     "data": {
      "text/html": [
       "<style type=\"text/css\">\n",
       "#T_b89fe th.col_heading {\n",
       "  text-align: center;\n",
       "}\n",
       "#T_b89fe th.col_heading.level0 {\n",
       "  font-size: 1em;\n",
       "}\n",
       "#T_b89fe td {\n",
       "  text-align: center;\n",
       "}\n",
       "</style>\n",
       "<table id=\"T_b89fe\">\n",
       "  <thead>\n",
       "    <tr>\n",
       "      <th class=\"blank level0\" >&nbsp;</th>\n",
       "      <th id=\"T_b89fe_level0_col0\" class=\"col_heading level0 col0\" >F_avg</th>\n",
       "      <th id=\"T_b89fe_level0_col1\" class=\"col_heading level0 col1\" >Diamond distances</th>\n",
       "      <th id=\"T_b89fe_level0_col2\" class=\"col_heading level0 col2\" >Min. Spectral distances</th>\n",
       "    </tr>\n",
       "  </thead>\n",
       "  <tbody>\n",
       "    <tr>\n",
       "      <th id=\"T_b89fe_level0_row0\" class=\"row_heading level0 row0\" >Id</th>\n",
       "      <td id=\"T_b89fe_row0_col0\" class=\"data row0 col0\" >0,99530</td>\n",
       "      <td id=\"T_b89fe_row0_col1\" class=\"data row0 col1\" >0,10296</td>\n",
       "      <td id=\"T_b89fe_row0_col2\" class=\"data row0 col2\" >0,08449</td>\n",
       "    </tr>\n",
       "    <tr>\n",
       "      <th id=\"T_b89fe_level0_row1\" class=\"row_heading level0 row1\" >Rx(pi/2)[q0]</th>\n",
       "      <td id=\"T_b89fe_row1_col0\" class=\"data row1 col0\" >0,99915</td>\n",
       "      <td id=\"T_b89fe_row1_col1\" class=\"data row1 col1\" >0,04358</td>\n",
       "      <td id=\"T_b89fe_row1_col2\" class=\"data row1 col2\" >0,03397</td>\n",
       "    </tr>\n",
       "    <tr>\n",
       "      <th id=\"T_b89fe_level0_row2\" class=\"row_heading level0 row2\" >Ry(pi/2)[q0]</th>\n",
       "      <td id=\"T_b89fe_row2_col0\" class=\"data row2 col0\" >0,99746</td>\n",
       "      <td id=\"T_b89fe_row2_col1\" class=\"data row2 col1\" >0,07435</td>\n",
       "      <td id=\"T_b89fe_row2_col2\" class=\"data row2 col2\" >0,05480</td>\n",
       "    </tr>\n",
       "    <tr>\n",
       "      <th id=\"T_b89fe_level0_row3\" class=\"row_heading level0 row3\" >Rx(pi/2)[q1]</th>\n",
       "      <td id=\"T_b89fe_row3_col0\" class=\"data row3 col0\" >0,99206</td>\n",
       "      <td id=\"T_b89fe_row3_col1\" class=\"data row3 col1\" >0,11310</td>\n",
       "      <td id=\"T_b89fe_row3_col2\" class=\"data row3 col2\" >0,09862</td>\n",
       "    </tr>\n",
       "    <tr>\n",
       "      <th id=\"T_b89fe_level0_row4\" class=\"row_heading level0 row4\" >Ry(pi/2)[q1]</th>\n",
       "      <td id=\"T_b89fe_row4_col0\" class=\"data row4 col0\" >0,99042</td>\n",
       "      <td id=\"T_b89fe_row4_col1\" class=\"data row4 col1\" >0,12375</td>\n",
       "      <td id=\"T_b89fe_row4_col2\" class=\"data row4 col2\" >0,11331</td>\n",
       "    </tr>\n",
       "    <tr>\n",
       "      <th id=\"T_b89fe_level0_row5\" class=\"row_heading level0 row5\" >CZ[q0-q1]</th>\n",
       "      <td id=\"T_b89fe_row5_col0\" class=\"data row5 col0\" >0,22793</td>\n",
       "      <td id=\"T_b89fe_row5_col1\" class=\"data row5 col1\" >1,00000</td>\n",
       "      <td id=\"T_b89fe_row5_col2\" class=\"data row5 col2\" >0,62103</td>\n",
       "    </tr>\n",
       "  </tbody>\n",
       "</table>\n"
      ],
      "text/plain": [
       "<pandas.io.formats.style.Styler at 0x7f79ec552b00>"
      ]
     },
     "metadata": {},
     "output_type": "display_data"
    },
    {
     "data": {
      "text/html": [
       "<style type=\"text/css\">\n",
       "#T_1528c th.col_heading {\n",
       "  text-align: center;\n",
       "}\n",
       "#T_1528c th.col_heading.level0 {\n",
       "  font-size: 1em;\n",
       "}\n",
       "#T_1528c td {\n",
       "  text-align: center;\n",
       "}\n",
       "</style>\n",
       "<table id=\"T_1528c\">\n",
       "  <thead>\n",
       "    <tr>\n",
       "      <th class=\"blank level0\" >&nbsp;</th>\n",
       "      <th id=\"T_1528c_level0_col0\" class=\"col_heading level0 col0\" >Final cost function value</th>\n",
       "      <th id=\"T_1528c_level0_col1\" class=\"col_heading level0 col1\" >Mean total variation dist. to data</th>\n",
       "      <th id=\"T_1528c_level0_col2\" class=\"col_heading level0 col2\" >Mean total variation dist. target to data</th>\n",
       "      <th id=\"T_1528c_level0_col3\" class=\"col_heading level0 col3\" >POVM - Choi map trace distance</th>\n",
       "      <th id=\"T_1528c_level0_col4\" class=\"col_heading level0 col4\" >State - Trace distance</th>\n",
       "    </tr>\n",
       "  </thead>\n",
       "  <tbody>\n",
       "    <tr>\n",
       "      <th id=\"T_1528c_level0_row0\" class=\"row_heading level0 row0\" ></th>\n",
       "      <td id=\"T_1528c_row0_col0\" class=\"data row0 col0\" >0.002502</td>\n",
       "      <td id=\"T_1528c_row0_col1\" class=\"data row0 col1\" >0.055060</td>\n",
       "      <td id=\"T_1528c_row0_col2\" class=\"data row0 col2\" >0.206069</td>\n",
       "      <td id=\"T_1528c_row0_col3\" class=\"data row0 col3\" >0.209391</td>\n",
       "      <td id=\"T_1528c_row0_col4\" class=\"data row0 col4\" >0.096097</td>\n",
       "    </tr>\n",
       "  </tbody>\n",
       "</table>\n"
      ],
      "text/plain": [
       "<pandas.io.formats.style.Styler at 0x7f79ec551db0>"
      ]
     },
     "metadata": {},
     "output_type": "display_data"
    }
   ],
   "source": [
    "for i in range(1):\n",
    "    K,X,E,rho = results[i][:]\n",
    "    weights = {'G0': 1,'G1':1, 'G2': 1, 'G3': 1, 'G4': 1, 'G5': 1, 'spam': 1}\n",
    "    gate_labels = {0: \"Id\", 1: \"Rx(pi/2)[q0]\", 2: \"Ry(pi/2)[q0]\", 3: \"Rx(pi/2)[q1]\", 4: \"Ry(pi/2)[q1]\", 5: \"CZ[q0-q1]\"}\n",
    "\n",
    "    X_opt, E_opt, rho_opt = gauge_opt(X, E, rho, target_mdl, weights)\n",
    "    df_g, df_o, s_g, s_o = report(X_opt, E_opt, rho_opt, J57, y57, target_mdl, gate_labels)\n",
    "\n",
    "    display(s_g), display(s_o)"
   ]
  },
  {
   "cell_type": "code",
   "execution_count": 10,
   "id": "f1309044-bcbf-4936-972e-0c22d0aa0a7b",
   "metadata": {},
   "outputs": [
    {
     "data": {
      "image/png": "[encoded data removed]",
      "text/plain": [
       "<Figure size 767.432x314.182 with 3 Axes>"
      ]
     },
     "metadata": {
      "needs_background": "light"
     },
     "output_type": "display_data"
    }
   ],
   "source": [
    "X_opt_pp, E_opt_pp, rho_opt_pp = compatibility.std2pp(X_opt, E_opt, rho_opt)\n",
    "X_t_pp, E_t_pp, rho_t_pp = compatibility.std2pp(X_t, E_t, rho_t)\n",
    "plot_mat(X_opt_pp[5], X_t_pp[5])"
   ]
  },
  {
   "cell_type": "code",
   "execution_count": 11,
   "id": "88756038-8477-4e05-9fdb-148e3fa89e80",
   "metadata": {},
   "outputs": [
    {
     "data": {
      "image/png": "[encoded data removed]",
      "text/plain": [
       "<Figure size 767.432x314.182 with 3 Axes>"
      ]
     },
     "metadata": {
      "needs_background": "light"
     },
     "output_type": "display_data"
    }
   ],
   "source": [
    "plot_mat(X_opt[5]@X_t[5].T.conj(), X_t[5]@X_t[5].T.conj())"
   ]
  },
  {
   "cell_type": "code",
   "execution_count": 13,
   "id": "1094d39a-3ee3-454a-a5ba-06628152c0ef",
   "metadata": {},
   "outputs": [
    {
     "name": "stdout",
     "output_type": "stream",
     "text": [
      "Assignment fidelity for ideal basis state 0: 0.48080726618874287\n"
     ]
    },
    {
     "data": {
      "image/png": "[encoded data removed]",
      "text/plain": [
       "<Figure size 432x288 with 1 Axes>"
      ]
     },
     "metadata": {
      "needs_background": "light"
     },
     "output_type": "display_data"
    },
    {
     "name": "stdout",
     "output_type": "stream",
     "text": [
      "Assignment fidelity for ideal basis state 1: 0.6866474693441048\n"
     ]
    },
    {
     "data": {
      "image/png": "[encoded data removed]",
      "text/plain": [
       "<Figure size 432x288 with 1 Axes>"
      ]
     },
     "metadata": {
      "needs_background": "light"
     },
     "output_type": "display_data"
    },
    {
     "name": "stdout",
     "output_type": "stream",
     "text": [
      "Assignment fidelity for ideal basis state 2: 0.38880994628571747\n"
     ]
    },
    {
     "data": {
      "image/png": "[encoded data removed]",
      "text/plain": [
       "<Figure size 432x288 with 1 Axes>"
      ]
     },
     "metadata": {
      "needs_background": "light"
     },
     "output_type": "display_data"
    },
    {
     "name": "stdout",
     "output_type": "stream",
     "text": [
      "Assignment fidelity for ideal basis state 3: 0.517394067824914\n"
     ]
    },
    {
     "data": {
      "image/png": "[encoded data removed]",
      "text/plain": [
       "<Figure size 432x288 with 1 Axes>"
      ]
     },
     "metadata": {
      "needs_background": "light"
     },
     "output_type": "display_data"
    }
   ],
   "source": [
    "for i in range(4):\n",
    "    print(\"Assignment fidelity for ideal basis state %i:\"%i, np.abs(E_opt.reshape(4,4,4)[i,i,i])**2)\n",
    "    plt.imshow(np.abs(E_opt.reshape(4,4,4)[i,:,:]), vmin = -1, vmax = 1)\n",
    "    plt.show()"
   ]
  },
  {
   "cell_type": "code",
   "execution_count": 14,
   "id": "e40e6285-481a-4bc7-bb0f-735ab0ce3753",
   "metadata": {},
   "outputs": [
    {
     "data": {
      "image/png": "[encoded data removed]",
      "text/plain": [
       "<Figure size 383.716x157.091 with 3 Axes>"
      ]
     },
     "metadata": {
      "needs_background": "light"
     },
     "output_type": "display_data"
    }
   ],
   "source": [
    "K_t = additional_fns.Kraus_rep(X_t,d,pdim,1)\n",
    "K_opt = additional_fns.Kraus_rep(X_opt,d,pdim,1)\n",
    "plot_mat(np.abs(K_opt[5][0]), np.abs((K_t[5][0])))"
   ]
  },
  {
   "cell_type": "code",
   "execution_count": 15,
   "id": "7fb4f553-58c1-4e95-8c0b-5c5474a6dc69",
   "metadata": {},
   "outputs": [
    {
     "name": "stdout",
     "output_type": "stream",
     "text": [
      "0.0\n",
      "2.705277328075611\n",
      "0.3185002878764526\n",
      "1.231734166826501\n"
     ]
    },
    {
     "data": {
      "image/png": "[encoded data removed]",
      "text/plain": [
       "<Figure size 432x288 with 1 Axes>"
      ]
     },
     "metadata": {
      "needs_background": "light"
     },
     "output_type": "display_data"
    }
   ],
   "source": [
    "for x in np.diag(K_opt[5][0]):\n",
    "    print(np.angle(x))\n",
    "    plt.polar([0,np.angle(x)],[0,abs(x)],marker='o')\n",
    "plt.show()"
   ]
  },
  {
   "cell_type": "markdown",
   "id": "ab193788-54c0-410d-bb08-b38c59043d31",
   "metadata": {},
   "source": [
    "### Rank 2"
   ]
  },
  {
   "cell_type": "code",
   "execution_count": 16,
   "id": "ffd95a99-333f-46ef-9480-f530ff4f445e",
   "metadata": {},
   "outputs": [],
   "source": [
    "with open(\"rank_2_hardware_probs_1345\", 'rb') as handle:\n",
    "    b = pickle.load(handle)\n",
    "results = b['results']"
   ]
  },
  {
   "cell_type": "code",
   "execution_count": 17,
   "id": "a6f3781a-4e6a-47b9-8921-5a89b3b80b3d",
   "metadata": {},
   "outputs": [
    {
     "data": {
      "text/html": [
       "<style type=\"text/css\">\n",
       "#T_4a30a th.col_heading {\n",
       "  text-align: center;\n",
       "}\n",
       "#T_4a30a th.col_heading.level0 {\n",
       "  font-size: 1em;\n",
       "}\n",
       "#T_4a30a td {\n",
       "  text-align: center;\n",
       "}\n",
       "</style>\n",
       "<table id=\"T_4a30a\">\n",
       "  <thead>\n",
       "    <tr>\n",
       "      <th class=\"blank level0\" >&nbsp;</th>\n",
       "      <th id=\"T_4a30a_level0_col0\" class=\"col_heading level0 col0\" >F_avg</th>\n",
       "      <th id=\"T_4a30a_level0_col1\" class=\"col_heading level0 col1\" >Diamond distances</th>\n",
       "      <th id=\"T_4a30a_level0_col2\" class=\"col_heading level0 col2\" >Min. Spectral distances</th>\n",
       "    </tr>\n",
       "  </thead>\n",
       "  <tbody>\n",
       "    <tr>\n",
       "      <th id=\"T_4a30a_level0_row0\" class=\"row_heading level0 row0\" >Id</th>\n",
       "      <td id=\"T_4a30a_row0_col0\" class=\"data row0 col0\" >0,98245</td>\n",
       "      <td id=\"T_4a30a_row0_col1\" class=\"data row0 col1\" >0,11156</td>\n",
       "      <td id=\"T_4a30a_row0_col2\" class=\"data row0 col2\" >0,08941</td>\n",
       "    </tr>\n",
       "    <tr>\n",
       "      <th id=\"T_4a30a_level0_row1\" class=\"row_heading level0 row1\" >Rx(pi/2)[q0]</th>\n",
       "      <td id=\"T_4a30a_row1_col0\" class=\"data row1 col0\" >0,98022</td>\n",
       "      <td id=\"T_4a30a_row1_col1\" class=\"data row1 col1\" >0,09078</td>\n",
       "      <td id=\"T_4a30a_row1_col2\" class=\"data row1 col2\" >0,05312</td>\n",
       "    </tr>\n",
       "    <tr>\n",
       "      <th id=\"T_4a30a_level0_row2\" class=\"row_heading level0 row2\" >Ry(pi/2)[q0]</th>\n",
       "      <td id=\"T_4a30a_row2_col0\" class=\"data row2 col0\" >0,98675</td>\n",
       "      <td id=\"T_4a30a_row2_col1\" class=\"data row2 col1\" >0,10286</td>\n",
       "      <td id=\"T_4a30a_row2_col2\" class=\"data row2 col2\" >0,05967</td>\n",
       "    </tr>\n",
       "    <tr>\n",
       "      <th id=\"T_4a30a_level0_row3\" class=\"row_heading level0 row3\" >Rx(pi/2)[q1]</th>\n",
       "      <td id=\"T_4a30a_row3_col0\" class=\"data row3 col0\" >0,96472</td>\n",
       "      <td id=\"T_4a30a_row3_col1\" class=\"data row3 col1\" >0,13495</td>\n",
       "      <td id=\"T_4a30a_row3_col2\" class=\"data row3 col2\" >0,11279</td>\n",
       "    </tr>\n",
       "    <tr>\n",
       "      <th id=\"T_4a30a_level0_row4\" class=\"row_heading level0 row4\" >Ry(pi/2)[q1]</th>\n",
       "      <td id=\"T_4a30a_row4_col0\" class=\"data row4 col0\" >0,97450</td>\n",
       "      <td id=\"T_4a30a_row4_col1\" class=\"data row4 col1\" >0,15695</td>\n",
       "      <td id=\"T_4a30a_row4_col2\" class=\"data row4 col2\" >0,12496</td>\n",
       "    </tr>\n",
       "    <tr>\n",
       "      <th id=\"T_4a30a_level0_row5\" class=\"row_heading level0 row5\" >CZ[q0-q1]</th>\n",
       "      <td id=\"T_4a30a_row5_col0\" class=\"data row5 col0\" >0,29035</td>\n",
       "      <td id=\"T_4a30a_row5_col1\" class=\"data row5 col1\" >0,99495</td>\n",
       "      <td id=\"T_4a30a_row5_col2\" class=\"data row5 col2\" >0,69380</td>\n",
       "    </tr>\n",
       "  </tbody>\n",
       "</table>\n"
      ],
      "text/plain": [
       "<pandas.io.formats.style.Styler at 0x7f79ebb7fcd0>"
      ]
     },
     "metadata": {},
     "output_type": "display_data"
    },
    {
     "data": {
      "text/html": [
       "<style type=\"text/css\">\n",
       "#T_18083 th.col_heading {\n",
       "  text-align: center;\n",
       "}\n",
       "#T_18083 th.col_heading.level0 {\n",
       "  font-size: 1em;\n",
       "}\n",
       "#T_18083 td {\n",
       "  text-align: center;\n",
       "}\n",
       "</style>\n",
       "<table id=\"T_18083\">\n",
       "  <thead>\n",
       "    <tr>\n",
       "      <th class=\"blank level0\" >&nbsp;</th>\n",
       "      <th id=\"T_18083_level0_col0\" class=\"col_heading level0 col0\" >Final cost function value</th>\n",
       "      <th id=\"T_18083_level0_col1\" class=\"col_heading level0 col1\" >Mean total variation dist. to data</th>\n",
       "      <th id=\"T_18083_level0_col2\" class=\"col_heading level0 col2\" >Mean total variation dist. target to data</th>\n",
       "      <th id=\"T_18083_level0_col3\" class=\"col_heading level0 col3\" >POVM - Choi map trace distance</th>\n",
       "      <th id=\"T_18083_level0_col4\" class=\"col_heading level0 col4\" >State - Trace distance</th>\n",
       "    </tr>\n",
       "  </thead>\n",
       "  <tbody>\n",
       "    <tr>\n",
       "      <th id=\"T_18083_level0_row0\" class=\"row_heading level0 row0\" ></th>\n",
       "      <td id=\"T_18083_row0_col0\" class=\"data row0 col0\" >0.002246</td>\n",
       "      <td id=\"T_18083_row0_col1\" class=\"data row0 col1\" >0.054919</td>\n",
       "      <td id=\"T_18083_row0_col2\" class=\"data row0 col2\" >0.224980</td>\n",
       "      <td id=\"T_18083_row0_col3\" class=\"data row0 col3\" >0.143983</td>\n",
       "      <td id=\"T_18083_row0_col4\" class=\"data row0 col4\" >0.075130</td>\n",
       "    </tr>\n",
       "  </tbody>\n",
       "</table>\n"
      ],
      "text/plain": [
       "<pandas.io.formats.style.Styler at 0x7f7a8eb19480>"
      ]
     },
     "metadata": {},
     "output_type": "display_data"
    },
    {
     "data": {
      "text/plain": [
       "(None, None)"
      ]
     },
     "execution_count": 17,
     "metadata": {},
     "output_type": "execute_result"
    }
   ],
   "source": [
    "K,X,E,rho = results[0][:]\n",
    "\n",
    "weights = {'G0': 1,'G1': 1, 'G2': 1, 'G3': 1, 'G4': 1, 'G5': 1, 'spam': 1}\n",
    "gate_labels = {0: \"Id\", 1: \"Rx(pi/2)[q0]\", 2: \"Ry(pi/2)[q0]\", 3: \"Rx(pi/2)[q1]\", 4: \"Ry(pi/2)[q1]\", 5: \"CZ[q0-q1]\"}\n",
    "\n",
    "X_opt, E_opt, rho_opt = gauge_opt(X, E, rho, target_mdl, weights)\n",
    "df_g, df_o, s_g, s_o = report(X_opt, E_opt, rho_opt, J_all, y_all, target_mdl, gate_labels)\n",
    "\n",
    "display(s_g), display(s_o)"
   ]
  },
  {
   "cell_type": "code",
   "execution_count": 18,
   "id": "6b669864-5771-4e3c-8454-13ed977bbdf9",
   "metadata": {},
   "outputs": [
    {
     "data": {
      "image/png": "[encoded data removed]",
      "text/plain": [
       "<Figure size 767.432x314.182 with 3 Axes>"
      ]
     },
     "metadata": {
      "needs_background": "light"
     },
     "output_type": "display_data"
    },
    {
     "data": {
      "image/png": "[encoded data removed]",
      "text/plain": [
       "<Figure size 371.613x286.093 with 6 Axes>"
      ]
     },
     "metadata": {
      "needs_background": "light"
     },
     "output_type": "display_data"
    }
   ],
   "source": [
    "gate_index = 5\n",
    "\n",
    "X_opt_pp, E_opt_pp, rho_opt_pp = compatibility.std2pp(X_opt,E_opt,rho_opt)\n",
    "X_t_pp, E_t_pp, rho_t_pp = compatibility.pygsti_model_to_arrays(target_mdl,basis = 'pp')\n",
    "\n",
    "\n",
    "plot_mat(X_opt[gate_index], X_t[gate_index])\n",
    "plot_spam(rho_opt_pp, E_opt_pp)"
   ]
  },
  {
   "cell_type": "code",
   "execution_count": 19,
   "id": "9ea44797-00df-4202-ad47-e641b9df0558",
   "metadata": {},
   "outputs": [
    {
     "name": "stdout",
     "output_type": "stream",
     "text": [
      "Assignment fidelity for ideal basis state 0: 0.6524128477685264\n"
     ]
    },
    {
     "data": {
      "image/png": "[encoded data removed]",
      "text/plain": [
       "<Figure size 432x288 with 1 Axes>"
      ]
     },
     "metadata": {
      "needs_background": "light"
     },
     "output_type": "display_data"
    },
    {
     "name": "stdout",
     "output_type": "stream",
     "text": [
      "Assignment fidelity for ideal basis state 1: 0.8664768063673203\n"
     ]
    },
    {
     "data": {
      "image/png": "[encoded data removed]",
      "text/plain": [
       "<Figure size 432x288 with 1 Axes>"
      ]
     },
     "metadata": {
      "needs_background": "light"
     },
     "output_type": "display_data"
    },
    {
     "name": "stdout",
     "output_type": "stream",
     "text": [
      "Assignment fidelity for ideal basis state 2: 0.5261238593241538\n"
     ]
    },
    {
     "data": {
      "image/png": "[encoded data removed]",
      "text/plain": [
       "<Figure size 432x288 with 1 Axes>"
      ]
     },
     "metadata": {
      "needs_background": "light"
     },
     "output_type": "display_data"
    },
    {
     "name": "stdout",
     "output_type": "stream",
     "text": [
      "Assignment fidelity for ideal basis state 3: 0.707320457631831\n"
     ]
    },
    {
     "data": {
      "image/png": "[encoded data removed]",
      "text/plain": [
       "<Figure size 432x288 with 1 Axes>"
      ]
     },
     "metadata": {
      "needs_background": "light"
     },
     "output_type": "display_data"
    }
   ],
   "source": [
    "for i in range(4):\n",
    "    print(\"Assignment fidelity for ideal basis state %i:\"%i, np.abs(E_opt.reshape(4,4,4)[i,i,i])**2)\n",
    "    plt.imshow(np.abs(E_opt.reshape(4,4,4)[i,:,:]), vmin = -1, vmax = 1)\n",
    "    plt.show()"
   ]
  }
 ],
 "metadata": {
  "kernelspec": {
   "display_name": "Python 3 (ipykernel)",
   "language": "python",
   "name": "python3"
  },
  "language_info": {
   "codemirror_mode": {
    "name": "ipython",
    "version": 3
   },
   "file_extension": ".py",
   "mimetype": "text/x-python",
   "name": "python",
   "nbconvert_exporter": "python",
   "pygments_lexer": "ipython3",
   "version": "3.10.6"
  }
 },
 "nbformat": 4,
 "nbformat_minor": 5
}
