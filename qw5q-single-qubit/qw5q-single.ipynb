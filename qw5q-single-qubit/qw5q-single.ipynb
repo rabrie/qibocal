{
 "cells": [
  {
   "cell_type": "markdown",
   "id": "19498ba6-106b-4ef2-b798-ca7d0a6fce8a",
   "metadata": {
    "tags": []
   },
   "source": [
    "# Single qubit GST on the 5 qubit chip (Data from 3.5.2023)"
   ]
  },
  {
   "cell_type": "code",
   "execution_count": 1,
   "id": "2fad699e-1bfe-4b66-9a11-1a9f9697f627",
   "metadata": {},
   "outputs": [],
   "source": [
    "# Note: I removed the mGST folders from within the qibocal fork, such that it is installed and updated seperately\n",
    "from mGST import compatibility,algorithm, optimization, low_level_jit, additional_fns"
   ]
  },
  {
   "cell_type": "code",
   "execution_count": 2,
   "id": "6e58b942-2370-4d00-a8f0-88704b080a55",
   "metadata": {},
   "outputs": [],
   "source": [
    "import pickle as pickle\n",
    "from pygsti.report import reportables as rptbl #Needs cvxpy!\n",
    "from pygsti.modelpacks import smq1Q_XYI as std\n",
    "import pygsti\n",
    "from argparse import Namespace\n",
    "import numpy as np\n",
    "import pandas as pd\n",
    "import numpy.linalg as la\n",
    "import json\n",
    "import matplotlib.pyplot as plt\n",
    "\n",
    "%run ../src/mGST/reporting.py"
   ]
  },
  {
   "cell_type": "markdown",
   "id": "8aa5d0c5-5f45-41ba-9309-b5055901f76d",
   "metadata": {},
   "source": [
    "### Setting the parameters"
   ]
  },
  {
   "cell_type": "code",
   "execution_count": 3,
   "id": "bc5a4c05-f8c4-46cd-ad54-4fc6a2544e66",
   "metadata": {},
   "outputs": [],
   "source": [
    "pdim = 2   # physical dimension\n",
    "r = pdim**2   # rank of the gate superoperators \n",
    "\n",
    "l = 7  # maximum number of gates in each measurement sequence\n",
    "d = 3  # number of gates\n",
    "rK = 1   # rank of the model estimate\n",
    "n_povm = 2   # number of POVM-elements\n",
    "\n",
    "meas_samples = 1e4"
   ]
  },
  {
   "cell_type": "markdown",
   "id": "a9d466a3-c184-4647-a735-3882ed478720",
   "metadata": {},
   "source": [
    "### Loading data"
   ]
  },
  {
   "cell_type": "code",
   "execution_count": 4,
   "id": "d4029d3f-3387-47eb-ad47-654e09c4a8e1",
   "metadata": {},
   "outputs": [
    {
     "name": "stdout",
     "output_type": "stream",
     "text": [
      "dict_keys(['nsequences', 'sequence_creation_time', 'execution_time', 'sequences', 'hardware_probabilities', 'platform', 'qubit', 'depth', 'nshots'])\n"
     ]
    }
   ],
   "source": [
    "with open('data/qw5q-qubit1-fast.json') as f:\n",
    "    data = json.load(f)\n",
    "print(data.keys())\n",
    "J = np.array(data['sequences'])[:,::-1]\n",
    "y = np.array(data['hardware_probabilities']).T"
   ]
  },
  {
   "cell_type": "code",
   "execution_count": 7,
   "id": "356aa725-dd4b-4805-b2af-14f00c0081a8",
   "metadata": {},
   "outputs": [
    {
     "name": "stdout",
     "output_type": "stream",
     "text": [
      "[1, 100, 7]\n"
     ]
    }
   ],
   "source": [
    "print([1,*J.shape])"
   ]
  },
  {
   "cell_type": "code",
   "execution_count": 62,
   "id": "845ac639-529a-4035-833f-1e4e314b00e5",
   "metadata": {},
   "outputs": [],
   "source": [
    "from argparse import Namespace\n",
    "mGST_args = {'y': y, 'J': J, 'l': l, 'd': d, 'r': r, 'rK': rK, 'n_povm': n_povm, 'bsize': bsize, \n",
    "             'meas_samples': meas_samples, 'method': 'SFN', 'max_inits': 20, 'max_iter': 0, \n",
    "             'final_iter': 80, 'threshold_multiplier': 10, 'target_rel_prec': 1e-4}\n",
    "\n",
    "def bootstrap_errors(K, X, E, rho, mGST_args, bootstrap_samples, weights, gate_labels, target_mdl, parametric = True):\n",
    "    ns = Namespace(**mGST_args)\n",
    "    if parametric:\n",
    "        y = np.real(np.array([[E[i].conj()@low_level_jit.contract(X,j)@rho for j in J] for i in range(n_povm)]))\n",
    "        y_sampled = additional_fns.sampled_measurements(y, meas_samples).copy()\n",
    "    else: \n",
    "        y = ns.y\n",
    "        y_sampled = additional_fns.sampled_measurements(y, meas_samples).copy()\n",
    "\n",
    "    X_array = np.zeros((bootstrap_samples, *X.shape)).astype(complex)\n",
    "    E_array = np.zeros((bootstrap_samples, *E.shape)).astype(complex)\n",
    "    rho_array = np.zeros((bootstrap_samples, *rho.shape)).astype(complex)\n",
    "    df_g_list = []\n",
    "    df_o_list = []\n",
    "    for i in range(bootstrap_samples):\n",
    "        K_, X_, E_, rho_, _ = algorithm.run_mGST(y_sampled,ns.J,ns.l,ns.d,ns.r,ns.rK, ns.n_povm, ns.bsize, ns.meas_samples, method = ns.method,\n",
    "                     max_inits = ns.max_inits, max_iter = ns.max_iter, final_iter = ns.final_iter, threshold_multiplier = ns.threshold_multiplier, \n",
    "                     target_rel_prec = ns.target_rel_prec, init = [K, E, rho], testing = False)   \n",
    "        X_opt, E_opt, rho_opt = gauge_opt(X_, E_, rho_, target_mdl, weights)\n",
    "        df_g, df_o, _, _ = report(X_opt, E_opt, rho_opt, J, y, std.target_model(), gate_labels)\n",
    "        df_g_list.append(df_g.values)\n",
    "        df_o_list.append(df_o.values)\n",
    "\n",
    "        X_opt_pp, E_opt_pp, rho_opt_pp = compatibility.std2pp(X_opt, E_opt, rho_opt)\n",
    "        \n",
    "        X_array[i, :] = X_opt_pp\n",
    "        E_array[i, :] = E_opt_pp\n",
    "        rho_array[i, :] = rho_opt_pp\n",
    "        \n",
    "    return (X_array, E_array, rho_array, np.array(df_g_list), np.array(df_o_list))"
   ]
  },
  {
   "cell_type": "markdown",
   "id": "35724025-9e20-4876-aaf1-895a7c644f92",
   "metadata": {},
   "source": [
    "### GST"
   ]
  },
  {
   "cell_type": "code",
   "execution_count": 59,
   "id": "117a49d5-ad10-4e3e-b788-dc0770f36081",
   "metadata": {
    "tags": []
   },
   "outputs": [
    {
     "name": "stdout",
     "output_type": "stream",
     "text": [
      "Starting optimization...\n",
      " 42%|████▎     | 34/80 [00:50<01:07,  1.48s/it]\n"
     ]
    },
    {
     "data": {
      "image/png": "[encoded data removed]",
      "text/plain": [
       "<Figure size 432x288 with 1 Axes>"
      ]
     },
     "metadata": {
      "needs_background": "light"
     },
     "output_type": "display_data"
    },
    {
     "name": "stdout",
     "output_type": "stream",
     "text": [
      "#################\n",
      "\t Convergence criterion satisfied\n",
      "\t Final objective function value 2.0565746246673187e-05 with # of initializations: 1 \n",
      " \t Total runtime: 51.09659481048584\n"
     ]
    }
   ],
   "source": [
    "bsize = 50   # The batch size on which the optimization is started\n",
    "\n",
    "mGST_args = {'y': y, 'J': J, 'l': l, 'd': d, 'r': r, 'rK': 4, 'n_povm': n_povm, 'bsize': bsize, \n",
    "             'meas_samples': meas_samples, 'method': 'SFN', 'max_inits': 20, 'max_iter': 0, \n",
    "             'final_iter': 80, 'threshold_multiplier': 10, 'target_rel_prec': 1e-3}\n",
    "ns = Namespace(**mGST_args)\n",
    "\n",
    "results = []\n",
    "X_t,E_t,rho_t = compatibility.pygsti_model_to_arrays(std.target_model(),basis = 'std') #The idle-X(pi/2)-Y(pi/2) model \n",
    "K_t = additional_fns.Kraus_rep(X_t,d,pdim,rK)\n",
    "X_t = np.einsum('ijkl,ijnm -> iknlm', K_t, K_t.conj()).reshape(d,r,r)  \n",
    "K,X,E,rho,res_list = algorithm.run_mGST(ns.y,ns.J,ns.l,ns.d,ns.r,ns.rK, ns.n_povm, ns.bsize, ns.meas_samples, method = ns.method,\n",
    "                 max_inits = ns.max_inits, max_iter = ns.max_iter, final_iter = ns.final_iter, threshold_multiplier = ns.threshold_multiplier, \n",
    "                 target_rel_prec = ns.target_rel_prec, init = [K_t, E_t, rho_t], testing = True)   \n",
    "results.append([K,X,E,rho])"
   ]
  },
  {
   "cell_type": "code",
   "execution_count": 64,
   "id": "2a0f2ffa-e8e4-469c-a581-41aa1340679e",
   "metadata": {
    "tags": []
   },
   "outputs": [
    {
     "data": {
      "text/html": [
       "<style type=\"text/css\">\n",
       "#T_cbac0 th.col_heading {\n",
       "  text-align: center;\n",
       "}\n",
       "#T_cbac0 th.col_heading.level0 {\n",
       "  font-size: 1em;\n",
       "}\n",
       "#T_cbac0 td {\n",
       "  text-align: center;\n",
       "}\n",
       "</style>\n",
       "<table id=\"T_cbac0\">\n",
       "  <thead>\n",
       "    <tr>\n",
       "      <th class=\"blank level0\" >&nbsp;</th>\n",
       "      <th id=\"T_cbac0_level0_col0\" class=\"col_heading level0 col0\" >F_avg</th>\n",
       "      <th id=\"T_cbac0_level0_col1\" class=\"col_heading level0 col1\" >Diamond distances</th>\n",
       "      <th id=\"T_cbac0_level0_col2\" class=\"col_heading level0 col2\" >Min. Spectral distances</th>\n",
       "    </tr>\n",
       "  </thead>\n",
       "  <tbody>\n",
       "    <tr>\n",
       "      <th id=\"T_cbac0_level0_row0\" class=\"row_heading level0 row0\" >Id</th>\n",
       "      <td id=\"T_cbac0_row0_col0\" class=\"data row0 col0\" >0,98601</td>\n",
       "      <td id=\"T_cbac0_row0_col1\" class=\"data row0 col1\" >0,07929</td>\n",
       "      <td id=\"T_cbac0_row0_col2\" class=\"data row0 col2\" >0,07972</td>\n",
       "    </tr>\n",
       "    <tr>\n",
       "      <th id=\"T_cbac0_level0_row1\" class=\"row_heading level0 row1\" >Rx(pi/2)</th>\n",
       "      <td id=\"T_cbac0_row1_col0\" class=\"data row1 col0\" >0,98179</td>\n",
       "      <td id=\"T_cbac0_row1_col1\" class=\"data row1 col1\" >0,05552</td>\n",
       "      <td id=\"T_cbac0_row1_col2\" class=\"data row1 col2\" >0,02844</td>\n",
       "    </tr>\n",
       "    <tr>\n",
       "      <th id=\"T_cbac0_level0_row2\" class=\"row_heading level0 row2\" >Ry(pi/2)</th>\n",
       "      <td id=\"T_cbac0_row2_col0\" class=\"data row2 col0\" >0,98457</td>\n",
       "      <td id=\"T_cbac0_row2_col1\" class=\"data row2 col1\" >0,04870</td>\n",
       "      <td id=\"T_cbac0_row2_col2\" class=\"data row2 col2\" >0,02401</td>\n",
       "    </tr>\n",
       "  </tbody>\n",
       "</table>\n"
      ],
      "text/plain": [
       "<pandas.io.formats.style.Styler at 0x7f717ad1aa00>"
      ]
     },
     "metadata": {},
     "output_type": "display_data"
    },
    {
     "data": {
      "text/html": [
       "<style type=\"text/css\">\n",
       "#T_96ce5 th.col_heading {\n",
       "  text-align: center;\n",
       "}\n",
       "#T_96ce5 th.col_heading.level0 {\n",
       "  font-size: 1em;\n",
       "}\n",
       "#T_96ce5 td {\n",
       "  text-align: center;\n",
       "}\n",
       "</style>\n",
       "<table id=\"T_96ce5\">\n",
       "  <thead>\n",
       "    <tr>\n",
       "      <th class=\"blank level0\" >&nbsp;</th>\n",
       "      <th id=\"T_96ce5_level0_col0\" class=\"col_heading level0 col0\" >Final cost function value</th>\n",
       "      <th id=\"T_96ce5_level0_col1\" class=\"col_heading level0 col1\" >Mean total variation dist. to data</th>\n",
       "      <th id=\"T_96ce5_level0_col2\" class=\"col_heading level0 col2\" >Mean total variation dist. target to data</th>\n",
       "      <th id=\"T_96ce5_level0_col3\" class=\"col_heading level0 col3\" >POVM - Choi map trace distance</th>\n",
       "      <th id=\"T_96ce5_level0_col4\" class=\"col_heading level0 col4\" >State - Trace distance</th>\n",
       "    </tr>\n",
       "  </thead>\n",
       "  <tbody>\n",
       "    <tr>\n",
       "      <th id=\"T_96ce5_level0_row0\" class=\"row_heading level0 row0\" ></th>\n",
       "      <td id=\"T_96ce5_row0_col0\" class=\"data row0 col0\" >0.000021</td>\n",
       "      <td id=\"T_96ce5_row0_col1\" class=\"data row0 col1\" >0.003477</td>\n",
       "      <td id=\"T_96ce5_row0_col2\" class=\"data row0 col2\" >0.121432</td>\n",
       "      <td id=\"T_96ce5_row0_col3\" class=\"data row0 col3\" >0.086695</td>\n",
       "      <td id=\"T_96ce5_row0_col4\" class=\"data row0 col4\" >0.042103</td>\n",
       "    </tr>\n",
       "  </tbody>\n",
       "</table>\n"
      ],
      "text/plain": [
       "<pandas.io.formats.style.Styler at 0x7f717be31a90>"
      ]
     },
     "metadata": {},
     "output_type": "display_data"
    },
    {
     "name": "stdout",
     "output_type": "stream",
     "text": [
      "Starting optimization...\n",
      " 60%|██████    | 48/80 [01:20<00:53,  1.68s/it]\n",
      "#################\n",
      "\t Convergence criterion satisfied\n",
      "\t Final objective function value 2.8797746227054167e-05 with # of initializations: 1 \n",
      " \t Total runtime: 80.85660219192505\n",
      "Starting optimization...\n",
      " 64%|██████▍   | 51/80 [01:24<00:47,  1.65s/it]\n",
      "#################\n",
      "\t Convergence criterion satisfied\n",
      "\t Final objective function value 2.877814471123087e-05 with # of initializations: 1 \n",
      " \t Total runtime: 84.31326842308044\n",
      "Starting optimization...\n",
      " 59%|█████▉    | 47/80 [01:18<00:55,  1.68s/it]\n",
      "#################\n",
      "\t Convergence criterion satisfied\n",
      "\t Final objective function value 2.8805111042202647e-05 with # of initializations: 1 \n",
      " \t Total runtime: 78.94806742668152\n",
      "Starting optimization...\n",
      " 61%|██████▏   | 49/80 [01:22<00:52,  1.68s/it]\n",
      "#################\n",
      "\t Convergence criterion satisfied\n",
      "\t Final objective function value 2.8795367047745308e-05 with # of initializations: 1 \n",
      " \t Total runtime: 82.27350282669067\n",
      "Starting optimization...\n",
      " 64%|██████▍   | 51/80 [01:24<00:48,  1.66s/it]\n",
      "#################\n",
      "\t Convergence criterion satisfied\n",
      "\t Final objective function value 2.8819950012063184e-05 with # of initializations: 1 \n",
      " \t Total runtime: 84.59826302528381\n",
      "Starting optimization...\n",
      " 59%|█████▉    | 47/80 [01:17<00:54,  1.65s/it]\n",
      "#################\n",
      "\t Convergence criterion satisfied\n",
      "\t Final objective function value 2.8836931902302186e-05 with # of initializations: 1 \n",
      " \t Total runtime: 77.68123531341553\n",
      "Starting optimization...\n",
      " 59%|█████▉    | 47/80 [01:20<00:56,  1.71s/it]\n",
      "#################\n",
      "\t Convergence criterion satisfied\n",
      "\t Final objective function value 2.877786018081154e-05 with # of initializations: 1 \n",
      " \t Total runtime: 80.59960961341858\n",
      "Starting optimization...\n",
      " 64%|██████▍   | 51/80 [01:27<00:49,  1.71s/it]\n",
      "#################\n",
      "\t Convergence criterion satisfied\n",
      "\t Final objective function value 2.877354265501906e-05 with # of initializations: 1 \n",
      " \t Total runtime: 87.38650703430176\n",
      "Starting optimization...\n",
      " 56%|█████▋    | 45/80 [01:13<00:57,  1.63s/it]\n",
      "#################\n",
      "\t Convergence criterion satisfied\n",
      "\t Final objective function value 2.8856455017177382e-05 with # of initializations: 1 \n",
      " \t Total runtime: 73.3131844997406\n",
      "Starting optimization...\n",
      " 60%|██████    | 48/80 [01:13<00:49,  1.54s/it]\n",
      "#################\n",
      "\t Convergence criterion satisfied\n",
      "\t Final objective function value 2.886959695873485e-05 with # of initializations: 1 \n",
      " \t Total runtime: 73.73077130317688\n"
     ]
    }
   ],
   "source": [
    "weights = {'G0': 1,'G1': 1, 'G2': 1, 'spam': 1}\n",
    "gate_labels = {0: \"Id\", 1: \"Rx(pi/2)\", 2: \"Ry(pi/2)\"}\n",
    "X_opt, E_opt, rho_opt = gauge_opt(X, E, rho, std.target_model(), weights)\n",
    "df_g, df_o, s_g, s_o = report(X_opt, E_opt, rho_opt, J, y, std.target_model(), gate_labels)\n",
    "display(s_g), display(s_o)  \n",
    "\n",
    "X_array, E_array, rho_array, df_g_array, df_o_array = bootstrap_errors(K_t,X_t,E_t,rho, mGST_args, 10, weights, gate_labels, std.target_model(), parametric = False)"
   ]
  },
  {
   "cell_type": "code",
   "execution_count": 52,
   "id": "165b4df8-c641-4433-8d57-62f4e535cd1a",
   "metadata": {},
   "outputs": [
    {
     "name": "stdout",
     "output_type": "stream",
     "text": [
      "[[ 0.82392412 -0.03055432 -0.03347929  0.58854667]\n",
      " [ 0.59028945  0.03055432  0.03347929 -0.58854667]]\n",
      "[[1.63523763e-04 1.24261676e-04 4.43933403e-05 1.57757465e-04]\n",
      " [1.63523763e-04 1.24261676e-04 4.43933403e-05 1.57757465e-04]]\n"
     ]
    }
   ],
   "source": [
    "E_means = np.mean(E_array, axis = 0).real\n",
    "E_stds = np.std(E_array, axis = 0).real\n",
    "print(E_means)\n",
    "print(E_stds)\n",
    "# plt.errorbar(np.arange(4), E_means[0,:], yerr = E_stds[0,:])\n",
    "# plt.show()"
   ]
  },
  {
   "cell_type": "markdown",
   "id": "5515c777-02e6-48ba-80b4-9e10bdeee0c8",
   "metadata": {},
   "source": [
    "### Save data"
   ]
  },
  {
   "cell_type": "code",
   "execution_count": 33,
   "id": "4414b229-834f-4dfa-96e2-44e9343a9c08",
   "metadata": {},
   "outputs": [],
   "source": [
    "# ###################################### \n",
    "# filename = 'results-qubit1-fast'\n",
    "# parameters = {'sequence length':l,'gate count':d,'Kraus ranks':[1,4],'phys. dimension':int(np.sqrt(r)), 'Sequence count': len(J), \n",
    "#               'J':J,'y':y,'threshold_multiplier': 30, \n",
    "#                      'target_rel_prec':1e-4}\n",
    "# data_to_safe = {'parameters':parameters, 'results':results}\n",
    "\n",
    "# with open(filename, 'wb') as handle:\n",
    "#     pickle.dump(data_to_safe, handle, protocol=pickle.HIGHEST_PROTOCOL)"
   ]
  },
  {
   "cell_type": "markdown",
   "id": "1eb032e1-ed58-46f9-b32a-aaf6b0df78f4",
   "metadata": {},
   "source": [
    "# Analysis"
   ]
  },
  {
   "cell_type": "markdown",
   "id": "8b424cfe-34a1-46b2-b73c-c4e78f0e7e26",
   "metadata": {},
   "source": [
    "### Rank 1"
   ]
  },
  {
   "cell_type": "code",
   "execution_count": 35,
   "id": "ad247cb2-1b5f-4e42-bdea-11ab5a441ad1",
   "metadata": {},
   "outputs": [
    {
     "name": "stdout",
     "output_type": "stream",
     "text": [
      "\n",
      " results-qubit1-fast\n"
     ]
    },
    {
     "data": {
      "text/html": [
       "<style type=\"text/css\">\n",
       "#T_63f75 th.col_heading {\n",
       "  text-align: center;\n",
       "}\n",
       "#T_63f75 th.col_heading.level0 {\n",
       "  font-size: 1em;\n",
       "}\n",
       "#T_63f75 td {\n",
       "  text-align: center;\n",
       "}\n",
       "</style>\n",
       "<table id=\"T_63f75\">\n",
       "  <thead>\n",
       "    <tr>\n",
       "      <th class=\"blank level0\" >&nbsp;</th>\n",
       "      <th id=\"T_63f75_level0_col0\" class=\"col_heading level0 col0\" >F_avg</th>\n",
       "      <th id=\"T_63f75_level0_col1\" class=\"col_heading level0 col1\" >Diamond distances</th>\n",
       "    </tr>\n",
       "  </thead>\n",
       "  <tbody>\n",
       "    <tr>\n",
       "      <th id=\"T_63f75_level0_row0\" class=\"row_heading level0 row0\" >Id</th>\n",
       "      <td id=\"T_63f75_row0_col0\" class=\"data row0 col0\" >0,99663</td>\n",
       "      <td id=\"T_63f75_row0_col1\" class=\"data row0 col1\" >0,07110</td>\n",
       "    </tr>\n",
       "    <tr>\n",
       "      <th id=\"T_63f75_level0_row1\" class=\"row_heading level0 row1\" >Rx(pi/2)</th>\n",
       "      <td id=\"T_63f75_row1_col0\" class=\"data row1 col0\" >0,99989</td>\n",
       "      <td id=\"T_63f75_row1_col1\" class=\"data row1 col1\" >0,01279</td>\n",
       "    </tr>\n",
       "    <tr>\n",
       "      <th id=\"T_63f75_level0_row2\" class=\"row_heading level0 row2\" >Ry(pi/2)</th>\n",
       "      <td id=\"T_63f75_row2_col0\" class=\"data row2 col0\" >0,99992</td>\n",
       "      <td id=\"T_63f75_row2_col1\" class=\"data row2 col1\" >0,01126</td>\n",
       "    </tr>\n",
       "  </tbody>\n",
       "</table>\n"
      ],
      "text/plain": [
       "<pandas.io.formats.style.Styler at 0x7f419a3f8160>"
      ]
     },
     "metadata": {},
     "output_type": "display_data"
    },
    {
     "data": {
      "text/html": [
       "<style type=\"text/css\">\n",
       "#T_02f76 th.col_heading {\n",
       "  text-align: center;\n",
       "}\n",
       "#T_02f76 th.col_heading.level0 {\n",
       "  font-size: 1em;\n",
       "}\n",
       "#T_02f76 td {\n",
       "  text-align: center;\n",
       "}\n",
       "</style>\n",
       "<table id=\"T_02f76\">\n",
       "  <thead>\n",
       "    <tr>\n",
       "      <th class=\"blank level0\" >&nbsp;</th>\n",
       "      <th id=\"T_02f76_level0_col0\" class=\"col_heading level0 col0\" >Final cost function value</th>\n",
       "      <th id=\"T_02f76_level0_col1\" class=\"col_heading level0 col1\" >Mean total variation dist. to data</th>\n",
       "      <th id=\"T_02f76_level0_col2\" class=\"col_heading level0 col2\" >Mean total variation dist. target to data</th>\n",
       "      <th id=\"T_02f76_level0_col3\" class=\"col_heading level0 col3\" >POVM - Choi map trace distance</th>\n",
       "      <th id=\"T_02f76_level0_col4\" class=\"col_heading level0 col4\" >State - Trace distance</th>\n",
       "    </tr>\n",
       "  </thead>\n",
       "  <tbody>\n",
       "    <tr>\n",
       "      <th id=\"T_02f76_level0_row0\" class=\"row_heading level0 row0\" ></th>\n",
       "      <td id=\"T_02f76_row0_col0\" class=\"data row0 col0\" >0.000100</td>\n",
       "      <td id=\"T_02f76_row0_col1\" class=\"data row0 col1\" >0.007530</td>\n",
       "      <td id=\"T_02f76_row0_col2\" class=\"data row0 col2\" >0.121432</td>\n",
       "      <td id=\"T_02f76_row0_col3\" class=\"data row0 col3\" >0.102657</td>\n",
       "      <td id=\"T_02f76_row0_col4\" class=\"data row0 col4\" >0.101379</td>\n",
       "    </tr>\n",
       "  </tbody>\n",
       "</table>\n"
      ],
      "text/plain": [
       "<pandas.io.formats.style.Styler at 0x7f419a3f82b0>"
      ]
     },
     "metadata": {},
     "output_type": "display_data"
    },
    {
     "name": "stdout",
     "output_type": "stream",
     "text": [
      "\n",
      " results-qubit2-fast\n"
     ]
    },
    {
     "data": {
      "text/html": [
       "<style type=\"text/css\">\n",
       "#T_872e0 th.col_heading {\n",
       "  text-align: center;\n",
       "}\n",
       "#T_872e0 th.col_heading.level0 {\n",
       "  font-size: 1em;\n",
       "}\n",
       "#T_872e0 td {\n",
       "  text-align: center;\n",
       "}\n",
       "</style>\n",
       "<table id=\"T_872e0\">\n",
       "  <thead>\n",
       "    <tr>\n",
       "      <th class=\"blank level0\" >&nbsp;</th>\n",
       "      <th id=\"T_872e0_level0_col0\" class=\"col_heading level0 col0\" >F_avg</th>\n",
       "      <th id=\"T_872e0_level0_col1\" class=\"col_heading level0 col1\" >Diamond distances</th>\n",
       "    </tr>\n",
       "  </thead>\n",
       "  <tbody>\n",
       "    <tr>\n",
       "      <th id=\"T_872e0_level0_row0\" class=\"row_heading level0 row0\" >Id</th>\n",
       "      <td id=\"T_872e0_row0_col0\" class=\"data row0 col0\" >0,99124</td>\n",
       "      <td id=\"T_872e0_row0_col1\" class=\"data row0 col1\" >0,11462</td>\n",
       "    </tr>\n",
       "    <tr>\n",
       "      <th id=\"T_872e0_level0_row1\" class=\"row_heading level0 row1\" >Rx(pi/2)</th>\n",
       "      <td id=\"T_872e0_row1_col0\" class=\"data row1 col0\" >0,99946</td>\n",
       "      <td id=\"T_872e0_row1_col1\" class=\"data row1 col1\" >0,02845</td>\n",
       "    </tr>\n",
       "    <tr>\n",
       "      <th id=\"T_872e0_level0_row2\" class=\"row_heading level0 row2\" >Ry(pi/2)</th>\n",
       "      <td id=\"T_872e0_row2_col0\" class=\"data row2 col0\" >0,99945</td>\n",
       "      <td id=\"T_872e0_row2_col1\" class=\"data row2 col1\" >0,02883</td>\n",
       "    </tr>\n",
       "  </tbody>\n",
       "</table>\n"
      ],
      "text/plain": [
       "<pandas.io.formats.style.Styler at 0x7f4113eec760>"
      ]
     },
     "metadata": {},
     "output_type": "display_data"
    },
    {
     "data": {
      "text/html": [
       "<style type=\"text/css\">\n",
       "#T_3233e th.col_heading {\n",
       "  text-align: center;\n",
       "}\n",
       "#T_3233e th.col_heading.level0 {\n",
       "  font-size: 1em;\n",
       "}\n",
       "#T_3233e td {\n",
       "  text-align: center;\n",
       "}\n",
       "</style>\n",
       "<table id=\"T_3233e\">\n",
       "  <thead>\n",
       "    <tr>\n",
       "      <th class=\"blank level0\" >&nbsp;</th>\n",
       "      <th id=\"T_3233e_level0_col0\" class=\"col_heading level0 col0\" >Final cost function value</th>\n",
       "      <th id=\"T_3233e_level0_col1\" class=\"col_heading level0 col1\" >Mean total variation dist. to data</th>\n",
       "      <th id=\"T_3233e_level0_col2\" class=\"col_heading level0 col2\" >Mean total variation dist. target to data</th>\n",
       "      <th id=\"T_3233e_level0_col3\" class=\"col_heading level0 col3\" >POVM - Choi map trace distance</th>\n",
       "      <th id=\"T_3233e_level0_col4\" class=\"col_heading level0 col4\" >State - Trace distance</th>\n",
       "    </tr>\n",
       "  </thead>\n",
       "  <tbody>\n",
       "    <tr>\n",
       "      <th id=\"T_3233e_level0_row0\" class=\"row_heading level0 row0\" ></th>\n",
       "      <td id=\"T_3233e_row0_col0\" class=\"data row0 col0\" >0.000041</td>\n",
       "      <td id=\"T_3233e_row0_col1\" class=\"data row0 col1\" >0.004969</td>\n",
       "      <td id=\"T_3233e_row0_col2\" class=\"data row0 col2\" >0.122045</td>\n",
       "      <td id=\"T_3233e_row0_col3\" class=\"data row0 col3\" >0.082250</td>\n",
       "      <td id=\"T_3233e_row0_col4\" class=\"data row0 col4\" >0.083749</td>\n",
       "    </tr>\n",
       "  </tbody>\n",
       "</table>\n"
      ],
      "text/plain": [
       "<pandas.io.formats.style.Styler at 0x7f41ac07b6a0>"
      ]
     },
     "metadata": {},
     "output_type": "display_data"
    },
    {
     "name": "stdout",
     "output_type": "stream",
     "text": [
      "\n",
      " results-qubit3-fast\n"
     ]
    },
    {
     "data": {
      "text/html": [
       "<style type=\"text/css\">\n",
       "#T_54830 th.col_heading {\n",
       "  text-align: center;\n",
       "}\n",
       "#T_54830 th.col_heading.level0 {\n",
       "  font-size: 1em;\n",
       "}\n",
       "#T_54830 td {\n",
       "  text-align: center;\n",
       "}\n",
       "</style>\n",
       "<table id=\"T_54830\">\n",
       "  <thead>\n",
       "    <tr>\n",
       "      <th class=\"blank level0\" >&nbsp;</th>\n",
       "      <th id=\"T_54830_level0_col0\" class=\"col_heading level0 col0\" >F_avg</th>\n",
       "      <th id=\"T_54830_level0_col1\" class=\"col_heading level0 col1\" >Diamond distances</th>\n",
       "    </tr>\n",
       "  </thead>\n",
       "  <tbody>\n",
       "    <tr>\n",
       "      <th id=\"T_54830_level0_row0\" class=\"row_heading level0 row0\" >Id</th>\n",
       "      <td id=\"T_54830_row0_col0\" class=\"data row0 col0\" >0,99947</td>\n",
       "      <td id=\"T_54830_row0_col1\" class=\"data row0 col1\" >0,02831</td>\n",
       "    </tr>\n",
       "    <tr>\n",
       "      <th id=\"T_54830_level0_row1\" class=\"row_heading level0 row1\" >Rx(pi/2)</th>\n",
       "      <td id=\"T_54830_row1_col0\" class=\"data row1 col0\" >0,99991</td>\n",
       "      <td id=\"T_54830_row1_col1\" class=\"data row1 col1\" >0,01181</td>\n",
       "    </tr>\n",
       "    <tr>\n",
       "      <th id=\"T_54830_level0_row2\" class=\"row_heading level0 row2\" >Ry(pi/2)</th>\n",
       "      <td id=\"T_54830_row2_col0\" class=\"data row2 col0\" >0,99990</td>\n",
       "      <td id=\"T_54830_row2_col1\" class=\"data row2 col1\" >0,01246</td>\n",
       "    </tr>\n",
       "  </tbody>\n",
       "</table>\n"
      ],
      "text/plain": [
       "<pandas.io.formats.style.Styler at 0x7f4148097160>"
      ]
     },
     "metadata": {},
     "output_type": "display_data"
    },
    {
     "data": {
      "text/html": [
       "<style type=\"text/css\">\n",
       "#T_a1d04 th.col_heading {\n",
       "  text-align: center;\n",
       "}\n",
       "#T_a1d04 th.col_heading.level0 {\n",
       "  font-size: 1em;\n",
       "}\n",
       "#T_a1d04 td {\n",
       "  text-align: center;\n",
       "}\n",
       "</style>\n",
       "<table id=\"T_a1d04\">\n",
       "  <thead>\n",
       "    <tr>\n",
       "      <th class=\"blank level0\" >&nbsp;</th>\n",
       "      <th id=\"T_a1d04_level0_col0\" class=\"col_heading level0 col0\" >Final cost function value</th>\n",
       "      <th id=\"T_a1d04_level0_col1\" class=\"col_heading level0 col1\" >Mean total variation dist. to data</th>\n",
       "      <th id=\"T_a1d04_level0_col2\" class=\"col_heading level0 col2\" >Mean total variation dist. target to data</th>\n",
       "      <th id=\"T_a1d04_level0_col3\" class=\"col_heading level0 col3\" >POVM - Choi map trace distance</th>\n",
       "      <th id=\"T_a1d04_level0_col4\" class=\"col_heading level0 col4\" >State - Trace distance</th>\n",
       "    </tr>\n",
       "  </thead>\n",
       "  <tbody>\n",
       "    <tr>\n",
       "      <th id=\"T_a1d04_level0_row0\" class=\"row_heading level0 row0\" ></th>\n",
       "      <td id=\"T_a1d04_row0_col0\" class=\"data row0 col0\" >0.000036</td>\n",
       "      <td id=\"T_a1d04_row0_col1\" class=\"data row0 col1\" >0.004868</td>\n",
       "      <td id=\"T_a1d04_row0_col2\" class=\"data row0 col2\" >0.053052</td>\n",
       "      <td id=\"T_a1d04_row0_col3\" class=\"data row0 col3\" >0.042236</td>\n",
       "      <td id=\"T_a1d04_row0_col4\" class=\"data row0 col4\" >0.055020</td>\n",
       "    </tr>\n",
       "  </tbody>\n",
       "</table>\n"
      ],
      "text/plain": [
       "<pandas.io.formats.style.Styler at 0x7f414bc0cd90>"
      ]
     },
     "metadata": {},
     "output_type": "display_data"
    }
   ],
   "source": [
    "for i in range(1,4):\n",
    "    filename = \"results-qubit%i-fast\"%i\n",
    "    with open(filename, 'rb') as handle:\n",
    "        b = pickle.load(handle)\n",
    "    results = b['results']\n",
    "\n",
    "    # Performance metrics rank 1\n",
    "    print(\"\\n\", filename)\n",
    "    K,X,E,rho = results[0][:]\n",
    "    J = b['parameters']['J']\n",
    "    y = b['parameters']['y']\n",
    "\n",
    "    weights = {'G0': 1,'G1': 1, 'G2': 1, 'spam': 1}\n",
    "    gate_labels = {0: \"Id\", 1: \"Rx(pi/2)\", 2: \"Ry(pi/2)\"}\n",
    "    X_opt, E_opt, rho_opt = gauge_opt(X, E, rho, std.target_model(), weights)\n",
    "    df_g, df_o, s_g, s_o = report(X_opt, E_opt, rho_opt, J, y, std.target_model(), gate_labels)\n",
    "    display(s_g), display(s_o)   "
   ]
  },
  {
   "cell_type": "markdown",
   "id": "f0f609a6-1bcd-4b78-a67a-7eb3fe66054d",
   "metadata": {},
   "source": [
    "### Rank 4"
   ]
  },
  {
   "cell_type": "code",
   "execution_count": 37,
   "id": "889f36ab-9396-475b-ac46-b06a45a48c0c",
   "metadata": {},
   "outputs": [
    {
     "name": "stdout",
     "output_type": "stream",
     "text": [
      "\n",
      " results-qubit1-fast\n"
     ]
    },
    {
     "data": {
      "text/html": [
       "<style type=\"text/css\">\n",
       "#T_d38df th.col_heading {\n",
       "  text-align: center;\n",
       "}\n",
       "#T_d38df th.col_heading.level0 {\n",
       "  font-size: 1em;\n",
       "}\n",
       "#T_d38df td {\n",
       "  text-align: center;\n",
       "}\n",
       "</style>\n",
       "<table id=\"T_d38df\">\n",
       "  <thead>\n",
       "    <tr>\n",
       "      <th class=\"blank level0\" >&nbsp;</th>\n",
       "      <th id=\"T_d38df_level0_col0\" class=\"col_heading level0 col0\" >F_avg</th>\n",
       "      <th id=\"T_d38df_level0_col1\" class=\"col_heading level0 col1\" >Diamond distances</th>\n",
       "    </tr>\n",
       "  </thead>\n",
       "  <tbody>\n",
       "    <tr>\n",
       "      <th id=\"T_d38df_level0_row0\" class=\"row_heading level0 row0\" >Id</th>\n",
       "      <td id=\"T_d38df_row0_col0\" class=\"data row0 col0\" >0,98384</td>\n",
       "      <td id=\"T_d38df_row0_col1\" class=\"data row0 col1\" >0,08122</td>\n",
       "    </tr>\n",
       "    <tr>\n",
       "      <th id=\"T_d38df_level0_row1\" class=\"row_heading level0 row1\" >Rx(pi/2)</th>\n",
       "      <td id=\"T_d38df_row1_col0\" class=\"data row1 col0\" >0,98337</td>\n",
       "      <td id=\"T_d38df_row1_col1\" class=\"data row1 col1\" >0,05048</td>\n",
       "    </tr>\n",
       "    <tr>\n",
       "      <th id=\"T_d38df_level0_row2\" class=\"row_heading level0 row2\" >Ry(pi/2)</th>\n",
       "      <td id=\"T_d38df_row2_col0\" class=\"data row2 col0\" >0,98468</td>\n",
       "      <td id=\"T_d38df_row2_col1\" class=\"data row2 col1\" >0,04709</td>\n",
       "    </tr>\n",
       "  </tbody>\n",
       "</table>\n"
      ],
      "text/plain": [
       "<pandas.io.formats.style.Styler at 0x7f4140bce100>"
      ]
     },
     "metadata": {},
     "output_type": "display_data"
    },
    {
     "data": {
      "text/html": [
       "<style type=\"text/css\">\n",
       "#T_4df71 th.col_heading {\n",
       "  text-align: center;\n",
       "}\n",
       "#T_4df71 th.col_heading.level0 {\n",
       "  font-size: 1em;\n",
       "}\n",
       "#T_4df71 td {\n",
       "  text-align: center;\n",
       "}\n",
       "</style>\n",
       "<table id=\"T_4df71\">\n",
       "  <thead>\n",
       "    <tr>\n",
       "      <th class=\"blank level0\" >&nbsp;</th>\n",
       "      <th id=\"T_4df71_level0_col0\" class=\"col_heading level0 col0\" >Final cost function value</th>\n",
       "      <th id=\"T_4df71_level0_col1\" class=\"col_heading level0 col1\" >Mean total variation dist. to data</th>\n",
       "      <th id=\"T_4df71_level0_col2\" class=\"col_heading level0 col2\" >Mean total variation dist. target to data</th>\n",
       "      <th id=\"T_4df71_level0_col3\" class=\"col_heading level0 col3\" >POVM - Choi map trace distance</th>\n",
       "      <th id=\"T_4df71_level0_col4\" class=\"col_heading level0 col4\" >State - Trace distance</th>\n",
       "    </tr>\n",
       "  </thead>\n",
       "  <tbody>\n",
       "    <tr>\n",
       "      <th id=\"T_4df71_level0_row0\" class=\"row_heading level0 row0\" ></th>\n",
       "      <td id=\"T_4df71_row0_col0\" class=\"data row0 col0\" >0.000017</td>\n",
       "      <td id=\"T_4df71_row0_col1\" class=\"data row0 col1\" >0.003181</td>\n",
       "      <td id=\"T_4df71_row0_col2\" class=\"data row0 col2\" >0.121432</td>\n",
       "      <td id=\"T_4df71_row0_col3\" class=\"data row0 col3\" >0.088033</td>\n",
       "      <td id=\"T_4df71_row0_col4\" class=\"data row0 col4\" >0.040173</td>\n",
       "    </tr>\n",
       "  </tbody>\n",
       "</table>\n"
      ],
      "text/plain": [
       "<pandas.io.formats.style.Styler at 0x7f4113e14a60>"
      ]
     },
     "metadata": {},
     "output_type": "display_data"
    },
    {
     "name": "stdout",
     "output_type": "stream",
     "text": [
      "\n",
      " results-qubit2-fast\n"
     ]
    },
    {
     "data": {
      "text/html": [
       "<style type=\"text/css\">\n",
       "#T_f3512 th.col_heading {\n",
       "  text-align: center;\n",
       "}\n",
       "#T_f3512 th.col_heading.level0 {\n",
       "  font-size: 1em;\n",
       "}\n",
       "#T_f3512 td {\n",
       "  text-align: center;\n",
       "}\n",
       "</style>\n",
       "<table id=\"T_f3512\">\n",
       "  <thead>\n",
       "    <tr>\n",
       "      <th class=\"blank level0\" >&nbsp;</th>\n",
       "      <th id=\"T_f3512_level0_col0\" class=\"col_heading level0 col0\" >F_avg</th>\n",
       "      <th id=\"T_f3512_level0_col1\" class=\"col_heading level0 col1\" >Diamond distances</th>\n",
       "    </tr>\n",
       "  </thead>\n",
       "  <tbody>\n",
       "    <tr>\n",
       "      <th id=\"T_f3512_level0_row0\" class=\"row_heading level0 row0\" >Id</th>\n",
       "      <td id=\"T_f3512_row0_col0\" class=\"data row0 col0\" >0,98562</td>\n",
       "      <td id=\"T_f3512_row0_col1\" class=\"data row0 col1\" >0,11697</td>\n",
       "    </tr>\n",
       "    <tr>\n",
       "      <th id=\"T_f3512_level0_row1\" class=\"row_heading level0 row1\" >Rx(pi/2)</th>\n",
       "      <td id=\"T_f3512_row1_col0\" class=\"data row1 col0\" >0,99092</td>\n",
       "      <td id=\"T_f3512_row1_col1\" class=\"data row1 col1\" >0,04480</td>\n",
       "    </tr>\n",
       "    <tr>\n",
       "      <th id=\"T_f3512_level0_row2\" class=\"row_heading level0 row2\" >Ry(pi/2)</th>\n",
       "      <td id=\"T_f3512_row2_col0\" class=\"data row2 col0\" >0,99228</td>\n",
       "      <td id=\"T_f3512_row2_col1\" class=\"data row2 col1\" >0,04175</td>\n",
       "    </tr>\n",
       "  </tbody>\n",
       "</table>\n"
      ],
      "text/plain": [
       "<pandas.io.formats.style.Styler at 0x7f414bb812e0>"
      ]
     },
     "metadata": {},
     "output_type": "display_data"
    },
    {
     "data": {
      "text/html": [
       "<style type=\"text/css\">\n",
       "#T_69e75 th.col_heading {\n",
       "  text-align: center;\n",
       "}\n",
       "#T_69e75 th.col_heading.level0 {\n",
       "  font-size: 1em;\n",
       "}\n",
       "#T_69e75 td {\n",
       "  text-align: center;\n",
       "}\n",
       "</style>\n",
       "<table id=\"T_69e75\">\n",
       "  <thead>\n",
       "    <tr>\n",
       "      <th class=\"blank level0\" >&nbsp;</th>\n",
       "      <th id=\"T_69e75_level0_col0\" class=\"col_heading level0 col0\" >Final cost function value</th>\n",
       "      <th id=\"T_69e75_level0_col1\" class=\"col_heading level0 col1\" >Mean total variation dist. to data</th>\n",
       "      <th id=\"T_69e75_level0_col2\" class=\"col_heading level0 col2\" >Mean total variation dist. target to data</th>\n",
       "      <th id=\"T_69e75_level0_col3\" class=\"col_heading level0 col3\" >POVM - Choi map trace distance</th>\n",
       "      <th id=\"T_69e75_level0_col4\" class=\"col_heading level0 col4\" >State - Trace distance</th>\n",
       "    </tr>\n",
       "  </thead>\n",
       "  <tbody>\n",
       "    <tr>\n",
       "      <th id=\"T_69e75_level0_row0\" class=\"row_heading level0 row0\" ></th>\n",
       "      <td id=\"T_69e75_row0_col0\" class=\"data row0 col0\" >0.000018</td>\n",
       "      <td id=\"T_69e75_row0_col1\" class=\"data row0 col1\" >0.003462</td>\n",
       "      <td id=\"T_69e75_row0_col2\" class=\"data row0 col2\" >0.122045</td>\n",
       "      <td id=\"T_69e75_row0_col3\" class=\"data row0 col3\" >0.077274</td>\n",
       "      <td id=\"T_69e75_row0_col4\" class=\"data row0 col4\" >0.074279</td>\n",
       "    </tr>\n",
       "  </tbody>\n",
       "</table>\n"
      ],
      "text/plain": [
       "<pandas.io.formats.style.Styler at 0x7f4113f28850>"
      ]
     },
     "metadata": {},
     "output_type": "display_data"
    },
    {
     "name": "stdout",
     "output_type": "stream",
     "text": [
      "\n",
      " results-qubit3-fast\n"
     ]
    },
    {
     "data": {
      "text/html": [
       "<style type=\"text/css\">\n",
       "#T_1fb3f th.col_heading {\n",
       "  text-align: center;\n",
       "}\n",
       "#T_1fb3f th.col_heading.level0 {\n",
       "  font-size: 1em;\n",
       "}\n",
       "#T_1fb3f td {\n",
       "  text-align: center;\n",
       "}\n",
       "</style>\n",
       "<table id=\"T_1fb3f\">\n",
       "  <thead>\n",
       "    <tr>\n",
       "      <th class=\"blank level0\" >&nbsp;</th>\n",
       "      <th id=\"T_1fb3f_level0_col0\" class=\"col_heading level0 col0\" >F_avg</th>\n",
       "      <th id=\"T_1fb3f_level0_col1\" class=\"col_heading level0 col1\" >Diamond distances</th>\n",
       "    </tr>\n",
       "  </thead>\n",
       "  <tbody>\n",
       "    <tr>\n",
       "      <th id=\"T_1fb3f_level0_row0\" class=\"row_heading level0 row0\" >Id</th>\n",
       "      <td id=\"T_1fb3f_row0_col0\" class=\"data row0 col0\" >0,99145</td>\n",
       "      <td id=\"T_1fb3f_row0_col1\" class=\"data row0 col1\" >0,03491</td>\n",
       "    </tr>\n",
       "    <tr>\n",
       "      <th id=\"T_1fb3f_level0_row1\" class=\"row_heading level0 row1\" >Rx(pi/2)</th>\n",
       "      <td id=\"T_1fb3f_row1_col0\" class=\"data row1 col0\" >0,99247</td>\n",
       "      <td id=\"T_1fb3f_row1_col1\" class=\"data row1 col1\" >0,02693</td>\n",
       "    </tr>\n",
       "    <tr>\n",
       "      <th id=\"T_1fb3f_level0_row2\" class=\"row_heading level0 row2\" >Ry(pi/2)</th>\n",
       "      <td id=\"T_1fb3f_row2_col0\" class=\"data row2 col0\" >0,99233</td>\n",
       "      <td id=\"T_1fb3f_row2_col1\" class=\"data row2 col1\" >0,02613</td>\n",
       "    </tr>\n",
       "  </tbody>\n",
       "</table>\n"
      ],
      "text/plain": [
       "<pandas.io.formats.style.Styler at 0x7f4113e342e0>"
      ]
     },
     "metadata": {},
     "output_type": "display_data"
    },
    {
     "data": {
      "text/html": [
       "<style type=\"text/css\">\n",
       "#T_0be28 th.col_heading {\n",
       "  text-align: center;\n",
       "}\n",
       "#T_0be28 th.col_heading.level0 {\n",
       "  font-size: 1em;\n",
       "}\n",
       "#T_0be28 td {\n",
       "  text-align: center;\n",
       "}\n",
       "</style>\n",
       "<table id=\"T_0be28\">\n",
       "  <thead>\n",
       "    <tr>\n",
       "      <th class=\"blank level0\" >&nbsp;</th>\n",
       "      <th id=\"T_0be28_level0_col0\" class=\"col_heading level0 col0\" >Final cost function value</th>\n",
       "      <th id=\"T_0be28_level0_col1\" class=\"col_heading level0 col1\" >Mean total variation dist. to data</th>\n",
       "      <th id=\"T_0be28_level0_col2\" class=\"col_heading level0 col2\" >Mean total variation dist. target to data</th>\n",
       "      <th id=\"T_0be28_level0_col3\" class=\"col_heading level0 col3\" >POVM - Choi map trace distance</th>\n",
       "      <th id=\"T_0be28_level0_col4\" class=\"col_heading level0 col4\" >State - Trace distance</th>\n",
       "    </tr>\n",
       "  </thead>\n",
       "  <tbody>\n",
       "    <tr>\n",
       "      <th id=\"T_0be28_level0_row0\" class=\"row_heading level0 row0\" ></th>\n",
       "      <td id=\"T_0be28_row0_col0\" class=\"data row0 col0\" >0.000017</td>\n",
       "      <td id=\"T_0be28_row0_col1\" class=\"data row0 col1\" >0.003252</td>\n",
       "      <td id=\"T_0be28_row0_col2\" class=\"data row0 col2\" >0.053052</td>\n",
       "      <td id=\"T_0be28_row0_col3\" class=\"data row0 col3\" >0.036470</td>\n",
       "      <td id=\"T_0be28_row0_col4\" class=\"data row0 col4\" >0.018129</td>\n",
       "    </tr>\n",
       "  </tbody>\n",
       "</table>\n"
      ],
      "text/plain": [
       "<pandas.io.formats.style.Styler at 0x7f41ac106520>"
      ]
     },
     "metadata": {},
     "output_type": "display_data"
    }
   ],
   "source": [
    "for i in range(1,4):\n",
    "    filename = \"results-qubit%i-fast\"%i\n",
    "    with open(filename, 'rb') as handle:\n",
    "        b = pickle.load(handle)\n",
    "    results = b['results']\n",
    "\n",
    "    # Performance metrics rank 4\n",
    "    print(\"\\n\", filename)\n",
    "    K,X,E,rho = results[1][:]\n",
    "    J = b['parameters']['J']\n",
    "    y = b['parameters']['y']\n",
    "    \n",
    "    weights = {'G0': 1,'G1': 1, 'G2': 1, 'spam': 1}\n",
    "    gate_labels = {0: \"Id\", 1: \"Rx(pi/2)\", 2: \"Ry(pi/2)\"}\n",
    "    X_opt, E_opt, rho_opt = gauge_opt(X, E, rho, std.target_model(), weights)\n",
    "    df_g, df_o, s_g, s_o = report(X_opt, E_opt, rho_opt, J, y, std.target_model(), gate_labels)\n",
    "    display(s_g), display(s_o)   "
   ]
  },
  {
   "cell_type": "markdown",
   "id": "c1d99e8c-6edb-45a7-b50e-f861b569abb2",
   "metadata": {},
   "source": [
    "### Gate plots"
   ]
  },
  {
   "cell_type": "code",
   "execution_count": 41,
   "id": "40ccb764-e8f1-4037-8063-b1f1e771e345",
   "metadata": {},
   "outputs": [
    {
     "name": "stdout",
     "output_type": "stream",
     "text": [
      "\n",
      " results-qubit1-fast\n"
     ]
    },
    {
     "data": {
      "image/png": "[encoded data removed]",
      "text/plain": [
       "<Figure size 383.716x157.091 with 3 Axes>"
      ]
     },
     "metadata": {},
     "output_type": "display_data"
    },
    {
     "data": {
      "image/png": "[encoded data removed]",
      "text/plain": [
       "<Figure size 371.613x286.093 with 4 Axes>"
      ]
     },
     "metadata": {},
     "output_type": "display_data"
    }
   ],
   "source": [
    "filename = \"results-qubit1-fast\"\n",
    "with open(filename, 'rb') as handle:\n",
    "    b = pickle.load(handle)\n",
    "results = b['results']\n",
    "\n",
    "# Performance metrics rank 1\n",
    "print(\"\\n\", filename)\n",
    "K,X,E,rho = results[0][:]\n",
    "J = b['parameters']['J']\n",
    "y = b['parameters']['y']\n",
    "\n",
    "weights = {'G0': 1,'G1': 1, 'G2': 1, 'spam': 1}\n",
    "gate_labels = {0: \"Id\", 1: \"Rx(pi/2)\", 2: \"Ry(pi/2)\"}\n",
    "X_opt, E_opt, rho_opt = gauge_opt(X, E, rho, std.target_model(), weights)\n",
    "\n",
    "plot_mat(X_opt[0], X_t[0])\n",
    "plot_spam(rho_opt, E_opt)"
   ]
  },
  {
   "cell_type": "code",
   "execution_count": null,
   "id": "afb5d82a-3a7f-4c55-801f-f105faf302aa",
   "metadata": {},
   "outputs": [],
   "source": []
  }
 ],
 "metadata": {
  "kernelspec": {
   "display_name": "Python 3",
   "language": "python",
   "name": "python3"
  },
  "language_info": {
   "codemirror_mode": {
    "name": "ipython",
    "version": 3
   },
   "file_extension": ".py",
   "mimetype": "text/x-python",
   "name": "python",
   "nbconvert_exporter": "python",
   "pygments_lexer": "ipython3",
   "version": "3.8.10"
  }
 },
 "nbformat": 4,
 "nbformat_minor": 5
}
