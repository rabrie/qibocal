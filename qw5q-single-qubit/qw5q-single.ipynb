{
 "cells": [
  {
   "cell_type": "markdown",
   "id": "19498ba6-106b-4ef2-b798-ca7d0a6fce8a",
   "metadata": {
    "tags": []
   },
   "source": [
    "# Single qubit GST on the 5 qubit chip (Data from 3.5.2023)"
   ]
  },
  {
   "cell_type": "code",
   "execution_count": 1,
   "id": "2fad699e-1bfe-4b66-9a11-1a9f9697f627",
   "metadata": {},
   "outputs": [],
   "source": [
    "# Note: I removed the mGST folders from within the qibocal fork, such that it is installed and updated seperately\n",
    "from mGST import compatibility,algorithm, optimization, low_level_jit, additional_fns"
   ]
  },
  {
   "cell_type": "code",
   "execution_count": 3,
   "id": "6e58b942-2370-4d00-a8f0-88704b080a55",
   "metadata": {},
   "outputs": [],
   "source": [
    "import pickle as pickle\n",
    "from pygsti.report import reportables as rptbl #Needs cvxpy!\n",
    "from pygsti.modelpacks import smq1Q_XYI as std\n",
    "import pygsti\n",
    "from argparse import Namespace\n",
    "import numpy as np\n",
    "import pandas as pd\n",
    "import numpy.linalg as la\n",
    "import json\n",
    "import matplotlib.pyplot as plt\n",
    "\n",
    "%run ./uncertainties.py\n",
    "%run ../src/mGST/reporting.py"
   ]
  },
  {
   "cell_type": "markdown",
   "id": "8aa5d0c5-5f45-41ba-9309-b5055901f76d",
   "metadata": {},
   "source": [
    "### Setting the parameters"
   ]
  },
  {
   "cell_type": "code",
   "execution_count": 4,
   "id": "bc5a4c05-f8c4-46cd-ad54-4fc6a2544e66",
   "metadata": {},
   "outputs": [],
   "source": [
    "pdim = 2   # physical dimension\n",
    "r = pdim**2   # rank of the gate superoperators \n",
    "\n",
    "l = 7  # maximum number of gates in each measurement sequence\n",
    "d = 3  # number of gates\n",
    "n_povm = 2   # number of POVM-elements\n",
    "\n",
    "meas_samples = 1e4"
   ]
  },
  {
   "cell_type": "markdown",
   "id": "a9d466a3-c184-4647-a735-3882ed478720",
   "metadata": {},
   "source": [
    "### Loading data"
   ]
  },
  {
   "cell_type": "code",
   "execution_count": 5,
   "id": "d4029d3f-3387-47eb-ad47-654e09c4a8e1",
   "metadata": {},
   "outputs": [
    {
     "name": "stdout",
     "output_type": "stream",
     "text": [
      "dict_keys(['nsequences', 'sequence_creation_time', 'execution_time', 'sequences', 'hardware_probabilities', 'platform', 'qubit', 'depth', 'nshots'])\n"
     ]
    }
   ],
   "source": [
    "with open('data/qw5q-qubit1-fast.json') as f:\n",
    "    data = json.load(f)\n",
    "print(data.keys())\n",
    "J = np.array(data['sequences'])[:,::-1]\n",
    "y = np.array(data['hardware_probabilities']).T"
   ]
  },
  {
   "cell_type": "code",
   "execution_count": 7,
   "id": "845ac639-529a-4035-833f-1e4e314b00e5",
   "metadata": {},
   "outputs": [],
   "source": [
    "from argparse import Namespace\n",
    "def bootstrap_errors(K, X, E, rho, mGST_args, bootstrap_samples, weights, gate_labels, target_mdl, parametric = True):\n",
    "    ns = Namespace(**mGST_args)\n",
    "    if parametric:\n",
    "        y = np.real(np.array([[E[i].conj()@low_level_jit.contract(X,j)@rho for j in J] for i in range(n_povm)]))\n",
    "        y_sampled = additional_fns.sampled_measurements(y, meas_samples).copy()\n",
    "    else: \n",
    "        y = ns.y\n",
    "        y_sampled = additional_fns.sampled_measurements(y, meas_samples).copy()\n",
    "\n",
    "    X_array = np.zeros((bootstrap_samples, *X.shape)).astype(complex)\n",
    "    E_array = np.zeros((bootstrap_samples, *E.shape)).astype(complex)\n",
    "    rho_array = np.zeros((bootstrap_samples, *rho.shape)).astype(complex)\n",
    "    df_g_list = []\n",
    "    df_o_list = []\n",
    "    for i in range(bootstrap_samples):\n",
    "        K_, X_, E_, rho_, _ = algorithm.run_mGST(y_sampled[:,:100],ns.J[:100],ns.l,ns.d,ns.r,ns.rK, ns.n_povm, ns.bsize, ns.meas_samples, method = ns.method,\n",
    "                     max_inits = ns.max_inits, max_iter = ns.max_iter, final_iter = ns.final_iter, threshold_multiplier = ns.threshold_multiplier, \n",
    "                     target_rel_prec = ns.target_rel_prec, init = [K, E, rho], testing = False)   \n",
    "        K_, X_, E_, rho_, _ = algorithm.run_mGST(ns.y,ns.J,ns.l,ns.d,ns.r,ns.rK, ns.n_povm, ns.bsize, ns.meas_samples, method = ns.method,\n",
    "                         max_inits = ns.max_inits, max_iter = 0, final_iter = ns.final_iter, threshold_multiplier = ns.threshold_multiplier, \n",
    "                         target_rel_prec = ns.target_rel_prec, init = [K_, E_, rho_], testing = False)   \n",
    "\n",
    "        X_opt, E_opt, rho_opt = gauge_opt(X_, E_, rho_, target_mdl, weights)\n",
    "        df_g, df_o, _, _ = report(X_opt, E_opt, rho_opt, J, y, target_mdl, gate_labels)\n",
    "        df_g_list.append(df_g.values)\n",
    "        df_o_list.append(df_o.values)\n",
    "\n",
    "        X_opt_pp, E_opt_pp, rho_opt_pp = compatibility.std2pp(X_opt, E_opt, rho_opt)\n",
    "        \n",
    "        X_array[i, :] = X_opt_pp\n",
    "        E_array[i, :] = E_opt_pp\n",
    "        rho_array[i, :] = rho_opt_pp\n",
    "        \n",
    "    return (X_array, E_array, rho_array, np.array(df_g_list), np.array(df_o_list))"
   ]
  },
  {
   "cell_type": "markdown",
   "id": "35724025-9e20-4876-aaf1-895a7c644f92",
   "metadata": {},
   "source": [
    "### GST"
   ]
  },
  {
   "cell_type": "code",
   "execution_count": 8,
   "id": "117a49d5-ad10-4e3e-b788-dc0770f36081",
   "metadata": {
    "tags": []
   },
   "outputs": [
    {
     "name": "stdout",
     "output_type": "stream",
     "text": [
      "Starting optimization...\n",
      " 45%|████▌     | 36/80 [00:51<01:02,  1.42s/it]\n"
     ]
    },
    {
     "data": {
      "image/png": "[encoded data removed]",
      "text/plain": [
       "<Figure size 432x288 with 1 Axes>"
      ]
     },
     "metadata": {
      "needs_background": "light"
     },
     "output_type": "display_data"
    },
    {
     "name": "stdout",
     "output_type": "stream",
     "text": [
      "#################\n",
      "\t Convergence criterion satisfied\n",
      "\t Final objective function value 1.721111849918408e-05 with # of initializations: 1 \n",
      " \t Total runtime: 51.83673095703125\n"
     ]
    }
   ],
   "source": [
    "bsize = 50   # The batch size on which the optimization is started\n",
    "\n",
    "\n",
    "rK = 4\n",
    "mGST_args = {'y': y, 'J': J, 'l': l, 'd': d, 'r': r, 'rK': rK, 'n_povm': n_povm, 'bsize': bsize, \n",
    "             'meas_samples': meas_samples, 'method': 'SFN', 'max_inits': 20, 'max_iter': 0, \n",
    "             'final_iter': 80, 'threshold_multiplier': 10, 'target_rel_prec': 1e-3}\n",
    "ns = Namespace(**mGST_args)\n",
    "\n",
    "results = []\n",
    "X_t,E_t,rho_t = compatibility.pygsti_model_to_arrays(std.target_model(),basis = 'std') #The idle-X(pi/2)-Y(pi/2) model \n",
    "K_t = additional_fns.Kraus_rep(X_t,d,pdim,rK)\n",
    "X_t = np.einsum('ijkl,ijnm -> iknlm', K_t, K_t.conj()).reshape(d,r,r)  \n",
    "K,X,E,rho,res_list = algorithm.run_mGST(ns.y,ns.J,ns.l,ns.d,ns.r,ns.rK, ns.n_povm, ns.bsize, ns.meas_samples, method = ns.method,\n",
    "                 max_inits = ns.max_inits, max_iter = ns.max_iter, final_iter = ns.final_iter, threshold_multiplier = ns.threshold_multiplier, \n",
    "                 target_rel_prec = ns.target_rel_prec, init = [K_t, E_t, rho_t], testing = True)   \n",
    "results.append([K,X,E,rho])"
   ]
  },
  {
   "cell_type": "code",
   "execution_count": 9,
   "id": "2a0f2ffa-e8e4-469c-a581-41aa1340679e",
   "metadata": {
    "tags": []
   },
   "outputs": [
    {
     "data": {
      "text/html": [
       "<style type=\"text/css\">\n",
       "#T_5bfb7 th.col_heading {\n",
       "  text-align: center;\n",
       "}\n",
       "#T_5bfb7 th.col_heading.level0 {\n",
       "  font-size: 1em;\n",
       "}\n",
       "#T_5bfb7 td {\n",
       "  text-align: center;\n",
       "}\n",
       "</style>\n",
       "<table id=\"T_5bfb7\">\n",
       "  <thead>\n",
       "    <tr>\n",
       "      <th class=\"blank level0\" >&nbsp;</th>\n",
       "      <th id=\"T_5bfb7_level0_col0\" class=\"col_heading level0 col0\" >F_avg</th>\n",
       "      <th id=\"T_5bfb7_level0_col1\" class=\"col_heading level0 col1\" >Diamond distances</th>\n",
       "      <th id=\"T_5bfb7_level0_col2\" class=\"col_heading level0 col2\" >Min. Spectral distances</th>\n",
       "    </tr>\n",
       "  </thead>\n",
       "  <tbody>\n",
       "    <tr>\n",
       "      <th id=\"T_5bfb7_level0_row0\" class=\"row_heading level0 row0\" >Id</th>\n",
       "      <td id=\"T_5bfb7_row0_col0\" class=\"data row0 col0\" >0,98421</td>\n",
       "      <td id=\"T_5bfb7_row0_col1\" class=\"data row0 col1\" >0,08090</td>\n",
       "      <td id=\"T_5bfb7_row0_col2\" class=\"data row0 col2\" >0,08167</td>\n",
       "    </tr>\n",
       "    <tr>\n",
       "      <th id=\"T_5bfb7_level0_row1\" class=\"row_heading level0 row1\" >Rx(pi/2)</th>\n",
       "      <td id=\"T_5bfb7_row1_col0\" class=\"data row1 col0\" >0,98300</td>\n",
       "      <td id=\"T_5bfb7_row1_col1\" class=\"data row1 col1\" >0,05210</td>\n",
       "      <td id=\"T_5bfb7_row1_col2\" class=\"data row1 col2\" >0,02648</td>\n",
       "    </tr>\n",
       "    <tr>\n",
       "      <th id=\"T_5bfb7_level0_row2\" class=\"row_heading level0 row2\" >Ry(pi/2)</th>\n",
       "      <td id=\"T_5bfb7_row2_col0\" class=\"data row2 col0\" >0,98473</td>\n",
       "      <td id=\"T_5bfb7_row2_col1\" class=\"data row2 col1\" >0,04806</td>\n",
       "      <td id=\"T_5bfb7_row2_col2\" class=\"data row2 col2\" >0,02373</td>\n",
       "    </tr>\n",
       "  </tbody>\n",
       "</table>\n"
      ],
      "text/plain": [
       "<pandas.io.formats.style.Styler at 0x7f9f5f765b50>"
      ]
     },
     "metadata": {},
     "output_type": "display_data"
    },
    {
     "data": {
      "text/html": [
       "<style type=\"text/css\">\n",
       "#T_bfa1e th.col_heading {\n",
       "  text-align: center;\n",
       "}\n",
       "#T_bfa1e th.col_heading.level0 {\n",
       "  font-size: 1em;\n",
       "}\n",
       "#T_bfa1e td {\n",
       "  text-align: center;\n",
       "}\n",
       "</style>\n",
       "<table id=\"T_bfa1e\">\n",
       "  <thead>\n",
       "    <tr>\n",
       "      <th class=\"blank level0\" >&nbsp;</th>\n",
       "      <th id=\"T_bfa1e_level0_col0\" class=\"col_heading level0 col0\" >Final cost function value</th>\n",
       "      <th id=\"T_bfa1e_level0_col1\" class=\"col_heading level0 col1\" >Mean total variation dist. to data</th>\n",
       "      <th id=\"T_bfa1e_level0_col2\" class=\"col_heading level0 col2\" >Mean total variation dist. target to data</th>\n",
       "      <th id=\"T_bfa1e_level0_col3\" class=\"col_heading level0 col3\" >POVM - Choi map trace distance</th>\n",
       "      <th id=\"T_bfa1e_level0_col4\" class=\"col_heading level0 col4\" >State - Trace distance</th>\n",
       "    </tr>\n",
       "  </thead>\n",
       "  <tbody>\n",
       "    <tr>\n",
       "      <th id=\"T_bfa1e_level0_row0\" class=\"row_heading level0 row0\" ></th>\n",
       "      <td id=\"T_bfa1e_row0_col0\" class=\"data row0 col0\" >0.000017</td>\n",
       "      <td id=\"T_bfa1e_row0_col1\" class=\"data row0 col1\" >0.003257</td>\n",
       "      <td id=\"T_bfa1e_row0_col2\" class=\"data row0 col2\" >0.121432</td>\n",
       "      <td id=\"T_bfa1e_row0_col3\" class=\"data row0 col3\" >0.087484</td>\n",
       "      <td id=\"T_bfa1e_row0_col4\" class=\"data row0 col4\" >0.040904</td>\n",
       "    </tr>\n",
       "  </tbody>\n",
       "</table>\n"
      ],
      "text/plain": [
       "<pandas.io.formats.style.Styler at 0x7f9f5f0288e0>"
      ]
     },
     "metadata": {},
     "output_type": "display_data"
    },
    {
     "name": "stdout",
     "output_type": "stream",
     "text": [
      "Starting optimization...\n",
      " 39%|███▉      | 31/80 [00:48<01:16,  1.57s/it]\n",
      "#################\n",
      "\t Convergence criterion satisfied\n",
      "\t Final objective function value 4.181905069407343e-05 with # of initializations: 1 \n",
      " \t Total runtime: 48.704939126968384\n",
      "Starting optimization...\n",
      "  4%|▍         | 3/80 [00:06<02:40,  2.09s/it]\n",
      "#################\n",
      "\t Convergence criterion satisfied\n",
      "\t Final objective function value 2.1229795130759797e-05 with # of initializations: 1 \n",
      " \t Total runtime: 6.26766300201416\n",
      "Starting optimization...\n",
      " 45%|████▌     | 36/80 [00:58<01:11,  1.62s/it]\n",
      "#################\n",
      "\t Convergence criterion satisfied\n",
      "\t Final objective function value 3.7798141414420274e-05 with # of initializations: 1 \n",
      " \t Total runtime: 58.28107810020447\n",
      "Starting optimization...\n",
      "  4%|▍         | 3/80 [00:06<02:50,  2.22s/it]\n",
      "#################\n",
      "\t Convergence criterion satisfied\n",
      "\t Final objective function value 1.7207840100645164e-05 with # of initializations: 1 \n",
      " \t Total runtime: 6.648347616195679\n",
      "Starting optimization...\n",
      " 46%|████▋     | 37/80 [01:00<01:10,  1.65s/it]\n",
      "#################\n",
      "\t Convergence criterion satisfied\n",
      "\t Final objective function value 3.778951128283368e-05 with # of initializations: 1 \n",
      " \t Total runtime: 60.907517433166504\n",
      "Starting optimization...\n",
      "  4%|▍         | 3/80 [00:06<02:41,  2.10s/it]\n",
      "#################\n",
      "\t Convergence criterion satisfied\n",
      "\t Final objective function value 1.7217842950406852e-05 with # of initializations: 1 \n",
      " \t Total runtime: 6.29904580116272\n",
      "Starting optimization...\n",
      " 48%|████▊     | 38/80 [01:02<01:09,  1.65s/it]\n",
      "#################\n",
      "\t Convergence criterion satisfied\n",
      "\t Final objective function value 3.809726163437369e-05 with # of initializations: 1 \n",
      " \t Total runtime: 62.858630895614624\n",
      "Starting optimization...\n",
      "  4%|▍         | 3/80 [00:06<02:48,  2.19s/it]\n",
      "#################\n",
      "\t Convergence criterion satisfied\n",
      "\t Final objective function value 1.731918125519578e-05 with # of initializations: 1 \n",
      " \t Total runtime: 6.564093589782715\n",
      "Starting optimization...\n",
      " 41%|████▏     | 33/80 [01:00<01:26,  1.83s/it]\n",
      "#################\n",
      "\t Convergence criterion satisfied\n",
      "\t Final objective function value 4.107751115615518e-05 with # of initializations: 1 \n",
      " \t Total runtime: 60.45904064178467\n",
      "Starting optimization...\n",
      " 11%|█▏        | 9/80 [00:16<02:13,  1.88s/it]\n",
      "#################\n",
      "\t Convergence criterion satisfied\n",
      "\t Final objective function value 1.6880363909024247e-05 with # of initializations: 1 \n",
      " \t Total runtime: 16.90243124961853\n",
      "Starting optimization...\n",
      " 40%|████      | 32/80 [01:08<01:42,  2.14s/it]\n",
      "#################\n",
      "\t Convergence criterion satisfied\n",
      "\t Final objective function value 4.1479999276573936e-05 with # of initializations: 1 \n",
      " \t Total runtime: 68.62585735321045\n",
      "Starting optimization...\n",
      "  9%|▉         | 7/80 [00:15<02:41,  2.22s/it]\n",
      "#################\n",
      "\t Convergence criterion satisfied\n",
      "\t Final objective function value 1.7369929149098277e-05 with # of initializations: 1 \n",
      " \t Total runtime: 15.527929067611694\n",
      "Starting optimization...\n",
      " 41%|████▏     | 33/80 [00:59<01:24,  1.80s/it]\n",
      "#################\n",
      "\t Convergence criterion satisfied\n",
      "\t Final objective function value 4.092900984932656e-05 with # of initializations: 1 \n",
      " \t Total runtime: 59.54343128204346\n",
      "Starting optimization...\n",
      "  8%|▊         | 6/80 [00:11<02:19,  1.88s/it]\n",
      "#################\n",
      "\t Convergence criterion satisfied\n",
      "\t Final objective function value 1.7088534710977965e-05 with # of initializations: 1 \n",
      " \t Total runtime: 11.297333717346191\n",
      "Starting optimization...\n",
      " 38%|███▊      | 30/80 [00:46<01:17,  1.55s/it]\n",
      "#################\n",
      "\t Convergence criterion satisfied\n",
      "\t Final objective function value 4.1607965737713686e-05 with # of initializations: 1 \n",
      " \t Total runtime: 46.42813754081726\n",
      "Starting optimization...\n",
      "  4%|▍         | 3/80 [00:05<02:27,  1.91s/it]\n",
      "#################\n",
      "\t Convergence criterion satisfied\n",
      "\t Final objective function value 2.0981583994560197e-05 with # of initializations: 1 \n",
      " \t Total runtime: 5.745043992996216\n",
      "Starting optimization...\n",
      " 39%|███▉      | 31/80 [00:48<01:15,  1.55s/it]\n",
      "#################\n",
      "\t Convergence criterion satisfied\n",
      "\t Final objective function value 4.179703817689639e-05 with # of initializations: 1 \n",
      " \t Total runtime: 48.060874223709106\n",
      "Starting optimization...\n",
      "  4%|▍         | 3/80 [00:05<02:33,  1.99s/it]\n",
      "#################\n",
      "\t Convergence criterion satisfied\n",
      "\t Final objective function value 2.1205172884419225e-05 with # of initializations: 1 \n",
      " \t Total runtime: 5.9837892055511475\n",
      "Starting optimization...\n",
      " 39%|███▉      | 31/80 [00:46<01:13,  1.49s/it]\n",
      "#################\n",
      "\t Convergence criterion satisfied\n",
      "\t Final objective function value 4.1628918886861276e-05 with # of initializations: 1 \n",
      " \t Total runtime: 46.21131658554077\n",
      "Starting optimization...\n",
      "  4%|▍         | 3/80 [00:05<02:27,  1.91s/it]\n",
      "#################\n",
      "\t Convergence criterion satisfied\n",
      "\t Final objective function value 2.1052837662274452e-05 with # of initializations: 1 \n",
      " \t Total runtime: 5.732899904251099\n"
     ]
    }
   ],
   "source": [
    "weights = {'G0': 1,'G1': 1, 'G2': 1, 'spam': 1}\n",
    "gate_labels = {0: \"Id\", 1: \"Rx(pi/2)\", 2: \"Ry(pi/2)\"}\n",
    "X_opt, E_opt, rho_opt = gauge_opt(X, E, rho, std.target_model(), weights)\n",
    "df_g, df_o, s_g, s_o = report(X_opt, E_opt, rho_opt, J, y, std.target_model(), gate_labels)\n",
    "display(s_g), display(s_o)  \n",
    "\n",
    "X_array, E_array, rho_array, df_g_array, df_o_array = bootstrap_errors(K_t,X_t,E_t,rho, mGST_args, 10, weights, gate_labels, std.target_model(), parametric = False)"
   ]
  },
  {
   "cell_type": "code",
   "execution_count": 65,
   "id": "165b4df8-c641-4433-8d57-62f4e535cd1a",
   "metadata": {},
   "outputs": [
    {
     "name": "stdout",
     "output_type": "stream",
     "text": [
      "[[ 0.82314277 -0.03353503 -0.0305898   0.58932531]\n",
      " [ 0.5910708   0.03353503  0.0305898  -0.58932531]]\n",
      "[[2.23542697e-04 1.66852897e-04 9.72951332e-05 2.19722292e-04]\n",
      " [2.23542697e-04 1.66852897e-04 9.72951332e-05 2.19722292e-04]]\n"
     ]
    }
   ],
   "source": [
    "E_means = np.mean(E_array, axis = 0).real\n",
    "E_stds = np.std(E_array, axis = 0).real\n",
    "print(E_means)\n",
    "print(E_stds)\n",
    "# plt.errorbar(np.arange(4), E_means[0,:], yerr = E_stds[0,:])\n",
    "# plt.show()"
   ]
  },
  {
   "cell_type": "markdown",
   "id": "5515c777-02e6-48ba-80b4-9e10bdeee0c8",
   "metadata": {},
   "source": [
    "### Save data"
   ]
  },
  {
   "cell_type": "code",
   "execution_count": 10,
   "id": "4414b229-834f-4dfa-96e2-44e9343a9c08",
   "metadata": {},
   "outputs": [],
   "source": [
    "###################################### \n",
    "filename = 'results-qubit1-fast'\n",
    "results = {'estimates': (K,X,E,rho), 'gauge_opt_estimates': (X_opt, E_opt, rho_opt),  'bootstrap_data': (X_array, E_array, rho_array, df_g_array, df_o_array)}\n",
    "data_to_safe = {'parameters': mGST_args, 'results': results}\n",
    "\n",
    "with open(filename, 'wb') as handle:\n",
    "    pickle.dump(data_to_safe, handle, protocol=pickle.HIGHEST_PROTOCOL)"
   ]
  },
  {
   "cell_type": "markdown",
   "id": "1eb032e1-ed58-46f9-b32a-aaf6b0df78f4",
   "metadata": {},
   "source": [
    "# Analysis"
   ]
  },
  {
   "cell_type": "markdown",
   "id": "8b424cfe-34a1-46b2-b73c-c4e78f0e7e26",
   "metadata": {},
   "source": [
    "### Rank 1"
   ]
  },
  {
   "cell_type": "code",
   "execution_count": 37,
   "id": "ad247cb2-1b5f-4e42-bdea-11ab5a441ad1",
   "metadata": {},
   "outputs": [
    {
     "data": {
      "text/html": [
       "<style type=\"text/css\">\n",
       "#T_90af9 th.col_heading {\n",
       "  text-align: center;\n",
       "}\n",
       "#T_90af9 th.col_heading.level0 {\n",
       "  font-size: 1em;\n",
       "}\n",
       "#T_90af9 td {\n",
       "  text-align: center;\n",
       "}\n",
       "</style>\n",
       "<table id=\"T_90af9\">\n",
       "  <thead>\n",
       "    <tr>\n",
       "      <th class=\"blank level0\" >&nbsp;</th>\n",
       "      <th id=\"T_90af9_level0_col0\" class=\"col_heading level0 col0\" >F_avg</th>\n",
       "      <th id=\"T_90af9_level0_col1\" class=\"col_heading level0 col1\" >Diamond distances</th>\n",
       "      <th id=\"T_90af9_level0_col2\" class=\"col_heading level0 col2\" >Min. Spectral distances</th>\n",
       "    </tr>\n",
       "  </thead>\n",
       "  <tbody>\n",
       "    <tr>\n",
       "      <th id=\"T_90af9_level0_row0\" class=\"row_heading level0 row0\" >Id</th>\n",
       "      <td id=\"T_90af9_row0_col0\" class=\"data row0 col0\" >0,98421</td>\n",
       "      <td id=\"T_90af9_row0_col1\" class=\"data row0 col1\" >0,08090</td>\n",
       "      <td id=\"T_90af9_row0_col2\" class=\"data row0 col2\" >0,08167</td>\n",
       "    </tr>\n",
       "    <tr>\n",
       "      <th id=\"T_90af9_level0_row1\" class=\"row_heading level0 row1\" >Rx(pi/2)</th>\n",
       "      <td id=\"T_90af9_row1_col0\" class=\"data row1 col0\" >0,98300</td>\n",
       "      <td id=\"T_90af9_row1_col1\" class=\"data row1 col1\" >0,05210</td>\n",
       "      <td id=\"T_90af9_row1_col2\" class=\"data row1 col2\" >0,02648</td>\n",
       "    </tr>\n",
       "    <tr>\n",
       "      <th id=\"T_90af9_level0_row2\" class=\"row_heading level0 row2\" >Ry(pi/2)</th>\n",
       "      <td id=\"T_90af9_row2_col0\" class=\"data row2 col0\" >0,98473</td>\n",
       "      <td id=\"T_90af9_row2_col1\" class=\"data row2 col1\" >0,04806</td>\n",
       "      <td id=\"T_90af9_row2_col2\" class=\"data row2 col2\" >0,02373</td>\n",
       "    </tr>\n",
       "  </tbody>\n",
       "</table>\n"
      ],
      "text/plain": [
       "<pandas.io.formats.style.Styler at 0x7f9ef8041100>"
      ]
     },
     "metadata": {},
     "output_type": "display_data"
    },
    {
     "data": {
      "text/html": [
       "<style type=\"text/css\">\n",
       "#T_13afd th.col_heading {\n",
       "  text-align: center;\n",
       "}\n",
       "#T_13afd th.col_heading.level0 {\n",
       "  font-size: 1em;\n",
       "}\n",
       "#T_13afd td {\n",
       "  text-align: center;\n",
       "}\n",
       "</style>\n",
       "<table id=\"T_13afd\">\n",
       "  <thead>\n",
       "    <tr>\n",
       "      <th class=\"blank level0\" >&nbsp;</th>\n",
       "      <th id=\"T_13afd_level0_col0\" class=\"col_heading level0 col0\" >Final cost function value</th>\n",
       "      <th id=\"T_13afd_level0_col1\" class=\"col_heading level0 col1\" >Mean total variation dist. to data</th>\n",
       "      <th id=\"T_13afd_level0_col2\" class=\"col_heading level0 col2\" >Mean total variation dist. target to data</th>\n",
       "      <th id=\"T_13afd_level0_col3\" class=\"col_heading level0 col3\" >POVM - Choi map trace distance</th>\n",
       "      <th id=\"T_13afd_level0_col4\" class=\"col_heading level0 col4\" >State - Trace distance</th>\n",
       "    </tr>\n",
       "  </thead>\n",
       "  <tbody>\n",
       "    <tr>\n",
       "      <th id=\"T_13afd_level0_row0\" class=\"row_heading level0 row0\" ></th>\n",
       "      <td id=\"T_13afd_row0_col0\" class=\"data row0 col0\" >0.000017</td>\n",
       "      <td id=\"T_13afd_row0_col1\" class=\"data row0 col1\" >0.003257</td>\n",
       "      <td id=\"T_13afd_row0_col2\" class=\"data row0 col2\" >0.121432</td>\n",
       "      <td id=\"T_13afd_row0_col3\" class=\"data row0 col3\" >0.087484</td>\n",
       "      <td id=\"T_13afd_row0_col4\" class=\"data row0 col4\" >0.040904</td>\n",
       "    </tr>\n",
       "  </tbody>\n",
       "</table>\n"
      ],
      "text/plain": [
       "<pandas.io.formats.style.Styler at 0x7f9f2b5c0d30>"
      ]
     },
     "metadata": {},
     "output_type": "display_data"
    }
   ],
   "source": [
    "for i in range(1,2):\n",
    "    filename = \"results-qubit%i-fast\"%i\n",
    "    with open(filename, 'rb') as handle:\n",
    "        b = pickle.load(handle)\n",
    "    mGST_args = b['parameters']\n",
    "    X_array, E_array, rho_array, df_g_array, df_o_array = b['results']['bootstrap_data']\n",
    "    K,X,E,rho = b['results']['estimates']\n",
    "    X_opt, E_opt, rho_opt = b['results']['gauge_opt_estimates']\n",
    "    J = b['parameters']['J']\n",
    "    y = b['parameters']['y']\n",
    "\n",
    "    gate_labels = {0: \"Id\", 1: \"Rx(pi/2)\", 2: \"Ry(pi/2)\"}\n",
    "    df_g, df_o, s_g, s_o = report(X_opt, E_opt, rho_opt, J, y, std.target_model(), gate_labels)\n",
    "    \n",
    "    percentiles_g = np.percentile(np.abs(df_g_array - np.array([df_g.values for _ in range(10)])), [0.9] , axis = 0)\n",
    "    percentiles_o = np.percentile(np.abs(df_o_array - np.array([df_o.values for _ in range(10)])), [0.9] , axis = 0).reshape(-1)\n",
    "\n",
    "    display(s_g), display(s_o)   "
   ]
  },
  {
   "cell_type": "code",
   "execution_count": 40,
   "id": "a5d14e17-7843-4116-a6fb-fa65507cff41",
   "metadata": {},
   "outputs": [],
   "source": [
    "df_g_err = pd.DataFrame({\n",
    "    \"F_avg\": [number_to_str(df_g.values[0,i], percentiles_g[0,0,i]) for i in range(len(gate_labels))],\n",
    "    \"Diamond distances\": [number_to_str(df_g.values[1,i], percentiles_g[0,1,i]) for i in range(len(gate_labels))],\n",
    "    \"Min. Spectral distances\": [number_to_str(df_g.values[2,i], percentiles_g[0,2,i]) for i in range(len(gate_labels))]\n",
    "})\n",
    "df_o_err = pd.DataFrame({\n",
    "    \"Final cost function value\": number_to_str(df_o.values[0,0], percentiles_o[0]),\n",
    "    \"Mean total variation dist. to data\": number_to_str(df_o.values[0,1], percentiles_o[1]),\n",
    "    \"Mean total variation dist. target to data\": number_to_str(df_o.values[0,2], percentiles_o[2]),\n",
    "    \"POVM - Choi map trace distance\": number_to_str(df_o.values[0,3], percentiles_o[3]),\n",
    "    \"State - Trace distance\": number_to_str(df_o.values[0,4], percentiles_o[4]),  \n",
    "}, index = [0])\n",
    "df_g_err.rename(index=gate_labels, inplace = True)\n",
    "df_o_err.rename(index={0: \"\"}, inplace = True)"
   ]
  },
  {
   "cell_type": "code",
   "execution_count": 41,
   "id": "2f48870c-55ee-49a0-befb-4e8f73e50c12",
   "metadata": {},
   "outputs": [
    {
     "data": {
      "text/html": [
       "<div>\n",
       "<style scoped>\n",
       "    .dataframe tbody tr th:only-of-type {\n",
       "        vertical-align: middle;\n",
       "    }\n",
       "\n",
       "    .dataframe tbody tr th {\n",
       "        vertical-align: top;\n",
       "    }\n",
       "\n",
       "    .dataframe thead th {\n",
       "        text-align: right;\n",
       "    }\n",
       "</style>\n",
       "<table border=\"1\" class=\"dataframe\">\n",
       "  <thead>\n",
       "    <tr style=\"text-align: right;\">\n",
       "      <th></th>\n",
       "      <th>F_avg</th>\n",
       "      <th>Diamond distances</th>\n",
       "      <th>Min. Spectral distances</th>\n",
       "    </tr>\n",
       "  </thead>\n",
       "  <tbody>\n",
       "    <tr>\n",
       "      <th>Id</th>\n",
       "      <td>0.98421 ± 0.00002</td>\n",
       "      <td>0.9830 ± 0.0001</td>\n",
       "      <td>0.98473 ± 0.00005</td>\n",
       "    </tr>\n",
       "    <tr>\n",
       "      <th>Rx(pi/2)</th>\n",
       "      <td>0.08090 ± 0.00003</td>\n",
       "      <td>0.0521 ± 0.0001</td>\n",
       "      <td>0.0481 ± 0.0001</td>\n",
       "    </tr>\n",
       "    <tr>\n",
       "      <th>Ry(pi/2)</th>\n",
       "      <td>0.08167 ± 0.00005</td>\n",
       "      <td>0.0265 ± 0.0002</td>\n",
       "      <td>0.02373 ± 0.00006</td>\n",
       "    </tr>\n",
       "  </tbody>\n",
       "</table>\n",
       "</div>"
      ],
      "text/plain": [
       "                      F_avg Diamond distances Min. Spectral distances\n",
       "Id        0.98421 ± 0.00002   0.9830 ± 0.0001       0.98473 ± 0.00005\n",
       "Rx(pi/2)  0.08090 ± 0.00003   0.0521 ± 0.0001         0.0481 ± 0.0001\n",
       "Ry(pi/2)  0.08167 ± 0.00005   0.0265 ± 0.0002       0.02373 ± 0.00006"
      ]
     },
     "metadata": {},
     "output_type": "display_data"
    },
    {
     "data": {
      "text/html": [
       "<div>\n",
       "<style scoped>\n",
       "    .dataframe tbody tr th:only-of-type {\n",
       "        vertical-align: middle;\n",
       "    }\n",
       "\n",
       "    .dataframe tbody tr th {\n",
       "        vertical-align: top;\n",
       "    }\n",
       "\n",
       "    .dataframe thead th {\n",
       "        text-align: right;\n",
       "    }\n",
       "</style>\n",
       "<table border=\"1\" class=\"dataframe\">\n",
       "  <thead>\n",
       "    <tr style=\"text-align: right;\">\n",
       "      <th></th>\n",
       "      <th>Final cost function value</th>\n",
       "      <th>Mean total variation dist. to data</th>\n",
       "      <th>Mean total variation dist. target to data</th>\n",
       "      <th>POVM - Choi map trace distance</th>\n",
       "      <th>State - Trace distance</th>\n",
       "    </tr>\n",
       "  </thead>\n",
       "  <tbody>\n",
       "    <tr>\n",
       "      <th></th>\n",
       "      <td>0.000017211 ± 0.000000004</td>\n",
       "      <td>0.003257 ± 0.000002</td>\n",
       "      <td>0.121 ± 0.000</td>\n",
       "      <td>0.0875 ± 0.0002</td>\n",
       "      <td>0.04090 ± 0.00004</td>\n",
       "    </tr>\n",
       "  </tbody>\n",
       "</table>\n",
       "</div>"
      ],
      "text/plain": [
       "  Final cost function value Mean total variation dist. to data  \\\n",
       "  0.000017211 ± 0.000000004                0.003257 ± 0.000002   \n",
       "\n",
       " Mean total variation dist. target to data POVM - Choi map trace distance  \\\n",
       "                             0.121 ± 0.000                0.0875 ± 0.0002   \n",
       "\n",
       " State - Trace distance  \n",
       "      0.04090 ± 0.00004  "
      ]
     },
     "metadata": {},
     "output_type": "display_data"
    }
   ],
   "source": [
    "display(df_g_err)\n",
    "display(df_o_err)"
   ]
  },
  {
   "cell_type": "markdown",
   "id": "f0f609a6-1bcd-4b78-a67a-7eb3fe66054d",
   "metadata": {},
   "source": [
    "### Rank 4"
   ]
  },
  {
   "cell_type": "code",
   "execution_count": 37,
   "id": "889f36ab-9396-475b-ac46-b06a45a48c0c",
   "metadata": {},
   "outputs": [
    {
     "name": "stdout",
     "output_type": "stream",
     "text": [
      "\n",
      " results-qubit1-fast\n"
     ]
    },
    {
     "data": {
      "text/html": [
       "<style type=\"text/css\">\n",
       "#T_d38df th.col_heading {\n",
       "  text-align: center;\n",
       "}\n",
       "#T_d38df th.col_heading.level0 {\n",
       "  font-size: 1em;\n",
       "}\n",
       "#T_d38df td {\n",
       "  text-align: center;\n",
       "}\n",
       "</style>\n",
       "<table id=\"T_d38df\">\n",
       "  <thead>\n",
       "    <tr>\n",
       "      <th class=\"blank level0\" >&nbsp;</th>\n",
       "      <th id=\"T_d38df_level0_col0\" class=\"col_heading level0 col0\" >F_avg</th>\n",
       "      <th id=\"T_d38df_level0_col1\" class=\"col_heading level0 col1\" >Diamond distances</th>\n",
       "    </tr>\n",
       "  </thead>\n",
       "  <tbody>\n",
       "    <tr>\n",
       "      <th id=\"T_d38df_level0_row0\" class=\"row_heading level0 row0\" >Id</th>\n",
       "      <td id=\"T_d38df_row0_col0\" class=\"data row0 col0\" >0,98384</td>\n",
       "      <td id=\"T_d38df_row0_col1\" class=\"data row0 col1\" >0,08122</td>\n",
       "    </tr>\n",
       "    <tr>\n",
       "      <th id=\"T_d38df_level0_row1\" class=\"row_heading level0 row1\" >Rx(pi/2)</th>\n",
       "      <td id=\"T_d38df_row1_col0\" class=\"data row1 col0\" >0,98337</td>\n",
       "      <td id=\"T_d38df_row1_col1\" class=\"data row1 col1\" >0,05048</td>\n",
       "    </tr>\n",
       "    <tr>\n",
       "      <th id=\"T_d38df_level0_row2\" class=\"row_heading level0 row2\" >Ry(pi/2)</th>\n",
       "      <td id=\"T_d38df_row2_col0\" class=\"data row2 col0\" >0,98468</td>\n",
       "      <td id=\"T_d38df_row2_col1\" class=\"data row2 col1\" >0,04709</td>\n",
       "    </tr>\n",
       "  </tbody>\n",
       "</table>\n"
      ],
      "text/plain": [
       "<pandas.io.formats.style.Styler at 0x7f4140bce100>"
      ]
     },
     "metadata": {},
     "output_type": "display_data"
    },
    {
     "data": {
      "text/html": [
       "<style type=\"text/css\">\n",
       "#T_4df71 th.col_heading {\n",
       "  text-align: center;\n",
       "}\n",
       "#T_4df71 th.col_heading.level0 {\n",
       "  font-size: 1em;\n",
       "}\n",
       "#T_4df71 td {\n",
       "  text-align: center;\n",
       "}\n",
       "</style>\n",
       "<table id=\"T_4df71\">\n",
       "  <thead>\n",
       "    <tr>\n",
       "      <th class=\"blank level0\" >&nbsp;</th>\n",
       "      <th id=\"T_4df71_level0_col0\" class=\"col_heading level0 col0\" >Final cost function value</th>\n",
       "      <th id=\"T_4df71_level0_col1\" class=\"col_heading level0 col1\" >Mean total variation dist. to data</th>\n",
       "      <th id=\"T_4df71_level0_col2\" class=\"col_heading level0 col2\" >Mean total variation dist. target to data</th>\n",
       "      <th id=\"T_4df71_level0_col3\" class=\"col_heading level0 col3\" >POVM - Choi map trace distance</th>\n",
       "      <th id=\"T_4df71_level0_col4\" class=\"col_heading level0 col4\" >State - Trace distance</th>\n",
       "    </tr>\n",
       "  </thead>\n",
       "  <tbody>\n",
       "    <tr>\n",
       "      <th id=\"T_4df71_level0_row0\" class=\"row_heading level0 row0\" ></th>\n",
       "      <td id=\"T_4df71_row0_col0\" class=\"data row0 col0\" >0.000017</td>\n",
       "      <td id=\"T_4df71_row0_col1\" class=\"data row0 col1\" >0.003181</td>\n",
       "      <td id=\"T_4df71_row0_col2\" class=\"data row0 col2\" >0.121432</td>\n",
       "      <td id=\"T_4df71_row0_col3\" class=\"data row0 col3\" >0.088033</td>\n",
       "      <td id=\"T_4df71_row0_col4\" class=\"data row0 col4\" >0.040173</td>\n",
       "    </tr>\n",
       "  </tbody>\n",
       "</table>\n"
      ],
      "text/plain": [
       "<pandas.io.formats.style.Styler at 0x7f4113e14a60>"
      ]
     },
     "metadata": {},
     "output_type": "display_data"
    },
    {
     "name": "stdout",
     "output_type": "stream",
     "text": [
      "\n",
      " results-qubit2-fast\n"
     ]
    },
    {
     "data": {
      "text/html": [
       "<style type=\"text/css\">\n",
       "#T_f3512 th.col_heading {\n",
       "  text-align: center;\n",
       "}\n",
       "#T_f3512 th.col_heading.level0 {\n",
       "  font-size: 1em;\n",
       "}\n",
       "#T_f3512 td {\n",
       "  text-align: center;\n",
       "}\n",
       "</style>\n",
       "<table id=\"T_f3512\">\n",
       "  <thead>\n",
       "    <tr>\n",
       "      <th class=\"blank level0\" >&nbsp;</th>\n",
       "      <th id=\"T_f3512_level0_col0\" class=\"col_heading level0 col0\" >F_avg</th>\n",
       "      <th id=\"T_f3512_level0_col1\" class=\"col_heading level0 col1\" >Diamond distances</th>\n",
       "    </tr>\n",
       "  </thead>\n",
       "  <tbody>\n",
       "    <tr>\n",
       "      <th id=\"T_f3512_level0_row0\" class=\"row_heading level0 row0\" >Id</th>\n",
       "      <td id=\"T_f3512_row0_col0\" class=\"data row0 col0\" >0,98562</td>\n",
       "      <td id=\"T_f3512_row0_col1\" class=\"data row0 col1\" >0,11697</td>\n",
       "    </tr>\n",
       "    <tr>\n",
       "      <th id=\"T_f3512_level0_row1\" class=\"row_heading level0 row1\" >Rx(pi/2)</th>\n",
       "      <td id=\"T_f3512_row1_col0\" class=\"data row1 col0\" >0,99092</td>\n",
       "      <td id=\"T_f3512_row1_col1\" class=\"data row1 col1\" >0,04480</td>\n",
       "    </tr>\n",
       "    <tr>\n",
       "      <th id=\"T_f3512_level0_row2\" class=\"row_heading level0 row2\" >Ry(pi/2)</th>\n",
       "      <td id=\"T_f3512_row2_col0\" class=\"data row2 col0\" >0,99228</td>\n",
       "      <td id=\"T_f3512_row2_col1\" class=\"data row2 col1\" >0,04175</td>\n",
       "    </tr>\n",
       "  </tbody>\n",
       "</table>\n"
      ],
      "text/plain": [
       "<pandas.io.formats.style.Styler at 0x7f414bb812e0>"
      ]
     },
     "metadata": {},
     "output_type": "display_data"
    },
    {
     "data": {
      "text/html": [
       "<style type=\"text/css\">\n",
       "#T_69e75 th.col_heading {\n",
       "  text-align: center;\n",
       "}\n",
       "#T_69e75 th.col_heading.level0 {\n",
       "  font-size: 1em;\n",
       "}\n",
       "#T_69e75 td {\n",
       "  text-align: center;\n",
       "}\n",
       "</style>\n",
       "<table id=\"T_69e75\">\n",
       "  <thead>\n",
       "    <tr>\n",
       "      <th class=\"blank level0\" >&nbsp;</th>\n",
       "      <th id=\"T_69e75_level0_col0\" class=\"col_heading level0 col0\" >Final cost function value</th>\n",
       "      <th id=\"T_69e75_level0_col1\" class=\"col_heading level0 col1\" >Mean total variation dist. to data</th>\n",
       "      <th id=\"T_69e75_level0_col2\" class=\"col_heading level0 col2\" >Mean total variation dist. target to data</th>\n",
       "      <th id=\"T_69e75_level0_col3\" class=\"col_heading level0 col3\" >POVM - Choi map trace distance</th>\n",
       "      <th id=\"T_69e75_level0_col4\" class=\"col_heading level0 col4\" >State - Trace distance</th>\n",
       "    </tr>\n",
       "  </thead>\n",
       "  <tbody>\n",
       "    <tr>\n",
       "      <th id=\"T_69e75_level0_row0\" class=\"row_heading level0 row0\" ></th>\n",
       "      <td id=\"T_69e75_row0_col0\" class=\"data row0 col0\" >0.000018</td>\n",
       "      <td id=\"T_69e75_row0_col1\" class=\"data row0 col1\" >0.003462</td>\n",
       "      <td id=\"T_69e75_row0_col2\" class=\"data row0 col2\" >0.122045</td>\n",
       "      <td id=\"T_69e75_row0_col3\" class=\"data row0 col3\" >0.077274</td>\n",
       "      <td id=\"T_69e75_row0_col4\" class=\"data row0 col4\" >0.074279</td>\n",
       "    </tr>\n",
       "  </tbody>\n",
       "</table>\n"
      ],
      "text/plain": [
       "<pandas.io.formats.style.Styler at 0x7f4113f28850>"
      ]
     },
     "metadata": {},
     "output_type": "display_data"
    },
    {
     "name": "stdout",
     "output_type": "stream",
     "text": [
      "\n",
      " results-qubit3-fast\n"
     ]
    },
    {
     "data": {
      "text/html": [
       "<style type=\"text/css\">\n",
       "#T_1fb3f th.col_heading {\n",
       "  text-align: center;\n",
       "}\n",
       "#T_1fb3f th.col_heading.level0 {\n",
       "  font-size: 1em;\n",
       "}\n",
       "#T_1fb3f td {\n",
       "  text-align: center;\n",
       "}\n",
       "</style>\n",
       "<table id=\"T_1fb3f\">\n",
       "  <thead>\n",
       "    <tr>\n",
       "      <th class=\"blank level0\" >&nbsp;</th>\n",
       "      <th id=\"T_1fb3f_level0_col0\" class=\"col_heading level0 col0\" >F_avg</th>\n",
       "      <th id=\"T_1fb3f_level0_col1\" class=\"col_heading level0 col1\" >Diamond distances</th>\n",
       "    </tr>\n",
       "  </thead>\n",
       "  <tbody>\n",
       "    <tr>\n",
       "      <th id=\"T_1fb3f_level0_row0\" class=\"row_heading level0 row0\" >Id</th>\n",
       "      <td id=\"T_1fb3f_row0_col0\" class=\"data row0 col0\" >0,99145</td>\n",
       "      <td id=\"T_1fb3f_row0_col1\" class=\"data row0 col1\" >0,03491</td>\n",
       "    </tr>\n",
       "    <tr>\n",
       "      <th id=\"T_1fb3f_level0_row1\" class=\"row_heading level0 row1\" >Rx(pi/2)</th>\n",
       "      <td id=\"T_1fb3f_row1_col0\" class=\"data row1 col0\" >0,99247</td>\n",
       "      <td id=\"T_1fb3f_row1_col1\" class=\"data row1 col1\" >0,02693</td>\n",
       "    </tr>\n",
       "    <tr>\n",
       "      <th id=\"T_1fb3f_level0_row2\" class=\"row_heading level0 row2\" >Ry(pi/2)</th>\n",
       "      <td id=\"T_1fb3f_row2_col0\" class=\"data row2 col0\" >0,99233</td>\n",
       "      <td id=\"T_1fb3f_row2_col1\" class=\"data row2 col1\" >0,02613</td>\n",
       "    </tr>\n",
       "  </tbody>\n",
       "</table>\n"
      ],
      "text/plain": [
       "<pandas.io.formats.style.Styler at 0x7f4113e342e0>"
      ]
     },
     "metadata": {},
     "output_type": "display_data"
    },
    {
     "data": {
      "text/html": [
       "<style type=\"text/css\">\n",
       "#T_0be28 th.col_heading {\n",
       "  text-align: center;\n",
       "}\n",
       "#T_0be28 th.col_heading.level0 {\n",
       "  font-size: 1em;\n",
       "}\n",
       "#T_0be28 td {\n",
       "  text-align: center;\n",
       "}\n",
       "</style>\n",
       "<table id=\"T_0be28\">\n",
       "  <thead>\n",
       "    <tr>\n",
       "      <th class=\"blank level0\" >&nbsp;</th>\n",
       "      <th id=\"T_0be28_level0_col0\" class=\"col_heading level0 col0\" >Final cost function value</th>\n",
       "      <th id=\"T_0be28_level0_col1\" class=\"col_heading level0 col1\" >Mean total variation dist. to data</th>\n",
       "      <th id=\"T_0be28_level0_col2\" class=\"col_heading level0 col2\" >Mean total variation dist. target to data</th>\n",
       "      <th id=\"T_0be28_level0_col3\" class=\"col_heading level0 col3\" >POVM - Choi map trace distance</th>\n",
       "      <th id=\"T_0be28_level0_col4\" class=\"col_heading level0 col4\" >State - Trace distance</th>\n",
       "    </tr>\n",
       "  </thead>\n",
       "  <tbody>\n",
       "    <tr>\n",
       "      <th id=\"T_0be28_level0_row0\" class=\"row_heading level0 row0\" ></th>\n",
       "      <td id=\"T_0be28_row0_col0\" class=\"data row0 col0\" >0.000017</td>\n",
       "      <td id=\"T_0be28_row0_col1\" class=\"data row0 col1\" >0.003252</td>\n",
       "      <td id=\"T_0be28_row0_col2\" class=\"data row0 col2\" >0.053052</td>\n",
       "      <td id=\"T_0be28_row0_col3\" class=\"data row0 col3\" >0.036470</td>\n",
       "      <td id=\"T_0be28_row0_col4\" class=\"data row0 col4\" >0.018129</td>\n",
       "    </tr>\n",
       "  </tbody>\n",
       "</table>\n"
      ],
      "text/plain": [
       "<pandas.io.formats.style.Styler at 0x7f41ac106520>"
      ]
     },
     "metadata": {},
     "output_type": "display_data"
    }
   ],
   "source": [
    "for i in range(1,4):\n",
    "    filename = \"results-qubit%i-fast\"%i\n",
    "    with open(filename, 'rb') as handle:\n",
    "        b = pickle.load(handle)\n",
    "    results = b['results']\n",
    "\n",
    "    # Performance metrics rank 4\n",
    "    print(\"\\n\", filename)\n",
    "    K,X,E,rho = results[1][:]\n",
    "    J = b['parameters']['J']\n",
    "    y = b['parameters']['y']\n",
    "    \n",
    "    weights = {'G0': 1,'G1': 1, 'G2': 1, 'spam': 1}\n",
    "    gate_labels = {0: \"Id\", 1: \"Rx(pi/2)\", 2: \"Ry(pi/2)\"}\n",
    "    X_opt, E_opt, rho_opt = gauge_opt(X, E, rho, std.target_model(), weights)\n",
    "    df_g, df_o, s_g, s_o = report(X_opt, E_opt, rho_opt, J, y, std.target_model(), gate_labels)\n",
    "    display(s_g), display(s_o)   "
   ]
  },
  {
   "cell_type": "markdown",
   "id": "c1d99e8c-6edb-45a7-b50e-f861b569abb2",
   "metadata": {},
   "source": [
    "### Gate plots"
   ]
  },
  {
   "cell_type": "code",
   "execution_count": 41,
   "id": "40ccb764-e8f1-4037-8063-b1f1e771e345",
   "metadata": {},
   "outputs": [
    {
     "name": "stdout",
     "output_type": "stream",
     "text": [
      "\n",
      " results-qubit1-fast\n"
     ]
    },
    {
     "data": {
      "image/png": "[encoded data removed]",
      "text/plain": [
       "<Figure size 383.716x157.091 with 3 Axes>"
      ]
     },
     "metadata": {},
     "output_type": "display_data"
    },
    {
     "data": {
      "image/png": "[encoded data removed]",
      "text/plain": [
       "<Figure size 371.613x286.093 with 4 Axes>"
      ]
     },
     "metadata": {},
     "output_type": "display_data"
    }
   ],
   "source": [
    "filename = \"results-qubit1-fast\"\n",
    "with open(filename, 'rb') as handle:\n",
    "    b = pickle.load(handle)\n",
    "results = b['results']\n",
    "\n",
    "# Performance metrics rank 1\n",
    "print(\"\\n\", filename)\n",
    "K,X,E,rho = results[0][:]\n",
    "J = b['parameters']['J']\n",
    "y = b['parameters']['y']\n",
    "\n",
    "weights = {'G0': 1,'G1': 1, 'G2': 1, 'spam': 1}\n",
    "gate_labels = {0: \"Id\", 1: \"Rx(pi/2)\", 2: \"Ry(pi/2)\"}\n",
    "X_opt, E_opt, rho_opt = gauge_opt(X, E, rho, std.target_model(), weights)\n",
    "\n",
    "plot_mat(X_opt[0], X_t[0])\n",
    "plot_spam(rho_opt, E_opt)"
   ]
  },
  {
   "cell_type": "code",
   "execution_count": null,
   "id": "afb5d82a-3a7f-4c55-801f-f105faf302aa",
   "metadata": {},
   "outputs": [],
   "source": []
  }
 ],
 "metadata": {
  "kernelspec": {
   "display_name": "Python 3",
   "language": "python",
   "name": "python3"
  },
  "language_info": {
   "codemirror_mode": {
    "name": "ipython",
    "version": 3
   },
   "file_extension": ".py",
   "mimetype": "text/x-python",
   "name": "python",
   "nbconvert_exporter": "python",
   "pygments_lexer": "ipython3",
   "version": "3.8.10"
  }
 },
 "nbformat": 4,
 "nbformat_minor": 5
}
