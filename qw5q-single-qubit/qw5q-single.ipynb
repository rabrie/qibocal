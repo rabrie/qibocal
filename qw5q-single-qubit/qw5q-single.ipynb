{
 "cells": [
  {
   "cell_type": "markdown",
   "id": "19498ba6-106b-4ef2-b798-ca7d0a6fce8a",
   "metadata": {
    "tags": []
   },
   "source": [
    "# Single qubit GST on the 5 qubit chip (Data from 3.5.2023)"
   ]
  },
  {
   "cell_type": "code",
   "execution_count": 1,
   "id": "2fad699e-1bfe-4b66-9a11-1a9f9697f627",
   "metadata": {},
   "outputs": [],
   "source": [
    "# Note: I removed the mGST folders from within the qibocal fork, such that it is installed and updated seperately\n",
    "from mGST import compatibility,algorithm, optimization, low_level_jit, additional_fns"
   ]
  },
  {
   "cell_type": "code",
   "execution_count": 48,
   "id": "6e58b942-2370-4d00-a8f0-88704b080a55",
   "metadata": {},
   "outputs": [],
   "source": [
    "import pickle as pickle\n",
    "from pygsti.report import reportables as rptbl #Needs cvxpy!\n",
    "from pygsti.modelpacks import smq1Q_XYI as std\n",
    "import pygsti\n",
    "from argparse import Namespace\n",
    "import numpy as np\n",
    "import pandas as pd\n",
    "import numpy.linalg as la\n",
    "import json\n",
    "import matplotlib.pyplot as plt\n",
    "\n",
    "%run ../src/mGST/reporting.py"
   ]
  },
  {
   "cell_type": "markdown",
   "id": "8aa5d0c5-5f45-41ba-9309-b5055901f76d",
   "metadata": {},
   "source": [
    "### Setting the parameters"
   ]
  },
  {
   "cell_type": "code",
   "execution_count": 3,
   "id": "bc5a4c05-f8c4-46cd-ad54-4fc6a2544e66",
   "metadata": {},
   "outputs": [],
   "source": [
    "pdim = 2   # physical dimension\n",
    "r = pdim**2   # rank of the gate superoperators \n",
    "\n",
    "l = 7  # maximum number of gates in each measurement sequence\n",
    "d = 3  # number of gates\n",
    "rK = 1   # rank of the model estimate\n",
    "n_povm = 2   # number of POVM-elements\n",
    "\n",
    "meas_samples = 1e4"
   ]
  },
  {
   "cell_type": "markdown",
   "id": "a9d466a3-c184-4647-a735-3882ed478720",
   "metadata": {},
   "source": [
    "### Loading data"
   ]
  },
  {
   "cell_type": "code",
   "execution_count": 32,
   "id": "d4029d3f-3387-47eb-ad47-654e09c4a8e1",
   "metadata": {},
   "outputs": [
    {
     "name": "stdout",
     "output_type": "stream",
     "text": [
      "dict_keys(['platform', 'qubit', 'depth', 'nsequences', 'nshots', 'execution_times', 'sequences', 'hardware_probabilities'])\n"
     ]
    }
   ],
   "source": [
    "with open('data/qw5q-qubit1-slow.json') as f:\n",
    "    data = json.load(f)\n",
    "print(data.keys())\n",
    "J = np.array(data['sequences'])\n",
    "y = np.array(data['hardware_probabilities']).T"
   ]
  },
  {
   "cell_type": "markdown",
   "id": "35724025-9e20-4876-aaf1-895a7c644f92",
   "metadata": {},
   "source": [
    "### GST"
   ]
  },
  {
   "cell_type": "code",
   "execution_count": null,
   "id": "117a49d5-ad10-4e3e-b788-dc0770f36081",
   "metadata": {
    "tags": []
   },
   "outputs": [],
   "source": [
    "bsize = 50   # The batch size on which the optimization is started\n",
    "\n",
    "results = []\n",
    "for rK in [1,4]: \n",
    "    X_t,E_t,rho_t = compatibility.pygsti_model_to_arrays(std.target_model(),basis = 'std') #The idle-X(pi/w)-Y(pi/2) model \n",
    "    K_t = additional_fns.Kraus_rep(X_t,d,pdim,rK)\n",
    "    X_t = np.einsum('ijkl,ijnm -> iknlm', K_t, K_t.conj()).reshape(d,r,r)  \n",
    "    K,X,E,rho,res_list = algorithm.run_mGST(y,J,l,d,r,rK, n_povm, bsize, meas_samples, method = 'SFN',\n",
    "                         max_inits = 20, max_iter = 50, final_iter = 80, threshold_multiplyer = 100, \n",
    "                         target_rel_prec = 1e-4, testing = True)   \n",
    "    results.append([K,X,E,rho])"
   ]
  },
  {
   "cell_type": "markdown",
   "id": "5515c777-02e6-48ba-80b4-9e10bdeee0c8",
   "metadata": {},
   "source": [
    "### Save data"
   ]
  },
  {
   "cell_type": "code",
   "execution_count": 34,
   "id": "4414b229-834f-4dfa-96e2-44e9343a9c08",
   "metadata": {},
   "outputs": [],
   "source": [
    "# ###################################### \n",
    "# filename = 'results-qubit1-slow'\n",
    "# parameters = {'sequence length':l,'gate count':d,'Kraus ranks':[1,4],'phys. dimension':int(np.sqrt(r)), 'Sequence count': len(J), \n",
    "#               'J':J,'y':y,'threshold_multiplyer': 30, \n",
    "#                      'target_rel_prec':1e-4}\n",
    "# data_to_safe = {'parameters':parameters, 'results':results}\n",
    "\n",
    "# with open(filename, 'wb') as handle:\n",
    "#     pickle.dump(data_to_safe, handle, protocol=pickle.HIGHEST_PROTOCOL)"
   ]
  },
  {
   "cell_type": "markdown",
   "id": "1eb032e1-ed58-46f9-b32a-aaf6b0df78f4",
   "metadata": {},
   "source": [
    "# Analysis"
   ]
  },
  {
   "cell_type": "markdown",
   "id": "8b424cfe-34a1-46b2-b73c-c4e78f0e7e26",
   "metadata": {},
   "source": [
    "### Rank 1"
   ]
  },
  {
   "cell_type": "code",
   "execution_count": 62,
   "id": "ad247cb2-1b5f-4e42-bdea-11ab5a441ad1",
   "metadata": {},
   "outputs": [
    {
     "name": "stdout",
     "output_type": "stream",
     "text": [
      "\n",
      " results-qubit1-slow\n"
     ]
    },
    {
     "data": {
      "text/html": [
       "<style type=\"text/css\">\n",
       "#T_1451a th.col_heading {\n",
       "  text-align: center;\n",
       "}\n",
       "#T_1451a th.col_heading.level0 {\n",
       "  font-size: 1em;\n",
       "}\n",
       "#T_1451a td {\n",
       "  text-align: center;\n",
       "}\n",
       "</style>\n",
       "<table id=\"T_1451a\">\n",
       "  <thead>\n",
       "    <tr>\n",
       "      <th class=\"blank level0\" >&nbsp;</th>\n",
       "      <th id=\"T_1451a_level0_col0\" class=\"col_heading level0 col0\" >F_avg</th>\n",
       "      <th id=\"T_1451a_level0_col1\" class=\"col_heading level0 col1\" >Diamond distances</th>\n",
       "    </tr>\n",
       "  </thead>\n",
       "  <tbody>\n",
       "    <tr>\n",
       "      <th id=\"T_1451a_level0_row0\" class=\"row_heading level0 row0\" >Id</th>\n",
       "      <td id=\"T_1451a_row0_col0\" class=\"data row0 col0\" >0,99676</td>\n",
       "      <td id=\"T_1451a_row0_col1\" class=\"data row0 col1\" >0,06976</td>\n",
       "    </tr>\n",
       "    <tr>\n",
       "      <th id=\"T_1451a_level0_row1\" class=\"row_heading level0 row1\" >Rx(pi/2)</th>\n",
       "      <td id=\"T_1451a_row1_col0\" class=\"data row1 col0\" >0,99986</td>\n",
       "      <td id=\"T_1451a_row1_col1\" class=\"data row1 col1\" >0,01443</td>\n",
       "    </tr>\n",
       "    <tr>\n",
       "      <th id=\"T_1451a_level0_row2\" class=\"row_heading level0 row2\" >Ry(pi/2)</th>\n",
       "      <td id=\"T_1451a_row2_col0\" class=\"data row2 col0\" >0,99991</td>\n",
       "      <td id=\"T_1451a_row2_col1\" class=\"data row2 col1\" >0,01184</td>\n",
       "    </tr>\n",
       "  </tbody>\n",
       "</table>\n"
      ],
      "text/plain": [
       "<pandas.io.formats.style.Styler at 0x7f5a39bcb490>"
      ]
     },
     "metadata": {},
     "output_type": "display_data"
    },
    {
     "data": {
      "text/html": [
       "<style type=\"text/css\">\n",
       "#T_f0cfe th.col_heading {\n",
       "  text-align: center;\n",
       "}\n",
       "#T_f0cfe th.col_heading.level0 {\n",
       "  font-size: 1em;\n",
       "}\n",
       "#T_f0cfe td {\n",
       "  text-align: center;\n",
       "}\n",
       "</style>\n",
       "<table id=\"T_f0cfe\">\n",
       "  <thead>\n",
       "    <tr>\n",
       "      <th class=\"blank level0\" >&nbsp;</th>\n",
       "      <th id=\"T_f0cfe_level0_col0\" class=\"col_heading level0 col0\" >Final cost function value</th>\n",
       "      <th id=\"T_f0cfe_level0_col1\" class=\"col_heading level0 col1\" >Mean total variation dist. to data</th>\n",
       "      <th id=\"T_f0cfe_level0_col2\" class=\"col_heading level0 col2\" >Mean total variation dist. target to data</th>\n",
       "      <th id=\"T_f0cfe_level0_col3\" class=\"col_heading level0 col3\" >POVM - Choi map trace distance</th>\n",
       "      <th id=\"T_f0cfe_level0_col4\" class=\"col_heading level0 col4\" >State - Trace distance</th>\n",
       "    </tr>\n",
       "  </thead>\n",
       "  <tbody>\n",
       "    <tr>\n",
       "      <th id=\"T_f0cfe_level0_row0\" class=\"row_heading level0 row0\" ></th>\n",
       "      <td id=\"T_f0cfe_row0_col0\" class=\"data row0 col0\" >0.000116</td>\n",
       "      <td id=\"T_f0cfe_row0_col1\" class=\"data row0 col1\" >0.008653</td>\n",
       "      <td id=\"T_f0cfe_row0_col2\" class=\"data row0 col2\" >0.127257</td>\n",
       "      <td id=\"T_f0cfe_row0_col3\" class=\"data row0 col3\" >0.180404</td>\n",
       "      <td id=\"T_f0cfe_row0_col4\" class=\"data row0 col4\" >0.043010</td>\n",
       "    </tr>\n",
       "  </tbody>\n",
       "</table>\n"
      ],
      "text/plain": [
       "<pandas.io.formats.style.Styler at 0x7f5a08199520>"
      ]
     },
     "metadata": {},
     "output_type": "display_data"
    },
    {
     "name": "stdout",
     "output_type": "stream",
     "text": [
      "\n",
      " results-qubit2-slow\n"
     ]
    },
    {
     "data": {
      "text/html": [
       "<style type=\"text/css\">\n",
       "#T_073a8 th.col_heading {\n",
       "  text-align: center;\n",
       "}\n",
       "#T_073a8 th.col_heading.level0 {\n",
       "  font-size: 1em;\n",
       "}\n",
       "#T_073a8 td {\n",
       "  text-align: center;\n",
       "}\n",
       "</style>\n",
       "<table id=\"T_073a8\">\n",
       "  <thead>\n",
       "    <tr>\n",
       "      <th class=\"blank level0\" >&nbsp;</th>\n",
       "      <th id=\"T_073a8_level0_col0\" class=\"col_heading level0 col0\" >F_avg</th>\n",
       "      <th id=\"T_073a8_level0_col1\" class=\"col_heading level0 col1\" >Diamond distances</th>\n",
       "    </tr>\n",
       "  </thead>\n",
       "  <tbody>\n",
       "    <tr>\n",
       "      <th id=\"T_073a8_level0_row0\" class=\"row_heading level0 row0\" >Id</th>\n",
       "      <td id=\"T_073a8_row0_col0\" class=\"data row0 col0\" >0,99264</td>\n",
       "      <td id=\"T_073a8_row0_col1\" class=\"data row0 col1\" >0,10506</td>\n",
       "    </tr>\n",
       "    <tr>\n",
       "      <th id=\"T_073a8_level0_row1\" class=\"row_heading level0 row1\" >Rx(pi/2)</th>\n",
       "      <td id=\"T_073a8_row1_col0\" class=\"data row1 col0\" >0,99946</td>\n",
       "      <td id=\"T_073a8_row1_col1\" class=\"data row1 col1\" >0,02851</td>\n",
       "    </tr>\n",
       "    <tr>\n",
       "      <th id=\"T_073a8_level0_row2\" class=\"row_heading level0 row2\" >Ry(pi/2)</th>\n",
       "      <td id=\"T_073a8_row2_col0\" class=\"data row2 col0\" >0,99951</td>\n",
       "      <td id=\"T_073a8_row2_col1\" class=\"data row2 col1\" >0,02713</td>\n",
       "    </tr>\n",
       "  </tbody>\n",
       "</table>\n"
      ],
      "text/plain": [
       "<pandas.io.formats.style.Styler at 0x7f5a0816cf70>"
      ]
     },
     "metadata": {},
     "output_type": "display_data"
    },
    {
     "data": {
      "text/html": [
       "<style type=\"text/css\">\n",
       "#T_5e1ef th.col_heading {\n",
       "  text-align: center;\n",
       "}\n",
       "#T_5e1ef th.col_heading.level0 {\n",
       "  font-size: 1em;\n",
       "}\n",
       "#T_5e1ef td {\n",
       "  text-align: center;\n",
       "}\n",
       "</style>\n",
       "<table id=\"T_5e1ef\">\n",
       "  <thead>\n",
       "    <tr>\n",
       "      <th class=\"blank level0\" >&nbsp;</th>\n",
       "      <th id=\"T_5e1ef_level0_col0\" class=\"col_heading level0 col0\" >Final cost function value</th>\n",
       "      <th id=\"T_5e1ef_level0_col1\" class=\"col_heading level0 col1\" >Mean total variation dist. to data</th>\n",
       "      <th id=\"T_5e1ef_level0_col2\" class=\"col_heading level0 col2\" >Mean total variation dist. target to data</th>\n",
       "      <th id=\"T_5e1ef_level0_col3\" class=\"col_heading level0 col3\" >POVM - Choi map trace distance</th>\n",
       "      <th id=\"T_5e1ef_level0_col4\" class=\"col_heading level0 col4\" >State - Trace distance</th>\n",
       "    </tr>\n",
       "  </thead>\n",
       "  <tbody>\n",
       "    <tr>\n",
       "      <th id=\"T_5e1ef_level0_row0\" class=\"row_heading level0 row0\" ></th>\n",
       "      <td id=\"T_5e1ef_row0_col0\" class=\"data row0 col0\" >0.004442</td>\n",
       "      <td id=\"T_5e1ef_row0_col1\" class=\"data row0 col1\" >0.055895</td>\n",
       "      <td id=\"T_5e1ef_row0_col2\" class=\"data row0 col2\" >0.127257</td>\n",
       "      <td id=\"T_5e1ef_row0_col3\" class=\"data row0 col3\" >0.117284</td>\n",
       "      <td id=\"T_5e1ef_row0_col4\" class=\"data row0 col4\" >0.067309</td>\n",
       "    </tr>\n",
       "  </tbody>\n",
       "</table>\n"
      ],
      "text/plain": [
       "<pandas.io.formats.style.Styler at 0x7f5a0811baf0>"
      ]
     },
     "metadata": {},
     "output_type": "display_data"
    },
    {
     "name": "stdout",
     "output_type": "stream",
     "text": [
      "\n",
      " results-qubit3-slow\n"
     ]
    },
    {
     "data": {
      "text/html": [
       "<style type=\"text/css\">\n",
       "#T_ee9d2 th.col_heading {\n",
       "  text-align: center;\n",
       "}\n",
       "#T_ee9d2 th.col_heading.level0 {\n",
       "  font-size: 1em;\n",
       "}\n",
       "#T_ee9d2 td {\n",
       "  text-align: center;\n",
       "}\n",
       "</style>\n",
       "<table id=\"T_ee9d2\">\n",
       "  <thead>\n",
       "    <tr>\n",
       "      <th class=\"blank level0\" >&nbsp;</th>\n",
       "      <th id=\"T_ee9d2_level0_col0\" class=\"col_heading level0 col0\" >F_avg</th>\n",
       "      <th id=\"T_ee9d2_level0_col1\" class=\"col_heading level0 col1\" >Diamond distances</th>\n",
       "    </tr>\n",
       "  </thead>\n",
       "  <tbody>\n",
       "    <tr>\n",
       "      <th id=\"T_ee9d2_level0_row0\" class=\"row_heading level0 row0\" >Id</th>\n",
       "      <td id=\"T_ee9d2_row0_col0\" class=\"data row0 col0\" >0,99937</td>\n",
       "      <td id=\"T_ee9d2_row0_col1\" class=\"data row0 col1\" >0,03069</td>\n",
       "    </tr>\n",
       "    <tr>\n",
       "      <th id=\"T_ee9d2_level0_row1\" class=\"row_heading level0 row1\" >Rx(pi/2)</th>\n",
       "      <td id=\"T_ee9d2_row1_col0\" class=\"data row1 col0\" >0,99990</td>\n",
       "      <td id=\"T_ee9d2_row1_col1\" class=\"data row1 col1\" >0,01252</td>\n",
       "    </tr>\n",
       "    <tr>\n",
       "      <th id=\"T_ee9d2_level0_row2\" class=\"row_heading level0 row2\" >Ry(pi/2)</th>\n",
       "      <td id=\"T_ee9d2_row2_col0\" class=\"data row2 col0\" >0,99979</td>\n",
       "      <td id=\"T_ee9d2_row2_col1\" class=\"data row2 col1\" >0,01785</td>\n",
       "    </tr>\n",
       "  </tbody>\n",
       "</table>\n"
      ],
      "text/plain": [
       "<pandas.io.formats.style.Styler at 0x7f5a08141fd0>"
      ]
     },
     "metadata": {},
     "output_type": "display_data"
    },
    {
     "data": {
      "text/html": [
       "<style type=\"text/css\">\n",
       "#T_ffd91 th.col_heading {\n",
       "  text-align: center;\n",
       "}\n",
       "#T_ffd91 th.col_heading.level0 {\n",
       "  font-size: 1em;\n",
       "}\n",
       "#T_ffd91 td {\n",
       "  text-align: center;\n",
       "}\n",
       "</style>\n",
       "<table id=\"T_ffd91\">\n",
       "  <thead>\n",
       "    <tr>\n",
       "      <th class=\"blank level0\" >&nbsp;</th>\n",
       "      <th id=\"T_ffd91_level0_col0\" class=\"col_heading level0 col0\" >Final cost function value</th>\n",
       "      <th id=\"T_ffd91_level0_col1\" class=\"col_heading level0 col1\" >Mean total variation dist. to data</th>\n",
       "      <th id=\"T_ffd91_level0_col2\" class=\"col_heading level0 col2\" >Mean total variation dist. target to data</th>\n",
       "      <th id=\"T_ffd91_level0_col3\" class=\"col_heading level0 col3\" >POVM - Choi map trace distance</th>\n",
       "      <th id=\"T_ffd91_level0_col4\" class=\"col_heading level0 col4\" >State - Trace distance</th>\n",
       "    </tr>\n",
       "  </thead>\n",
       "  <tbody>\n",
       "    <tr>\n",
       "      <th id=\"T_ffd91_level0_row0\" class=\"row_heading level0 row0\" ></th>\n",
       "      <td id=\"T_ffd91_row0_col0\" class=\"data row0 col0\" >0.016072</td>\n",
       "      <td id=\"T_ffd91_row0_col1\" class=\"data row0 col1\" >0.103690</td>\n",
       "      <td id=\"T_ffd91_row0_col2\" class=\"data row0 col2\" >0.127257</td>\n",
       "      <td id=\"T_ffd91_row0_col3\" class=\"data row0 col3\" >0.909522</td>\n",
       "      <td id=\"T_ffd91_row0_col4\" class=\"data row0 col4\" >1.041853</td>\n",
       "    </tr>\n",
       "  </tbody>\n",
       "</table>\n"
      ],
      "text/plain": [
       "<pandas.io.formats.style.Styler at 0x7f5a082f6190>"
      ]
     },
     "metadata": {},
     "output_type": "display_data"
    }
   ],
   "source": [
    "for i in range(1,4):\n",
    "    filename = \"results-qubit%i-slow\"%i\n",
    "    with open(filename, 'rb') as handle:\n",
    "        b = pickle.load(handle)\n",
    "    results = b['results']\n",
    "\n",
    "    # Performance metrics rank 1\n",
    "    print(\"\\n\", filename)\n",
    "    K,X,E,rho = results[0][:]\n",
    "    weights = {'G0': 1,'G1': 1, 'G2': 1, 'spam': 1}\n",
    "    gate_labels = {0: \"Id\", 1: \"Rx(pi/2)\", 2: \"Ry(pi/2)\"}\n",
    "    df_g, df_o, s_g, s_o, gauge_optimized_mdl = gauge_opt_report(\n",
    "        X, E, rho, J, y, std.target_model(), weights, gate_labels)\n",
    "    display(s_g), display(s_o)"
   ]
  },
  {
   "cell_type": "markdown",
   "id": "f0f609a6-1bcd-4b78-a67a-7eb3fe66054d",
   "metadata": {},
   "source": [
    "### Rank 4"
   ]
  },
  {
   "cell_type": "code",
   "execution_count": 63,
   "id": "889f36ab-9396-475b-ac46-b06a45a48c0c",
   "metadata": {},
   "outputs": [
    {
     "name": "stdout",
     "output_type": "stream",
     "text": [
      "\n",
      " results-qubit1-slow\n"
     ]
    },
    {
     "data": {
      "text/html": [
       "<style type=\"text/css\">\n",
       "#T_d94ea th.col_heading {\n",
       "  text-align: center;\n",
       "}\n",
       "#T_d94ea th.col_heading.level0 {\n",
       "  font-size: 1em;\n",
       "}\n",
       "#T_d94ea td {\n",
       "  text-align: center;\n",
       "}\n",
       "</style>\n",
       "<table id=\"T_d94ea\">\n",
       "  <thead>\n",
       "    <tr>\n",
       "      <th class=\"blank level0\" >&nbsp;</th>\n",
       "      <th id=\"T_d94ea_level0_col0\" class=\"col_heading level0 col0\" >F_avg</th>\n",
       "      <th id=\"T_d94ea_level0_col1\" class=\"col_heading level0 col1\" >Diamond distances</th>\n",
       "    </tr>\n",
       "  </thead>\n",
       "  <tbody>\n",
       "    <tr>\n",
       "      <th id=\"T_d94ea_level0_row0\" class=\"row_heading level0 row0\" >Id</th>\n",
       "      <td id=\"T_d94ea_row0_col0\" class=\"data row0 col0\" >0,98244</td>\n",
       "      <td id=\"T_d94ea_row0_col1\" class=\"data row0 col1\" >0,08036</td>\n",
       "    </tr>\n",
       "    <tr>\n",
       "      <th id=\"T_d94ea_level0_row1\" class=\"row_heading level0 row1\" >Rx(pi/2)</th>\n",
       "      <td id=\"T_d94ea_row1_col0\" class=\"data row1 col0\" >0,33955</td>\n",
       "      <td id=\"T_d94ea_row1_col1\" class=\"data row1 col1\" >0,99997</td>\n",
       "    </tr>\n",
       "    <tr>\n",
       "      <th id=\"T_d94ea_level0_row2\" class=\"row_heading level0 row2\" >Ry(pi/2)</th>\n",
       "      <td id=\"T_d94ea_row2_col0\" class=\"data row2 col0\" >0,98050</td>\n",
       "      <td id=\"T_d94ea_row2_col1\" class=\"data row2 col1\" >0,04737</td>\n",
       "    </tr>\n",
       "  </tbody>\n",
       "</table>\n"
      ],
      "text/plain": [
       "<pandas.io.formats.style.Styler at 0x7f5a39e8e760>"
      ]
     },
     "metadata": {},
     "output_type": "display_data"
    },
    {
     "data": {
      "text/html": [
       "<style type=\"text/css\">\n",
       "#T_90201 th.col_heading {\n",
       "  text-align: center;\n",
       "}\n",
       "#T_90201 th.col_heading.level0 {\n",
       "  font-size: 1em;\n",
       "}\n",
       "#T_90201 td {\n",
       "  text-align: center;\n",
       "}\n",
       "</style>\n",
       "<table id=\"T_90201\">\n",
       "  <thead>\n",
       "    <tr>\n",
       "      <th class=\"blank level0\" >&nbsp;</th>\n",
       "      <th id=\"T_90201_level0_col0\" class=\"col_heading level0 col0\" >Final cost function value</th>\n",
       "      <th id=\"T_90201_level0_col1\" class=\"col_heading level0 col1\" >Mean total variation dist. to data</th>\n",
       "      <th id=\"T_90201_level0_col2\" class=\"col_heading level0 col2\" >Mean total variation dist. target to data</th>\n",
       "      <th id=\"T_90201_level0_col3\" class=\"col_heading level0 col3\" >POVM - Choi map trace distance</th>\n",
       "      <th id=\"T_90201_level0_col4\" class=\"col_heading level0 col4\" >State - Trace distance</th>\n",
       "    </tr>\n",
       "  </thead>\n",
       "  <tbody>\n",
       "    <tr>\n",
       "      <th id=\"T_90201_level0_row0\" class=\"row_heading level0 row0\" ></th>\n",
       "      <td id=\"T_90201_row0_col0\" class=\"data row0 col0\" >0.000083</td>\n",
       "      <td id=\"T_90201_row0_col1\" class=\"data row0 col1\" >0.006859</td>\n",
       "      <td id=\"T_90201_row0_col2\" class=\"data row0 col2\" >0.127257</td>\n",
       "      <td id=\"T_90201_row0_col3\" class=\"data row0 col3\" >0.084479</td>\n",
       "      <td id=\"T_90201_row0_col4\" class=\"data row0 col4\" >0.020444</td>\n",
       "    </tr>\n",
       "  </tbody>\n",
       "</table>\n"
      ],
      "text/plain": [
       "<pandas.io.formats.style.Styler at 0x7f5a007e6640>"
      ]
     },
     "metadata": {},
     "output_type": "display_data"
    },
    {
     "name": "stdout",
     "output_type": "stream",
     "text": [
      "\n",
      " results-qubit2-slow\n"
     ]
    },
    {
     "data": {
      "text/html": [
       "<style type=\"text/css\">\n",
       "#T_1e259 th.col_heading {\n",
       "  text-align: center;\n",
       "}\n",
       "#T_1e259 th.col_heading.level0 {\n",
       "  font-size: 1em;\n",
       "}\n",
       "#T_1e259 td {\n",
       "  text-align: center;\n",
       "}\n",
       "</style>\n",
       "<table id=\"T_1e259\">\n",
       "  <thead>\n",
       "    <tr>\n",
       "      <th class=\"blank level0\" >&nbsp;</th>\n",
       "      <th id=\"T_1e259_level0_col0\" class=\"col_heading level0 col0\" >F_avg</th>\n",
       "      <th id=\"T_1e259_level0_col1\" class=\"col_heading level0 col1\" >Diamond distances</th>\n",
       "    </tr>\n",
       "  </thead>\n",
       "  <tbody>\n",
       "    <tr>\n",
       "      <th id=\"T_1e259_level0_row0\" class=\"row_heading level0 row0\" >Id</th>\n",
       "      <td id=\"T_1e259_row0_col0\" class=\"data row0 col0\" >0,98582</td>\n",
       "      <td id=\"T_1e259_row0_col1\" class=\"data row0 col1\" >0,11144</td>\n",
       "    </tr>\n",
       "    <tr>\n",
       "      <th id=\"T_1e259_level0_row1\" class=\"row_heading level0 row1\" >Rx(pi/2)</th>\n",
       "      <td id=\"T_1e259_row1_col0\" class=\"data row1 col0\" >0,99145</td>\n",
       "      <td id=\"T_1e259_row1_col1\" class=\"data row1 col1\" >0,03503</td>\n",
       "    </tr>\n",
       "    <tr>\n",
       "      <th id=\"T_1e259_level0_row2\" class=\"row_heading level0 row2\" >Ry(pi/2)</th>\n",
       "      <td id=\"T_1e259_row2_col0\" class=\"data row2 col0\" >0,99448</td>\n",
       "      <td id=\"T_1e259_row2_col1\" class=\"data row2 col1\" >0,03315</td>\n",
       "    </tr>\n",
       "  </tbody>\n",
       "</table>\n"
      ],
      "text/plain": [
       "<pandas.io.formats.style.Styler at 0x7f5a0804fb50>"
      ]
     },
     "metadata": {},
     "output_type": "display_data"
    },
    {
     "data": {
      "text/html": [
       "<style type=\"text/css\">\n",
       "#T_2020e th.col_heading {\n",
       "  text-align: center;\n",
       "}\n",
       "#T_2020e th.col_heading.level0 {\n",
       "  font-size: 1em;\n",
       "}\n",
       "#T_2020e td {\n",
       "  text-align: center;\n",
       "}\n",
       "</style>\n",
       "<table id=\"T_2020e\">\n",
       "  <thead>\n",
       "    <tr>\n",
       "      <th class=\"blank level0\" >&nbsp;</th>\n",
       "      <th id=\"T_2020e_level0_col0\" class=\"col_heading level0 col0\" >Final cost function value</th>\n",
       "      <th id=\"T_2020e_level0_col1\" class=\"col_heading level0 col1\" >Mean total variation dist. to data</th>\n",
       "      <th id=\"T_2020e_level0_col2\" class=\"col_heading level0 col2\" >Mean total variation dist. target to data</th>\n",
       "      <th id=\"T_2020e_level0_col3\" class=\"col_heading level0 col3\" >POVM - Choi map trace distance</th>\n",
       "      <th id=\"T_2020e_level0_col4\" class=\"col_heading level0 col4\" >State - Trace distance</th>\n",
       "    </tr>\n",
       "  </thead>\n",
       "  <tbody>\n",
       "    <tr>\n",
       "      <th id=\"T_2020e_level0_row0\" class=\"row_heading level0 row0\" ></th>\n",
       "      <td id=\"T_2020e_row0_col0\" class=\"data row0 col0\" >0.004420</td>\n",
       "      <td id=\"T_2020e_row0_col1\" class=\"data row0 col1\" >0.055039</td>\n",
       "      <td id=\"T_2020e_row0_col2\" class=\"data row0 col2\" >0.127257</td>\n",
       "      <td id=\"T_2020e_row0_col3\" class=\"data row0 col3\" >0.091575</td>\n",
       "      <td id=\"T_2020e_row0_col4\" class=\"data row0 col4\" >0.061787</td>\n",
       "    </tr>\n",
       "  </tbody>\n",
       "</table>\n"
      ],
      "text/plain": [
       "<pandas.io.formats.style.Styler at 0x7f5a007c11f0>"
      ]
     },
     "metadata": {},
     "output_type": "display_data"
    },
    {
     "name": "stdout",
     "output_type": "stream",
     "text": [
      "\n",
      " results-qubit3-slow\n"
     ]
    },
    {
     "data": {
      "text/html": [
       "<style type=\"text/css\">\n",
       "#T_b1956 th.col_heading {\n",
       "  text-align: center;\n",
       "}\n",
       "#T_b1956 th.col_heading.level0 {\n",
       "  font-size: 1em;\n",
       "}\n",
       "#T_b1956 td {\n",
       "  text-align: center;\n",
       "}\n",
       "</style>\n",
       "<table id=\"T_b1956\">\n",
       "  <thead>\n",
       "    <tr>\n",
       "      <th class=\"blank level0\" >&nbsp;</th>\n",
       "      <th id=\"T_b1956_level0_col0\" class=\"col_heading level0 col0\" >F_avg</th>\n",
       "      <th id=\"T_b1956_level0_col1\" class=\"col_heading level0 col1\" >Diamond distances</th>\n",
       "    </tr>\n",
       "  </thead>\n",
       "  <tbody>\n",
       "    <tr>\n",
       "      <th id=\"T_b1956_level0_row0\" class=\"row_heading level0 row0\" >Id</th>\n",
       "      <td id=\"T_b1956_row0_col0\" class=\"data row0 col0\" >0,98963</td>\n",
       "      <td id=\"T_b1956_row0_col1\" class=\"data row0 col1\" >0,03500</td>\n",
       "    </tr>\n",
       "    <tr>\n",
       "      <th id=\"T_b1956_level0_row1\" class=\"row_heading level0 row1\" >Rx(pi/2)</th>\n",
       "      <td id=\"T_b1956_row1_col0\" class=\"data row1 col0\" >0,98997</td>\n",
       "      <td id=\"T_b1956_row1_col1\" class=\"data row1 col1\" >0,02958</td>\n",
       "    </tr>\n",
       "    <tr>\n",
       "      <th id=\"T_b1956_level0_row2\" class=\"row_heading level0 row2\" >Ry(pi/2)</th>\n",
       "      <td id=\"T_b1956_row2_col0\" class=\"data row2 col0\" >0,98755</td>\n",
       "      <td id=\"T_b1956_row2_col1\" class=\"data row2 col1\" >0,03066</td>\n",
       "    </tr>\n",
       "  </tbody>\n",
       "</table>\n"
      ],
      "text/plain": [
       "<pandas.io.formats.style.Styler at 0x7f5a39ea5970>"
      ]
     },
     "metadata": {},
     "output_type": "display_data"
    },
    {
     "data": {
      "text/html": [
       "<style type=\"text/css\">\n",
       "#T_ff8a0 th.col_heading {\n",
       "  text-align: center;\n",
       "}\n",
       "#T_ff8a0 th.col_heading.level0 {\n",
       "  font-size: 1em;\n",
       "}\n",
       "#T_ff8a0 td {\n",
       "  text-align: center;\n",
       "}\n",
       "</style>\n",
       "<table id=\"T_ff8a0\">\n",
       "  <thead>\n",
       "    <tr>\n",
       "      <th class=\"blank level0\" >&nbsp;</th>\n",
       "      <th id=\"T_ff8a0_level0_col0\" class=\"col_heading level0 col0\" >Final cost function value</th>\n",
       "      <th id=\"T_ff8a0_level0_col1\" class=\"col_heading level0 col1\" >Mean total variation dist. to data</th>\n",
       "      <th id=\"T_ff8a0_level0_col2\" class=\"col_heading level0 col2\" >Mean total variation dist. target to data</th>\n",
       "      <th id=\"T_ff8a0_level0_col3\" class=\"col_heading level0 col3\" >POVM - Choi map trace distance</th>\n",
       "      <th id=\"T_ff8a0_level0_col4\" class=\"col_heading level0 col4\" >State - Trace distance</th>\n",
       "    </tr>\n",
       "  </thead>\n",
       "  <tbody>\n",
       "    <tr>\n",
       "      <th id=\"T_ff8a0_level0_row0\" class=\"row_heading level0 row0\" ></th>\n",
       "      <td id=\"T_ff8a0_row0_col0\" class=\"data row0 col0\" >0.016026</td>\n",
       "      <td id=\"T_ff8a0_row0_col1\" class=\"data row0 col1\" >0.103222</td>\n",
       "      <td id=\"T_ff8a0_row0_col2\" class=\"data row0 col2\" >0.127257</td>\n",
       "      <td id=\"T_ff8a0_row0_col3\" class=\"data row0 col3\" >0.027122</td>\n",
       "      <td id=\"T_ff8a0_row0_col4\" class=\"data row0 col4\" >0.024267</td>\n",
       "    </tr>\n",
       "  </tbody>\n",
       "</table>\n"
      ],
      "text/plain": [
       "<pandas.io.formats.style.Styler at 0x7f5a007e6f40>"
      ]
     },
     "metadata": {},
     "output_type": "display_data"
    }
   ],
   "source": [
    "for i in range(1,4):\n",
    "    filename = \"results-qubit%i-slow\"%i\n",
    "    with open(filename, 'rb') as handle:\n",
    "        b = pickle.load(handle)\n",
    "    results = b['results']\n",
    "\n",
    "    # Performance metrics rank 1\n",
    "    print(\"\\n\", filename)\n",
    "    K,X,E,rho = results[1][:]\n",
    "    weights = {'G0': 1,'G1': 1, 'G2': 1, 'spam': 1}\n",
    "    gate_labels = {0: \"Id\", 1: \"Rx(pi/2)\", 2: \"Ry(pi/2)\"}\n",
    "    df_g, df_o, s_g, s_o, gauge_optimized_mdl = gauge_opt_report(\n",
    "        X, E, rho, J, y, std.target_model(), weights, gate_labels)\n",
    "    display(s_g), display(s_o)"
   ]
  },
  {
   "cell_type": "markdown",
   "id": "c1d99e8c-6edb-45a7-b50e-f861b569abb2",
   "metadata": {},
   "source": [
    "### Gate plots"
   ]
  },
  {
   "cell_type": "code",
   "execution_count": 49,
   "id": "40ccb764-e8f1-4037-8063-b1f1e771e345",
   "metadata": {},
   "outputs": [
    {
     "data": {
      "image/png": "[encoded data removed]",
      "text/plain": [
       "<Figure size 383.716x157.091 with 3 Axes>"
      ]
     },
     "metadata": {},
     "output_type": "display_data"
    },
    {
     "data": {
      "image/png": "[encoded data removed]",
      "text/plain": [
       "<Figure size 271.328x111.08 with 3 Axes>"
      ]
     },
     "metadata": {},
     "output_type": "display_data"
    },
    {
     "data": {
      "image/png": "[encoded data removed]",
      "text/plain": [
       "<Figure size 271.328x111.08 with 3 Axes>"
      ]
     },
     "metadata": {},
     "output_type": "display_data"
    }
   ],
   "source": [
    "X_pp, E_pp, rho_pp = compatibility.pygsti_model_to_arrays(gauge_optimized_mdl,basis = 'pp')\n",
    "X_t_pp, E_t_pp, rho_t_pp = compatibility.pygsti_model_to_arrays(std.target_model(),basis = 'pp')\n",
    "\n",
    "gate_index = 1\n",
    "plot_diff(X_pp[gate_index], X_t_pp[gate_index])\n",
    "\n",
    "plot_diff(rho_pp.reshape(pdim,pdim), rho_t_pp.reshape(pdim,pdim))\n",
    "plot_diff(E_pp[0].reshape(pdim,pdim), E_t_pp[0].reshape(pdim,pdim))"
   ]
  }
 ],
 "metadata": {
  "kernelspec": {
   "display_name": "Python 3 (ipykernel)",
   "language": "python",
   "name": "python3"
  },
  "language_info": {
   "codemirror_mode": {
    "name": "ipython",
    "version": 3
   },
   "file_extension": ".py",
   "mimetype": "text/x-python",
   "name": "python",
   "nbconvert_exporter": "python",
   "pygments_lexer": "ipython3",
   "version": "3.8.10"
  }
 },
 "nbformat": 4,
 "nbformat_minor": 5
}
