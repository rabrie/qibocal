{
 "cells": [
  {
   "cell_type": "code",
   "execution_count": 1,
   "id": "1b6ce1b0",
   "metadata": {},
   "outputs": [],
   "source": [
    "import json"
   ]
  },
  {
   "cell_type": "code",
   "execution_count": 2,
   "id": "d8c97a23",
   "metadata": {},
   "outputs": [],
   "source": [
    "data_fast = {k: None for k in [\"platform\", \"qubit\", \"depth\", \"nshots\"]}\n",
    "data_fast = {k: [] for k in [\"nsequences\", \"sequence_creation_time\", \"execution_time\", \"sequences\", \"hardware_probabilities\"]}\n",
    "for i in range(4):\n",
    "    with open(f\"fast-qw5q_gold_qblox-2023-05-04-00{i}.json\") as file:\n",
    "        temp = json.load(file)\n",
    "        data_fast[\"platform\"] = temp[\"platform\"]\n",
    "        data_fast[\"qubit\"] = temp[\"qubit\"]\n",
    "        data_fast[\"depth\"] = temp[\"depth\"]\n",
    "        data_fast[\"nshots\"] = temp[\"nshots\"]\n",
    "        data_fast[\"nsequences\"].append(temp[\"nsequences\"])\n",
    "        data_fast[\"sequence_creation_time\"].append(temp[\"sequence_creation_time\"])\n",
    "        data_fast[\"execution_time\"].append(temp[\"execution_time\"])\n",
    "        data_fast[\"sequences\"].extend(temp[\"sequences\"])\n",
    "        data_fast[\"hardware_probabilities\"].extend(temp[\"hardware_probabilities\"])\n",
    "        \n",
    "with open(\"qw5q-qubit1-fast.json\", \"w\") as file:\n",
    "    json.dump(data_fast, file)"
   ]
  },
  {
   "cell_type": "code",
   "execution_count": 3,
   "id": "878d9f1d",
   "metadata": {},
   "outputs": [],
   "source": [
    "data_fast = {k: None for k in [\"platform\", \"qubit\", \"depth\", \"nshots\"]}\n",
    "data_fast = {k: [] for k in [\"nsequences\", \"sequence_creation_time\", \"execution_time\", \"sequences\", \"hardware_probabilities\"]}\n",
    "for i in range(4, 8):\n",
    "    with open(f\"fast-qw5q_gold_qblox-2023-05-04-00{i}.json\") as file:\n",
    "        temp = json.load(file)\n",
    "        data_fast[\"platform\"] = temp[\"platform\"]\n",
    "        data_fast[\"qubit\"] = temp[\"qubit\"]\n",
    "        data_fast[\"depth\"] = temp[\"depth\"]\n",
    "        data_fast[\"nshots\"] = temp[\"nshots\"]\n",
    "        data_fast[\"nsequences\"].append(temp[\"nsequences\"])\n",
    "        data_fast[\"sequence_creation_time\"].append(temp[\"sequence_creation_time\"])\n",
    "        data_fast[\"execution_time\"].append(temp[\"execution_time\"])\n",
    "        data_fast[\"sequences\"].extend(temp[\"sequences\"])\n",
    "        data_fast[\"hardware_probabilities\"].extend(temp[\"hardware_probabilities\"])\n",
    "        \n",
    "with open(\"qw5q-qubit2-fast.json\", \"w\") as file:\n",
    "    json.dump(data_fast, file)"
   ]
  },
  {
   "cell_type": "code",
   "execution_count": 4,
   "id": "9e885d6f",
   "metadata": {},
   "outputs": [],
   "source": [
    "data_fast = {k: None for k in [\"platform\", \"qubit\", \"depth\", \"nshots\"]}\n",
    "data_fast = {k: [] for k in [\"nsequences\", \"sequence_creation_time\", \"execution_time\", \"sequences\", \"hardware_probabilities\"]}\n",
    "for i in [\"08\", \"09\", \"10\", \"11\"]:\n",
    "    with open(f\"fast-qw5q_gold_qblox-2023-05-04-0{i}.json\") as file:\n",
    "        temp = json.load(file)\n",
    "        data_fast[\"platform\"] = temp[\"platform\"]\n",
    "        data_fast[\"qubit\"] = temp[\"qubit\"]\n",
    "        data_fast[\"depth\"] = temp[\"depth\"]\n",
    "        data_fast[\"nshots\"] = temp[\"nshots\"]\n",
    "        data_fast[\"nsequences\"].append(temp[\"nsequences\"])\n",
    "        data_fast[\"sequence_creation_time\"].append(temp[\"sequence_creation_time\"])\n",
    "        data_fast[\"execution_time\"].append(temp[\"execution_time\"])\n",
    "        data_fast[\"sequences\"].extend(temp[\"sequences\"])\n",
    "        data_fast[\"hardware_probabilities\"].extend(temp[\"hardware_probabilities\"])\n",
    "        \n",
    "with open(\"qw5q-qubit3-fast.json\", \"w\") as file:\n",
    "    json.dump(data_fast, file)"
   ]
  }
 ],
 "metadata": {
  "kernelspec": {
   "display_name": "Python 3 (ipykernel)",
   "language": "python",
   "name": "python3"
  },
  "language_info": {
   "codemirror_mode": {
    "name": "ipython",
    "version": 3
   },
   "file_extension": ".py",
   "mimetype": "text/x-python",
   "name": "python",
   "nbconvert_exporter": "python",
   "pygments_lexer": "ipython3",
   "version": "3.8.10"
  }
 },
 "nbformat": 4,
 "nbformat_minor": 5
}
