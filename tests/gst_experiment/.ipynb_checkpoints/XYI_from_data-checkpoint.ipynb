{
 "cells": [
  {
   "cell_type": "markdown",
   "id": "19498ba6-106b-4ef2-b798-ca7d0a6fce8a",
   "metadata": {},
   "source": [
    "# Single qubit proof of concept GST from experimental data"
   ]
  },
  {
   "cell_type": "code",
   "execution_count": 1,
   "id": "6e58b942-2370-4d00-a8f0-88704b080a55",
   "metadata": {},
   "outputs": [],
   "source": [
    "%run ../../src/mGST/additional_fns\n",
    "%run ../../src/mGST/low_level_jit\n",
    "%run ../../src/mGST/algorithm\n",
    "%run ../../src/mGST/compatibility\n",
    "%run ../../src/mGST/optimization\n",
    "import pickle as pickle\n",
    "import pandas as pd\n",
    "from pygsti.modelpacks import smq1Q_XYI as std"
   ]
  },
  {
   "cell_type": "code",
   "execution_count": 2,
   "id": "0a30c86d-de87-4d4b-8843-42b1fd5e9ace",
   "metadata": {},
   "outputs": [
    {
     "name": "stdout",
     "output_type": "stream",
     "text": [
      "numpy==1.21.6\n",
      "pygsti==0.9.10\n",
      "pandas==1.4.1\n"
     ]
    }
   ],
   "source": [
    "print('\\n'.join(f'{m.__name__}=={m.__version__}' for m in globals().values() if getattr(m, '__version__', None)))"
   ]
  },
  {
   "cell_type": "code",
   "execution_count": 3,
   "id": "bc5a4c05-f8c4-46cd-ad54-4fc6a2544e66",
   "metadata": {},
   "outputs": [],
   "source": [
    "pdim = 2   # physical dimension\n",
    "r = pdim**2   # rank of the gate superoperators \n",
    "\n",
    "l = 7  # maximum number of gates in each measurement sequence\n",
    "d = 3  # number of gates\n",
    "rK = 4   # rank of the model estimate\n",
    "n_povm = 2   # number of POVM-elements\n",
    "\n",
    "N = 500\n",
    "meas_samples = 1e4"
   ]
  },
  {
   "cell_type": "code",
   "execution_count": 4,
   "id": "d4029d3f-3387-47eb-ad47-654e09c4a8e1",
   "metadata": {},
   "outputs": [],
   "source": [
    "data = pd.read_csv(r'compressive_gst.csv')\n",
    "y0 = data['probability0'].to_numpy()\n",
    "y = np.array([y0,1-y0])\n",
    "J = np.array([np.fromstring(data['circuit'][i].strip('[]'), dtype = int, sep = ',') for i in range(N)])"
   ]
  },
  {
   "cell_type": "code",
   "execution_count": null,
   "id": "117a49d5-ad10-4e3e-b788-dc0770f36081",
   "metadata": {},
   "outputs": [
    {
     "name": "stdout",
     "output_type": "stream",
     "text": [
      "Starting optimization...\n",
      "  0%|                                                   | 0/100 [00:00<?, ?it/s]ERROR! Session/line number was not unique in database. History logging moved to new session 140\n",
      " 18%|███████▌                                  | 18/100 [00:09<00:42,  1.92it/s]\n"
     ]
    }
   ],
   "source": [
    "bsize = 50   # The batch size on which the optimization is started\n",
    "t = time.time()\n",
    "K,X,E,rho,res_list = run_mGST(y,J,l,d,r,rK, n_povm, bsize, meas_samples, method = 'SFN',\n",
    "                     max_inits = 10, max_iter = 100, final_iter = 40, threshold_multiplyer = 30, \n",
    "                     target_rel_prec = 1e-4, testing = True)\n",
    "#     plt.semilogy(res_list)   # plot the objective function over the iterations\n",
    "# print('MVE:', MVE(X_true,E_true,rho_true,X,E,rho,d,l, n_povm)[0])   # output the final mean variation error\n",
    "plt.semilogy(res_list)\n",
    "plt.show()\n",
    "\n",
    "print('Time:', time.time()-t)"
   ]
  },
  {
   "cell_type": "code",
   "execution_count": 6,
   "id": "32174eab-0804-4505-abf1-c307985b9510",
   "metadata": {},
   "outputs": [],
   "source": [
    "mdl = arrays_to_pygsti_model(X,E,rho, basis = 'std')\n",
    "X_t,E_t,rho_t = pygsti_model_to_arrays(std.target_model(),basis = 'std')\n",
    "target_mdl = arrays_to_pygsti_model(X_t,E_t,rho_t, basis = 'std')\n",
    "\n",
    "gauge_optimized_mdl = pygsti.algorithms.gaugeopt_to_target(mdl, \n",
    "            target_mdl,gauge_group = pygsti.models.gaugegroup.UnitaryGaugeGroup(target_mdl.state_space, 'pp'),\n",
    "            item_weights={'G0': 1,'G1': 1,'G2': 1, 'spam': 0})\n",
    "            #item_weights={'G0': 0,'G1': 0.1,'G2': 0.1,'G3': 0.1,'G4': 0.1,'G5': 0.1, 'spam': 1}) # works for 78\n",
    "\n",
    "#gauge_optimized_mdl = pygsti.algorithms.gaugeopt_to_target(mdl, target_mdl, gauge_group=pygsti.models.gaugegroup.TPGaugeGroup(2))\n",
    "\n",
    "X_opt,E_opt,rho_opt = pygsti_model_to_arrays(gauge_optimized_mdl,basis = 'std')"
   ]
  },
  {
   "cell_type": "code",
   "execution_count": 7,
   "id": "ee56ea80-4bdb-42ee-b0e1-f83afac3305c",
   "metadata": {},
   "outputs": [],
   "source": [
    "from pygsti.report import reportables as rptbl #Needs cvxpy!\n",
    "def diamond_dists(model1,model2,pdim, basis_string = 'pp'): \n",
    "    gate_dists = []\n",
    "    basis = pygsti.baseobjs.Basis.cast(basis_string,pdim**2)\n",
    "    labels1 = [label for label in model1.__dict__['operations'].keys()]\n",
    "    labels2 = [label for label in model2.__dict__['operations'].keys()]\n",
    "    \n",
    "    for i in range(len(labels1)):\n",
    "        gate_dists.append(float(rptbl.half_diamond_norm(model1[labels1[i]], model2[labels2[i]], basis)))\n",
    "    return np.array(gate_dists)"
   ]
  },
  {
   "cell_type": "code",
   "execution_count": 8,
   "id": "77b2e7fe-f9b7-45e8-a9e3-beb38e1fd9e7",
   "metadata": {},
   "outputs": [],
   "source": [
    "#povm_half_diamond_norm(model_a, model_b, povmlbl)"
   ]
  },
  {
   "cell_type": "code",
   "execution_count": 9,
   "id": "3f45809f-7eaa-4e94-9511-d7e75b555381",
   "metadata": {},
   "outputs": [
    {
     "name": "stdout",
     "output_type": "stream",
     "text": [
      "MVE: 0.04363195436463404\n",
      "[0.98482712 0.98184903 0.98114829]\n",
      "[-1. -1. -1.]\n",
      "None\n"
     ]
    },
    {
     "name": "stderr",
     "output_type": "stream",
     "text": [
      "/home/raphael/.local/lib/python3.8/site-packages/pygsti/tools/optools.py:379: UserWarning: CVXPY failed: The solver CVXOPT is not installed. - diamonddist returning -2!\n",
      "  _warnings.warn(\"CVXPY failed: %s - diamonddist returning -2!\" % str(e))\n"
     ]
    }
   ],
   "source": [
    "print('MVE:', MVE(X_t,E_t,rho_t,X,E,rho,d,l, n_povm)[0])   # output the final mean variation error\n",
    "print(average_gate_fidelities(gauge_optimized_mdl,target_mdl,pdim, basis_string = 'pp'))\n",
    "print(print(diamond_dists(gauge_optimized_mdl,mdl,pdim, basis_string = 'pp')))"
   ]
  },
  {
   "cell_type": "markdown",
   "id": "65a49e41-deca-420d-8805-05d378cbf151",
   "metadata": {},
   "source": [
    "Things to check out:\n",
    "- Run on first 50/100 sequences, then on next 50/100 etc. to see changes over time in the experiment\n",
    "- Run for ranks 1-4 and see fit quality and compare high rank low rank projections with low rank estimates\n",
    "- Compute diamond distances and average gate fidelity\n",
    "- Optimize for average gate fidelity computing time"
   ]
  },
  {
   "cell_type": "code",
   "execution_count": 12,
   "id": "67606ec4-f105-4480-95c1-9ec5c3318644",
   "metadata": {},
   "outputs": [],
   "source": [
    "######################################    \n",
    "# parameters = {'sequence length':l,'gate count':d,'Kraus ranks':rK,'phys. dimension':int(np.sqrt(r)), 'Sequence lengths': N, \n",
    "#               'X_true':X_true,'E_true':E_true,'rho_true':rho_true, 'K0_list':K0_list, 'X0_list':X0_list, 'rho0_list':rho0_list, 'E0_list':E0_list,\n",
    "#               'J':J,'y_sampled':y_sampled}\n",
    "# data_to_safe = {'parameters':parameters}\n",
    "\n",
    "# with open('results/poc', 'wb') as handle:\n",
    "#     pickle.dump(data_to_safe, handle, protocol=pickle.HIGHEST_PROTOCOL)"
   ]
  }
 ],
 "metadata": {
  "kernelspec": {
   "display_name": "Python 3 (ipykernel)",
   "language": "python",
   "name": "python3"
  },
  "language_info": {
   "codemirror_mode": {
    "name": "ipython",
    "version": 3
   },
   "file_extension": ".py",
   "mimetype": "text/x-python",
   "name": "python",
   "nbconvert_exporter": "python",
   "pygments_lexer": "ipython3",
   "version": "3.8.10"
  }
 },
 "nbformat": 4,
 "nbformat_minor": 5
}
