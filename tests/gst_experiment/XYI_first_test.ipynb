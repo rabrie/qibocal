{
 "cells": [
  {
   "cell_type": "markdown",
   "id": "19498ba6-106b-4ef2-b798-ca7d0a6fce8a",
   "metadata": {
    "tags": []
   },
   "source": [
    "# Single qubit proof of concept GST from experimental data"
   ]
  },
  {
   "cell_type": "code",
   "execution_count": 10,
   "id": "2fad699e-1bfe-4b66-9a11-1a9f9697f627",
   "metadata": {},
   "outputs": [],
   "source": [
    "# Note: I removed the mGST folders from within the qibocal fork, such that it is installed and updated seperately\n",
    "from mGST import compatibility,algorithm, optimization, low_level_jit, additional_fns"
   ]
  },
  {
   "cell_type": "code",
   "execution_count": 11,
   "id": "6e58b942-2370-4d00-a8f0-88704b080a55",
   "metadata": {},
   "outputs": [],
   "source": [
    "import pickle as pickle\n",
    "import pandas as pd\n",
    "from pygsti.report import reportables as rptbl #Needs cvxpy!\n",
    "from pygsti.modelpacks import smq1Q_XYI as std\n",
    "from argparse import Namespace\n",
    "import numpy as np"
   ]
  },
  {
   "cell_type": "code",
   "execution_count": 12,
   "id": "0a30c86d-de87-4d4b-8843-42b1fd5e9ace",
   "metadata": {},
   "outputs": [
    {
     "name": "stdout",
     "output_type": "stream",
     "text": [
      "pandas==1.4.1\n",
      "numpy==1.21.6\n"
     ]
    }
   ],
   "source": [
    "print('\\n'.join(f'{m.__name__}=={m.__version__}' for m in globals().values() if getattr(m, '__version__', None)))"
   ]
  },
  {
   "cell_type": "markdown",
   "id": "8aa5d0c5-5f45-41ba-9309-b5055901f76d",
   "metadata": {},
   "source": [
    "### Setting the parameters"
   ]
  },
  {
   "cell_type": "code",
   "execution_count": 13,
   "id": "bc5a4c05-f8c4-46cd-ad54-4fc6a2544e66",
   "metadata": {},
   "outputs": [],
   "source": [
    "pdim = 2   # physical dimension\n",
    "r = pdim**2   # rank of the gate superoperators \n",
    "\n",
    "l = 7  # maximum number of gates in each measurement sequence\n",
    "d = 3  # number of gates\n",
    "# rK = 4   # rank of the model estimate\n",
    "n_povm = 2   # number of POVM-elements\n",
    "\n",
    "N = 500\n",
    "meas_samples = 1e4"
   ]
  },
  {
   "cell_type": "markdown",
   "id": "a9d466a3-c184-4647-a735-3882ed478720",
   "metadata": {},
   "source": [
    "### Loading data from csv"
   ]
  },
  {
   "cell_type": "code",
   "execution_count": 14,
   "id": "d4029d3f-3387-47eb-ad47-654e09c4a8e1",
   "metadata": {},
   "outputs": [],
   "source": [
    "data = pd.read_csv(r'compressive_gst.csv')\n",
    "y0 = data['probability0'].to_numpy()\n",
    "y = np.array([y0,1-y0])\n",
    "J = np.array([np.fromstring(data['circuit'][i].strip('[]'), dtype = int, sep = ',') for i in range(N)])"
   ]
  },
  {
   "cell_type": "markdown",
   "id": "35724025-9e20-4876-aaf1-895a7c644f92",
   "metadata": {},
   "source": [
    "### GST"
   ]
  },
  {
   "cell_type": "code",
   "execution_count": 9,
   "id": "117a49d5-ad10-4e3e-b788-dc0770f36081",
   "metadata": {
    "tags": []
   },
   "outputs": [
    {
     "name": "stdout",
     "output_type": "stream",
     "text": [
      "Starting optimization...\n",
      " 32%|█████████████▊                             | 16/50 [00:27<00:59,  1.74s/it]\n",
      "Optimization successful, improving estimate over full data....\n",
      " 15%|██████▌                                     | 6/40 [00:22<02:06,  3.71s/it]\n",
      "#################\n",
      "\t Convergence criterion satisfied\n",
      "\t Final objective function value 0.00014310808586431322 with # of initializations: 1 \n",
      " \t Total runtime: 50.6821494102478\n",
      "Starting optimization...\n",
      "  8%|███▌                                        | 4/50 [00:01<00:13,  3.35it/s]\n",
      "Optimization successful, improving estimate over full data....\n",
      " 42%|██████████████████▎                        | 17/40 [00:15<00:21,  1.06it/s]\n",
      "#################\n",
      "\t Convergence criterion satisfied\n",
      "\t Final objective function value 0.00016521351363420496 with # of initializations: 1 \n",
      " \t Total runtime: 17.192070484161377\n",
      "Starting optimization...\n",
      " 16%|███████                                     | 8/50 [00:03<00:17,  2.43it/s]\n",
      "Optimization successful, improving estimate over full data....\n",
      " 55%|███████████████████████▋                   | 22/40 [00:36<00:30,  1.68s/it]\n",
      "#################\n",
      "\t Convergence criterion satisfied\n",
      "\t Final objective function value 0.00014076118745490714 with # of initializations: 1 \n",
      " \t Total runtime: 40.19826912879944\n",
      "Starting optimization...\n",
      " 18%|███████▉                                    | 9/50 [00:04<00:20,  2.03it/s]\n",
      "Optimization successful, improving estimate over full data....\n",
      " 50%|█████████████████████▌                     | 20/40 [00:53<00:53,  2.68s/it]\n",
      "#################\n",
      "\t Convergence criterion satisfied\n",
      "\t Final objective function value 0.00014174834307929563 with # of initializations: 1 \n",
      " \t Total runtime: 58.02379822731018\n"
     ]
    }
   ],
   "source": [
    "bsize = 50   # The batch size on which the optimization is started\n",
    "results = []\n",
    "for rK in range(1,5):\n",
    "    X_t,E_t,rho_t = compatibility.pygsti_model_to_arrays(std.target_model(),basis = 'std') #The idle-X(pi/w)-Y(pi/2) model \n",
    "    K_t = additional_fns.Kraus_rep(X_t,d,pdim,rK)\n",
    "    X_t = np.einsum('ijkl,ijnm -> iknlm', K_t, K_t.conj()).reshape(d,r,r)  \n",
    "    K,X,E,rho,res_list_batch = algorithm.run_mGST(y,J,l,d,r,rK, n_povm, bsize, meas_samples, method = 'SFN',\n",
    "                         max_inits = 20, max_iter = 50, final_iter = 40, threshold_multiplyer = 30, \n",
    "                         target_rel_prec = 1e-4, init = [K_t,E_t,rho_t], testing = True)   \n",
    "    results.append([K,X,E,rho])"
   ]
  },
  {
   "cell_type": "markdown",
   "id": "eff87caf-07f0-4e5a-9e11-7289c986e609",
   "metadata": {},
   "source": [
    "###  Saving data"
   ]
  },
  {
   "cell_type": "code",
   "execution_count": 11,
   "id": "67606ec4-f105-4480-95c1-9ec5c3318644",
   "metadata": {},
   "outputs": [],
   "source": [
    "###################################### \n",
    "# filename = 'ranks_1_4_full_data_from_init'\n",
    "# parameters = {'sequence length':l,'gate count':d,'Kraus ranks':[1,2,3,4],'phys. dimension':int(np.sqrt(r)), 'Sequence count': N, \n",
    "#               'J':J,'y':y,'threshold_multiplyer': 30, \n",
    "#                      'target_rel_prec':1e-4}\n",
    "# data_to_safe = {'parameters':parameters, 'results':results}\n",
    "\n",
    "# with open(filename, 'wb') as handle:\n",
    "#     pickle.dump(data_to_safe, handle, protocol=pickle.HIGHEST_PROTOCOL)"
   ]
  },
  {
   "cell_type": "markdown",
   "id": "04683dd4-6e47-4e5e-9f85-5d6f068f2ddc",
   "metadata": {},
   "source": [
    "## Analysis of results and comparison over different runs"
   ]
  },
  {
   "cell_type": "code",
   "execution_count": 17,
   "id": "20567e0b-92ae-4d55-897e-6571a7cc2f01",
   "metadata": {},
   "outputs": [],
   "source": [
    "with open(\"ranks_1_4_full_data_from_init\", 'rb') as handle:\n",
    "    b = pickle.load(handle)\n",
    "results = b['results']"
   ]
  },
  {
   "cell_type": "code",
   "execution_count": 18,
   "id": "32174eab-0804-4505-abf1-c307985b9510",
   "metadata": {},
   "outputs": [
    {
     "name": "stdout",
     "output_type": "stream",
     "text": [
      "Total variation error between model probabilites and measured probabilites (goodness of fit): 0.08446669343064618\n",
      "Mean variation error between GST-model probabilities and target model probabilities: 0.044625168861381743\n",
      "Initial state error in trace distance: 0.08446669343064618\n",
      "Choi matrix trace distance of the measurement map: 0.028666874686050777\n",
      "Average gate fidelities: [0.99999672 0.99995954 0.99996703]\n",
      "Diamond distances: [0.00221649 0.00779018 0.00703208]\n",
      "\n",
      "\n",
      "Total variation error between model probabilites and measured probabilites (goodness of fit): 0.014228750982740422\n",
      "Mean variation error between GST-model probabilities and target model probabilities: 0.044036727323747686\n",
      "Initial state error in trace distance: 0.014228750982740422\n",
      "Choi matrix trace distance of the measurement map: 0.012587991063289833\n",
      "Average gate fidelities: [0.99159996 0.98313685 0.98286903]\n",
      "Diamond distances: [0.01349505 0.02837346 0.02692042]\n",
      "\n",
      "\n",
      "Total variation error between model probabilites and measured probabilites (goodness of fit): 0.025980569127077236\n",
      "Mean variation error between GST-model probabilities and target model probabilities: 0.04429610011811997\n",
      "Initial state error in trace distance: 0.025980569127077236\n",
      "Choi matrix trace distance of the measurement map: 0.0034894866208217187\n",
      "Average gate fidelities: [0.98530253 0.98194789 0.98064272]\n",
      "Diamond distances: [0.02421139 0.05336552 0.05591032]\n",
      "\n",
      "\n",
      "Total variation error between model probabilites and measured probabilites (goodness of fit): 0.026919890243918266\n",
      "Mean variation error between GST-model probabilities and target model probabilities: 0.04317354831799504\n",
      "Initial state error in trace distance: 0.026919890243918266\n",
      "Choi matrix trace distance of the measurement map: 0.002822905570358176\n",
      "Average gate fidelities: [0.9856675  0.98231121 0.98118672]\n",
      "Diamond distances: [0.02277082 0.0446876  0.05456772]\n",
      "\n",
      "\n"
     ]
    }
   ],
   "source": [
    "MVE_list = []\n",
    "povm_td_list = []\n",
    "rho_td_list = []\n",
    "F_avg_list = []\n",
    "DD_list = []\n",
    "for i in range(len(results)):\n",
    "    X,E,rho = results[i][1:]\n",
    "    mdl = arrays_to_pygsti_model(X,E,rho, basis = 'std')\n",
    "    X_t,E_t,rho_t = pygsti_model_to_arrays(std.target_model(),basis = 'std')\n",
    "    target_mdl = arrays_to_pygsti_model(X_t,E_t,rho_t, basis = 'std') #For consistent gate labels\n",
    "\n",
    "    gauge_optimized_mdl = pygsti.algorithms.gaugeopt_to_target(mdl, \n",
    "                target_mdl,gauge_group = pygsti.models.gaugegroup.UnitaryGaugeGroup(target_mdl.state_space, basis = 'pp'),\n",
    "                item_weights={'G0': 1,'G1': 1, 'G2': 1, 'spam': 1})\n",
    "    X_opt,E_opt,rho_opt = pygsti_model_to_arrays(gauge_optimized_mdl,basis = 'std')\n",
    "\n",
    "    MVE_list.append(MVE(X_t,E_t,rho_t,X,E,rho,d,l, n_povm)[0])\n",
    "    povm_td_list.append(rptbl.povm_jtrace_diff(target_mdl, gauge_optimized_mdl, 'Mdefault'))\n",
    "    rho_td_list.append(la.norm(rho_opt-rho_t,ord = 1)/2)\n",
    "    F_avg_list.append(average_gate_fidelities(gauge_optimized_mdl,target_mdl,pdim, basis_string = 'pp'))\n",
    "    DD_list.append(diamond_dists(gauge_optimized_mdl,target_mdl,pdim, basis_string = 'pp'))\n",
    "    print('Total variation error between model probabilites and measured probabilites (goodness of fit):', rho_td_list[-1])\n",
    "    print('Mean variation error between GST-model probabilities and target model probabilities:', MVE_list[-1])   # output the final mean variation error\n",
    "    print('Initial state error in trace distance:', rho_td_list[-1])\n",
    "    print('Choi matrix trace distance of the measurement map:',povm_td_list[-1])\n",
    "    print('Average gate fidelities:',F_avg_list[-1])\n",
    "    print('Diamond distances:',DD_list[-1])\n",
    "    print('\\n')"
   ]
  },
  {
   "cell_type": "code",
   "execution_count": 26,
   "id": "dd7e16fe-9659-4135-9a13-4a9e3728d415",
   "metadata": {},
   "outputs": [
    {
     "data": {
      "image/png": "[encoded data removed]",
      "text/plain": [
       "<Figure size 432x288 with 1 Axes>"
      ]
     },
     "metadata": {},
     "output_type": "display_data"
    },
    {
     "data": {
      "image/png": "[encoded data removed]",
      "text/plain": [
       "<Figure size 432x288 with 1 Axes>"
      ]
     },
     "metadata": {},
     "output_type": "display_data"
    }
   ],
   "source": [
    "plt.plot(povm_td_list)\n",
    "plt.plot(rho_td_list)\n",
    "plt.title('POVM error (blue) and initial state error(orange)')\n",
    "plt.xlabel('Kraus rank of reconstruction')\n",
    "plt.xticks(ticks = np.arange(4), labels = np.arange(4)+1)\n",
    "plt.show()\n",
    "\n",
    "plt.semilogy(1-np.array(F_avg_list))\n",
    "plt.title('Average gate infidelities to target gate set')\n",
    "plt.xlabel('Kraus rank of reconstruction')\n",
    "plt.xticks(ticks = np.arange(4), labels = np.arange(4)+1)\n",
    "plt.show()"
   ]
  },
  {
   "cell_type": "markdown",
   "id": "103be5c9-5c8d-43af-9238-aca682d0f400",
   "metadata": {
    "tags": []
   },
   "source": [
    "## Comparing low rank GST with low rank approximations to high rank GST"
   ]
  },
  {
   "cell_type": "code",
   "execution_count": 20,
   "id": "dfcc2345-668a-46d4-bf91-0d5a8de4aec3",
   "metadata": {},
   "outputs": [
    {
     "name": "stdout",
     "output_type": "stream",
     "text": [
      "Rank 1-reconstruction:\n",
      "Average gate fidelities: [0.99999672 0.99995269 0.9999675 ]\n",
      "Diamond distances: [0.00221649 0.00842391 0.00698215]\n",
      "\n",
      "\n",
      "Rank 2-reconstruction:\n",
      "Average gate fidelities: [0.99999838 0.99996666 0.999979  ]\n",
      "Diamond distances: [0.00180036 0.00791571 0.0057281 ]\n",
      "\n",
      "\n",
      "Rank 3-reconstruction:\n",
      "Average gate fidelities: [0.99999495 0.99978626 0.99985587]\n",
      "Diamond distances: [0.00363015 0.02357319 0.01903445]\n",
      "\n",
      "\n",
      "Rank 4-reconstruction:\n",
      "Average gate fidelities: [0.99999493 0.99981551 0.99985844]\n",
      "Diamond distances: [0.00331695 0.02144282 0.01890631]\n",
      "\n",
      "\n"
     ]
    }
   ],
   "source": [
    "rK_approx = 1\n",
    "F_avg_list_proj = []\n",
    "DD_list_proj = []\n",
    "for i in range(4):\n",
    "    K,X,E,rho = results[i]\n",
    "    K_proj = Kraus_rep(X,d,pdim,rK_approx) # gives low rank approximation if rK_approx is small than the actual rank\n",
    "    X_proj = np.einsum('ijkl,ijnm -> iknlm', K_proj, K_proj.conj()).reshape(d,r,r)  \n",
    "    mdl = arrays_to_pygsti_model(X_proj,E,rho, basis = 'std')\n",
    "    \n",
    "    X_t,E_t,rho_t = pygsti_model_to_arrays(std.target_model(),basis = 'std')\n",
    "    target_mdl = arrays_to_pygsti_model(X_t,E_t,rho_t, basis = 'std')\n",
    "\n",
    "    gauge_optimized_mdl = pygsti.algorithms.gaugeopt_to_target(mdl, \n",
    "                target_mdl,gauge_group = pygsti.models.gaugegroup.UnitaryGaugeGroup(target_mdl.state_space, 'pp'),\n",
    "                item_weights={'G0': 1,'G1': .1, 'G2': 1, 'spam': 1})\n",
    "\n",
    "    X_opt,E_opt,rho_opt = pygsti_model_to_arrays(gauge_optimized_mdl,basis = 'std')\n",
    "\n",
    "    F_avg_list_proj.append(average_gate_fidelities(gauge_optimized_mdl,target_mdl,pdim, basis_string = 'pp'))\n",
    "    DD_list_proj.append(diamond_dists(gauge_optimized_mdl,target_mdl,pdim, basis_string = 'pp'))\n",
    "    print('Rank %i-reconstruction:'%(i+1))\n",
    "    print('Average gate fidelities:',F_avg_list_proj[-1])\n",
    "    print('Diamond distances:',DD_list_proj[-1])\n",
    "    print('\\n')"
   ]
  },
  {
   "cell_type": "markdown",
   "id": "3e0b047a-9b0f-4dd6-8eb1-f254ccb94629",
   "metadata": {},
   "source": [
    "## Full rank results"
   ]
  },
  {
   "cell_type": "code",
   "execution_count": 15,
   "id": "0f244b9d-1977-42ce-98e4-c7ba2a206e99",
   "metadata": {},
   "outputs": [],
   "source": [
    "with open(\"full_rank_full_data\", 'rb') as handle:\n",
    "    b = pickle.load(handle)\n",
    "results = b['results']"
   ]
  },
  {
   "cell_type": "code",
   "execution_count": 16,
   "id": "d8a55788-a0f1-421c-9b4f-e4129d66aa50",
   "metadata": {},
   "outputs": [
    {
     "name": "stdout",
     "output_type": "stream",
     "text": [
      "Average and standard deviation of average gate fidelites (average over 10 GST runs):\n",
      "[0.99064168 0.98683887 0.98616638]\n",
      "[0.00595156 0.00758746 0.00800997]\n",
      "Average and standard deviation of diamond norms:\n",
      "[0.01567344 0.03355419 0.03610764]\n",
      "[0.00879068 0.01737143 0.02038819]\n",
      "Avg. and std. of mean variation error:\n",
      "0.04366526646489639\n",
      "0.00031336505374647886\n"
     ]
    }
   ],
   "source": [
    "### Results for 10 runs of full rank optimization without initialization\n",
    "print('Average and standard deviation of average gate fidelites (average over 10 GST runs):')\n",
    "print(np.average(np.array(F_avg_list), axis = 0))\n",
    "print(np.std(np.array(F_avg_list), axis = 0))\n",
    "print('Average and standard deviation of diamond norms:')\n",
    "print(np.average(np.array(DD_list), axis = 0))\n",
    "print(np.std(np.array(DD_list), axis = 0))\n",
    "print('Avg. and std. of mean variation error:')\n",
    "print(np.average(np.array(MVE_list), axis = 0))\n",
    "print(np.std(np.array(MVE_list), axis = 0))"
   ]
  },
  {
   "cell_type": "markdown",
   "id": "65a49e41-deca-420d-8805-05d378cbf151",
   "metadata": {},
   "source": [
    "### Things to check out:\n",
    "- Run on first 50/100 sequences, then on next 50/100 etc. to see changes over time in the experiment"
   ]
  }
 ],
 "metadata": {
  "kernelspec": {
   "display_name": "Python 3 (ipykernel)",
   "language": "python",
   "name": "python3"
  },
  "language_info": {
   "codemirror_mode": {
    "name": "ipython",
    "version": 3
   },
   "file_extension": ".py",
   "mimetype": "text/x-python",
   "name": "python",
   "nbconvert_exporter": "python",
   "pygments_lexer": "ipython3",
   "version": "3.8.10"
  }
 },
 "nbformat": 4,
 "nbformat_minor": 5
}
